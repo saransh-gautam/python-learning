{
 "cells": [
  {
   "cell_type": "code",
   "execution_count": 15,
   "id": "98aca9ae-b5a4-4bc1-9ec1-b12c851aa1e3",
   "metadata": {},
   "outputs": [],
   "source": [
    "from IPython.display import clear_output"
   ]
  },
  {
   "cell_type": "code",
   "execution_count": 16,
   "id": "6735d6bb-6432-41a4-954c-e11b02818eff",
   "metadata": {},
   "outputs": [
    {
     "name": "stdout",
     "output_type": "stream",
     "text": [
      "['x', 'x', 'x', 'x', 'x', 'x', 'x', 'x', 'x', 'x']\n"
     ]
    }
   ],
   "source": [
    "li = [\"x\"]*10\n",
    "print(li)"
   ]
  },
  {
   "cell_type": "code",
   "execution_count": 17,
   "id": "939f814f-cbeb-4293-b9e3-905935d323c0",
   "metadata": {},
   "outputs": [],
   "source": [
    "# display"
   ]
  },
  {
   "cell_type": "code",
   "execution_count": 18,
   "id": "74a35499-6a60-44e8-8002-386377c28524",
   "metadata": {},
   "outputs": [],
   "source": [
    "def display():\n",
    "    print(li[7], \"|\" ,li[8], \"|\" ,li[9])\n",
    "    print(\"---------\")\n",
    "    print(li[4], \"|\" ,li[5], \"|\" ,li[6])\n",
    "    print(\"---------\")\n",
    "    print(li[1], \"|\" ,li[2] ,\"|\" ,li[3])\n",
    "    "
   ]
  },
  {
   "cell_type": "code",
   "execution_count": 19,
   "id": "4bfeee1b-7aab-435e-80da-7065bb59b116",
   "metadata": {},
   "outputs": [],
   "source": [
    "#position and marker\n",
    "li[7] = \"o\"\n",
    "li[5] = \"o\"\n",
    "li[3] = \"o\""
   ]
  },
  {
   "cell_type": "code",
   "execution_count": 20,
   "id": "74555581-d73f-4921-8766-2dc4978f1afb",
   "metadata": {},
   "outputs": [
    {
     "name": "stdout",
     "output_type": "stream",
     "text": [
      "o | x | x\n",
      "---------\n",
      "x | o | x\n",
      "---------\n",
      "x | x | o\n"
     ]
    }
   ],
   "source": [
    "display()"
   ]
  },
  {
   "cell_type": "code",
   "execution_count": 21,
   "id": "a25274f2-f88c-4fbe-9158-774a692d4038",
   "metadata": {},
   "outputs": [],
   "source": [
    "# put marker"
   ]
  },
  {
   "cell_type": "code",
   "execution_count": 22,
   "id": "136591d3-b361-4a4a-816e-48caf7f63c3c",
   "metadata": {},
   "outputs": [],
   "source": [
    "def put_marker(position,marker):\n",
    "    li[position] = marker"
   ]
  },
  {
   "cell_type": "code",
   "execution_count": 23,
   "id": "f77435b4-cde4-459b-978f-61059246969c",
   "metadata": {},
   "outputs": [],
   "source": [
    "put_marker(9,\"Y\")"
   ]
  },
  {
   "cell_type": "code",
   "execution_count": 24,
   "id": "5c02e669-7d67-47e5-aa73-4b5936a6f223",
   "metadata": {},
   "outputs": [
    {
     "name": "stdout",
     "output_type": "stream",
     "text": [
      "o | x | Y\n",
      "---------\n",
      "x | o | x\n",
      "---------\n",
      "x | x | o\n"
     ]
    }
   ],
   "source": [
    "display()"
   ]
  },
  {
   "cell_type": "code",
   "execution_count": 48,
   "id": "c579a524-49ed-4540-bf3d-379ff3b2b94e",
   "metadata": {},
   "outputs": [],
   "source": [
    "position = None"
   ]
  },
  {
   "cell_type": "code",
   "execution_count": 49,
   "id": "2ce03190-5db1-4341-805a-b398cfffe77d",
   "metadata": {},
   "outputs": [
    {
     "name": "stdin",
     "output_type": "stream",
     "text": [
      "Enter a number: 9\n"
     ]
    }
   ],
   "source": [
    "while not position:\n",
    "    try:\n",
    "        position = int(input(\"Enter a number:\"))\n",
    "    except ValueError:\n",
    "        print(\"Please provide a number\")\n",
    "        "
   ]
  },
  {
   "cell_type": "code",
   "execution_count": 27,
   "id": "9227ef61-8813-4a04-8419-955eea0041a7",
   "metadata": {},
   "outputs": [],
   "source": [
    "# empty positions"
   ]
  },
  {
   "cell_type": "code",
   "execution_count": 45,
   "id": "521455c9-7396-4188-b492-c01ce6f11e37",
   "metadata": {},
   "outputs": [],
   "source": [
    "def empty_positions():\n",
    "    ans = []\n",
    "    for i in range(1,len(li)):\n",
    "        if li[i] == \"\":\n",
    "            ans.append(i)\n",
    "    return ans"
   ]
  },
  {
   "cell_type": "code",
   "execution_count": 46,
   "id": "db5f4c75-9b05-48d2-9896-21ad30cba0cc",
   "metadata": {},
   "outputs": [
    {
     "data": {
      "text/plain": [
       "[]"
      ]
     },
     "execution_count": 46,
     "metadata": {},
     "output_type": "execute_result"
    }
   ],
   "source": [
    "empty_positions()"
   ]
  },
  {
   "cell_type": "code",
   "execution_count": 30,
   "id": "fb789267-0e5c-40c0-92ab-fee2aa839cba",
   "metadata": {},
   "outputs": [],
   "source": [
    "def take_position():\n",
    "    position = None\n",
    "    available = empty_positions()\n",
    "    while position is None:\n",
    "        try:\n",
    "            position = int(input(f\"please choose among {available}\"))\n",
    "        except ValueError:\n",
    "            print(f\"provide a number {available}\")\n",
    "        else:\n",
    "            if position in available:\n",
    "                return position\n",
    "            else:\n",
    "                print(f\"please choose the among {available}\")\n"
   ]
  },
  {
   "cell_type": "code",
   "execution_count": 31,
   "id": "c92a72ea-31ef-4e76-8978-6aa3084d9f0d",
   "metadata": {},
   "outputs": [
    {
     "name": "stdin",
     "output_type": "stream",
     "text": [
      "please choose among [] 3\n"
     ]
    },
    {
     "name": "stdout",
     "output_type": "stream",
     "text": [
      "please choose the among []\n"
     ]
    }
   ],
   "source": [
    "take_position()"
   ]
  },
  {
   "cell_type": "code",
   "execution_count": 32,
   "id": "ec14239c-694b-42e6-a89e-4a4967102d52",
   "metadata": {},
   "outputs": [],
   "source": [
    "#Board full"
   ]
  },
  {
   "cell_type": "code",
   "execution_count": 33,
   "id": "98554dc5-9912-4bfb-abe2-6da7706ff885",
   "metadata": {},
   "outputs": [],
   "source": [
    "def board_full():\n",
    "    if len(empty_positions()) == 0:\n",
    "        return True\n",
    "    else:\n",
    "        return False"
   ]
  },
  {
   "cell_type": "code",
   "execution_count": 34,
   "id": "07fd7174-f5cc-4cbf-8a39-d91a5619fdcd",
   "metadata": {},
   "outputs": [
    {
     "data": {
      "text/plain": [
       "True"
      ]
     },
     "execution_count": 34,
     "metadata": {},
     "output_type": "execute_result"
    }
   ],
   "source": [
    "board_full()"
   ]
  },
  {
   "cell_type": "code",
   "execution_count": 35,
   "id": "9416f824-9c2e-4401-9fec-384f969d569f",
   "metadata": {},
   "outputs": [],
   "source": [
    "# change_marker   x to o and o to x"
   ]
  },
  {
   "cell_type": "code",
   "execution_count": 36,
   "id": "52631561-7338-4ddf-8f83-0531c06a0701",
   "metadata": {},
   "outputs": [],
   "source": [
    "def change_marker(marker):\n",
    "    if marker == \"O\":\n",
    "        return \"X\"\n",
    "    else:\n",
    "        return \"O\""
   ]
  },
  {
   "cell_type": "code",
   "execution_count": 37,
   "id": "180bdb6b-ddf3-4c64-91a9-e48952664d52",
   "metadata": {},
   "outputs": [
    {
     "data": {
      "text/plain": [
       "'O'"
      ]
     },
     "execution_count": 37,
     "metadata": {},
     "output_type": "execute_result"
    }
   ],
   "source": [
    "change_marker(\"o\")"
   ]
  },
  {
   "cell_type": "code",
   "execution_count": 38,
   "id": "42c5b953-59a3-48c3-9ab0-dd8eacb61cb5",
   "metadata": {},
   "outputs": [],
   "source": [
    "def check_win():\n",
    "    if (li[7] == li[8] == li[9] != \" \") or \\\n",
    "    (li[4] == li[5] == li[6] != \" \") or \\\n",
    "    (li[1] == li[2] == li[3] != \" \") or \\\n",
    "    (li[7] == li[1] == li[4] != \" \") or \\\n",
    "    (li[8] == li[2] == li[5] != \" \") or \\\n",
    "    (li[9] == li[3] == li[6] != \" \") or \\\n",
    "    (li[7] == li[5] == li[3] != \" \") or \\\n",
    "    (li[1] == li[5] == li[9] != \" \"):\n",
    "        return True\n",
    "    else:\n",
    "        return False\n",
    "    "
   ]
  },
  {
   "cell_type": "code",
   "execution_count": 39,
   "id": "82782c71-511f-4952-969c-104bcd2772d9",
   "metadata": {},
   "outputs": [
    {
     "data": {
      "text/plain": [
       "True"
      ]
     },
     "execution_count": 39,
     "metadata": {},
     "output_type": "execute_result"
    }
   ],
   "source": [
    "check_win()"
   ]
  },
  {
   "cell_type": "code",
   "execution_count": 40,
   "id": "b440cd5d-22fe-4e5b-8621-12e1ea327686",
   "metadata": {},
   "outputs": [],
   "source": [
    "# final conclusion:"
   ]
  },
  {
   "cell_type": "code",
   "execution_count": 42,
   "id": "b1a867d6-60ff-4fa8-bab0-fa451e196deb",
   "metadata": {},
   "outputs": [],
   "source": [
    "marker = \"O\""
   ]
  },
  {
   "cell_type": "code",
   "execution_count": 43,
   "id": "851fed37-65d0-429d-90b1-872e2f4c182c",
   "metadata": {},
   "outputs": [
    {
     "name": "stdout",
     "output_type": "stream",
     "text": [
      "  |   |  \n",
      "---------\n",
      "  |   |  \n",
      "---------\n",
      "  |   |  \n"
     ]
    },
    {
     "name": "stdin",
     "output_type": "stream",
     "text": [
      "please choose among [] 1\n"
     ]
    },
    {
     "name": "stdout",
     "output_type": "stream",
     "text": [
      "please choose the among []\n"
     ]
    },
    {
     "ename": "TypeError",
     "evalue": "list indices must be integers or slices, not NoneType",
     "output_type": "error",
     "traceback": [
      "\u001b[1;31m---------------------------------------------------------------------------\u001b[0m",
      "\u001b[1;31mTypeError\u001b[0m                                 Traceback (most recent call last)",
      "Cell \u001b[1;32mIn[43], line 6\u001b[0m\n\u001b[0;32m      4\u001b[0m display()\n\u001b[0;32m      5\u001b[0m position \u001b[38;5;241m=\u001b[39m take_position()\n\u001b[1;32m----> 6\u001b[0m put_marker(position,marker)\n\u001b[0;32m      7\u001b[0m clear_output\n\u001b[0;32m      8\u001b[0m display()\n",
      "Cell \u001b[1;32mIn[22], line 2\u001b[0m, in \u001b[0;36mput_marker\u001b[1;34m(position, marker)\u001b[0m\n\u001b[0;32m      1\u001b[0m \u001b[38;5;28;01mdef\u001b[39;00m\u001b[38;5;250m \u001b[39m\u001b[38;5;21mput_marker\u001b[39m(position,marker):\n\u001b[1;32m----> 2\u001b[0m     li[position] \u001b[38;5;241m=\u001b[39m marker\n",
      "\u001b[1;31mTypeError\u001b[0m: list indices must be integers or slices, not NoneType"
     ]
    }
   ],
   "source": [
    "li = [\" \"]*10\n",
    "game = True\n",
    "while game:\n",
    "    display()\n",
    "    position = take_position()\n",
    "    put_marker(position,marker)\n",
    "    clear_output\n",
    "    display()\n",
    "    if check_win():\n",
    "        print(f\"congratulations {marker} won the game\")\n",
    "        game = False           #agr glti se code run ho jayeg to bta de di code nhi chlega\n",
    "        break\n",
    "    elif board_full():\n",
    "        print(f\"board is full, Do you want to play next game\")\n",
    "        game = False\n",
    "        break\n",
    "    else:\n",
    "        marker = change_marker(marker)"
   ]
  },
  {
   "cell_type": "code",
   "execution_count": null,
   "id": "76bef98f-e14d-4727-9393-59bfa1308d9f",
   "metadata": {},
   "outputs": [],
   "source": []
  },
  {
   "cell_type": "code",
   "execution_count": null,
   "id": "9b3b22d8-7470-4e63-a8af-c6d4c2ec18c8",
   "metadata": {},
   "outputs": [],
   "source": []
  }
 ],
 "metadata": {
  "kernelspec": {
   "display_name": "Python 3 (ipykernel)",
   "language": "python",
   "name": "python3"
  },
  "language_info": {
   "codemirror_mode": {
    "name": "ipython",
    "version": 3
   },
   "file_extension": ".py",
   "mimetype": "text/x-python",
   "name": "python",
   "nbconvert_exporter": "python",
   "pygments_lexer": "ipython3",
   "version": "3.13.5"
  }
 },
 "nbformat": 4,
 "nbformat_minor": 5
}
