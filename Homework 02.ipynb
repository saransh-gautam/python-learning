{
 "cells": [
  {
   "cell_type": "markdown",
   "id": "b7d928c1-8acc-4ba6-9de9-ea9129a6d411",
   "metadata": {},
   "source": [
    "# Loops"
   ]
  },
  {
   "cell_type": "markdown",
   "id": "343e1474-8e0b-43c0-a64c-b32fdb29180c",
   "metadata": {},
   "source": [
    "## For loop"
   ]
  },
  {
   "cell_type": "code",
   "execution_count": 2,
   "id": "964461a7-5621-41a3-8610-f21904ca4b7a",
   "metadata": {},
   "outputs": [
    {
     "name": "stdout",
     "output_type": "stream",
     "text": [
      "Hello world\n",
      "Hello world\n",
      "Hello world\n",
      "Hello world\n",
      "Hello world\n",
      "Hello world\n",
      "Hello world\n",
      "Hello world\n",
      "Hello world\n",
      "Hello world\n"
     ]
    }
   ],
   "source": [
    "for i in range(0,10):                    # 9 indexing\n",
    "    print(\"Hello world\")"
   ]
  },
  {
   "cell_type": "code",
   "execution_count": 5,
   "id": "1869ffe1-83d2-4812-a07e-657c91ac8d38",
   "metadata": {},
   "outputs": [
    {
     "name": "stdin",
     "output_type": "stream",
     "text": [
      "Enter your number here: 2\n"
     ]
    },
    {
     "name": "stdout",
     "output_type": "stream",
     "text": [
      "2 x 1 = 2\n",
      "2 x 2 = 4\n",
      "2 x 3 = 6\n",
      "2 x 4 = 8\n",
      "2 x 5 = 10\n",
      "2 x 6 = 12\n",
      "2 x 7 = 14\n",
      "2 x 8 = 16\n",
      "2 x 9 = 18\n"
     ]
    }
   ],
   "source": [
    "num = int(input(\"Enter your number here:\"))\n",
    "for i in range(1,10):\n",
    "    print(num,\"x\",i,\"=\",num*i)"
   ]
  },
  {
   "cell_type": "code",
   "execution_count": 8,
   "id": "077ce72c-cb9b-4fec-b2f5-971e6d957749",
   "metadata": {},
   "outputs": [
    {
     "name": "stdin",
     "output_type": "stream",
     "text": [
      "Enter your number here: 35\n"
     ]
    },
    {
     "name": "stdout",
     "output_type": "stream",
     "text": [
      "35 x 1 = 35\n",
      "35 x 6 = 210\n",
      "35 x 11 = 385\n",
      "35 x 16 = 560\n",
      "35 x 21 = 735\n",
      "35 x 26 = 910\n",
      "35 x 31 = 1085\n",
      "35 x 36 = 1260\n",
      "35 x 41 = 1435\n",
      "35 x 46 = 1610\n"
     ]
    }
   ],
   "source": [
    "num = int(input(\"Enter your number here:\"))\n",
    "for i in range (1,50,5):                                     # USING WITH GAP \n",
    "    print(num,\"x\",i,\"=\",num*i)"
   ]
  },
  {
   "cell_type": "code",
   "execution_count": 15,
   "id": "0709a4e4-0e3e-48de-8b58-3ec62e653f42",
   "metadata": {},
   "outputs": [
    {
     "name": "stdin",
     "output_type": "stream",
     "text": [
      "Enter your number here: 4\n"
     ]
    },
    {
     "name": "stdout",
     "output_type": "stream",
     "text": [
      "4 / 1 = 4.0\n",
      "4 / 2 = 2.0\n",
      "4 / 3 = 1.3333333333333333\n",
      "4 / 4 = 1.0\n",
      "4 / 5 = 0.8\n",
      "4 / 6 = 0.6666666666666666\n",
      "4 / 7 = 0.5714285714285714\n",
      "4 / 8 = 0.5\n",
      "4 / 9 = 0.4444444444444444\n"
     ]
    }
   ],
   "source": [
    "num =int(input(\"Enter your number here:\"))           #Divison\n",
    "for i in range(1,10):\n",
    "    print(num,\"/\",i,\"=\",num/i)"
   ]
  },
  {
   "cell_type": "code",
   "execution_count": 23,
   "id": "7dcac64b-2902-45eb-a698-2a3517e05779",
   "metadata": {},
   "outputs": [
    {
     "name": "stdin",
     "output_type": "stream",
     "text": [
      "Enter your number here: 2\n"
     ]
    },
    {
     "name": "stdout",
     "output_type": "stream",
     "text": [
      "2 ** 1 = 2\n",
      "2 ** 3 = 8\n",
      "2 ** 5 = 32\n",
      "2 ** 7 = 128\n",
      "2 ** 9 = 512\n"
     ]
    }
   ],
   "source": [
    "num = int(input(\"Enter your number here:\"))\n",
    "for i in range(1,10,2):\n",
    "    print(num,\"**\",i,\"=\",num**i)"
   ]
  },
  {
   "cell_type": "code",
   "execution_count": 30,
   "id": "b5dffdc7-930c-47c6-89a9-27170defbe04",
   "metadata": {},
   "outputs": [
    {
     "name": "stdin",
     "output_type": "stream",
     "text": [
      "Enter your name here: khushi\n"
     ]
    },
    {
     "name": "stdout",
     "output_type": "stream",
     "text": [
      "khushi\n",
      "khushi\n",
      "khushi\n",
      "khushi\n",
      "khushi\n",
      "khushi\n",
      "khushi\n",
      "khushi\n",
      "khushi\n",
      "khushi\n",
      "khushi\n"
     ]
    }
   ],
   "source": [
    "name = input(\"Enter your name here:\")\n",
    "for i in range (0,11):\n",
    "    print(name)"
   ]
  },
  {
   "cell_type": "code",
   "execution_count": 51,
   "id": "79e9707f-56f1-4955-aae8-ec2681c4e748",
   "metadata": {},
   "outputs": [
    {
     "name": "stdin",
     "output_type": "stream",
     "text": [
      "Enter your number here: 3\n"
     ]
    },
    {
     "name": "stdout",
     "output_type": "stream",
     "text": [
      "3 x 1 = 3\n",
      "3 x 2 = 6\n",
      "3 x 3 = 9\n",
      "3 x 4 = 12\n",
      "3 x 5 = 15\n",
      "3 x 6 = 18\n",
      "3 x 7 = 21\n",
      "3 x 8 = 24\n",
      "3 x 9 = 27\n",
      "3 x 10 = 30\n",
      "3 x 11 = 33\n",
      "3 x 12 = 36\n",
      "3 x 13 = 39\n",
      "3 x 14 = 42\n"
     ]
    }
   ],
   "source": [
    "num = int(input(\"Enter your number here:\"))\n",
    "for i in range (1,15):\n",
    "    print(num,\"x\",i,\"=\",num*i)"
   ]
  },
  {
   "cell_type": "code",
   "execution_count": 62,
   "id": "cadc4d40-c7c9-4676-ac51-e23d7004ea73",
   "metadata": {},
   "outputs": [
    {
     "name": "stdout",
     "output_type": "stream",
     "text": [
      "10 / 1 = 10.0\n",
      "10 / 2 = 5.0\n",
      "10 / 3 = 3.3333333333333335\n",
      "10 / 4 = 2.5\n",
      "10 / 5 = 2.0\n",
      "10 / 6 = 1.6666666666666667\n",
      "10 / 7 = 1.4285714285714286\n",
      "10 / 8 = 1.25\n"
     ]
    }
   ],
   "source": [
    "n = 10\n",
    "for i in range (1,9):\n",
    "    print(n,\"/\",i,\"=\",n/i)"
   ]
  },
  {
   "cell_type": "markdown",
   "id": "0478244a-d607-43f8-bbe9-3212cf3cdd8c",
   "metadata": {},
   "source": [
    "## List"
   ]
  },
  {
   "cell_type": "code",
   "execution_count": 66,
   "id": "c1a540df-19c4-4e42-b027-9b1876edeaf2",
   "metadata": {},
   "outputs": [
    {
     "name": "stdout",
     "output_type": "stream",
     "text": [
      "['volleyball', 'basketball', 'football', 'flatfoot', (1+2j), [2, 3, 4, 5, 6], 7, 8, 9, 10]\n"
     ]
    }
   ],
   "source": [
    "sisco = [\"volleyball\",\"basketball\",\"football\",\"flatfoot\",(1+2j),[2,3,4,5,6],7,8,9,10]\n",
    "print(sisco)"
   ]
  },
  {
   "cell_type": "code",
   "execution_count": 83,
   "id": "cb3b509c-90b8-4a98-b49e-f98d0f37cbda",
   "metadata": {},
   "outputs": [
    {
     "data": {
      "text/plain": [
       "['volleyball',\n",
       " 'basketball',\n",
       " 'football',\n",
       " 'flatfoot',\n",
       " (1+2j),\n",
       " [2, 3, 4, 5, 6],\n",
       " 7,\n",
       " 8,\n",
       " 9,\n",
       " 10]"
      ]
     },
     "execution_count": 83,
     "metadata": {},
     "output_type": "execute_result"
    }
   ],
   "source": [
    "sisco[0:10]"
   ]
  },
  {
   "cell_type": "code",
   "execution_count": 92,
   "id": "1dd3e00d-046e-4db7-8e92-0921735c3f16",
   "metadata": {},
   "outputs": [
    {
     "data": {
      "text/plain": [
       "'volleyball'"
      ]
     },
     "execution_count": 92,
     "metadata": {},
     "output_type": "execute_result"
    }
   ],
   "source": [
    "sisco[0]"
   ]
  },
  {
   "cell_type": "code",
   "execution_count": 93,
   "id": "1cb36413-216d-45c2-adac-44821d1368e3",
   "metadata": {},
   "outputs": [
    {
     "data": {
      "text/plain": [
       "'basketball'"
      ]
     },
     "execution_count": 93,
     "metadata": {},
     "output_type": "execute_result"
    }
   ],
   "source": [
    "sisco[1]"
   ]
  },
  {
   "cell_type": "code",
   "execution_count": 94,
   "id": "231a6e7f-9f64-4576-bd36-b9c54b503fac",
   "metadata": {},
   "outputs": [
    {
     "data": {
      "text/plain": [
       "'football'"
      ]
     },
     "execution_count": 94,
     "metadata": {},
     "output_type": "execute_result"
    }
   ],
   "source": [
    "sisco[2]"
   ]
  },
  {
   "cell_type": "code",
   "execution_count": 95,
   "id": "c2bd2bd4-e633-4b98-8eb3-5e0130b4e35f",
   "metadata": {},
   "outputs": [
    {
     "data": {
      "text/plain": [
       "'l'"
      ]
     },
     "execution_count": 95,
     "metadata": {},
     "output_type": "execute_result"
    }
   ],
   "source": [
    "sisco[3][1]"
   ]
  },
  {
   "cell_type": "code",
   "execution_count": 96,
   "id": "e2048c3e-ae14-4455-b209-98c72f10f88d",
   "metadata": {},
   "outputs": [
    {
     "data": {
      "text/plain": [
       "(1+2j)"
      ]
     },
     "execution_count": 96,
     "metadata": {},
     "output_type": "execute_result"
    }
   ],
   "source": [
    "sisco[4]"
   ]
  },
  {
   "cell_type": "code",
   "execution_count": 97,
   "id": "8c21daee-18ba-42de-b41b-891da90a7053",
   "metadata": {},
   "outputs": [
    {
     "data": {
      "text/plain": [
       "2"
      ]
     },
     "execution_count": 97,
     "metadata": {},
     "output_type": "execute_result"
    }
   ],
   "source": [
    "sisco[5][0]"
   ]
  },
  {
   "cell_type": "code",
   "execution_count": 98,
   "id": "52a2f544-db33-4893-a373-c6de8aefef58",
   "metadata": {},
   "outputs": [
    {
     "data": {
      "text/plain": [
       "[7, 8, 9, 10]"
      ]
     },
     "execution_count": 98,
     "metadata": {},
     "output_type": "execute_result"
    }
   ],
   "source": [
    "sisco[6:10]"
   ]
  },
  {
   "cell_type": "code",
   "execution_count": 109,
   "id": "079669f5-3e52-4daf-ba8d-522274c61f51",
   "metadata": {},
   "outputs": [
    {
     "name": "stdout",
     "output_type": "stream",
     "text": [
      "['mango', 'grapes', 'banana', 'litchi']\n"
     ]
    }
   ],
   "source": [
    "fruits = [\"mango\",\"grapes\",\"banana\",\"litchi\"]\n",
    "print(fruits)"
   ]
  },
  {
   "cell_type": "code",
   "execution_count": 108,
   "id": "488cfd95-d216-43c8-93a5-4f3e79aea4b2",
   "metadata": {},
   "outputs": [
    {
     "name": "stdout",
     "output_type": "stream",
     "text": [
      "1\n"
     ]
    }
   ],
   "source": [
    "rashan = \"saransh\".count(\"h\")\n",
    "print(rashan)"
   ]
  },
  {
   "cell_type": "code",
   "execution_count": 120,
   "id": "bd1f8c24-d51d-4f36-b1ea-9c339cb43b97",
   "metadata": {},
   "outputs": [],
   "source": [
    "# append function"
   ]
  },
  {
   "cell_type": "code",
   "execution_count": 163,
   "id": "5213c5bf-61cd-4faf-832b-558516a3392b",
   "metadata": {},
   "outputs": [],
   "source": [
    "fruits.append(\"Apple\")     # to add a new item in a list"
   ]
  },
  {
   "cell_type": "code",
   "execution_count": 164,
   "id": "25f4ee02-b780-4587-a908-0f0ab0cab438",
   "metadata": {},
   "outputs": [
    {
     "data": {
      "text/plain": [
       "['mango', 'grapes', 'banana', 'litchi', 'Apple', 'Apple', 'Apple']"
      ]
     },
     "execution_count": 164,
     "metadata": {},
     "output_type": "execute_result"
    }
   ],
   "source": [
    "fruits"
   ]
  },
  {
   "cell_type": "code",
   "execution_count": 165,
   "id": "ccb24353-3104-4113-a46f-b565b6eae320",
   "metadata": {},
   "outputs": [
    {
     "name": "stdout",
     "output_type": "stream",
     "text": [
      "['palampur', 'thakurdwara', 'mla']\n"
     ]
    }
   ],
   "source": [
    "summer_hills = [\"palampur\",\"thakurdwara\",\"mla\"]\n",
    "print(summer_hills)"
   ]
  },
  {
   "cell_type": "code",
   "execution_count": 166,
   "id": "c9452930-33ee-45f7-8a2f-7e47f87b19fe",
   "metadata": {},
   "outputs": [],
   "source": [
    "#copy function"
   ]
  },
  {
   "cell_type": "code",
   "execution_count": 8,
   "id": "cd69ceb7-41d1-4b0c-9e37-72a7653fb301",
   "metadata": {},
   "outputs": [
    {
     "name": "stdout",
     "output_type": "stream",
     "text": [
      "['a', 'b', 'c', 'd', 'e', 'f']\n"
     ]
    }
   ],
   "source": [
    "students = [\"a\",\"b\",\"c\",\"d\",\"e\",\"f\"]\n",
    "print(students)"
   ]
  },
  {
   "cell_type": "code",
   "execution_count": 9,
   "id": "6e5a9005-18fe-4ba8-83bd-beaff7dd1075",
   "metadata": {},
   "outputs": [
    {
     "name": "stdout",
     "output_type": "stream",
     "text": [
      "['a', 'b', 'c', 'd', 'e', 'f']\n"
     ]
    }
   ],
   "source": [
    "fail_students = students\n",
    "print(fail_students)"
   ]
  },
  {
   "cell_type": "code",
   "execution_count": 10,
   "id": "1108574e-a549-473c-8e90-68b858624848",
   "metadata": {},
   "outputs": [
    {
     "name": "stdout",
     "output_type": "stream",
     "text": [
      "['a', 'b', 'saransh gautam', 'd', 'e', 'f']\n"
     ]
    }
   ],
   "source": [
    "fail_students[2] = \"saransh gautam\" \n",
    "print(fail_students)"
   ]
  },
  {
   "cell_type": "code",
   "execution_count": 11,
   "id": "4f9c4d6e-84f1-45f3-90b8-1a35626cfa82",
   "metadata": {},
   "outputs": [],
   "source": [
    "fail_students = students.copy()"
   ]
  },
  {
   "cell_type": "code",
   "execution_count": 12,
   "id": "fe9f0f04-9a2c-44ff-af4d-36be4612f211",
   "metadata": {},
   "outputs": [],
   "source": [
    "fail_students[2] = \"laxmi\""
   ]
  },
  {
   "cell_type": "code",
   "execution_count": 13,
   "id": "eeb7a4e1-6742-4f6a-ac94-eae00d1d740c",
   "metadata": {},
   "outputs": [
    {
     "data": {
      "text/plain": [
       "['a', 'b', 'laxmi', 'd', 'e', 'f']"
      ]
     },
     "execution_count": 13,
     "metadata": {},
     "output_type": "execute_result"
    }
   ],
   "source": [
    "fail_students"
   ]
  },
  {
   "cell_type": "code",
   "execution_count": 14,
   "id": "19401058-6ff2-4c7b-8122-07e271f715d3",
   "metadata": {},
   "outputs": [
    {
     "data": {
      "text/plain": [
       "['a', 'b', 'saransh gautam', 'd', 'e', 'f']"
      ]
     },
     "execution_count": 14,
     "metadata": {},
     "output_type": "execute_result"
    }
   ],
   "source": [
    "students"
   ]
  },
  {
   "cell_type": "code",
   "execution_count": 15,
   "id": "08363b51-6685-4534-b56f-c5b84ed95f75",
   "metadata": {},
   "outputs": [],
   "source": [
    "#count function"
   ]
  },
  {
   "cell_type": "code",
   "execution_count": 16,
   "id": "4bc7e1ec-e423-4a9f-9cff-24d3ad056e04",
   "metadata": {},
   "outputs": [
    {
     "data": {
      "text/plain": [
       "1"
      ]
     },
     "execution_count": 16,
     "metadata": {},
     "output_type": "execute_result"
    }
   ],
   "source": [
    "students.count(\"saransh gautam\")"
   ]
  },
  {
   "cell_type": "code",
   "execution_count": 17,
   "id": "29f9edc4-9d69-4b06-bbcf-e5da2a6332c7",
   "metadata": {},
   "outputs": [
    {
     "data": {
      "text/plain": [
       "1"
      ]
     },
     "execution_count": 17,
     "metadata": {},
     "output_type": "execute_result"
    }
   ],
   "source": [
    "fail_students.count(\"laxmi\")"
   ]
  },
  {
   "cell_type": "code",
   "execution_count": 18,
   "id": "825eb41c-714d-44a2-a581-674e49604a36",
   "metadata": {},
   "outputs": [],
   "source": [
    "# index"
   ]
  },
  {
   "cell_type": "code",
   "execution_count": 19,
   "id": "85374473-02a1-42eb-8086-158b1ed9fb9e",
   "metadata": {},
   "outputs": [
    {
     "data": {
      "text/plain": [
       "['a', 'b', 'saransh gautam', 'd', 'e', 'f']"
      ]
     },
     "execution_count": 19,
     "metadata": {},
     "output_type": "execute_result"
    }
   ],
   "source": [
    "students"
   ]
  },
  {
   "cell_type": "code",
   "execution_count": 20,
   "id": "5dcd91b6-b976-4d57-a7cf-aa46cc7d2d36",
   "metadata": {},
   "outputs": [
    {
     "data": {
      "text/plain": [
       "4"
      ]
     },
     "execution_count": 20,
     "metadata": {},
     "output_type": "execute_result"
    }
   ],
   "source": [
    "students.index(\"e\")"
   ]
  },
  {
   "cell_type": "code",
   "execution_count": 21,
   "id": "1bee6801-7e7d-4da7-9478-a1c9ff5f0c48",
   "metadata": {},
   "outputs": [],
   "source": [
    "# pop function"
   ]
  },
  {
   "cell_type": "code",
   "execution_count": 22,
   "id": "fbf5f6ac-92b2-4cef-a057-7923caadaa8d",
   "metadata": {},
   "outputs": [
    {
     "data": {
      "text/plain": [
       "'f'"
      ]
     },
     "execution_count": 22,
     "metadata": {},
     "output_type": "execute_result"
    }
   ],
   "source": [
    "students.pop()"
   ]
  },
  {
   "cell_type": "code",
   "execution_count": 23,
   "id": "93237827-a7fc-4adf-9cf5-6ca0aeaef4c7",
   "metadata": {},
   "outputs": [
    {
     "data": {
      "text/plain": [
       "['a', 'b', 'saransh gautam', 'd', 'e']"
      ]
     },
     "execution_count": 23,
     "metadata": {},
     "output_type": "execute_result"
    }
   ],
   "source": [
    "students"
   ]
  },
  {
   "cell_type": "code",
   "execution_count": 24,
   "id": "9b7855e7-c757-476f-b7a3-63272b9ff941",
   "metadata": {},
   "outputs": [
    {
     "data": {
      "text/plain": [
       "'b'"
      ]
     },
     "execution_count": 24,
     "metadata": {},
     "output_type": "execute_result"
    }
   ],
   "source": [
    "students.pop(1)"
   ]
  },
  {
   "cell_type": "code",
   "execution_count": 25,
   "id": "55c4e27a-28f9-43ef-8673-99824787a0b3",
   "metadata": {},
   "outputs": [],
   "source": [
    "# sort function"
   ]
  },
  {
   "cell_type": "code",
   "execution_count": 26,
   "id": "a2a7f933-bc09-4080-bf83-fb8ad6844048",
   "metadata": {},
   "outputs": [
    {
     "name": "stdout",
     "output_type": "stream",
     "text": [
      "['tom', 'jerry', 'pussy', 'billi']\n"
     ]
    }
   ],
   "source": [
    "cat = [\"tom\",\"jerry\",\"pussy\",\"billi\"]\n",
    "print(cat)"
   ]
  },
  {
   "cell_type": "code",
   "execution_count": 27,
   "id": "49dfd089-f2cf-49ff-b673-91d494688220",
   "metadata": {},
   "outputs": [
    {
     "name": "stdout",
     "output_type": "stream",
     "text": [
      "['billi', 'jerry', 'pussy', 'tom']\n"
     ]
    }
   ],
   "source": [
    "cat.sort()                   # asscending order from english alphabets\n",
    "print(cat)"
   ]
  },
  {
   "cell_type": "code",
   "execution_count": 28,
   "id": "9c67f914-a745-4079-9d61-f4cce0aa4dad",
   "metadata": {},
   "outputs": [],
   "source": [
    "# sort reverse"
   ]
  },
  {
   "cell_type": "code",
   "execution_count": 29,
   "id": "839a4826-14f7-4202-b020-3edbdd1e154e",
   "metadata": {},
   "outputs": [
    {
     "data": {
      "text/plain": [
       "['billi', 'jerry', 'pussy', 'tom']"
      ]
     },
     "execution_count": 29,
     "metadata": {},
     "output_type": "execute_result"
    }
   ],
   "source": [
    "cat"
   ]
  },
  {
   "cell_type": "code",
   "execution_count": 30,
   "id": "76da1510-7139-413f-8a0e-4c62701e43cf",
   "metadata": {},
   "outputs": [
    {
     "name": "stdout",
     "output_type": "stream",
     "text": [
      "['tom', 'pussy', 'jerry', 'billi']\n"
     ]
    }
   ],
   "source": [
    "cat.sort(reverse = True)\n",
    "print(cat)                                                        # last item to first plac"
   ]
  },
  {
   "cell_type": "code",
   "execution_count": 31,
   "id": "113f9224-1227-484d-b386-5bce73033b43",
   "metadata": {},
   "outputs": [
    {
     "name": "stdout",
     "output_type": "stream",
     "text": [
      "['billi', 'jerry', 'pussy', 'tom']\n"
     ]
    }
   ],
   "source": [
    "cat.sort(reverse = False)\n",
    "print(cat)                           # opposite of reverse = True"
   ]
  },
  {
   "cell_type": "code",
   "execution_count": 32,
   "id": "6e10fb60-4076-406e-a8df-2e0574f01c57",
   "metadata": {},
   "outputs": [],
   "source": [
    "# extend function"
   ]
  },
  {
   "cell_type": "code",
   "execution_count": 33,
   "id": "dad865d4-10eb-430d-bf4c-e50d1e66f070",
   "metadata": {},
   "outputs": [
    {
     "data": {
      "text/plain": [
       "['a', 'saransh gautam', 'd', 'e']"
      ]
     },
     "execution_count": 33,
     "metadata": {},
     "output_type": "execute_result"
    }
   ],
   "source": [
    "students"
   ]
  },
  {
   "cell_type": "code",
   "execution_count": 34,
   "id": "614fb4d2-3806-47f0-bf91-5052885fc780",
   "metadata": {},
   "outputs": [
    {
     "name": "stdout",
     "output_type": "stream",
     "text": [
      "['hardware', 'software', 'mouse', 'cpu', 'monitor', 'printer']\n"
     ]
    }
   ],
   "source": [
    "computer = [\"hardware\",\"software\",\"mouse\",\"cpu\",\"monitor\",\"printer\"]\n",
    "print(computer)\n"
   ]
  },
  {
   "cell_type": "code",
   "execution_count": 35,
   "id": "40066424-7d0f-4a98-b9f9-8ebce02e2967",
   "metadata": {},
   "outputs": [],
   "source": [
    "students.extend(computer)"
   ]
  },
  {
   "cell_type": "code",
   "execution_count": 36,
   "id": "7d3baa57-a941-4f59-9595-df39863c08ad",
   "metadata": {},
   "outputs": [
    {
     "data": {
      "text/plain": [
       "['a',\n",
       " 'saransh gautam',\n",
       " 'd',\n",
       " 'e',\n",
       " 'hardware',\n",
       " 'software',\n",
       " 'mouse',\n",
       " 'cpu',\n",
       " 'monitor',\n",
       " 'printer']"
      ]
     },
     "execution_count": 36,
     "metadata": {},
     "output_type": "execute_result"
    }
   ],
   "source": [
    "students"
   ]
  },
  {
   "cell_type": "code",
   "execution_count": 37,
   "id": "bd20d30e-4414-4cb7-9832-24af808146bb",
   "metadata": {},
   "outputs": [],
   "source": [
    "# clear function"
   ]
  },
  {
   "cell_type": "code",
   "execution_count": 38,
   "id": "ee64bf89-be7a-45bf-aa9c-ca379207bc3a",
   "metadata": {},
   "outputs": [
    {
     "name": "stdout",
     "output_type": "stream",
     "text": [
      "[]\n"
     ]
    }
   ],
   "source": [
    "students.clear()\n",
    "print(students)"
   ]
  },
  {
   "cell_type": "markdown",
   "id": "6fc4bb4a-acaf-42fd-a76a-4197691b442c",
   "metadata": {},
   "source": [
    "# Dictionary"
   ]
  },
  {
   "cell_type": "code",
   "execution_count": 47,
   "id": "cdea9e76-be77-4a66-abdc-c6d36be59171",
   "metadata": {},
   "outputs": [
    {
     "name": "stdout",
     "output_type": "stream",
     "text": [
      "{'name': 'saransh', 'age': 23, 'education': 'Python expert'}\n"
     ]
    }
   ],
   "source": [
    "dict = {\"name\":\"saransh\",\"age\":23,\"education\":\"Python expert\"}\n",
    "print(dict)"
   ]
  },
  {
   "cell_type": "code",
   "execution_count": 53,
   "id": "54c5d4bc-8059-4d04-9621-1aea3d94065c",
   "metadata": {},
   "outputs": [
    {
     "data": {
      "text/plain": [
       "dict_keys(['name', 'age', 'education'])"
      ]
     },
     "execution_count": 53,
     "metadata": {},
     "output_type": "execute_result"
    }
   ],
   "source": [
    "dict.keys()"
   ]
  },
  {
   "cell_type": "code",
   "execution_count": 54,
   "id": "5c116fca-7f77-4a62-8eb0-3912cea5f1ee",
   "metadata": {},
   "outputs": [
    {
     "data": {
      "text/plain": [
       "dict_values(['saransh', 23, 'Python expert'])"
      ]
     },
     "execution_count": 54,
     "metadata": {},
     "output_type": "execute_result"
    }
   ],
   "source": [
    "dict.values()"
   ]
  },
  {
   "cell_type": "code",
   "execution_count": 61,
   "id": "52052343-1803-4ec5-bb32-a299bcb3257c",
   "metadata": {},
   "outputs": [
    {
     "data": {
      "text/plain": [
       "'sara'"
      ]
     },
     "execution_count": 61,
     "metadata": {},
     "output_type": "execute_result"
    }
   ],
   "source": [
    "dict[\"name\"][0:4]"
   ]
  },
  {
   "cell_type": "code",
   "execution_count": 64,
   "id": "80838f52-07c0-4a31-990e-5d996c6ca484",
   "metadata": {},
   "outputs": [
    {
     "data": {
      "text/plain": [
       "23"
      ]
     },
     "execution_count": 64,
     "metadata": {},
     "output_type": "execute_result"
    }
   ],
   "source": [
    "dict[\"age\"]"
   ]
  },
  {
   "cell_type": "code",
   "execution_count": 68,
   "id": "fb23ce24-3555-43ac-9dbe-87fdd53d107a",
   "metadata": {},
   "outputs": [
    {
     "data": {
      "text/plain": [
       "'expert'"
      ]
     },
     "execution_count": 68,
     "metadata": {},
     "output_type": "execute_result"
    }
   ],
   "source": [
    "dict[\"education\"][7:13]"
   ]
  },
  {
   "cell_type": "code",
   "execution_count": 91,
   "id": "2a4cf7ad-86cf-4da1-a7f1-f4b96ffefaa0",
   "metadata": {},
   "outputs": [
    {
     "name": "stdout",
     "output_type": "stream",
     "text": [
      "{1: {'name': 'saransh', 'age': 24, 'class': 'mca final'}, 2: {'name': 'shubham', 'age': 34, 'key': [2, 3, 4, 5, 'world']}}\n"
     ]
    }
   ],
   "source": [
    "d = {\n",
    "    1:{\"name\":\"saransh\",\"age\":24,\"class\":\"mca final\"},\n",
    "    2:{\"name\":\"shubham\",\"age\":34,\"key\":[2,3,4,5,\"world\"]}\n",
    "}\n",
    "print(d)"
   ]
  },
  {
   "cell_type": "code",
   "execution_count": 92,
   "id": "b3ab27ae-e10a-4aaa-b475-41a02ac02a16",
   "metadata": {},
   "outputs": [
    {
     "data": {
      "text/plain": [
       "{'name': 'saransh', 'age': 24, 'class': 'mca final'}"
      ]
     },
     "execution_count": 92,
     "metadata": {},
     "output_type": "execute_result"
    }
   ],
   "source": [
    "d[1]"
   ]
  },
  {
   "cell_type": "code",
   "execution_count": 123,
   "id": "4d0b003b-7ccd-4ec6-bdc8-d400e8bd71a9",
   "metadata": {},
   "outputs": [
    {
     "data": {
      "text/plain": [
       "dict"
      ]
     },
     "execution_count": 123,
     "metadata": {},
     "output_type": "execute_result"
    }
   ],
   "source": [
    "type(d)"
   ]
  },
  {
   "cell_type": "code",
   "execution_count": 124,
   "id": "4e445c6f-cb02-4ed1-b30f-185450e5de80",
   "metadata": {},
   "outputs": [
    {
     "data": {
      "text/plain": [
       "'saransh'"
      ]
     },
     "execution_count": 124,
     "metadata": {},
     "output_type": "execute_result"
    }
   ],
   "source": [
    "d[1][\"name\"]"
   ]
  },
  {
   "cell_type": "code",
   "execution_count": 125,
   "id": "9da70aef-8be5-4b63-98ec-65ac1d93a105",
   "metadata": {},
   "outputs": [
    {
     "data": {
      "text/plain": [
       "'sara'"
      ]
     },
     "execution_count": 125,
     "metadata": {},
     "output_type": "execute_result"
    }
   ],
   "source": [
    "d[1][\"name\"][0:4]"
   ]
  },
  {
   "cell_type": "code",
   "execution_count": 126,
   "id": "33e5153d-7a9a-4fba-85af-29e7c88719a9",
   "metadata": {},
   "outputs": [
    {
     "data": {
      "text/plain": [
       "'s'"
      ]
     },
     "execution_count": 126,
     "metadata": {},
     "output_type": "execute_result"
    }
   ],
   "source": [
    "d[1][\"name\"][0:4][0]"
   ]
  },
  {
   "cell_type": "code",
   "execution_count": 127,
   "id": "138b4a06-b438-4c7c-b3e3-f6d7862f93b5",
   "metadata": {},
   "outputs": [
    {
     "data": {
      "text/plain": [
       "{'name': 'shubham', 'age': 34, 'key': [2, 3, 4, 5, 'world']}"
      ]
     },
     "execution_count": 127,
     "metadata": {},
     "output_type": "execute_result"
    }
   ],
   "source": [
    " d[2]"
   ]
  },
  {
   "cell_type": "code",
   "execution_count": 128,
   "id": "d7f590b6-38b1-45f4-84ff-15e20f7245d0",
   "metadata": {},
   "outputs": [
    {
     "data": {
      "text/plain": [
       "list"
      ]
     },
     "execution_count": 128,
     "metadata": {},
     "output_type": "execute_result"
    }
   ],
   "source": [
    "type(d[2][\"key\"])"
   ]
  },
  {
   "cell_type": "code",
   "execution_count": 129,
   "id": "32457a7f-1b0b-4fc3-97ee-c4e344c243df",
   "metadata": {},
   "outputs": [
    {
     "data": {
      "text/plain": [
       "[2, 3, 4, 5, 'world']"
      ]
     },
     "execution_count": 129,
     "metadata": {},
     "output_type": "execute_result"
    }
   ],
   "source": [
    "d[2][\"key\"]"
   ]
  },
  {
   "cell_type": "code",
   "execution_count": 130,
   "id": "6974f161-10d5-4cbb-b99d-e8adf6580099",
   "metadata": {},
   "outputs": [
    {
     "data": {
      "text/plain": [
       "'world'"
      ]
     },
     "execution_count": 130,
     "metadata": {},
     "output_type": "execute_result"
    }
   ],
   "source": [
    "d[2][\"key\"][4]"
   ]
  },
  {
   "cell_type": "code",
   "execution_count": 131,
   "id": "25442841-6f8f-463b-8b36-0f2c9ba22979",
   "metadata": {},
   "outputs": [
    {
     "data": {
      "text/plain": [
       "'worl'"
      ]
     },
     "execution_count": 131,
     "metadata": {},
     "output_type": "execute_result"
    }
   ],
   "source": [
    "d[2][\"key\"][4][0:4]"
   ]
  },
  {
   "cell_type": "code",
   "execution_count": 132,
   "id": "6489b942-963b-4048-9300-64e7cddad4e0",
   "metadata": {},
   "outputs": [
    {
     "data": {
      "text/plain": [
       "'or'"
      ]
     },
     "execution_count": 132,
     "metadata": {},
     "output_type": "execute_result"
    }
   ],
   "source": [
    "d[2][\"key\"][4][0:4][1:3]"
   ]
  },
  {
   "cell_type": "code",
   "execution_count": 135,
   "id": "ed2a44c7-490a-4cb7-840d-2332a966d909",
   "metadata": {},
   "outputs": [
    {
     "data": {
      "text/plain": [
       "{'name': 'saransh', 'age': 23, 'education': 'Python expert'}"
      ]
     },
     "execution_count": 135,
     "metadata": {},
     "output_type": "execute_result"
    }
   ],
   "source": [
    "dict"
   ]
  },
  {
   "cell_type": "markdown",
   "id": "e8448507-9bd0-43cd-bb27-eceaae630299",
   "metadata": {},
   "source": [
    "len(dict)"
   ]
  },
  {
   "cell_type": "code",
   "execution_count": 140,
   "id": "cad946a0-6380-46c1-99eb-d4bee0bdaead",
   "metadata": {},
   "outputs": [
    {
     "name": "stdout",
     "output_type": "stream",
     "text": [
      "{'name': 'saransh', 'age': 23, 'education': 'Python expert', 'person_profile': 'Admin'}\n"
     ]
    }
   ],
   "source": [
    "dict[\"person_profile\"] = \"Admin\"\n",
    "print(dict)"
   ]
  },
  {
   "cell_type": "code",
   "execution_count": 141,
   "id": "b4649538-4eab-4110-941e-9d1f6f405417",
   "metadata": {},
   "outputs": [
    {
     "data": {
      "text/plain": [
       "'Python expert'"
      ]
     },
     "execution_count": 141,
     "metadata": {},
     "output_type": "execute_result"
    }
   ],
   "source": [
    "dict[\"education\"]"
   ]
  },
  {
   "cell_type": "code",
   "execution_count": 142,
   "id": "41bef379-ed09-48eb-af3b-6fd9cb46fe37",
   "metadata": {},
   "outputs": [
    {
     "data": {
      "text/plain": [
       "'Python expert'"
      ]
     },
     "execution_count": 142,
     "metadata": {},
     "output_type": "execute_result"
    }
   ],
   "source": [
    "dict.pop(\"education\")"
   ]
  },
  {
   "cell_type": "code",
   "execution_count": 143,
   "id": "b7f14f3e-9d91-4159-81c8-7dda49d550f9",
   "metadata": {},
   "outputs": [
    {
     "data": {
      "text/plain": [
       "{'name': 'saransh', 'age': 23, 'person_profile': 'Admin'}"
      ]
     },
     "execution_count": 143,
     "metadata": {},
     "output_type": "execute_result"
    }
   ],
   "source": [
    "dict"
   ]
  },
  {
   "cell_type": "code",
   "execution_count": 145,
   "id": "90d80cc0-e654-4eaf-9f2b-15e578fdadb5",
   "metadata": {},
   "outputs": [
    {
     "name": "stdout",
     "output_type": "stream",
     "text": [
      "{}\n"
     ]
    }
   ],
   "source": [
    "dict.clear()\n",
    "print(dict)"
   ]
  },
  {
   "cell_type": "raw",
   "id": "78206533-51dc-4dc2-9038-4ed3888b1311",
   "metadata": {},
   "source": []
  }
 ],
 "metadata": {
  "kernelspec": {
   "display_name": "Python 3 (ipykernel)",
   "language": "python",
   "name": "python3"
  },
  "language_info": {
   "codemirror_mode": {
    "name": "ipython",
    "version": 3
   },
   "file_extension": ".py",
   "mimetype": "text/x-python",
   "name": "python",
   "nbconvert_exporter": "python",
   "pygments_lexer": "ipython3",
   "version": "3.13.5"
  }
 },
 "nbformat": 4,
 "nbformat_minor": 5
}
