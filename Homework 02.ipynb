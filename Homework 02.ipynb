{
 "cells": [
  {
   "cell_type": "markdown",
   "id": "b7d928c1-8acc-4ba6-9de9-ea9129a6d411",
   "metadata": {},
   "source": [
    "# Loops"
   ]
  },
  {
   "cell_type": "markdown",
   "id": "343e1474-8e0b-43c0-a64c-b32fdb29180c",
   "metadata": {},
   "source": [
    "## For loop"
   ]
  },
  {
   "cell_type": "code",
   "execution_count": 2,
   "id": "964461a7-5621-41a3-8610-f21904ca4b7a",
   "metadata": {},
   "outputs": [
    {
     "name": "stdout",
     "output_type": "stream",
     "text": [
      "Hello world\n",
      "Hello world\n",
      "Hello world\n",
      "Hello world\n",
      "Hello world\n",
      "Hello world\n",
      "Hello world\n",
      "Hello world\n",
      "Hello world\n",
      "Hello world\n"
     ]
    }
   ],
   "source": [
    "for i in range(0,10):                    # 9 indexing\n",
    "    print(\"Hello world\")"
   ]
  },
  {
   "cell_type": "code",
   "execution_count": 5,
   "id": "1869ffe1-83d2-4812-a07e-657c91ac8d38",
   "metadata": {},
   "outputs": [
    {
     "name": "stdin",
     "output_type": "stream",
     "text": [
      "Enter your number here: 2\n"
     ]
    },
    {
     "name": "stdout",
     "output_type": "stream",
     "text": [
      "2 x 1 = 2\n",
      "2 x 2 = 4\n",
      "2 x 3 = 6\n",
      "2 x 4 = 8\n",
      "2 x 5 = 10\n",
      "2 x 6 = 12\n",
      "2 x 7 = 14\n",
      "2 x 8 = 16\n",
      "2 x 9 = 18\n"
     ]
    }
   ],
   "source": [
    "num = int(input(\"Enter your number here:\"))\n",
    "for i in range(1,10):\n",
    "    print(num,\"x\",i,\"=\",num*i)"
   ]
  },
  {
   "cell_type": "code",
   "execution_count": 8,
   "id": "077ce72c-cb9b-4fec-b2f5-971e6d957749",
   "metadata": {},
   "outputs": [
    {
     "name": "stdin",
     "output_type": "stream",
     "text": [
      "Enter your number here: 35\n"
     ]
    },
    {
     "name": "stdout",
     "output_type": "stream",
     "text": [
      "35 x 1 = 35\n",
      "35 x 6 = 210\n",
      "35 x 11 = 385\n",
      "35 x 16 = 560\n",
      "35 x 21 = 735\n",
      "35 x 26 = 910\n",
      "35 x 31 = 1085\n",
      "35 x 36 = 1260\n",
      "35 x 41 = 1435\n",
      "35 x 46 = 1610\n"
     ]
    }
   ],
   "source": [
    "num = int(input(\"Enter your number here:\"))\n",
    "for i in range (1,50,5):                                     # USING WITH GAP \n",
    "    print(num,\"x\",i,\"=\",num*i)"
   ]
  },
  {
   "cell_type": "code",
   "execution_count": 15,
   "id": "0709a4e4-0e3e-48de-8b58-3ec62e653f42",
   "metadata": {},
   "outputs": [
    {
     "name": "stdin",
     "output_type": "stream",
     "text": [
      "Enter your number here: 4\n"
     ]
    },
    {
     "name": "stdout",
     "output_type": "stream",
     "text": [
      "4 / 1 = 4.0\n",
      "4 / 2 = 2.0\n",
      "4 / 3 = 1.3333333333333333\n",
      "4 / 4 = 1.0\n",
      "4 / 5 = 0.8\n",
      "4 / 6 = 0.6666666666666666\n",
      "4 / 7 = 0.5714285714285714\n",
      "4 / 8 = 0.5\n",
      "4 / 9 = 0.4444444444444444\n"
     ]
    }
   ],
   "source": [
    "num =int(input(\"Enter your number here:\"))           #Divison\n",
    "for i in range(1,10):\n",
    "    print(num,\"/\",i,\"=\",num/i)"
   ]
  },
  {
   "cell_type": "code",
   "execution_count": 23,
   "id": "7dcac64b-2902-45eb-a698-2a3517e05779",
   "metadata": {},
   "outputs": [
    {
     "name": "stdin",
     "output_type": "stream",
     "text": [
      "Enter your number here: 2\n"
     ]
    },
    {
     "name": "stdout",
     "output_type": "stream",
     "text": [
      "2 ** 1 = 2\n",
      "2 ** 3 = 8\n",
      "2 ** 5 = 32\n",
      "2 ** 7 = 128\n",
      "2 ** 9 = 512\n"
     ]
    }
   ],
   "source": [
    "num = int(input(\"Enter your number here:\"))\n",
    "for i in range(1,10,2):\n",
    "    print(num,\"**\",i,\"=\",num**i)"
   ]
  },
  {
   "cell_type": "code",
   "execution_count": 30,
   "id": "b5dffdc7-930c-47c6-89a9-27170defbe04",
   "metadata": {},
   "outputs": [
    {
     "name": "stdin",
     "output_type": "stream",
     "text": [
      "Enter your name here: khushi\n"
     ]
    },
    {
     "name": "stdout",
     "output_type": "stream",
     "text": [
      "khushi\n",
      "khushi\n",
      "khushi\n",
      "khushi\n",
      "khushi\n",
      "khushi\n",
      "khushi\n",
      "khushi\n",
      "khushi\n",
      "khushi\n",
      "khushi\n"
     ]
    }
   ],
   "source": [
    "name = input(\"Enter your name here:\")\n",
    "for i in range (0,11):\n",
    "    print(name)"
   ]
  },
  {
   "cell_type": "code",
   "execution_count": 51,
   "id": "79e9707f-56f1-4955-aae8-ec2681c4e748",
   "metadata": {},
   "outputs": [
    {
     "name": "stdin",
     "output_type": "stream",
     "text": [
      "Enter your number here: 3\n"
     ]
    },
    {
     "name": "stdout",
     "output_type": "stream",
     "text": [
      "3 x 1 = 3\n",
      "3 x 2 = 6\n",
      "3 x 3 = 9\n",
      "3 x 4 = 12\n",
      "3 x 5 = 15\n",
      "3 x 6 = 18\n",
      "3 x 7 = 21\n",
      "3 x 8 = 24\n",
      "3 x 9 = 27\n",
      "3 x 10 = 30\n",
      "3 x 11 = 33\n",
      "3 x 12 = 36\n",
      "3 x 13 = 39\n",
      "3 x 14 = 42\n"
     ]
    }
   ],
   "source": [
    "num = int(input(\"Enter your number here:\"))\n",
    "for i in range (1,15):\n",
    "    print(num,\"x\",i,\"=\",num*i)"
   ]
  },
  {
   "cell_type": "code",
   "execution_count": 62,
   "id": "cadc4d40-c7c9-4676-ac51-e23d7004ea73",
   "metadata": {},
   "outputs": [
    {
     "name": "stdout",
     "output_type": "stream",
     "text": [
      "10 / 1 = 10.0\n",
      "10 / 2 = 5.0\n",
      "10 / 3 = 3.3333333333333335\n",
      "10 / 4 = 2.5\n",
      "10 / 5 = 2.0\n",
      "10 / 6 = 1.6666666666666667\n",
      "10 / 7 = 1.4285714285714286\n",
      "10 / 8 = 1.25\n"
     ]
    }
   ],
   "source": [
    "n = 10\n",
    "for i in range (1,9):\n",
    "    print(n,\"/\",i,\"=\",n/i)"
   ]
  },
  {
   "cell_type": "markdown",
   "id": "0478244a-d607-43f8-bbe9-3212cf3cdd8c",
   "metadata": {},
   "source": [
    "## List"
   ]
  },
  {
   "cell_type": "code",
   "execution_count": 66,
   "id": "c1a540df-19c4-4e42-b027-9b1876edeaf2",
   "metadata": {},
   "outputs": [
    {
     "name": "stdout",
     "output_type": "stream",
     "text": [
      "['volleyball', 'basketball', 'football', 'flatfoot', (1+2j), [2, 3, 4, 5, 6], 7, 8, 9, 10]\n"
     ]
    }
   ],
   "source": [
    "sisco = [\"volleyball\",\"basketball\",\"football\",\"flatfoot\",(1+2j),[2,3,4,5,6],7,8,9,10]\n",
    "print(sisco)"
   ]
  },
  {
   "cell_type": "code",
   "execution_count": 83,
   "id": "cb3b509c-90b8-4a98-b49e-f98d0f37cbda",
   "metadata": {},
   "outputs": [
    {
     "data": {
      "text/plain": [
       "['volleyball',\n",
       " 'basketball',\n",
       " 'football',\n",
       " 'flatfoot',\n",
       " (1+2j),\n",
       " [2, 3, 4, 5, 6],\n",
       " 7,\n",
       " 8,\n",
       " 9,\n",
       " 10]"
      ]
     },
     "execution_count": 83,
     "metadata": {},
     "output_type": "execute_result"
    }
   ],
   "source": [
    "sisco[0:10]"
   ]
  },
  {
   "cell_type": "code",
   "execution_count": 92,
   "id": "1dd3e00d-046e-4db7-8e92-0921735c3f16",
   "metadata": {},
   "outputs": [
    {
     "data": {
      "text/plain": [
       "'volleyball'"
      ]
     },
     "execution_count": 92,
     "metadata": {},
     "output_type": "execute_result"
    }
   ],
   "source": [
    "sisco[0]"
   ]
  },
  {
   "cell_type": "code",
   "execution_count": 93,
   "id": "1cb36413-216d-45c2-adac-44821d1368e3",
   "metadata": {},
   "outputs": [
    {
     "data": {
      "text/plain": [
       "'basketball'"
      ]
     },
     "execution_count": 93,
     "metadata": {},
     "output_type": "execute_result"
    }
   ],
   "source": [
    "sisco[1]"
   ]
  },
  {
   "cell_type": "code",
   "execution_count": 94,
   "id": "231a6e7f-9f64-4576-bd36-b9c54b503fac",
   "metadata": {},
   "outputs": [
    {
     "data": {
      "text/plain": [
       "'football'"
      ]
     },
     "execution_count": 94,
     "metadata": {},
     "output_type": "execute_result"
    }
   ],
   "source": [
    "sisco[2]"
   ]
  },
  {
   "cell_type": "code",
   "execution_count": 95,
   "id": "c2bd2bd4-e633-4b98-8eb3-5e0130b4e35f",
   "metadata": {},
   "outputs": [
    {
     "data": {
      "text/plain": [
       "'l'"
      ]
     },
     "execution_count": 95,
     "metadata": {},
     "output_type": "execute_result"
    }
   ],
   "source": [
    "sisco[3][1]"
   ]
  },
  {
   "cell_type": "code",
   "execution_count": 96,
   "id": "e2048c3e-ae14-4455-b209-98c72f10f88d",
   "metadata": {},
   "outputs": [
    {
     "data": {
      "text/plain": [
       "(1+2j)"
      ]
     },
     "execution_count": 96,
     "metadata": {},
     "output_type": "execute_result"
    }
   ],
   "source": [
    "sisco[4]"
   ]
  },
  {
   "cell_type": "code",
   "execution_count": 97,
   "id": "8c21daee-18ba-42de-b41b-891da90a7053",
   "metadata": {},
   "outputs": [
    {
     "data": {
      "text/plain": [
       "2"
      ]
     },
     "execution_count": 97,
     "metadata": {},
     "output_type": "execute_result"
    }
   ],
   "source": [
    "sisco[5][0]"
   ]
  },
  {
   "cell_type": "code",
   "execution_count": 98,
   "id": "52a2f544-db33-4893-a373-c6de8aefef58",
   "metadata": {},
   "outputs": [
    {
     "data": {
      "text/plain": [
       "[7, 8, 9, 10]"
      ]
     },
     "execution_count": 98,
     "metadata": {},
     "output_type": "execute_result"
    }
   ],
   "source": [
    "sisco[6:10]"
   ]
  },
  {
   "cell_type": "code",
   "execution_count": 109,
   "id": "079669f5-3e52-4daf-ba8d-522274c61f51",
   "metadata": {},
   "outputs": [
    {
     "name": "stdout",
     "output_type": "stream",
     "text": [
      "['mango', 'grapes', 'banana', 'litchi']\n"
     ]
    }
   ],
   "source": [
    "fruits = [\"mango\",\"grapes\",\"banana\",\"litchi\"]\n",
    "print(fruits)"
   ]
  },
  {
   "cell_type": "code",
   "execution_count": 108,
   "id": "488cfd95-d216-43c8-93a5-4f3e79aea4b2",
   "metadata": {},
   "outputs": [
    {
     "name": "stdout",
     "output_type": "stream",
     "text": [
      "1\n"
     ]
    }
   ],
   "source": [
    "rashan = \"saransh\".count(\"h\")\n",
    "print(rashan)"
   ]
  },
  {
   "cell_type": "code",
   "execution_count": 120,
   "id": "bd1f8c24-d51d-4f36-b1ea-9c339cb43b97",
   "metadata": {},
   "outputs": [],
   "source": [
    "# append function"
   ]
  },
  {
   "cell_type": "code",
   "execution_count": 163,
   "id": "5213c5bf-61cd-4faf-832b-558516a3392b",
   "metadata": {},
   "outputs": [],
   "source": [
    "fruits.append(\"Apple\")     # to add a new item in a list"
   ]
  },
  {
   "cell_type": "code",
   "execution_count": 164,
   "id": "25f4ee02-b780-4587-a908-0f0ab0cab438",
   "metadata": {},
   "outputs": [
    {
     "data": {
      "text/plain": [
       "['mango', 'grapes', 'banana', 'litchi', 'Apple', 'Apple', 'Apple']"
      ]
     },
     "execution_count": 164,
     "metadata": {},
     "output_type": "execute_result"
    }
   ],
   "source": [
    "fruits"
   ]
  },
  {
   "cell_type": "code",
   "execution_count": 165,
   "id": "ccb24353-3104-4113-a46f-b565b6eae320",
   "metadata": {},
   "outputs": [
    {
     "name": "stdout",
     "output_type": "stream",
     "text": [
      "['palampur', 'thakurdwara', 'mla']\n"
     ]
    }
   ],
   "source": [
    "summer_hills = [\"palampur\",\"thakurdwara\",\"mla\"]\n",
    "print(summer_hills)"
   ]
  },
  {
   "cell_type": "code",
   "execution_count": 166,
   "id": "c9452930-33ee-45f7-8a2f-7e47f87b19fe",
   "metadata": {},
   "outputs": [],
   "source": [
    "#copy function"
   ]
  },
  {
   "cell_type": "code",
   "execution_count": 8,
   "id": "cd69ceb7-41d1-4b0c-9e37-72a7653fb301",
   "metadata": {},
   "outputs": [
    {
     "name": "stdout",
     "output_type": "stream",
     "text": [
      "['a', 'b', 'c', 'd', 'e', 'f']\n"
     ]
    }
   ],
   "source": [
    "students = [\"a\",\"b\",\"c\",\"d\",\"e\",\"f\"]\n",
    "print(students)"
   ]
  },
  {
   "cell_type": "code",
   "execution_count": 9,
   "id": "6e5a9005-18fe-4ba8-83bd-beaff7dd1075",
   "metadata": {},
   "outputs": [
    {
     "name": "stdout",
     "output_type": "stream",
     "text": [
      "['a', 'b', 'c', 'd', 'e', 'f']\n"
     ]
    }
   ],
   "source": [
    "fail_students = students\n",
    "print(fail_students)"
   ]
  },
  {
   "cell_type": "code",
   "execution_count": 10,
   "id": "1108574e-a549-473c-8e90-68b858624848",
   "metadata": {},
   "outputs": [
    {
     "name": "stdout",
     "output_type": "stream",
     "text": [
      "['a', 'b', 'saransh gautam', 'd', 'e', 'f']\n"
     ]
    }
   ],
   "source": [
    "fail_students[2] = \"saransh gautam\" \n",
    "print(fail_students)"
   ]
  },
  {
   "cell_type": "code",
   "execution_count": 11,
   "id": "4f9c4d6e-84f1-45f3-90b8-1a35626cfa82",
   "metadata": {},
   "outputs": [],
   "source": [
    "fail_students = students.copy()"
   ]
  },
  {
   "cell_type": "code",
   "execution_count": 12,
   "id": "fe9f0f04-9a2c-44ff-af4d-36be4612f211",
   "metadata": {},
   "outputs": [],
   "source": [
    "fail_students[2] = \"laxmi\""
   ]
  },
  {
   "cell_type": "code",
   "execution_count": 13,
   "id": "eeb7a4e1-6742-4f6a-ac94-eae00d1d740c",
   "metadata": {},
   "outputs": [
    {
     "data": {
      "text/plain": [
       "['a', 'b', 'laxmi', 'd', 'e', 'f']"
      ]
     },
     "execution_count": 13,
     "metadata": {},
     "output_type": "execute_result"
    }
   ],
   "source": [
    "fail_students"
   ]
  },
  {
   "cell_type": "code",
   "execution_count": 14,
   "id": "19401058-6ff2-4c7b-8122-07e271f715d3",
   "metadata": {},
   "outputs": [
    {
     "data": {
      "text/plain": [
       "['a', 'b', 'saransh gautam', 'd', 'e', 'f']"
      ]
     },
     "execution_count": 14,
     "metadata": {},
     "output_type": "execute_result"
    }
   ],
   "source": [
    "students"
   ]
  },
  {
   "cell_type": "code",
   "execution_count": 15,
   "id": "08363b51-6685-4534-b56f-c5b84ed95f75",
   "metadata": {},
   "outputs": [],
   "source": [
    "#count function"
   ]
  },
  {
   "cell_type": "code",
   "execution_count": 16,
   "id": "4bc7e1ec-e423-4a9f-9cff-24d3ad056e04",
   "metadata": {},
   "outputs": [
    {
     "data": {
      "text/plain": [
       "1"
      ]
     },
     "execution_count": 16,
     "metadata": {},
     "output_type": "execute_result"
    }
   ],
   "source": [
    "students.count(\"saransh gautam\")"
   ]
  },
  {
   "cell_type": "code",
   "execution_count": 17,
   "id": "29f9edc4-9d69-4b06-bbcf-e5da2a6332c7",
   "metadata": {},
   "outputs": [
    {
     "data": {
      "text/plain": [
       "1"
      ]
     },
     "execution_count": 17,
     "metadata": {},
     "output_type": "execute_result"
    }
   ],
   "source": [
    "fail_students.count(\"laxmi\")"
   ]
  },
  {
   "cell_type": "code",
   "execution_count": 18,
   "id": "825eb41c-714d-44a2-a581-674e49604a36",
   "metadata": {},
   "outputs": [],
   "source": [
    "# index"
   ]
  },
  {
   "cell_type": "code",
   "execution_count": 19,
   "id": "85374473-02a1-42eb-8086-158b1ed9fb9e",
   "metadata": {},
   "outputs": [
    {
     "data": {
      "text/plain": [
       "['a', 'b', 'saransh gautam', 'd', 'e', 'f']"
      ]
     },
     "execution_count": 19,
     "metadata": {},
     "output_type": "execute_result"
    }
   ],
   "source": [
    "students"
   ]
  },
  {
   "cell_type": "code",
   "execution_count": 20,
   "id": "5dcd91b6-b976-4d57-a7cf-aa46cc7d2d36",
   "metadata": {},
   "outputs": [
    {
     "data": {
      "text/plain": [
       "4"
      ]
     },
     "execution_count": 20,
     "metadata": {},
     "output_type": "execute_result"
    }
   ],
   "source": [
    "students.index(\"e\")"
   ]
  },
  {
   "cell_type": "code",
   "execution_count": 21,
   "id": "1bee6801-7e7d-4da7-9478-a1c9ff5f0c48",
   "metadata": {},
   "outputs": [],
   "source": [
    "# pop function"
   ]
  },
  {
   "cell_type": "code",
   "execution_count": 22,
   "id": "fbf5f6ac-92b2-4cef-a057-7923caadaa8d",
   "metadata": {},
   "outputs": [
    {
     "data": {
      "text/plain": [
       "'f'"
      ]
     },
     "execution_count": 22,
     "metadata": {},
     "output_type": "execute_result"
    }
   ],
   "source": [
    "students.pop()"
   ]
  },
  {
   "cell_type": "code",
   "execution_count": 23,
   "id": "93237827-a7fc-4adf-9cf5-6ca0aeaef4c7",
   "metadata": {},
   "outputs": [
    {
     "data": {
      "text/plain": [
       "['a', 'b', 'saransh gautam', 'd', 'e']"
      ]
     },
     "execution_count": 23,
     "metadata": {},
     "output_type": "execute_result"
    }
   ],
   "source": [
    "students"
   ]
  },
  {
   "cell_type": "code",
   "execution_count": 24,
   "id": "9b7855e7-c757-476f-b7a3-63272b9ff941",
   "metadata": {},
   "outputs": [
    {
     "data": {
      "text/plain": [
       "'b'"
      ]
     },
     "execution_count": 24,
     "metadata": {},
     "output_type": "execute_result"
    }
   ],
   "source": [
    "students.pop(1)"
   ]
  },
  {
   "cell_type": "code",
   "execution_count": 25,
   "id": "55c4e27a-28f9-43ef-8673-99824787a0b3",
   "metadata": {},
   "outputs": [],
   "source": [
    "# sort function"
   ]
  },
  {
   "cell_type": "code",
   "execution_count": 26,
   "id": "a2a7f933-bc09-4080-bf83-fb8ad6844048",
   "metadata": {},
   "outputs": [
    {
     "name": "stdout",
     "output_type": "stream",
     "text": [
      "['tom', 'jerry', 'pussy', 'billi']\n"
     ]
    }
   ],
   "source": [
    "cat = [\"tom\",\"jerry\",\"pussy\",\"billi\"]\n",
    "print(cat)"
   ]
  },
  {
   "cell_type": "code",
   "execution_count": 27,
   "id": "49dfd089-f2cf-49ff-b673-91d494688220",
   "metadata": {},
   "outputs": [
    {
     "name": "stdout",
     "output_type": "stream",
     "text": [
      "['billi', 'jerry', 'pussy', 'tom']\n"
     ]
    }
   ],
   "source": [
    "cat.sort()                   # asscending order from english alphabets\n",
    "print(cat)"
   ]
  },
  {
   "cell_type": "code",
   "execution_count": 28,
   "id": "9c67f914-a745-4079-9d61-f4cce0aa4dad",
   "metadata": {},
   "outputs": [],
   "source": [
    "# sort reverse"
   ]
  },
  {
   "cell_type": "code",
   "execution_count": 29,
   "id": "839a4826-14f7-4202-b020-3edbdd1e154e",
   "metadata": {},
   "outputs": [
    {
     "data": {
      "text/plain": [
       "['billi', 'jerry', 'pussy', 'tom']"
      ]
     },
     "execution_count": 29,
     "metadata": {},
     "output_type": "execute_result"
    }
   ],
   "source": [
    "cat"
   ]
  },
  {
   "cell_type": "code",
   "execution_count": 30,
   "id": "76da1510-7139-413f-8a0e-4c62701e43cf",
   "metadata": {},
   "outputs": [
    {
     "name": "stdout",
     "output_type": "stream",
     "text": [
      "['tom', 'pussy', 'jerry', 'billi']\n"
     ]
    }
   ],
   "source": [
    "cat.sort(reverse = True)\n",
    "print(cat)                                                        # last item to first plac"
   ]
  },
  {
   "cell_type": "code",
   "execution_count": 31,
   "id": "113f9224-1227-484d-b386-5bce73033b43",
   "metadata": {},
   "outputs": [
    {
     "name": "stdout",
     "output_type": "stream",
     "text": [
      "['billi', 'jerry', 'pussy', 'tom']\n"
     ]
    }
   ],
   "source": [
    "cat.sort(reverse = False)\n",
    "print(cat)                           # opposite of reverse = True"
   ]
  },
  {
   "cell_type": "code",
   "execution_count": 32,
   "id": "6e10fb60-4076-406e-a8df-2e0574f01c57",
   "metadata": {},
   "outputs": [],
   "source": [
    "# extend function"
   ]
  },
  {
   "cell_type": "code",
   "execution_count": 33,
   "id": "dad865d4-10eb-430d-bf4c-e50d1e66f070",
   "metadata": {},
   "outputs": [
    {
     "data": {
      "text/plain": [
       "['a', 'saransh gautam', 'd', 'e']"
      ]
     },
     "execution_count": 33,
     "metadata": {},
     "output_type": "execute_result"
    }
   ],
   "source": [
    "students"
   ]
  },
  {
   "cell_type": "code",
   "execution_count": 34,
   "id": "614fb4d2-3806-47f0-bf91-5052885fc780",
   "metadata": {},
   "outputs": [
    {
     "name": "stdout",
     "output_type": "stream",
     "text": [
      "['hardware', 'software', 'mouse', 'cpu', 'monitor', 'printer']\n"
     ]
    }
   ],
   "source": [
    "computer = [\"hardware\",\"software\",\"mouse\",\"cpu\",\"monitor\",\"printer\"]\n",
    "print(computer)\n"
   ]
  },
  {
   "cell_type": "code",
   "execution_count": 35,
   "id": "40066424-7d0f-4a98-b9f9-8ebce02e2967",
   "metadata": {},
   "outputs": [],
   "source": [
    "students.extend(computer)"
   ]
  },
  {
   "cell_type": "code",
   "execution_count": 36,
   "id": "7d3baa57-a941-4f59-9595-df39863c08ad",
   "metadata": {},
   "outputs": [
    {
     "data": {
      "text/plain": [
       "['a',\n",
       " 'saransh gautam',\n",
       " 'd',\n",
       " 'e',\n",
       " 'hardware',\n",
       " 'software',\n",
       " 'mouse',\n",
       " 'cpu',\n",
       " 'monitor',\n",
       " 'printer']"
      ]
     },
     "execution_count": 36,
     "metadata": {},
     "output_type": "execute_result"
    }
   ],
   "source": [
    "students"
   ]
  },
  {
   "cell_type": "code",
   "execution_count": 37,
   "id": "bd20d30e-4414-4cb7-9832-24af808146bb",
   "metadata": {},
   "outputs": [],
   "source": [
    "# clear function"
   ]
  },
  {
   "cell_type": "code",
   "execution_count": 38,
   "id": "ee64bf89-be7a-45bf-aa9c-ca379207bc3a",
   "metadata": {},
   "outputs": [
    {
     "name": "stdout",
     "output_type": "stream",
     "text": [
      "[]\n"
     ]
    }
   ],
   "source": [
    "students.clear()\n",
    "print(students)"
   ]
  },
  {
   "cell_type": "markdown",
   "id": "6fc4bb4a-acaf-42fd-a76a-4197691b442c",
   "metadata": {},
   "source": [
    "# Dictionary"
   ]
  },
  {
   "cell_type": "code",
   "execution_count": 9,
   "id": "cdea9e76-be77-4a66-abdc-c6d36be59171",
   "metadata": {},
   "outputs": [
    {
     "name": "stdout",
     "output_type": "stream",
     "text": [
      "{'name': 'saransh', 'age': 23, 'education': 'Python expert'}\n"
     ]
    }
   ],
   "source": [
    "dict = {\"name\":\"saransh\",\"age\":23,\"education\":\"Python expert\"}\n",
    "print(dict)"
   ]
  },
  {
   "cell_type": "code",
   "execution_count": 10,
   "id": "54c5d4bc-8059-4d04-9621-1aea3d94065c",
   "metadata": {},
   "outputs": [
    {
     "data": {
      "text/plain": [
       "dict_keys(['name', 'age', 'education'])"
      ]
     },
     "execution_count": 10,
     "metadata": {},
     "output_type": "execute_result"
    }
   ],
   "source": [
    "dict.keys()"
   ]
  },
  {
   "cell_type": "code",
   "execution_count": 11,
   "id": "5c116fca-7f77-4a62-8eb0-3912cea5f1ee",
   "metadata": {},
   "outputs": [
    {
     "data": {
      "text/plain": [
       "dict_values(['saransh', 23, 'Python expert'])"
      ]
     },
     "execution_count": 11,
     "metadata": {},
     "output_type": "execute_result"
    }
   ],
   "source": [
    "dict.values()"
   ]
  },
  {
   "cell_type": "code",
   "execution_count": 12,
   "id": "52052343-1803-4ec5-bb32-a299bcb3257c",
   "metadata": {},
   "outputs": [
    {
     "data": {
      "text/plain": [
       "'sara'"
      ]
     },
     "execution_count": 12,
     "metadata": {},
     "output_type": "execute_result"
    }
   ],
   "source": [
    "dict[\"name\"][0:4]"
   ]
  },
  {
   "cell_type": "code",
   "execution_count": 13,
   "id": "80838f52-07c0-4a31-990e-5d996c6ca484",
   "metadata": {},
   "outputs": [
    {
     "data": {
      "text/plain": [
       "23"
      ]
     },
     "execution_count": 13,
     "metadata": {},
     "output_type": "execute_result"
    }
   ],
   "source": [
    "dict[\"age\"]"
   ]
  },
  {
   "cell_type": "code",
   "execution_count": 14,
   "id": "fb23ce24-3555-43ac-9dbe-87fdd53d107a",
   "metadata": {},
   "outputs": [
    {
     "data": {
      "text/plain": [
       "'expert'"
      ]
     },
     "execution_count": 14,
     "metadata": {},
     "output_type": "execute_result"
    }
   ],
   "source": [
    "dict[\"education\"][7:13]"
   ]
  },
  {
   "cell_type": "code",
   "execution_count": 15,
   "id": "2a4cf7ad-86cf-4da1-a7f1-f4b96ffefaa0",
   "metadata": {},
   "outputs": [
    {
     "name": "stdout",
     "output_type": "stream",
     "text": [
      "{1: {'name': 'saransh', 'age': 24, 'class': 'mca final'}, 2: {'name': 'shubham', 'age': 34, 'key': [2, 3, 4, 5, 'world']}}\n"
     ]
    }
   ],
   "source": [
    "d = {\n",
    "    1:{\"name\":\"saransh\",\"age\":24,\"class\":\"mca final\"},\n",
    "    2:{\"name\":\"shubham\",\"age\":34,\"key\":[2,3,4,5,\"world\"]}\n",
    "}\n",
    "print(d)"
   ]
  },
  {
   "cell_type": "code",
   "execution_count": 16,
   "id": "b3ab27ae-e10a-4aaa-b475-41a02ac02a16",
   "metadata": {},
   "outputs": [
    {
     "data": {
      "text/plain": [
       "{'name': 'saransh', 'age': 24, 'class': 'mca final'}"
      ]
     },
     "execution_count": 16,
     "metadata": {},
     "output_type": "execute_result"
    }
   ],
   "source": [
    "d[1]"
   ]
  },
  {
   "cell_type": "code",
   "execution_count": 17,
   "id": "4d0b003b-7ccd-4ec6-bdc8-d400e8bd71a9",
   "metadata": {},
   "outputs": [
    {
     "data": {
      "text/plain": [
       "dict"
      ]
     },
     "execution_count": 17,
     "metadata": {},
     "output_type": "execute_result"
    }
   ],
   "source": [
    "type(d)"
   ]
  },
  {
   "cell_type": "code",
   "execution_count": 18,
   "id": "4e445c6f-cb02-4ed1-b30f-185450e5de80",
   "metadata": {},
   "outputs": [
    {
     "data": {
      "text/plain": [
       "'saransh'"
      ]
     },
     "execution_count": 18,
     "metadata": {},
     "output_type": "execute_result"
    }
   ],
   "source": [
    "d[1][\"name\"]"
   ]
  },
  {
   "cell_type": "code",
   "execution_count": 19,
   "id": "9da70aef-8be5-4b63-98ec-65ac1d93a105",
   "metadata": {},
   "outputs": [
    {
     "data": {
      "text/plain": [
       "'sara'"
      ]
     },
     "execution_count": 19,
     "metadata": {},
     "output_type": "execute_result"
    }
   ],
   "source": [
    "d[1][\"name\"][0:4]"
   ]
  },
  {
   "cell_type": "code",
   "execution_count": 20,
   "id": "33e5153d-7a9a-4fba-85af-29e7c88719a9",
   "metadata": {},
   "outputs": [
    {
     "data": {
      "text/plain": [
       "'s'"
      ]
     },
     "execution_count": 20,
     "metadata": {},
     "output_type": "execute_result"
    }
   ],
   "source": [
    "d[1][\"name\"][0:4][0]"
   ]
  },
  {
   "cell_type": "code",
   "execution_count": 21,
   "id": "138b4a06-b438-4c7c-b3e3-f6d7862f93b5",
   "metadata": {},
   "outputs": [
    {
     "data": {
      "text/plain": [
       "{'name': 'shubham', 'age': 34, 'key': [2, 3, 4, 5, 'world']}"
      ]
     },
     "execution_count": 21,
     "metadata": {},
     "output_type": "execute_result"
    }
   ],
   "source": [
    " d[2]"
   ]
  },
  {
   "cell_type": "code",
   "execution_count": 22,
   "id": "d7f590b6-38b1-45f4-84ff-15e20f7245d0",
   "metadata": {},
   "outputs": [
    {
     "data": {
      "text/plain": [
       "list"
      ]
     },
     "execution_count": 22,
     "metadata": {},
     "output_type": "execute_result"
    }
   ],
   "source": [
    "type(d[2][\"key\"])"
   ]
  },
  {
   "cell_type": "code",
   "execution_count": 23,
   "id": "32457a7f-1b0b-4fc3-97ee-c4e344c243df",
   "metadata": {},
   "outputs": [
    {
     "data": {
      "text/plain": [
       "[2, 3, 4, 5, 'world']"
      ]
     },
     "execution_count": 23,
     "metadata": {},
     "output_type": "execute_result"
    }
   ],
   "source": [
    "d[2][\"key\"]"
   ]
  },
  {
   "cell_type": "code",
   "execution_count": 24,
   "id": "6974f161-10d5-4cbb-b99d-e8adf6580099",
   "metadata": {},
   "outputs": [
    {
     "data": {
      "text/plain": [
       "'world'"
      ]
     },
     "execution_count": 24,
     "metadata": {},
     "output_type": "execute_result"
    }
   ],
   "source": [
    "d[2][\"key\"][4]"
   ]
  },
  {
   "cell_type": "code",
   "execution_count": 25,
   "id": "25442841-6f8f-463b-8b36-0f2c9ba22979",
   "metadata": {},
   "outputs": [
    {
     "data": {
      "text/plain": [
       "'worl'"
      ]
     },
     "execution_count": 25,
     "metadata": {},
     "output_type": "execute_result"
    }
   ],
   "source": [
    "d[2][\"key\"][4][0:4]"
   ]
  },
  {
   "cell_type": "code",
   "execution_count": 26,
   "id": "6489b942-963b-4048-9300-64e7cddad4e0",
   "metadata": {},
   "outputs": [
    {
     "data": {
      "text/plain": [
       "'or'"
      ]
     },
     "execution_count": 26,
     "metadata": {},
     "output_type": "execute_result"
    }
   ],
   "source": [
    "d[2][\"key\"][4][0:4][1:3]"
   ]
  },
  {
   "cell_type": "code",
   "execution_count": 27,
   "id": "ed2a44c7-490a-4cb7-840d-2332a966d909",
   "metadata": {},
   "outputs": [
    {
     "data": {
      "text/plain": [
       "{'name': 'saransh', 'age': 23, 'education': 'Python expert'}"
      ]
     },
     "execution_count": 27,
     "metadata": {},
     "output_type": "execute_result"
    }
   ],
   "source": [
    "dict"
   ]
  },
  {
   "cell_type": "code",
   "execution_count": 28,
   "id": "ceb20d72-86f5-4b0e-a900-30d2ab8ede75",
   "metadata": {},
   "outputs": [
    {
     "data": {
      "text/plain": [
       "3"
      ]
     },
     "execution_count": 28,
     "metadata": {},
     "output_type": "execute_result"
    }
   ],
   "source": [
    "len(dict)"
   ]
  },
  {
   "cell_type": "code",
   "execution_count": 29,
   "id": "cad946a0-6380-46c1-99eb-d4bee0bdaead",
   "metadata": {},
   "outputs": [
    {
     "name": "stdout",
     "output_type": "stream",
     "text": [
      "{'name': 'saransh', 'age': 23, 'education': 'Python expert', 'person_profile': 'Admin'}\n"
     ]
    }
   ],
   "source": [
    "dict[\"person_profile\"] = \"Admin\"\n",
    "print(dict)"
   ]
  },
  {
   "cell_type": "code",
   "execution_count": 30,
   "id": "b4649538-4eab-4110-941e-9d1f6f405417",
   "metadata": {},
   "outputs": [
    {
     "data": {
      "text/plain": [
       "'Python expert'"
      ]
     },
     "execution_count": 30,
     "metadata": {},
     "output_type": "execute_result"
    }
   ],
   "source": [
    "dict[\"education\"]"
   ]
  },
  {
   "cell_type": "code",
   "execution_count": 31,
   "id": "41bef379-ed09-48eb-af3b-6fd9cb46fe37",
   "metadata": {},
   "outputs": [
    {
     "data": {
      "text/plain": [
       "'Python expert'"
      ]
     },
     "execution_count": 31,
     "metadata": {},
     "output_type": "execute_result"
    }
   ],
   "source": [
    "dict.pop(\"education\")"
   ]
  },
  {
   "cell_type": "code",
   "execution_count": 32,
   "id": "b7f14f3e-9d91-4159-81c8-7dda49d550f9",
   "metadata": {},
   "outputs": [
    {
     "data": {
      "text/plain": [
       "{'name': 'saransh', 'age': 23, 'person_profile': 'Admin'}"
      ]
     },
     "execution_count": 32,
     "metadata": {},
     "output_type": "execute_result"
    }
   ],
   "source": [
    "dict"
   ]
  },
  {
   "cell_type": "code",
   "execution_count": 33,
   "id": "90d80cc0-e654-4eaf-9f2b-15e578fdadb5",
   "metadata": {},
   "outputs": [
    {
     "name": "stdout",
     "output_type": "stream",
     "text": [
      "{}\n"
     ]
    }
   ],
   "source": [
    "dict.clear()\n",
    "print(dict)"
   ]
  },
  {
   "cell_type": "markdown",
   "id": "51ecf0be-450e-43ee-a808-50d07175e2ee",
   "metadata": {},
   "source": [
    "# While loop"
   ]
  },
  {
   "cell_type": "code",
   "execution_count": 1,
   "id": "d2f4df55-0ac6-45f4-a27e-824c6017113b",
   "metadata": {},
   "outputs": [
    {
     "name": "stdout",
     "output_type": "stream",
     "text": [
      "Hello world\n",
      "Bharat\n",
      "Jai Himachal\n"
     ]
    }
   ],
   "source": [
    "while True:\n",
    "    print(\"Hello world\")\n",
    "    print(\"Bharat\")\n",
    "    break\n",
    "    print(\"Saransh\")\n",
    "print(\"Jai Himachal\")"
   ]
  },
  {
   "cell_type": "code",
   "execution_count": 8,
   "id": "2bf7c234-872f-4817-b4e7-ab71f4f8cf04",
   "metadata": {},
   "outputs": [
    {
     "name": "stdout",
     "output_type": "stream",
     "text": [
      "1\n",
      "2\n"
     ]
    }
   ],
   "source": [
    "i = 1\n",
    "while i:\n",
    "    print(i)\n",
    "    i+=1\n",
    "    break\n",
    "print(i)"
   ]
  },
  {
   "cell_type": "code",
   "execution_count": 18,
   "id": "45a54d40-41d0-448d-9a2b-4838897b5074",
   "metadata": {},
   "outputs": [
    {
     "name": "stdout",
     "output_type": "stream",
     "text": [
      "0\n",
      "1\n",
      "2\n",
      "3\n",
      "4\n",
      "5\n",
      "6\n",
      "7\n",
      "8\n",
      "9\n",
      "10\n"
     ]
    }
   ],
   "source": [
    "i = 0\n",
    "while True:\n",
    "    print(i)\n",
    "    if i == 10:\n",
    "        break\n",
    "    i+=1"
   ]
  },
  {
   "cell_type": "code",
   "execution_count": 20,
   "id": "86137528-f0e7-4ad4-b13c-9e9a1f21d634",
   "metadata": {},
   "outputs": [
    {
     "name": "stdout",
     "output_type": "stream",
     "text": [
      "0\n",
      "1\n",
      "2\n",
      "3\n",
      "4\n",
      "5\n",
      "6\n",
      "7\n",
      "8\n",
      "9\n",
      "10\n"
     ]
    }
   ],
   "source": [
    "i = 0\n",
    "while i <=10:\n",
    "    print(i)\n",
    "    i+=1"
   ]
  },
  {
   "cell_type": "code",
   "execution_count": 22,
   "id": "64af1bfe-2d8a-44ba-8f43-566e760d9387",
   "metadata": {},
   "outputs": [
    {
     "name": "stdout",
     "output_type": "stream",
     "text": [
      "0\n",
      "1\n",
      "2\n",
      "3\n",
      "4\n",
      "5\n",
      "6\n",
      "7\n",
      "8\n",
      "9\n",
      "10\n"
     ]
    }
   ],
   "source": [
    "i = 0\n",
    "n = 10\n",
    "while i <= n:\n",
    "    print(i)\n",
    "    i+=1"
   ]
  },
  {
   "cell_type": "code",
   "execution_count": 23,
   "id": "6311a909-5855-4adf-9f43-9394e15abccb",
   "metadata": {},
   "outputs": [
    {
     "name": "stdout",
     "output_type": "stream",
     "text": [
      "1\n",
      "2\n",
      "3\n",
      "4\n",
      "5\n",
      "6\n",
      "7\n",
      "8\n",
      "9\n",
      "10\n",
      "11\n",
      "12\n",
      "13\n",
      "14\n",
      "15\n",
      "16\n",
      "17\n",
      "18\n",
      "19\n"
     ]
    }
   ],
   "source": [
    "i = 1\n",
    "n = 20\n",
    "while i < n:\n",
    "    print(i)\n",
    "    i+=1"
   ]
  },
  {
   "cell_type": "code",
   "execution_count": 39,
   "id": "f3855adc-b2f4-427d-8c8c-0336e04b0f91",
   "metadata": {},
   "outputs": [
    {
     "name": "stdin",
     "output_type": "stream",
     "text": [
      "Enter a number here: 5\n"
     ]
    },
    {
     "name": "stdout",
     "output_type": "stream",
     "text": [
      "5 x 1 = 5\n",
      "5 x 2 = 10\n",
      "5 x 3 = 15\n",
      "5 x 4 = 20\n",
      "5 x 5 = 25\n"
     ]
    }
   ],
   "source": [
    "n = int(input(\"Enter a number here:\"))\n",
    "i = 1\n",
    "while i <= n:\n",
    "    print(n,\"x\",i,\"=\",i*n)\n",
    "\n",
    "    i+=1"
   ]
  },
  {
   "cell_type": "code",
   "execution_count": 46,
   "id": "fd958665-7b48-440c-a706-a1739efdb886",
   "metadata": {},
   "outputs": [
    {
     "name": "stdout",
     "output_type": "stream",
     "text": [
      "0 0\n",
      "1 1\n",
      "2 3\n",
      "3 6\n",
      "4 10\n",
      "5 15\n",
      "6 21\n",
      "7 28\n",
      "8 36\n",
      "9 45\n",
      "45\n"
     ]
    }
   ],
   "source": [
    "n = 10\n",
    "i = 0\n",
    "a = 0\n",
    "while i < n:\n",
    "    a+=i\n",
    "    print(i,a)\n",
    "    i+=1\n",
    "print(a)"
   ]
  },
  {
   "cell_type": "code",
   "execution_count": 50,
   "id": "d6794e73-3a16-4c60-89d8-bf80a748580c",
   "metadata": {},
   "outputs": [
    {
     "name": "stdin",
     "output_type": "stream",
     "text": [
      "Enter a number here: 20\n"
     ]
    },
    {
     "name": "stdout",
     "output_type": "stream",
     "text": [
      "0 0\n",
      "1 1\n",
      "2 3\n",
      "3 6\n",
      "4 10\n",
      "5 15\n",
      "6 21\n",
      "7 28\n",
      "8 36\n",
      "9 45\n",
      "10 55\n",
      "11 66\n",
      "12 78\n",
      "13 91\n",
      "14 105\n",
      "15 120\n",
      "16 136\n",
      "17 153\n",
      "18 171\n",
      "19 190\n",
      "190\n"
     ]
    }
   ],
   "source": [
    "n = int(input(\"Enter a number here:\"))\n",
    "i = 0\n",
    "a = 0\n",
    "while i < n:\n",
    "    a+=i\n",
    "    print(i,a)\n",
    "    i+=1\n",
    "print(a)"
   ]
  },
  {
   "cell_type": "code",
   "execution_count": 57,
   "id": "31385e38-68b3-4a84-b921-58325a272123",
   "metadata": {},
   "outputs": [
    {
     "name": "stdout",
     "output_type": "stream",
     "text": [
      "4650\n"
     ]
    }
   ],
   "source": [
    "i = 25\n",
    "n  = 100\n",
    "a = 0\n",
    "while i < n:\n",
    "    a+=i\n",
    "    i+=1\n",
    "print(a)"
   ]
  },
  {
   "cell_type": "code",
   "execution_count": 61,
   "id": "19eaabb8-9639-45ee-ab7e-436a5328823a",
   "metadata": {},
   "outputs": [
    {
     "name": "stdout",
     "output_type": "stream",
     "text": [
      "10 10\n",
      "11 21\n",
      "12 33\n",
      "13 46\n",
      "14 60\n",
      "15 75\n",
      "16 91\n",
      "17 108\n",
      "18 126\n",
      "19 145\n",
      "145\n"
     ]
    }
   ],
   "source": [
    "i = 10\n",
    "n = 20\n",
    "a = 0\n",
    "while i < n:\n",
    "    a+=i\n",
    "    print(i,a)\n",
    "    i+=1\n",
    "print(a)"
   ]
  },
  {
   "cell_type": "code",
   "execution_count": 62,
   "id": "82256f51-aa7d-48ac-b578-5034bd243c0e",
   "metadata": {},
   "outputs": [
    {
     "data": {
      "text/plain": [
       "7"
      ]
     },
     "execution_count": 62,
     "metadata": {},
     "output_type": "execute_result"
    }
   ],
   "source": [
    "name = \"saransh\"\n",
    "len(name)"
   ]
  },
  {
   "cell_type": "code",
   "execution_count": 66,
   "id": "24936587-50d4-4176-ba15-d6e33e204357",
   "metadata": {},
   "outputs": [
    {
     "name": "stdout",
     "output_type": "stream",
     "text": [
      "0\n",
      "1\n",
      "2\n",
      "3\n",
      "4\n",
      "5\n",
      "6\n"
     ]
    }
   ],
   "source": [
    "i = 0\n",
    "n = len(name)\n",
    "while i < n:\n",
    "    print(i)\n",
    "    i+=1"
   ]
  },
  {
   "cell_type": "code",
   "execution_count": 70,
   "id": "eb8cd2bb-2f07-42ad-a3d6-b29283794fed",
   "metadata": {},
   "outputs": [
    {
     "name": "stdout",
     "output_type": "stream",
     "text": [
      "s\n",
      "a\n",
      "r\n",
      "a\n",
      "n\n",
      "s\n",
      "h\n"
     ]
    }
   ],
   "source": [
    "i = 0\n",
    "n =len(name)\n",
    "while i < n:\n",
    "    print(name[i])\n",
    "    i+=1"
   ]
  },
  {
   "cell_type": "code",
   "execution_count": 3,
   "id": "83042f34-8f96-4100-bdd7-6b5af01ca257",
   "metadata": {},
   "outputs": [
    {
     "name": "stdout",
     "output_type": "stream",
     "text": [
      "1 0\n",
      "2 1\n",
      "3 3\n",
      "4 6\n",
      "5 10\n",
      "6 15\n",
      "7 21\n",
      "8 28\n",
      "9 36\n",
      "10 45\n",
      "50 55\n",
      "55\n"
     ]
    }
   ],
   "source": [
    "l = [1,2,3,4,5,6,7,8,9,10,50]\n",
    "i = 0\n",
    "n = len(l)\n",
    "a = 0\n",
    "while i < n:\n",
    "    a+=i\n",
    "    print(l[i],a)\n",
    "    i+=1\n",
    "print(a)"
   ]
  },
  {
   "cell_type": "code",
   "execution_count": 7,
   "id": "ef47f51e-277b-4e5e-9e2b-9fb15990db33",
   "metadata": {},
   "outputs": [
    {
     "name": "stdout",
     "output_type": "stream",
     "text": [
      "[2, 3, 4, 6, 9, 5, 7, 8]\n"
     ]
    }
   ],
   "source": [
    "num = [2,3,4,6,9,5,7,8]\n",
    "print(num)"
   ]
  },
  {
   "cell_type": "code",
   "execution_count": 52,
   "id": "efe3cfda-44b1-45f3-9906-cb54bac2494f",
   "metadata": {},
   "outputs": [
    {
     "ename": "KeyboardInterrupt",
     "evalue": "",
     "output_type": "error",
     "traceback": [
      "\u001b[1;31m---------------------------------------------------------------------------\u001b[0m",
      "\u001b[1;31mKeyboardInterrupt\u001b[0m                         Traceback (most recent call last)",
      "Cell \u001b[1;32mIn[52], line 5\u001b[0m\n\u001b[0;32m      3\u001b[0m n \u001b[38;5;241m=\u001b[39m \u001b[38;5;28mlen\u001b[39m(num)\n\u001b[0;32m      4\u001b[0m a \u001b[38;5;241m=\u001b[39m \u001b[38;5;241m0\u001b[39m \n\u001b[1;32m----> 5\u001b[0m \u001b[38;5;28;01mwhile\u001b[39;00m i \u001b[38;5;241m<\u001b[39m n:\n\u001b[0;32m      6\u001b[0m     \u001b[38;5;28;01mif\u001b[39;00m num[i] \u001b[38;5;241m>\u001b[39m num[a]:\n\u001b[0;32m      7\u001b[0m         a \u001b[38;5;241m=\u001b[39m i\n",
      "\u001b[1;31mKeyboardInterrupt\u001b[0m: "
     ]
    }
   ],
   "source": [
    "num = [2,3,4,6,9,5,7,8]\n",
    "i = 0\n",
    "n = len(num)\n",
    "a = 0 \n",
    "while i < n:\n",
    "    if num[i] > num[a]:\n",
    "        a = i\n",
    "        i+=1\n",
    "print(a,num[a])"
   ]
  },
  {
   "cell_type": "code",
   "execution_count": 59,
   "id": "3d02a228-0a58-4148-bf4c-3e444e688465",
   "metadata": {},
   "outputs": [
    {
     "name": "stdout",
     "output_type": "stream",
     "text": [
      "3 10\n"
     ]
    }
   ],
   "source": [
    "li = [4,5,8,10,2,5,7]\n",
    "i = 0\n",
    "n = len(li)\n",
    "a = 0\n",
    "while i < n:\n",
    "    if li[i] > li[a]:\n",
    "      a = i\n",
    "    i+=1                          # indexing and number of list\n",
    "print(a,li[a])"
   ]
  },
  {
   "cell_type": "code",
   "execution_count": 12,
   "id": "214ffcfb-1caa-4a2e-bac9-20daf5870ae9",
   "metadata": {},
   "outputs": [
    {
     "name": "stdout",
     "output_type": "stream",
     "text": [
      "Saransh\n"
     ]
    }
   ],
   "source": [
    "name = \"Saransh\"\n",
    "print(name)"
   ]
  },
  {
   "cell_type": "code",
   "execution_count": 13,
   "id": "35ca44e0-bb12-4e72-b6cc-429cb52dc2cf",
   "metadata": {},
   "outputs": [
    {
     "name": "stdout",
     "output_type": "stream",
     "text": [
      "Saransh\n",
      "Saransh\n",
      "Saransh\n",
      "Saransh\n",
      "Saransh\n",
      "Saransh\n",
      "Saransh\n"
     ]
    }
   ],
   "source": [
    "i = 0\n",
    "n = len(name)\n",
    "while i < n:\n",
    "    print(name)\n",
    "    i+=1"
   ]
  },
  {
   "cell_type": "code",
   "execution_count": 15,
   "id": "0cb37431-769a-43d3-aee1-574497da7ffb",
   "metadata": {},
   "outputs": [
    {
     "name": "stdout",
     "output_type": "stream",
     "text": [
      "S\n",
      "a\n",
      "r\n",
      "a\n",
      "n\n",
      "s\n",
      "h\n"
     ]
    }
   ],
   "source": [
    "i = 0\n",
    "n = len(name)\n",
    "while i < n:\n",
    "    print(name[i])\n",
    "    i+=1"
   ]
  },
  {
   "cell_type": "code",
   "execution_count": 16,
   "id": "5f4e1802-c4b1-4501-8539-fa96a4164e04",
   "metadata": {},
   "outputs": [
    {
     "name": "stdout",
     "output_type": "stream",
     "text": [
      "0\n",
      "1\n",
      "2\n",
      "3\n",
      "4\n",
      "5\n",
      "6\n"
     ]
    }
   ],
   "source": [
    "i = 0\n",
    "n = len(name)\n",
    "while i < n:\n",
    "    print(i)\n",
    "    i+=1"
   ]
  },
  {
   "cell_type": "code",
   "execution_count": 17,
   "id": "232499e2-3112-4776-b31e-25a26b0c862a",
   "metadata": {},
   "outputs": [
    {
     "name": "stdout",
     "output_type": "stream",
     "text": [
      "{'name': 'Saransh', 'Age': 24, 'Education': 'Btech'}\n"
     ]
    }
   ],
   "source": [
    "dict = {\"name\":\"Saransh\",\"Age\":24,\"Education\":\"Btech\"}\n",
    "print(dict)"
   ]
  },
  {
   "cell_type": "code",
   "execution_count": 18,
   "id": "66889d4a-856e-490a-9c15-d458f561937d",
   "metadata": {},
   "outputs": [
    {
     "data": {
      "text/plain": [
       "dict_keys(['name', 'Age', 'Education'])"
      ]
     },
     "execution_count": 18,
     "metadata": {},
     "output_type": "execute_result"
    }
   ],
   "source": [
    "dict.keys()"
   ]
  },
  {
   "cell_type": "code",
   "execution_count": 19,
   "id": "6e3ed994-4fb6-47fd-a278-20f7154048b6",
   "metadata": {},
   "outputs": [
    {
     "data": {
      "text/plain": [
       "dict_values(['Saransh', 24, 'Btech'])"
      ]
     },
     "execution_count": 19,
     "metadata": {},
     "output_type": "execute_result"
    }
   ],
   "source": [
    "dict.values()"
   ]
  },
  {
   "cell_type": "code",
   "execution_count": 31,
   "id": "7ecbd789-9f79-4583-a59d-fbcfd9ba20d6",
   "metadata": {},
   "outputs": [
    {
     "data": {
      "text/plain": [
       "'S'"
      ]
     },
     "execution_count": 31,
     "metadata": {},
     "output_type": "execute_result"
    }
   ],
   "source": [
    "dict[\"name\"][0]"
   ]
  },
  {
   "cell_type": "code",
   "execution_count": 33,
   "id": "cbc47fcc-7a6b-4a76-a76e-7022ecc61fed",
   "metadata": {},
   "outputs": [
    {
     "data": {
      "text/plain": [
       "24"
      ]
     },
     "execution_count": 33,
     "metadata": {},
     "output_type": "execute_result"
    }
   ],
   "source": [
    "dict[\"Age\"]"
   ]
  },
  {
   "cell_type": "code",
   "execution_count": 39,
   "id": "c097827a-663d-453a-9dd7-292fd28ce451",
   "metadata": {},
   "outputs": [
    {
     "data": {
      "text/plain": [
       "'Btec'"
      ]
     },
     "execution_count": 39,
     "metadata": {},
     "output_type": "execute_result"
    }
   ],
   "source": [
    "dict[\"Education\"][0:4]"
   ]
  },
  {
   "cell_type": "code",
   "execution_count": 45,
   "id": "5fcc5091-e188-4d00-84f4-810767058bbe",
   "metadata": {},
   "outputs": [
    {
     "name": "stdout",
     "output_type": "stream",
     "text": [
      "name\n",
      "Age\n",
      "Education\n",
      "['name', 'Age', 'Education']\n"
     ]
    }
   ],
   "source": [
    "dict = {\"name\":\"Saransh\",\"Age\":24,\"Education\":\"Btech\"}\n",
    "i = 0\n",
    "n = len(dict)\n",
    "a = list(dict.keys()) \n",
    "while i < n:\n",
    "    key= a[i]\n",
    "    print(key)\n",
    "    i+=1\n",
    "print(a)   "
   ]
  },
  {
   "cell_type": "code",
   "execution_count": 48,
   "id": "54893d3c-a1ad-4d07-b482-e517c034312d",
   "metadata": {},
   "outputs": [
    {
     "name": "stdout",
     "output_type": "stream",
     "text": [
      "('saransh', 'vishal', 'verma', 'ayush')\n"
     ]
    }
   ],
   "source": [
    "tup = (\"saransh\",\"vishal\",\"verma\",\"ayush\")\n",
    "print(tup)"
   ]
  },
  {
   "cell_type": "code",
   "execution_count": 52,
   "id": "4006a9b0-3929-460b-a2b9-4fbe8594e816",
   "metadata": {},
   "outputs": [
    {
     "name": "stdout",
     "output_type": "stream",
     "text": [
      "sar\n",
      "vis\n",
      "ver\n",
      "ayu\n"
     ]
    }
   ],
   "source": [
    "tup = (\"saransh\",\"vishal\",\"verma\",\"ayush\")\n",
    "i = 0\n",
    "n = len(tup)\n",
    "while i < n:\n",
    "    print(tup[i][0:3])\n",
    "    i+=1"
   ]
  },
  {
   "cell_type": "code",
   "execution_count": 56,
   "id": "6d33ba11-a1ad-4007-b462-9f289c0150fb",
   "metadata": {},
   "outputs": [
    {
     "name": "stdout",
     "output_type": "stream",
     "text": [
      "1\n",
      "2\n",
      "9\n",
      "8\n",
      "3\n",
      "4\n",
      "5\n",
      "6\n",
      "7\n",
      "42\n",
      "87\n"
     ]
    }
   ],
   "source": [
    "li = [1,2,9,8,3,4,5,6,7,42]\n",
    "i = 0\n",
    "n = len(li)\n",
    "a = 0\n",
    "while i < n:\n",
    "    a += li[i]\n",
    "    print(li[i])\n",
    "    i+=1\n",
    "print(a)"
   ]
  },
  {
   "cell_type": "markdown",
   "id": "e58b7ffb-5d6b-4bae-a985-5d9993e401f6",
   "metadata": {},
   "source": [
    "# middle number"
   ]
  },
  {
   "cell_type": "code",
   "execution_count": 65,
   "id": "bf2af39b-394b-4e08-8e4e-61fc08cccf12",
   "metadata": {},
   "outputs": [
    {
     "name": "stdout",
     "output_type": "stream",
     "text": [
      "[2, 3, 4, 5, 6, 7, 8, 9]\n"
     ]
    }
   ],
   "source": [
    "num = [2,3,4,6,9,5,7,8]\n",
    "num.sort()\n",
    "print(num)"
   ]
  },
  {
   "cell_type": "code",
   "execution_count": 66,
   "id": "c3b00ee1-5a2e-4ce6-b0b6-a859fa067ade",
   "metadata": {},
   "outputs": [
    {
     "data": {
      "text/plain": [
       "8"
      ]
     },
     "execution_count": 66,
     "metadata": {},
     "output_type": "execute_result"
    }
   ],
   "source": [
    "len(num)"
   ]
  },
  {
   "cell_type": "code",
   "execution_count": 67,
   "id": "ce59d7e6-9a64-401e-bb13-7c71cf09226d",
   "metadata": {},
   "outputs": [
    {
     "data": {
      "text/plain": [
       "4"
      ]
     },
     "execution_count": 67,
     "metadata": {},
     "output_type": "execute_result"
    }
   ],
   "source": [
    "len(num)//2"
   ]
  },
  {
   "cell_type": "markdown",
   "id": "f748312c-bf7c-47cb-ae08-376dffa14924",
   "metadata": {},
   "source": [
    "# ascending and descending number"
   ]
  },
  {
   "cell_type": "code",
   "execution_count": 80,
   "id": "613d4845-1f05-41da-ac52-a16781e6ad1b",
   "metadata": {},
   "outputs": [
    {
     "name": "stdout",
     "output_type": "stream",
     "text": [
      "[2, 3, 4, 5, 8, 9, 10, 12, 22]\n"
     ]
    }
   ],
   "source": [
    "l = [2,3,4,5,9,8,10,22,12]                 # Ascending order\n",
    "l.sort()\n",
    "print(l)"
   ]
  },
  {
   "cell_type": "code",
   "execution_count": 81,
   "id": "aec53b77-591b-4bea-a10a-6fb0e5f5454a",
   "metadata": {},
   "outputs": [
    {
     "name": "stdout",
     "output_type": "stream",
     "text": [
      "[22, 12, 10, 9, 8, 5, 4, 3, 2]\n"
     ]
    }
   ],
   "source": [
    "l.sort(reverse = True)                       # descending order\n",
    "print(l)"
   ]
  },
  {
   "cell_type": "code",
   "execution_count": 92,
   "id": "9ad25399-e7b6-4411-8b8c-d9b93ed33bef",
   "metadata": {},
   "outputs": [
    {
     "name": "stdout",
     "output_type": "stream",
     "text": [
      "[22, 12, 10, 9, 8, 5, 4, 3, 2, 'S', 'a', 'r', 'a', 'n', 's', 'h', 'S', 'a', 'r', 'a', 'n', 's', 'h', 'Saransh', 'Saransh']\n"
     ]
    }
   ],
   "source": [
    "l.append(\"Saransh\")\n",
    "print(l)"
   ]
  },
  {
   "cell_type": "code",
   "execution_count": 101,
   "id": "9de3f788-c835-4e9b-9913-65a6c60f1503",
   "metadata": {},
   "outputs": [
    {
     "data": {
      "text/plain": [
       "'Saransh'"
      ]
     },
     "execution_count": 101,
     "metadata": {},
     "output_type": "execute_result"
    }
   ],
   "source": [
    "l.pop()\n"
   ]
  },
  {
   "cell_type": "code",
   "execution_count": 104,
   "id": "ea8ba005-fdd6-4136-99d2-9ad8465ac7d6",
   "metadata": {},
   "outputs": [],
   "source": [
    "l.clear()"
   ]
  },
  {
   "cell_type": "code",
   "execution_count": 106,
   "id": "6e4953d2-344c-4bd3-a32d-c622fc8fa1f4",
   "metadata": {},
   "outputs": [
    {
     "data": {
      "text/plain": [
       "list"
      ]
     },
     "execution_count": 106,
     "metadata": {},
     "output_type": "execute_result"
    }
   ],
   "source": [
    "type(l)"
   ]
  },
  {
   "cell_type": "code",
   "execution_count": 107,
   "id": "dbcd35e9-d639-4c42-abb8-c4c48125437b",
   "metadata": {},
   "outputs": [
    {
     "data": {
      "text/plain": [
       "[]"
      ]
     },
     "execution_count": 107,
     "metadata": {},
     "output_type": "execute_result"
    }
   ],
   "source": [
    "l"
   ]
  },
  {
   "cell_type": "markdown",
   "id": "ef6490f8-de41-45ea-92e8-eea3997eef49",
   "metadata": {},
   "source": [
    "# Prime number "
   ]
  },
  {
   "cell_type": "code",
   "execution_count": 5,
   "id": "322ff19a-449a-4a79-a49b-de5555b1a4e1",
   "metadata": {},
   "outputs": [
    {
     "name": "stdout",
     "output_type": "stream",
     "text": [
      "2 is a prime number\n"
     ]
    }
   ],
   "source": [
    "num = 2\n",
    "prime = True\n",
    "i = 2\n",
    "while i < num:\n",
    "    if num % i == 0:\n",
    "        prime = False\n",
    "        break\n",
    "    i+=1\n",
    "if prime:\n",
    "    print(f\"{num} is a prime number\")\n",
    "else:\n",
    "    print(f\"{num} is not a prime number\")"
   ]
  },
  {
   "cell_type": "code",
   "execution_count": 10,
   "id": "b61cb259-d4bb-4930-a05c-f2f7ff13c8f4",
   "metadata": {},
   "outputs": [],
   "source": [
    "# factors"
   ]
  },
  {
   "cell_type": "code",
   "execution_count": 11,
   "id": "dd8ea6bc-f6f7-4937-acc0-aff4a0b60f90",
   "metadata": {},
   "outputs": [
    {
     "name": "stdin",
     "output_type": "stream",
     "text": [
      "Enter your number 24\n"
     ]
    },
    {
     "name": "stdout",
     "output_type": "stream",
     "text": [
      "1\n",
      "2\n",
      "3\n",
      "4\n",
      "6\n",
      "8\n",
      "12\n"
     ]
    }
   ],
   "source": [
    "n = int(input(\"Enter your number\"))\n",
    "i = 1\n",
    "while i < n:\n",
    "    if n%i == 0:\n",
    "        print(i)\n",
    "    i+=1"
   ]
  },
  {
   "cell_type": "code",
   "execution_count": 33,
   "id": "4b14c25f-36ad-41e0-a597-3afdddbe4f7b",
   "metadata": {},
   "outputs": [],
   "source": [
    "# with append function"
   ]
  },
  {
   "cell_type": "code",
   "execution_count": 35,
   "id": "c8bde4b5-8c1d-47bb-9eda-3620e33f6495",
   "metadata": {},
   "outputs": [
    {
     "name": "stdin",
     "output_type": "stream",
     "text": [
      "Enter your number 24\n"
     ]
    },
    {
     "name": "stdout",
     "output_type": "stream",
     "text": [
      "[1, 2, 3, 4, 6, 8, 12, 24]\n"
     ]
    }
   ],
   "source": [
    "n = int(input(\"Enter your number\"))\n",
    "i = 1\n",
    "l =[]\n",
    "while i <= n:\n",
    "    if n % i == 0:\n",
    "        l.append(i)\n",
    "    i+=1\n",
    "print(l)"
   ]
  },
  {
   "cell_type": "code",
   "execution_count": 32,
   "id": "51892b31-559c-449c-ba2c-d72d6501bb13",
   "metadata": {},
   "outputs": [
    {
     "data": {
      "text/plain": [
       "[1, 2, 3, 4, 6, 8, 12, 24]"
      ]
     },
     "execution_count": 32,
     "metadata": {},
     "output_type": "execute_result"
    }
   ],
   "source": [
    "l"
   ]
  },
  {
   "cell_type": "code",
   "execution_count": 215,
   "id": "3bbc1207-0b15-4fa3-b018-eeca8045f95a",
   "metadata": {},
   "outputs": [
    {
     "name": "stdin",
     "output_type": "stream",
     "text": [
      "Enter your number 24\n"
     ]
    },
    {
     "name": "stdout",
     "output_type": "stream",
     "text": [
      "24 % 1 = 24.0\n",
      "24 % 2 = 12.0\n",
      "24 % 3 = 8.0\n",
      "24 % 4 = 6.0\n",
      "24 % 6 = 4.0\n",
      "24 % 8 = 3.0\n",
      "24 % 12 = 2.0\n",
      "24 % 24 = 1.0\n",
      "[1, 2, 3, 4, 6, 8, 12, 24]\n"
     ]
    }
   ],
   "source": [
    "n = int(input(\"Enter your number\"))\n",
    "i = 1\n",
    "l =[]\n",
    "while i <= n:\n",
    "    if n % i == 0:\n",
    "        print(n,\"%\",i,\"=\",n/i)\n",
    "        l.append(i)\n",
    "    i+=1\n",
    "print(l)"
   ]
  },
  {
   "cell_type": "code",
   "execution_count": 206,
   "id": "0764cc39-85e9-4065-ab47-212f53b8cd2b",
   "metadata": {},
   "outputs": [
    {
     "name": "stdin",
     "output_type": "stream",
     "text": [
      "Enter your number 24\n"
     ]
    },
    {
     "name": "stdout",
     "output_type": "stream",
     "text": [
      "24 % 8 = 3.0\n",
      "24 % 12 = 2.0\n",
      "24 % 24 = 1.0\n",
      "[8, 12, 24]\n"
     ]
    }
   ],
   "source": [
    "n = int(input(\"Enter your number\"))\n",
    "i = 7\n",
    "l =[]\n",
    "while i <= n:\n",
    "    if n % i == 0:    \n",
    "        print(n,\"%\",i,\"=\",n/i)\n",
    "        l.append(i)\n",
    "    i+=1\n",
    "print(l)\n"
   ]
  },
  {
   "cell_type": "markdown",
   "id": "44d39a6d-5dab-4017-9a14-76029cb7985b",
   "metadata": {},
   "source": [
    "# second largest number"
   ]
  },
  {
   "cell_type": "code",
   "execution_count": 242,
   "id": "3fb3ed5d-3d18-4546-a693-23b3f60539c5",
   "metadata": {},
   "outputs": [
    {
     "name": "stdout",
     "output_type": "stream",
     "text": [
      "0\n",
      "1\n",
      "2\n",
      "3\n",
      "4\n",
      "5\n",
      "6\n",
      "7\n",
      "8\n",
      "10 9\n"
     ]
    }
   ],
   "source": [
    "a = [2,5,6,9,4,3,7,10,8]\n",
    "l = a[0]\n",
    "s = a[0]\n",
    "i = 0\n",
    "n =len(a)\n",
    "while i < n:\n",
    "   # print(i)\n",
    "    if a[i] > l:\n",
    "        s = l\n",
    "        l = a[i]\n",
    "    elif a[i] > s:\n",
    "        s = a[i]\n",
    "    i+=1\n",
    "print(l,s)"
   ]
  },
  {
   "cell_type": "code",
   "execution_count": 3,
   "id": "bab000fa-341c-486c-9de4-96db5fdc5860",
   "metadata": {},
   "outputs": [
    {
     "name": "stdout",
     "output_type": "stream",
     "text": [
      "0\n",
      "1\n",
      "2\n",
      "3\n",
      "4\n",
      "5\n",
      "6\n",
      "7\n",
      "8\n",
      "9\n"
     ]
    }
   ],
   "source": [
    "i = 0\n",
    "n = 10\n",
    "while i< n:\n",
    "    print(i)\n",
    "    i+=1"
   ]
  },
  {
   "cell_type": "code",
   "execution_count": 32,
   "id": "edbd7760-f709-4584-bcc7-b719272ed266",
   "metadata": {},
   "outputs": [
    {
     "data": {
      "text/plain": [
       "[1, 2, 3, 4, 5, 6, 7, 8, 9, 10, 50, 60]"
      ]
     },
     "execution_count": 32,
     "metadata": {},
     "output_type": "execute_result"
    }
   ],
   "source": [
    "l = [1,2,3,4,5,6,7,8,9,10,50,60]\n",
    "l"
   ]
  },
  {
   "cell_type": "code",
   "execution_count": 33,
   "id": "3628a14c-ceac-4098-90bf-d3aff77d6b05",
   "metadata": {},
   "outputs": [
    {
     "name": "stdout",
     "output_type": "stream",
     "text": [
      "1 0\n",
      "2 1\n",
      "3 3\n",
      "4 6\n",
      "5 10\n",
      "6 15\n",
      "7 21\n",
      "8 28\n",
      "9 36\n",
      "10 45\n",
      "50 55\n",
      "60 66\n",
      "66\n"
     ]
    }
   ],
   "source": [
    "i = 0\n",
    "n = len(l)\n",
    "a = 0\n",
    "while i < n:\n",
    "    a += i\n",
    "    print(l[i],a)\n",
    "    i+=1\n",
    "print(a)"
   ]
  },
  {
   "cell_type": "code",
   "execution_count": 53,
   "id": "0f269f55-78df-448f-8e7b-c068da2034d4",
   "metadata": {},
   "outputs": [
    {
     "name": "stdout",
     "output_type": "stream",
     "text": [
      "['Saransh', 'Gautam', 'abhishek', 'sujal']\n"
     ]
    }
   ],
   "source": [
    "name = [\"Saransh\",\"Gautam\",\"abhishek\",\"sujal\"]\n",
    "print(name)"
   ]
  },
  {
   "cell_type": "code",
   "execution_count": 55,
   "id": "d4537c6e-847f-4960-aa1a-f1c59f21cf77",
   "metadata": {},
   "outputs": [
    {
     "name": "stdout",
     "output_type": "stream",
     "text": [
      "Saransh Gautam abhishek sujal "
     ]
    }
   ],
   "source": [
    "i = 0\n",
    "n = len(name)\n",
    "while i < n:\n",
    "    print(name[i],end =\" \")\n",
    "    i+=1"
   ]
  },
  {
   "cell_type": "code",
   "execution_count": 101,
   "id": "04725099-0764-4804-b764-0a55434a7ba1",
   "metadata": {},
   "outputs": [
    {
     "name": "stdout",
     "output_type": "stream",
     "text": [
      "3 10\n"
     ]
    }
   ],
   "source": [
    "l = [4,5,8,10,2,5,7]\n",
    "i = 0\n",
    "n = len(l)\n",
    "a = 2\n",
    "while i < n:\n",
    "    if l[i] > l[a]:\n",
    "      a=i\n",
    "    i+=1\n",
    "print(a,l[a])           # indexing with numbering"
   ]
  },
  {
   "cell_type": "code",
   "execution_count": 102,
   "id": "f92e7c2e-edc8-4338-a31d-68d6891f8234",
   "metadata": {},
   "outputs": [
    {
     "name": "stdout",
     "output_type": "stream",
     "text": [
      "2 8\n"
     ]
    }
   ],
   "source": [
    "l = [4,5,8,10,2,5,7]\n",
    "i = 0\n",
    "n = len(l)\n",
    "a = 2\n",
    "while i < n:\n",
    "    if l[i] < l[a]:\n",
    "        a ==i\n",
    "    i+=1\n",
    "print(a,l[a])"
   ]
  },
  {
   "cell_type": "code",
   "execution_count": 125,
   "id": "0233376c-eca4-4681-9f49-24a4d646805f",
   "metadata": {},
   "outputs": [
    {
     "name": "stdout",
     "output_type": "stream",
     "text": [
      "4 14\n"
     ]
    }
   ],
   "source": [
    "name = [10,11,12,13,14]\n",
    "i = 0\n",
    "n = len(name)\n",
    "a = 0\n",
    "while i < n:\n",
    "    if name[i] > name[a]:\n",
    "        a = i\n",
    "    i+=1\n",
    "print(a,name[a])"
   ]
  },
  {
   "cell_type": "code",
   "execution_count": 126,
   "id": "58e75d9e-87c3-477a-b8e4-e02bc5ca4fe0",
   "metadata": {},
   "outputs": [],
   "source": [
    "# factors"
   ]
  },
  {
   "cell_type": "code",
   "execution_count": 135,
   "id": "2d70d6c8-6c9b-49f4-a50b-6dccbda9e064",
   "metadata": {},
   "outputs": [
    {
     "name": "stdout",
     "output_type": "stream",
     "text": [
      "1\n",
      "2\n",
      "3\n",
      "4\n",
      "6\n",
      "8\n",
      "12\n"
     ]
    }
   ],
   "source": [
    "i = 1\n",
    "n = 24\n",
    "while i < n:\n",
    "    if n % i == 0:\n",
    "        print(i)\n",
    "    i+=1"
   ]
  },
  {
   "cell_type": "code",
   "execution_count": 136,
   "id": "6034b61b-9ef0-4705-bd02-1a66438a38b3",
   "metadata": {},
   "outputs": [
    {
     "name": "stdout",
     "output_type": "stream",
     "text": [
      "1\n",
      "2\n",
      "4\n",
      "5\n",
      "10\n",
      "20\n",
      "25\n",
      "50\n"
     ]
    }
   ],
   "source": [
    "i = 1\n",
    "n = 100\n",
    "while i < n:\n",
    "    if n % i == 0:\n",
    "        print(i)\n",
    "    i+=1"
   ]
  },
  {
   "cell_type": "code",
   "execution_count": 145,
   "id": "14963c00-be5b-48b1-8834-9130d436272e",
   "metadata": {},
   "outputs": [
    {
     "name": "stdout",
     "output_type": "stream",
     "text": [
      "[10, 20, 30, 40, 50, 60, 70, 80, 90, 100, 1, 2, 5]\n"
     ]
    }
   ],
   "source": [
    "l = [10,20,30,40,50,60,70,80,90,100]\n",
    "i = 1\n",
    "n = len(l)\n",
    "while i < n:\n",
    "    if n % i == 0:\n",
    "        l.append(i)\n",
    "    i+=1\n",
    "print(l)"
   ]
  },
  {
   "cell_type": "code",
   "execution_count": 202,
   "id": "584a3656-5d94-4e6c-a122-765d2f1adf34",
   "metadata": {},
   "outputs": [
    {
     "name": "stdout",
     "output_type": "stream",
     "text": [
      "[200, 300, 500, 400, 600, 700, 800, 900, 2, 4]\n",
      "number is not a prime number\n"
     ]
    }
   ],
   "source": [
    "l = [200,300,500,400,600,700,800,900]\n",
    "i =  2\n",
    "n = len(l)\n",
    "while i < n:\n",
    "    if n % i == 0:\n",
    "        l.append(i)\n",
    "    i+=1\n",
    "print(l)\n",
    "if len(l) == 2:\n",
    "    print(\"number is prime\")\n",
    "else:\n",
    "    print(\"number is not a prime number\")"
   ]
  },
  {
   "cell_type": "code",
   "execution_count": 214,
   "id": "bb3b56f7-dde9-43ce-8ec3-41d5d371e353",
   "metadata": {},
   "outputs": [
    {
     "name": "stdin",
     "output_type": "stream",
     "text": [
      "Enter your number 24\n"
     ]
    },
    {
     "name": "stdout",
     "output_type": "stream",
     "text": [
      "24 x 1 = 24\n",
      "24 x 2 = 48\n",
      "24 x 3 = 72\n",
      "24 x 4 = 96\n",
      "24 x 6 = 144\n",
      "24 x 8 = 192\n",
      "24 x 12 = 288\n",
      "[1, 2, 3, 4, 6, 8, 12]\n"
     ]
    }
   ],
   "source": [
    "l = []\n",
    "i = 1\n",
    "n = int(input(\"Enter your number\"))\n",
    "while i < n:\n",
    "    if n % i == 0:\n",
    "        print(n,\"x\",i,\"=\",i*n)\n",
    "        l.append(i)\n",
    "    i+=1\n",
    "print(l)\n"
   ]
  },
  {
   "cell_type": "code",
   "execution_count": 241,
   "id": "a59ddea8-305a-4828-86d1-3041d7514526",
   "metadata": {},
   "outputs": [
    {
     "name": "stdin",
     "output_type": "stream",
     "text": [
      "Enter your number 25\n"
     ]
    },
    {
     "name": "stdout",
     "output_type": "stream",
     "text": [
      "25 x 1 = 25\n",
      "25 x 5 = 125\n",
      "[1, 5]\n"
     ]
    }
   ],
   "source": [
    "l = []\n",
    "i = 1\n",
    "n = int(input(\"Enter your number\"))\n",
    "while i < n:\n",
    "    if n % i == 0:\n",
    "        l.append(i)\n",
    "        print(n,\"x\",i,\"=\",i*n)\n",
    "    i+=1\n",
    "print(l)"
   ]
  },
  {
   "cell_type": "code",
   "execution_count": 269,
   "id": "b9d668b9-51c2-4d1e-9d4e-e7baa347f89a",
   "metadata": {},
   "outputs": [],
   "source": [
    "# lpop ke ander loop"
   ]
  },
  {
   "cell_type": "code",
   "execution_count": 270,
   "id": "e37765fe-40db-4830-abaf-1a7f1e43ddb2",
   "metadata": {},
   "outputs": [
    {
     "name": "stdout",
     "output_type": "stream",
     "text": [
      "01234\n",
      "01234\n",
      "01234\n",
      "01234\n",
      "01234\n"
     ]
    }
   ],
   "source": [
    "i = 0\n",
    "n = 5\n",
    "while i < n:\n",
    "    j = 0\n",
    "    m = 5\n",
    "    while j < m:\n",
    "        print(j ,end = \"\")\n",
    "        j+=1\n",
    "    print()\n",
    "    i+=1"
   ]
  },
  {
   "cell_type": "code",
   "execution_count": 271,
   "id": "783c89ef-4756-45ba-891d-c628c8d6091e",
   "metadata": {},
   "outputs": [
    {
     "name": "stdout",
     "output_type": "stream",
     "text": [
      "0000000\n",
      "1111111\n",
      "2222222\n",
      "3333333\n",
      "4444444\n",
      "5555555\n",
      "6666666\n"
     ]
    }
   ],
   "source": [
    "i = 0\n",
    "n = 7\n",
    "while i < n:\n",
    "    j = 0\n",
    "    m = 7\n",
    "    while j < m:\n",
    "        print(i,end =\"\")\n",
    "        j+=1\n",
    "    print()\n",
    "    i+=1"
   ]
  },
  {
   "cell_type": "code",
   "execution_count": 272,
   "id": "5949ff2e-c4d1-4ee4-9b28-0faffb0c7ccd",
   "metadata": {},
   "outputs": [
    {
     "name": "stdout",
     "output_type": "stream",
     "text": [
      "7777777\n",
      "7777777\n",
      "7777777\n",
      "7777777\n",
      "7777777\n",
      "7777777\n",
      "7777777\n"
     ]
    }
   ],
   "source": [
    "i = 0\n",
    "n = 7\n",
    "while i < n:\n",
    "    j = 0\n",
    "    m = 7\n",
    "    while j < m:\n",
    "        print( n,end= \"\")\n",
    "        j+=1\n",
    "    print()\n",
    "    i+=1"
   ]
  },
  {
   "cell_type": "code",
   "execution_count": 273,
   "id": "6ba0c798-bc48-4ee7-b9c8-5e110fe8007a",
   "metadata": {},
   "outputs": [
    {
     "name": "stdout",
     "output_type": "stream",
     "text": [
      "55555\n",
      "55555\n",
      "55555\n",
      "55555\n",
      "55555\n"
     ]
    }
   ],
   "source": [
    "i = 0\n",
    "n = 5\n",
    "while i < n:\n",
    "    j = 0\n",
    "    m = 5\n",
    "    while j < m:\n",
    "        print(m,end = \"\")\n",
    "        j+=1\n",
    "    print()\n",
    "    i+=1"
   ]
  },
  {
   "cell_type": "code",
   "execution_count": 52,
   "id": "9ae31e9d-62a6-4014-ae10-d1c6bd8cf830",
   "metadata": {},
   "outputs": [],
   "source": [
    "#Q1."
   ]
  },
  {
   "cell_type": "code",
   "execution_count": 19,
   "id": "dd619471-6e13-47b1-90b1-45d77f7216e1",
   "metadata": {},
   "outputs": [],
   "source": [
    "# sidha pattern"
   ]
  },
  {
   "cell_type": "code",
   "execution_count": 283,
   "id": "a34748bd-36da-4000-8ef3-2ac20a5f362e",
   "metadata": {},
   "outputs": [
    {
     "name": "stdout",
     "output_type": "stream",
     "text": [
      "\n",
      "1\n",
      "22\n",
      "333\n",
      "4444\n"
     ]
    }
   ],
   "source": [
    "i = 0\n",
    "n = 5\n",
    "while i < n:\n",
    "    j = 0\n",
    "    while j < i:\n",
    "        print(i,end = \"\")\n",
    "        j+=1\n",
    "    print()\n",
    "    i+=1"
   ]
  },
  {
   "cell_type": "code",
   "execution_count": 15,
   "id": "e6def1ba-5d0d-49a4-9683-5010b0909457",
   "metadata": {},
   "outputs": [
    {
     "name": "stdout",
     "output_type": "stream",
     "text": [
      "*\n",
      "**\n",
      "***\n",
      "****\n",
      "*****\n"
     ]
    }
   ],
   "source": [
    "i = 0\n",
    "n = 5\n",
    "while i < n :\n",
    "    j  = 0\n",
    "    while j < i+1:           # using i+1  0 se shuru hogi intial range\n",
    "        print(\"*\",end=\"\")\n",
    "        j+=1\n",
    "    print()\n",
    "    i+=1"
   ]
  },
  {
   "cell_type": "code",
   "execution_count": null,
   "id": "22c5a3cb-7d77-4081-955c-cbd34477b371",
   "metadata": {},
   "outputs": [],
   "source": [
    "# ulta  pattern"
   ]
  },
  {
   "cell_type": "code",
   "execution_count": 17,
   "id": "3920e50d-2ecc-4cbe-be70-1d5398087319",
   "metadata": {},
   "outputs": [
    {
     "name": "stdout",
     "output_type": "stream",
     "text": [
      "44444\n",
      "3333\n",
      "222\n",
      "11\n",
      "0\n"
     ]
    }
   ],
   "source": [
    "i = 0\n",
    "n = 5\n",
    "while i < n:\n",
    "    j = 0\n",
    "    while j < n-i:\n",
    "        print(n-i-1,end =\"\")\n",
    "        j+=1\n",
    "    print()\n",
    "    i+=1"
   ]
  },
  {
   "cell_type": "code",
   "execution_count": 18,
   "id": "36ca3f64-8780-489e-982d-53bb6e473dfb",
   "metadata": {},
   "outputs": [
    {
     "name": "stdout",
     "output_type": "stream",
     "text": [
      "*****\n",
      "****\n",
      "***\n",
      "**\n",
      "*\n"
     ]
    }
   ],
   "source": [
    "i = 0\n",
    "n = 5\n",
    "while i < n:\n",
    "    j = 0\n",
    "    while j < n-i:\n",
    "        print(\"*\",end =\"\")\n",
    "        j+=1\n",
    "    print()\n",
    "    i+=1"
   ]
  },
  {
   "cell_type": "code",
   "execution_count": null,
   "id": "f223b50a-23f9-494e-bf64-f944b478491c",
   "metadata": {},
   "outputs": [],
   "source": [
    "#Q2."
   ]
  },
  {
   "cell_type": "code",
   "execution_count": 49,
   "id": "c238e006-3432-4af0-ac79-2f864f35e9d5",
   "metadata": {},
   "outputs": [
    {
     "name": "stdout",
     "output_type": "stream",
     "text": [
      "*****\n",
      " *****\n",
      "  *****\n",
      "   *****\n",
      "    *****\n"
     ]
    }
   ],
   "source": [
    "i = 0\n",
    "n = 5\n",
    "while i < n:\n",
    "    k = 0\n",
    "    while k < i:\n",
    "        print(\" \",end=\"\")\n",
    "        k+=1\n",
    "    j = 0\n",
    "    while j < n:\n",
    "        print(\"*\",end=\"\")\n",
    "        j+=1\n",
    "    print()\n",
    "    i+=1"
   ]
  },
  {
   "cell_type": "code",
   "execution_count": 44,
   "id": "1c77c36b-adbc-4405-9966-181bd2502bd9",
   "metadata": {},
   "outputs": [
    {
     "name": "stdout",
     "output_type": "stream",
     "text": [
      "44444\n",
      " 33333\n",
      "  22222\n",
      "   11111\n",
      "    00000\n"
     ]
    }
   ],
   "source": [
    "i = 0\n",
    "n = 5\n",
    "while i < n:\n",
    "    k = 0\n",
    "    while k < i:\n",
    "        print(\" \",end=\"\")\n",
    "        k+=1\n",
    "    j = 0\n",
    "    while j < n:\n",
    "        print(n-i-1,end=\"\")\n",
    "        j+=1\n",
    "    print()\n",
    "    i+=1"
   ]
  },
  {
   "cell_type": "code",
   "execution_count": 46,
   "id": "a908a4d9-ff53-4d1c-928d-c421ef4dd4ec",
   "metadata": {},
   "outputs": [],
   "source": [
    "#opposite pattern"
   ]
  },
  {
   "cell_type": "code",
   "execution_count": 51,
   "id": "12414acd-5bcd-47dd-b661-1e271db1a119",
   "metadata": {},
   "outputs": [
    {
     "name": "stdout",
     "output_type": "stream",
     "text": [
      "     44444\n",
      "    33333\n",
      "   22222\n",
      "  11111\n",
      " 00000\n"
     ]
    }
   ],
   "source": [
    "i = 0\n",
    "n = 5\n",
    "while i < n:\n",
    "    k = 0\n",
    "    while k < n-i:\n",
    "        print(\" \",end=\"\")\n",
    "        k+=1\n",
    "    j = 0\n",
    "    while j < n:\n",
    "        print(n-i-1,end=\"\")\n",
    "        j+=1\n",
    "    print()\n",
    "    i+=1"
   ]
  },
  {
   "cell_type": "code",
   "execution_count": 1,
   "id": "617545dc-5b87-49aa-9312-c78a07534464",
   "metadata": {},
   "outputs": [
    {
     "name": "stdout",
     "output_type": "stream",
     "text": [
      "     *****\n",
      "    *****\n",
      "   *****\n",
      "  *****\n",
      " *****\n"
     ]
    }
   ],
   "source": [
    "i = 0\n",
    "n = 5\n",
    "while i < n:\n",
    "    k = 0\n",
    "    while k < n-i:\n",
    "        print(\" \",end=\"\")\n",
    "        k+=1\n",
    "    j = 0\n",
    "    while j < n:\n",
    "        print(\"*\",end=\"\")\n",
    "        j+=1\n",
    "    print()\n",
    "    i+=1"
   ]
  },
  {
   "cell_type": "code",
   "execution_count": 19,
   "id": "28f8ec33-ba12-4974-8937-876fab5b8c6c",
   "metadata": {},
   "outputs": [
    {
     "name": "stdout",
     "output_type": "stream",
     "text": [
      "    *\n",
      "   ***\n",
      "  *****\n",
      " *******\n",
      "*********\n",
      " *******\n",
      "  *****\n",
      "   ***\n",
      "    *\n"
     ]
    }
   ],
   "source": [
    "i = 0\n",
    "n = 5\n",
    "while i < n:\n",
    "    j = 0\n",
    "    while j < n-i-1:\n",
    "        print(\" \",end = \"\")\n",
    "        j+=1\n",
    "    k =0\n",
    "    while k < ((i+1)*2)-1:\n",
    "        print(\"*\",end = \"\")\n",
    "        k+=1\n",
    "        \n",
    "    print()\n",
    "    i+=1\n",
    "i = 0\n",
    "n = 4\n",
    "while i < n:\n",
    "    m = 0\n",
    "    while m < i+1:\n",
    "        print(\" \",end = \"\")\n",
    "        m+=1\n",
    "    s= 0\n",
    "    while s < (n-i)*2-1:\n",
    "        print(\"*\",end = \"\")\n",
    "        s+=1\n",
    "        \n",
    "    print()\n",
    "    i+=1"
   ]
  },
  {
   "cell_type": "code",
   "execution_count": 48,
   "id": "ec53bdd7-e793-4882-8e49-3a90fb7447dc",
   "metadata": {},
   "outputs": [
    {
     "name": "stdout",
     "output_type": "stream",
     "text": [
      "    *\n",
      "   ***\n",
      "  *****\n",
      " *******\n",
      "*********\n",
      " *******\n",
      "  *****\n",
      "   ***\n",
      "    *\n"
     ]
    }
   ],
   "source": [
    "i = 0\n",
    "n = 5\n",
    "while i < n:\n",
    "    j = 0\n",
    "    while j < n-i-1:\n",
    "        print(\" \",end = \"\")\n",
    "        j+=1\n",
    "    k = 0\n",
    "    while k < (i+1)*2-1:\n",
    "        print(\"*\",end = \"\")\n",
    "        k+=1\n",
    "    print()\n",
    "    i+=1   \n",
    "i = 0\n",
    "n= 4\n",
    "while i < n:\n",
    "    m = 0\n",
    "    while m < i+1:\n",
    "        print(\" \",end = \"\")\n",
    "        m+=1\n",
    "    s = 0\n",
    "    while s < (n-i)*2-1:\n",
    "        print(\"*\",end = \"\")\n",
    "        s+=1\n",
    "    print()\n",
    "    i+=1\n",
    "    "
   ]
  },
  {
   "cell_type": "code",
   "execution_count": null,
   "id": "b1972920-9a6e-4a13-a5e3-519d3a9b6468",
   "metadata": {},
   "outputs": [],
   "source": []
  }
 ],
 "metadata": {
  "kernelspec": {
   "display_name": "Python 3 (ipykernel)",
   "language": "python",
   "name": "python3"
  },
  "language_info": {
   "codemirror_mode": {
    "name": "ipython",
    "version": 3
   },
   "file_extension": ".py",
   "mimetype": "text/x-python",
   "name": "python",
   "nbconvert_exporter": "python",
   "pygments_lexer": "ipython3",
   "version": "3.13.5"
  }
 },
 "nbformat": 4,
 "nbformat_minor": 5
}
