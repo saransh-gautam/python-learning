{
 "cells": [
  {
   "cell_type": "markdown",
   "id": "35e78ae5-57d9-478b-b874-83a3f8a0f216",
   "metadata": {},
   "source": [
    "# Display"
   ]
  },
  {
   "cell_type": "code",
   "execution_count": 2,
   "id": "202fd6f9-7d27-4341-bb6c-2d9a178ce4ad",
   "metadata": {},
   "outputs": [],
   "source": [
    "from IPython.display import clear_output"
   ]
  },
  {
   "cell_type": "code",
   "execution_count": 3,
   "id": "ba19be64-82bc-4e59-8f74-4cb6183c7537",
   "metadata": {},
   "outputs": [],
   "source": [
    "li = [\"X\"]*10"
   ]
  },
  {
   "cell_type": "code",
   "execution_count": 4,
   "id": "40c32835-a42a-4df2-a6e4-e197d98091e3",
   "metadata": {},
   "outputs": [
    {
     "data": {
      "text/plain": [
       "['X', 'X', 'X', 'X', 'X', 'X', 'X', 'X', 'X', 'X']"
      ]
     },
     "execution_count": 4,
     "metadata": {},
     "output_type": "execute_result"
    }
   ],
   "source": [
    "li"
   ]
  },
  {
   "cell_type": "code",
   "execution_count": 5,
   "id": "ced79cb0-31b1-4276-a4be-d51fef397b6a",
   "metadata": {},
   "outputs": [],
   "source": [
    "li[7] = \" \"                       # position,marker"
   ]
  },
  {
   "cell_type": "code",
   "execution_count": 6,
   "id": "9de62d76-79b3-481f-a8a1-fd8ec0ca76e8",
   "metadata": {},
   "outputs": [],
   "source": [
    "li[5] = \"o\""
   ]
  },
  {
   "cell_type": "code",
   "execution_count": 7,
   "id": "0e05d02c-dbaa-4a29-9341-804b02c7bb9e",
   "metadata": {},
   "outputs": [],
   "source": [
    "li[1] = \"o\""
   ]
  },
  {
   "cell_type": "code",
   "execution_count": 8,
   "id": "67aebb82-81ed-4723-a97a-ff8f28c4933a",
   "metadata": {},
   "outputs": [],
   "source": [
    "li[2] = \"o\""
   ]
  },
  {
   "cell_type": "code",
   "execution_count": 9,
   "id": "d26b3a30-6c1b-4986-8544-f558d9d525d4",
   "metadata": {},
   "outputs": [],
   "source": [
    "def display():\n",
    "    print(li[7],\" | \",li[8],\" | \",li[9])\n",
    "    print(\"-\"*14)\n",
    "    print(li[4],\" | \",li[5],\" | \",li[6])\n",
    "    print(\"-\"*14)\n",
    "    print(li[1],\" | \",li[2],\" | \",li[3])"
   ]
  },
  {
   "cell_type": "code",
   "execution_count": 10,
   "id": "7dc92b54-03f3-4472-8550-70729fedfa81",
   "metadata": {},
   "outputs": [
    {
     "name": "stdout",
     "output_type": "stream",
     "text": [
      "   |  X  |  X\n",
      "--------------\n",
      "X  |  o  |  X\n",
      "--------------\n",
      "o  |  o  |  X\n"
     ]
    }
   ],
   "source": [
    "display()"
   ]
  },
  {
   "cell_type": "code",
   "execution_count": 11,
   "id": "f34747f6-b091-42e6-9cbb-042c8930c300",
   "metadata": {},
   "outputs": [],
   "source": [
    "def put_marker(position,marker):\n",
    "    li[position] = marker"
   ]
  },
  {
   "cell_type": "code",
   "execution_count": 12,
   "id": "0fe764a2-bb50-4c0c-a930-a74bcf492deb",
   "metadata": {},
   "outputs": [],
   "source": [
    "put_marker(3,\"Y\")"
   ]
  },
  {
   "cell_type": "code",
   "execution_count": 13,
   "id": "8ad41eb3-c23c-4e70-ad2b-ffe02a18327c",
   "metadata": {},
   "outputs": [
    {
     "name": "stdout",
     "output_type": "stream",
     "text": [
      "   |  X  |  X\n",
      "--------------\n",
      "X  |  o  |  X\n",
      "--------------\n",
      "o  |  o  |  Y\n"
     ]
    }
   ],
   "source": [
    "display()"
   ]
  },
  {
   "cell_type": "code",
   "execution_count": 14,
   "id": "1be7ffed-7228-4dfd-b3f3-f1d1088fc51b",
   "metadata": {},
   "outputs": [],
   "source": [
    "def check_position_empty(position):\n",
    "    if li[position] == \"Y\":\n",
    "        return True\n",
    "    else:\n",
    "        return False"
   ]
  },
  {
   "cell_type": "code",
   "execution_count": 15,
   "id": "d9ecaabf-f820-4857-80e2-f43c2da53f88",
   "metadata": {},
   "outputs": [
    {
     "data": {
      "text/plain": [
       "True"
      ]
     },
     "execution_count": 15,
     "metadata": {},
     "output_type": "execute_result"
    }
   ],
   "source": [
    "check_position_empty(3)"
   ]
  },
  {
   "cell_type": "code",
   "execution_count": 16,
   "id": "54880126-bf1e-40d7-a297-bd5f58336bb9",
   "metadata": {},
   "outputs": [],
   "source": [
    "position = None             #placeholder"
   ]
  },
  {
   "cell_type": "code",
   "execution_count": 17,
   "id": "5d0a3c3f-422c-4529-a878-44a966dcace4",
   "metadata": {},
   "outputs": [
    {
     "name": "stdin",
     "output_type": "stream",
     "text": [
      "None 2\n"
     ]
    }
   ],
   "source": [
    "### position = None \n",
    "while not position:\n",
    "    try:\n",
    "        position  = int(input(position))\n",
    "    except ValueError:\n",
    "        print(\"please provide a number\")\n",
    "        break"
   ]
  },
  {
   "cell_type": "code",
   "execution_count": 18,
   "id": "1f5da47a-46a7-49fc-8425-7e14f89a21bc",
   "metadata": {},
   "outputs": [],
   "source": [
    "def empty_positions():\n",
    "    ans = []\n",
    "    for i in range(1,len(li)):\n",
    "        if li[i] == \" \":\n",
    "            ans.append(i)\n",
    "    return ans"
   ]
  },
  {
   "cell_type": "code",
   "execution_count": 19,
   "id": "f5070663-a6ca-4ab2-b416-df723df384cb",
   "metadata": {},
   "outputs": [
    {
     "data": {
      "text/plain": [
       "[7]"
      ]
     },
     "execution_count": 19,
     "metadata": {},
     "output_type": "execute_result"
    }
   ],
   "source": [
    "empty_positions()"
   ]
  },
  {
   "cell_type": "code",
   "execution_count": 34,
   "id": "c16a0c5a-2368-4fc6-aabe-dbb22ffe3ba5",
   "metadata": {},
   "outputs": [],
   "source": [
    "def take_position():\n",
    "    position = None\n",
    "    available = empty_positions()\n",
    "    while position is None:\n",
    "        try:\n",
    "            position = int(input(f\"Please choose among {available}\"))\n",
    "        except ValueError:\n",
    "            print(f\"please provide a number among {available}\")\n",
    "        else:\n",
    "            if position in available:\n",
    "                return position\n",
    "            else:\n",
    "                print(f\"position provide a number among {available}\")"
   ]
  },
  {
   "cell_type": "code",
   "execution_count": 36,
   "id": "61720555-86a1-4799-8668-b7b1be7dd0f9",
   "metadata": {},
   "outputs": [
    {
     "name": "stdin",
     "output_type": "stream",
     "text": [
      "Please choose among [2, 6] 6\n"
     ]
    },
    {
     "data": {
      "text/plain": [
       "6"
      ]
     },
     "execution_count": 36,
     "metadata": {},
     "output_type": "execute_result"
    }
   ],
   "source": [
    "take_position()"
   ]
  },
  {
   "cell_type": "code",
   "execution_count": 23,
   "id": "60a9065d-a3a1-4e42-a02d-e31c5ba0bdc4",
   "metadata": {},
   "outputs": [],
   "source": [
    "def board_full():\n",
    "    if len(empty_positions()) == 0:\n",
    "        return True\n",
    "    else:\n",
    "        return False"
   ]
  },
  {
   "cell_type": "code",
   "execution_count": 24,
   "id": "c4eb6332-bcad-43e5-9aba-75dfeb5d5075",
   "metadata": {},
   "outputs": [
    {
     "data": {
      "text/plain": [
       "False"
      ]
     },
     "execution_count": 24,
     "metadata": {},
     "output_type": "execute_result"
    }
   ],
   "source": [
    "board_full()"
   ]
  },
  {
   "cell_type": "code",
   "execution_count": 30,
   "id": "d02d4fe6-09b1-423f-bf5d-fb11694cdc14",
   "metadata": {},
   "outputs": [],
   "source": [
    "def change_marker(marker):\n",
    "    if marker == \"O\":\n",
    "        return \"X\"\n",
    "    else:\n",
    "        return \"O\""
   ]
  },
  {
   "cell_type": "code",
   "execution_count": 26,
   "id": "b1182e98-c693-4984-b61f-f8c67e03ee50",
   "metadata": {},
   "outputs": [
    {
     "data": {
      "text/plain": [
       "'o'"
      ]
     },
     "execution_count": 26,
     "metadata": {},
     "output_type": "execute_result"
    }
   ],
   "source": [
    "change_marker(\"x\")"
   ]
  },
  {
   "cell_type": "code",
   "execution_count": 27,
   "id": "97a4353b-6967-48ac-8205-54f9dda69b72",
   "metadata": {},
   "outputs": [],
   "source": [
    "def check_win():\n",
    "    if (li[7] == li[8] == li[9] != \" \") or \\\n",
    "    (li[4] == li[5] == li[6] != \" \") or \\\n",
    "     (li[1] == li[2] == li[3] != \" \") or \\\n",
    "     (li[7] == li[1] == li[4] != \" \") or \\\n",
    "     (li[8] == li[2] == li[5] != \" \") or \\\n",
    "     (li[9] == li[3] == li[6] != \" \") or \\\n",
    "     (li[7] == li[5] == li[3] != \" \") or \\\n",
    "     (li[1] == li[5] == li[9] != \" \"):\n",
    "        return True\n",
    "    else:\n",
    "        return False\n",
    "\n",
    "    \n",
    "    "
   ]
  },
  {
   "cell_type": "code",
   "execution_count": 28,
   "id": "1239a188-01f8-4431-add5-10683954364f",
   "metadata": {},
   "outputs": [
    {
     "data": {
      "text/plain": [
       "False"
      ]
     },
     "execution_count": 28,
     "metadata": {},
     "output_type": "execute_result"
    }
   ],
   "source": [
    "check_win()"
   ]
  },
  {
   "cell_type": "code",
   "execution_count": 31,
   "id": "e504ed9a-28e9-4efc-a731-c55a52ccf2e8",
   "metadata": {},
   "outputs": [
    {
     "name": "stdout",
     "output_type": "stream",
     "text": [
      "O  |  X  |  O\n",
      "--------------\n",
      "X  |  O  |   \n",
      "--------------\n",
      "X  |     |  O\n",
      " congratulations O won the game\n"
     ]
    }
   ],
   "source": [
    "li = [\" \"]*10\n",
    "game = True\n",
    "marker = \"O\"\n",
    "while game:\n",
    "    display()\n",
    "    position = take_position()\n",
    "    put_marker(position,marker)\n",
    "    clear_output()\n",
    "    display()\n",
    "    if check_win():\n",
    "        print(f\" congratulations {marker} won the game\")\n",
    "        game = False\n",
    "        break\n",
    "    elif board_full():\n",
    "        print(f\"board full ,game draw, do you want to play again\")\n",
    "        game = False \n",
    "        break\n",
    "    else:\n",
    "        marker = change_marker(marker)"
   ]
  },
  {
   "cell_type": "code",
   "execution_count": null,
   "id": "0e27c343-2b1c-4339-810f-2c44d26fb8d4",
   "metadata": {},
   "outputs": [],
   "source": []
  }
 ],
 "metadata": {
  "kernelspec": {
   "display_name": "Python 3 (ipykernel)",
   "language": "python",
   "name": "python3"
  },
  "language_info": {
   "codemirror_mode": {
    "name": "ipython",
    "version": 3
   },
   "file_extension": ".py",
   "mimetype": "text/x-python",
   "name": "python",
   "nbconvert_exporter": "python",
   "pygments_lexer": "ipython3",
   "version": "3.13.5"
  }
 },
 "nbformat": 4,
 "nbformat_minor": 5
}
