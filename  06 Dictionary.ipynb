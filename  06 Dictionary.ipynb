{
 "cells": [
  {
   "cell_type": "markdown",
   "id": "699bc424-8fe9-4e34-b487-0b8d7c1bd673",
   "metadata": {},
   "source": [
    "# Dictionary"
   ]
  },
  {
   "cell_type": "code",
   "execution_count": 2,
   "id": "33efabce-d1f9-4a10-b506-30169752c575",
   "metadata": {},
   "outputs": [
    {
     "name": "stdout",
     "output_type": "stream",
     "text": [
      "{'name': 'saransh', 'age': 23, 'education': 'Mca'}\n"
     ]
    }
   ],
   "source": [
    "d = {\"name\":\"saransh\",\"age\":23,\"education\":\"Mca\"}\n",
    "print(d)"
   ]
  },
  {
   "cell_type": "code",
   "execution_count": 3,
   "id": "094bec3a-6cc8-4510-9aa5-303b844f06c9",
   "metadata": {},
   "outputs": [
    {
     "data": {
      "text/plain": [
       "3"
      ]
     },
     "execution_count": 3,
     "metadata": {},
     "output_type": "execute_result"
    }
   ],
   "source": [
    "len(d)"
   ]
  },
  {
   "cell_type": "code",
   "execution_count": 5,
   "id": "5c4057ea-3107-475d-8bc5-4d1f4ce8143e",
   "metadata": {},
   "outputs": [
    {
     "data": {
      "text/plain": [
       "dict_values(['saransh', 23, 'Mca'])"
      ]
     },
     "execution_count": 5,
     "metadata": {},
     "output_type": "execute_result"
    }
   ],
   "source": [
    "d.values()"
   ]
  },
  {
   "cell_type": "code",
   "execution_count": 6,
   "id": "59e3d0f3-60e9-4f62-a65a-a75b147be83c",
   "metadata": {},
   "outputs": [
    {
     "data": {
      "text/plain": [
       "dict_keys(['name', 'age', 'education'])"
      ]
     },
     "execution_count": 6,
     "metadata": {},
     "output_type": "execute_result"
    }
   ],
   "source": [
    "d.keys()"
   ]
  },
  {
   "cell_type": "code",
   "execution_count": 7,
   "id": "81daf0e6-7a2c-4798-9b7f-e5ba4267e787",
   "metadata": {},
   "outputs": [
    {
     "data": {
      "text/plain": [
       "'saransh'"
      ]
     },
     "execution_count": 7,
     "metadata": {},
     "output_type": "execute_result"
    }
   ],
   "source": [
    "d[\"name\"]"
   ]
  },
  {
   "cell_type": "code",
   "execution_count": 8,
   "id": "299c7700-1664-4ebc-97de-b4e2ef54607f",
   "metadata": {},
   "outputs": [
    {
     "data": {
      "text/plain": [
       "23"
      ]
     },
     "execution_count": 8,
     "metadata": {},
     "output_type": "execute_result"
    }
   ],
   "source": [
    "d[\"age\"]"
   ]
  },
  {
   "cell_type": "code",
   "execution_count": 9,
   "id": "37dc4b99-8c87-447f-992d-8be13926a000",
   "metadata": {},
   "outputs": [
    {
     "data": {
      "text/plain": [
       "'Mca'"
      ]
     },
     "execution_count": 9,
     "metadata": {},
     "output_type": "execute_result"
    }
   ],
   "source": [
    "d[\"education\"]"
   ]
  },
  {
   "cell_type": "code",
   "execution_count": 10,
   "id": "e31cfef6-99a0-49cf-8422-eebe88b1cb3b",
   "metadata": {},
   "outputs": [],
   "source": [
    "#Add an item"
   ]
  },
  {
   "cell_type": "code",
   "execution_count": 11,
   "id": "1be34761-4e4b-4a4b-beb2-44a93708f665",
   "metadata": {},
   "outputs": [
    {
     "name": "stdout",
     "output_type": "stream",
     "text": [
      "{'name': 'saransh', 'age': 23, 'education': 'Mca', 'wife': 'Mona'}\n"
     ]
    }
   ],
   "source": [
    "d[\"wife\"] = \"Mona\"\n",
    "print(d)"
   ]
  },
  {
   "cell_type": "code",
   "execution_count": 12,
   "id": "a056bcc5-6c21-48fa-929c-5cc2a2f38c59",
   "metadata": {},
   "outputs": [],
   "source": [
    "#Keys can only have strings or integer"
   ]
  },
  {
   "cell_type": "code",
   "execution_count": 13,
   "id": "5680ba5f-d8bd-4cb6-ae9b-1a32dfa5ae20",
   "metadata": {},
   "outputs": [
    {
     "name": "stdout",
     "output_type": "stream",
     "text": [
      "{1: 'saransh', 2: 'karan', 3: 'ashish', 4: 'sonali'}\n"
     ]
    }
   ],
   "source": [
    "di = {1:\"saransh\",2:\"karan\",3:\"ashish\",4:\"sonali\"}\n",
    "print(di)"
   ]
  },
  {
   "cell_type": "code",
   "execution_count": 14,
   "id": "a01d207a-ece3-49bf-b707-d96001fa401f",
   "metadata": {},
   "outputs": [
    {
     "data": {
      "text/plain": [
       "dict_keys([1, 2, 3, 4])"
      ]
     },
     "execution_count": 14,
     "metadata": {},
     "output_type": "execute_result"
    }
   ],
   "source": [
    "di.keys()"
   ]
  },
  {
   "cell_type": "code",
   "execution_count": 15,
   "id": "914aa1c2-88f4-4a98-9941-1a1c52bba27e",
   "metadata": {},
   "outputs": [
    {
     "data": {
      "text/plain": [
       "dict_values(['saransh', 'karan', 'ashish', 'sonali'])"
      ]
     },
     "execution_count": 15,
     "metadata": {},
     "output_type": "execute_result"
    }
   ],
   "source": [
    "di.values()"
   ]
  },
  {
   "cell_type": "code",
   "execution_count": 19,
   "id": "a47b6868-fc8a-4818-9b83-99b8435122f6",
   "metadata": {},
   "outputs": [
    {
     "data": {
      "text/plain": [
       "'saransh'"
      ]
     },
     "execution_count": 19,
     "metadata": {},
     "output_type": "execute_result"
    }
   ],
   "source": [
    "di[1]"
   ]
  },
  {
   "cell_type": "code",
   "execution_count": 20,
   "id": "64541ece-71e9-404e-8a6c-4df59d717cd7",
   "metadata": {},
   "outputs": [
    {
     "data": {
      "text/plain": [
       "'karan'"
      ]
     },
     "execution_count": 20,
     "metadata": {},
     "output_type": "execute_result"
    }
   ],
   "source": [
    "di[2]"
   ]
  },
  {
   "cell_type": "code",
   "execution_count": 21,
   "id": "abc3558f-0d2b-40f6-b977-3cb99197fc96",
   "metadata": {},
   "outputs": [
    {
     "data": {
      "text/plain": [
       "'ashish'"
      ]
     },
     "execution_count": 21,
     "metadata": {},
     "output_type": "execute_result"
    }
   ],
   "source": [
    "di[3]"
   ]
  },
  {
   "cell_type": "code",
   "execution_count": 22,
   "id": "4eef576f-fc01-48dd-b596-c0d22158468a",
   "metadata": {},
   "outputs": [
    {
     "data": {
      "text/plain": [
       "'sonali'"
      ]
     },
     "execution_count": 22,
     "metadata": {},
     "output_type": "execute_result"
    }
   ],
   "source": [
    "di[4]"
   ]
  },
  {
   "cell_type": "code",
   "execution_count": 26,
   "id": "29c4bb06-e50c-47be-9b41-fe9d9883bc5d",
   "metadata": {},
   "outputs": [
    {
     "name": "stdout",
     "output_type": "stream",
     "text": [
      "{1: {'name': 'saransh', 'age': 23, 'education': 'Mca'}, 2: {'name': 'karan', 'age': 24, 'education': 'bsc_it'}, 3: {'name': 'shubham', 'age': 25, 'education': 'Msc_math'}}\n"
     ]
    }
   ],
   "source": [
    "dict = {1:{\"name\":\"saransh\",\"age\":23,\"education\":\"Mca\"},\n",
    "        2:{\"name\":\"karan\",\"age\":24,\"education\":\"bsc_it\"},\n",
    "        3:{\"name\":\"shubham\",\"age\":25,\"education\":\"Msc_math\"},\n",
    "       }\n",
    "print(dict)"
   ]
  },
  {
   "cell_type": "code",
   "execution_count": 51,
   "id": "7d019480-a5fb-454b-b52d-9c2b75ab5703",
   "metadata": {},
   "outputs": [
    {
     "data": {
      "text/plain": [
       "dict_values([{'name': 'saransh', 'age': 23, 'education': 'Mca'}, {'name': 'karan', 'age': 24, 'education': 'bsc_it'}, {'name': 'shubham', 'age': 25, 'education': 'Msc_math'}])"
      ]
     },
     "execution_count": 51,
     "metadata": {},
     "output_type": "execute_result"
    }
   ],
   "source": [
    "dict.values()"
   ]
  },
  {
   "cell_type": "code",
   "execution_count": 52,
   "id": "a90725dc-8dd3-49b1-a2e2-a3f3ba3e854a",
   "metadata": {},
   "outputs": [
    {
     "data": {
      "text/plain": [
       "dict_values([{'name': 'saransh', 'age': 23, 'education': 'Mca'}, {'name': 'karan', 'age': 24, 'education': 'bsc_it'}, {'name': 'shubham', 'age': 25, 'education': 'Msc_math'}])"
      ]
     },
     "execution_count": 52,
     "metadata": {},
     "output_type": "execute_result"
    }
   ],
   "source": [
    "dict.values()"
   ]
  },
  {
   "cell_type": "code",
   "execution_count": 53,
   "id": "12955a8a-df5c-46d6-a44d-70ef878921a8",
   "metadata": {},
   "outputs": [
    {
     "data": {
      "text/plain": [
       "'saransh'"
      ]
     },
     "execution_count": 53,
     "metadata": {},
     "output_type": "execute_result"
    }
   ],
   "source": [
    "dict[1][\"name\"]"
   ]
  },
  {
   "cell_type": "code",
   "execution_count": 54,
   "id": "80db70f1-95db-4a37-ba92-5a1156e41037",
   "metadata": {},
   "outputs": [
    {
     "data": {
      "text/plain": [
       "24"
      ]
     },
     "execution_count": 54,
     "metadata": {},
     "output_type": "execute_result"
    }
   ],
   "source": [
    "dict[2][\"age\"]"
   ]
  },
  {
   "cell_type": "code",
   "execution_count": 55,
   "id": "254286e8-b010-4685-8656-a4d0aa49f03c",
   "metadata": {},
   "outputs": [
    {
     "data": {
      "text/plain": [
       "'Msc_math'"
      ]
     },
     "execution_count": 55,
     "metadata": {},
     "output_type": "execute_result"
    }
   ],
   "source": [
    "dict[3][\"education\"]"
   ]
  },
  {
   "cell_type": "code",
   "execution_count": 56,
   "id": "fad27a1a-b5bd-453b-a345-5eef162d6e54",
   "metadata": {},
   "outputs": [
    {
     "name": "stdout",
     "output_type": "stream",
     "text": [
      "{'name': 'Abhi', 'age': 23, 'education': 'Mca', 'wife': 'Mona'}\n"
     ]
    }
   ],
   "source": [
    "d[\"name\"] = \"Abhi\"\n",
    "print(d)"
   ]
  },
  {
   "cell_type": "code",
   "execution_count": 58,
   "id": "ed4f0c5c-aefe-4934-bdab-0aece9ee8b45",
   "metadata": {},
   "outputs": [
    {
     "data": {
      "text/plain": [
       "'hubh'"
      ]
     },
     "execution_count": 58,
     "metadata": {},
     "output_type": "execute_result"
    }
   ],
   "source": [
    "dict[3][\"name\"][1:5]                           # slicing in value  beacuse name is string datatype"
   ]
  },
  {
   "cell_type": "code",
   "execution_count": 60,
   "id": "51dc6d27-d7e1-4d69-bb43-5880c8d101ff",
   "metadata": {},
   "outputs": [
    {
     "data": {
      "text/plain": [
       "[1, 2, 3]"
      ]
     },
     "execution_count": 60,
     "metadata": {},
     "output_type": "execute_result"
    }
   ],
   "source": [
    "list(dict)                       #type casting"
   ]
  },
  {
   "cell_type": "code",
   "execution_count": 61,
   "id": "1ca48765-d611-4d62-8394-56cdb3572ec3",
   "metadata": {},
   "outputs": [],
   "source": [
    "# Task "
   ]
  },
  {
   "cell_type": "code",
   "execution_count": 63,
   "id": "238bbce0-7b0c-4080-b394-3a9b8e2a2052",
   "metadata": {},
   "outputs": [
    {
     "name": "stdout",
     "output_type": "stream",
     "text": [
      "{'name': 'Gautam'}\n"
     ]
    }
   ],
   "source": [
    "disc = {\"name\":\"Gautam\"}\n",
    "print(disc)"
   ]
  },
  {
   "cell_type": "code",
   "execution_count": 82,
   "id": "b5bac93a-b2b1-4d53-896c-9e09094209f6",
   "metadata": {},
   "outputs": [
    {
     "data": {
      "text/plain": [
       "dict"
      ]
     },
     "execution_count": 82,
     "metadata": {},
     "output_type": "execute_result"
    }
   ],
   "source": [
    "type(disc)"
   ]
  },
  {
   "cell_type": "code",
   "execution_count": 83,
   "id": "1e60e294-fb2f-405d-a53e-bbd206f6a5b1",
   "metadata": {},
   "outputs": [
    {
     "name": "stdout",
     "output_type": "stream",
     "text": [
      "{'name': 'Gautam', 'age': 23, 'education': 'Mtech'}\n"
     ]
    }
   ],
   "source": [
    "disc[\"age\"] = 23\n",
    "print(disc)"
   ]
  },
  {
   "cell_type": "code",
   "execution_count": 84,
   "id": "2700d492-c130-4a88-bf99-381ec31a2349",
   "metadata": {},
   "outputs": [
    {
     "name": "stdout",
     "output_type": "stream",
     "text": [
      "{'name': 'Gautam', 'age': 23, 'education': 'Mtech'}\n"
     ]
    }
   ],
   "source": [
    "disc[\"education\"] = \"Mtech\"\n",
    "print(disc)"
   ]
  },
  {
   "cell_type": "code",
   "execution_count": 85,
   "id": "d6a2f9e8-902b-4a0d-9f32-eee53cb7a839",
   "metadata": {},
   "outputs": [
    {
     "name": "stdout",
     "output_type": "stream",
     "text": [
      "{'name': 'Gautam', 'age': 23, 'education': 'Mtech', 'college': 'Govt. college Palampur'}\n"
     ]
    }
   ],
   "source": [
    "disc[\"college\"] = \"Govt. college Palampur\"\n",
    "print(disc)"
   ]
  },
  {
   "cell_type": "code",
   "execution_count": 86,
   "id": "c9b1ef79-91e2-404a-aecd-1f65fa26d12d",
   "metadata": {},
   "outputs": [
    {
     "data": {
      "text/plain": [
       "['Gautam', 23, 'Mtech', 'Govt. college Palampur']"
      ]
     },
     "execution_count": 86,
     "metadata": {},
     "output_type": "execute_result"
    }
   ],
   "source": [
    "list(disc.values())"
   ]
  },
  {
   "cell_type": "code",
   "execution_count": 87,
   "id": "389ca6eb-3635-4bab-8107-3414d1efd105",
   "metadata": {},
   "outputs": [
    {
     "data": {
      "text/plain": [
       "'Govt. college Palampur'"
      ]
     },
     "execution_count": 87,
     "metadata": {},
     "output_type": "execute_result"
    }
   ],
   "source": [
    "disc[\"college\"]"
   ]
  },
  {
   "cell_type": "code",
   "execution_count": 88,
   "id": "3382c217-764d-4704-bf21-d08f8af15179",
   "metadata": {},
   "outputs": [
    {
     "data": {
      "text/plain": [
       "'Govt. college Palampur'"
      ]
     },
     "execution_count": 88,
     "metadata": {},
     "output_type": "execute_result"
    }
   ],
   "source": [
    "disc.pop(\"college\")"
   ]
  },
  {
   "cell_type": "code",
   "execution_count": 89,
   "id": "7db01a7d-6a3b-4ea1-9762-5fba1e737aad",
   "metadata": {},
   "outputs": [
    {
     "name": "stdout",
     "output_type": "stream",
     "text": [
      "{1: {'name': 'saransh', 'age': 23, 'education': 'Mca'}, 'info': [12, 35, 40, {'key': [1, 2, 3, 'world']}]}\n"
     ]
    }
   ],
   "source": [
    "novem = { \n",
    "    1:{\"name\":\"saransh\",\"age\":23,\"education\":\"Mca\"},\n",
    "    \"info\":[12,35,40,{\"key\":[1,2,3,\"world\"]}]  \n",
    "}\n",
    "print(novem)"
   ]
  },
  {
   "cell_type": "code",
   "execution_count": 90,
   "id": "4faec58b-478c-4533-a55a-ac42f7a5548e",
   "metadata": {},
   "outputs": [
    {
     "data": {
      "text/plain": [
       "dict"
      ]
     },
     "execution_count": 90,
     "metadata": {},
     "output_type": "execute_result"
    }
   ],
   "source": [
    "type(novem)"
   ]
  },
  {
   "cell_type": "code",
   "execution_count": 91,
   "id": "bdd9634c-015b-420f-b27b-440dc60804a8",
   "metadata": {},
   "outputs": [
    {
     "data": {
      "text/plain": [
       "{'name': 'saransh', 'age': 23, 'education': 'Mca'}"
      ]
     },
     "execution_count": 91,
     "metadata": {},
     "output_type": "execute_result"
    }
   ],
   "source": [
    "novem[1]"
   ]
  },
  {
   "cell_type": "code",
   "execution_count": 110,
   "id": "6408c51a-0835-42c8-aea2-139eba8fb495",
   "metadata": {},
   "outputs": [
    {
     "data": {
      "text/plain": [
       "dict_keys([1, 'info'])"
      ]
     },
     "execution_count": 110,
     "metadata": {},
     "output_type": "execute_result"
    }
   ],
   "source": [
    "novem.keys()"
   ]
  },
  {
   "cell_type": "code",
   "execution_count": 114,
   "id": "601fd86d-8e6d-4c01-b46f-cd2889077d46",
   "metadata": {},
   "outputs": [
    {
     "data": {
      "text/plain": [
       "'M'"
      ]
     },
     "execution_count": 114,
     "metadata": {},
     "output_type": "execute_result"
    }
   ],
   "source": [
    "novem[1][\"education\"][0]"
   ]
  },
  {
   "cell_type": "code",
   "execution_count": 107,
   "id": "49d0f926-049b-4c07-bb96-639bf921c4e6",
   "metadata": {},
   "outputs": [
    {
     "data": {
      "text/plain": [
       "[12, 35, 40, {'key': [1, 2, 3, 'world']}]"
      ]
     },
     "execution_count": 107,
     "metadata": {},
     "output_type": "execute_result"
    }
   ],
   "source": [
    "novem[\"info\"]"
   ]
  },
  {
   "cell_type": "code",
   "execution_count": 108,
   "id": "8d6b1c71-7b4c-43a6-b97e-5847e17ed467",
   "metadata": {},
   "outputs": [
    {
     "data": {
      "text/plain": [
       "list"
      ]
     },
     "execution_count": 108,
     "metadata": {},
     "output_type": "execute_result"
    }
   ],
   "source": [
    "type(novem[\"info\"])"
   ]
  },
  {
   "cell_type": "code",
   "execution_count": 134,
   "id": "4a37f8e8-0cb5-4e5f-b70b-272c949d490e",
   "metadata": {},
   "outputs": [
    {
     "data": {
      "text/plain": [
       "[2, 3]"
      ]
     },
     "execution_count": 134,
     "metadata": {},
     "output_type": "execute_result"
    }
   ],
   "source": [
    "novem[\"info\"][3][\"key\"][1:3]"
   ]
  },
  {
   "cell_type": "code",
   "execution_count": null,
   "id": "e925515d-94fb-4168-96af-2acf72c6ae88",
   "metadata": {},
   "outputs": [],
   "source": []
  },
  {
   "cell_type": "code",
   "execution_count": null,
   "id": "2e01cab6-71dd-4d07-864b-5790febb63ab",
   "metadata": {},
   "outputs": [],
   "source": []
  }
 ],
 "metadata": {
  "kernelspec": {
   "display_name": "Python 3 (ipykernel)",
   "language": "python",
   "name": "python3"
  },
  "language_info": {
   "codemirror_mode": {
    "name": "ipython",
    "version": 3
   },
   "file_extension": ".py",
   "mimetype": "text/x-python",
   "name": "python",
   "nbconvert_exporter": "python",
   "pygments_lexer": "ipython3",
   "version": "3.13.5"
  }
 },
 "nbformat": 4,
 "nbformat_minor": 5
}
