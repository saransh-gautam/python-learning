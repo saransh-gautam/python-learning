{
 "cells": [
  {
   "cell_type": "markdown",
   "id": "b002a77f-8603-4900-a6cb-db16f188f1ff",
   "metadata": {},
   "source": [
    "# 0  ko chod ke sare numbers true hote hai or neg numbers bhi true hoge"
   ]
  },
  {
   "cell_type": "code",
   "execution_count": 15,
   "id": "c9e703af-bfdd-416b-9b8f-305ffaac241f",
   "metadata": {},
   "outputs": [
    {
     "data": {
      "text/plain": [
       "True"
      ]
     },
     "execution_count": 15,
     "metadata": {},
     "output_type": "execute_result"
    }
   ],
   "source": [
    "True"
   ]
  },
  {
   "cell_type": "code",
   "execution_count": 16,
   "id": "7a81987c-95c9-4cb0-ab51-3c1002f48a3b",
   "metadata": {},
   "outputs": [
    {
     "data": {
      "text/plain": [
       "False"
      ]
     },
     "execution_count": 16,
     "metadata": {},
     "output_type": "execute_result"
    }
   ],
   "source": [
    "False"
   ]
  },
  {
   "cell_type": "code",
   "execution_count": 17,
   "id": "6e22c304-88d0-4d33-b8c4-d21844e8a8ef",
   "metadata": {},
   "outputs": [
    {
     "data": {
      "text/plain": [
       "1"
      ]
     },
     "execution_count": 17,
     "metadata": {},
     "output_type": "execute_result"
    }
   ],
   "source": [
    "int(True)"
   ]
  },
  {
   "cell_type": "code",
   "execution_count": 18,
   "id": "86a3b60c-0542-438d-9d8c-f32c059d0c32",
   "metadata": {},
   "outputs": [
    {
     "data": {
      "text/plain": [
       "0"
      ]
     },
     "execution_count": 18,
     "metadata": {},
     "output_type": "execute_result"
    }
   ],
   "source": [
    "int(False)"
   ]
  },
  {
   "cell_type": "code",
   "execution_count": 19,
   "id": "d6d05786-b7cc-4070-8d12-64ab81a283f1",
   "metadata": {},
   "outputs": [
    {
     "data": {
      "text/plain": [
       "True"
      ]
     },
     "execution_count": 19,
     "metadata": {},
     "output_type": "execute_result"
    }
   ],
   "source": [
    "bool(-100)"
   ]
  },
  {
   "cell_type": "code",
   "execution_count": 20,
   "id": "db9819b0-10fc-461e-9cf2-95969ad9a606",
   "metadata": {},
   "outputs": [
    {
     "data": {
      "text/plain": [
       "True"
      ]
     },
     "execution_count": 20,
     "metadata": {},
     "output_type": "execute_result"
    }
   ],
   "source": [
    "bool(-1)"
   ]
  },
  {
   "cell_type": "code",
   "execution_count": 21,
   "id": "ac9464eb-782b-4412-bdb6-b69d04b8da87",
   "metadata": {},
   "outputs": [],
   "source": [
    "#none"
   ]
  },
  {
   "cell_type": "code",
   "execution_count": 22,
   "id": "44dc601b-7e4f-4ae9-ace5-e2b548f38eeb",
   "metadata": {},
   "outputs": [
    {
     "data": {
      "text/plain": [
       "False"
      ]
     },
     "execution_count": 22,
     "metadata": {},
     "output_type": "execute_result"
    }
   ],
   "source": [
    "bool()"
   ]
  },
  {
   "cell_type": "markdown",
   "id": "d2f5afca-5b8a-4207-a8b3-6501b4b2c53a",
   "metadata": {},
   "source": [
    "# chahe blank list,tuple,string or koi bhi hoi false hi hoti hai"
   ]
  },
  {
   "cell_type": "code",
   "execution_count": 23,
   "id": "77c849af-18be-484e-aaaa-2dae5f295e13",
   "metadata": {},
   "outputs": [],
   "source": [
    "#blank string"
   ]
  },
  {
   "cell_type": "code",
   "execution_count": 24,
   "id": "6097d3e2-11dc-456d-8a56-10f9eb942115",
   "metadata": {},
   "outputs": [
    {
     "data": {
      "text/plain": [
       "False"
      ]
     },
     "execution_count": 24,
     "metadata": {},
     "output_type": "execute_result"
    }
   ],
   "source": [
    "bool(\"\")"
   ]
  },
  {
   "cell_type": "code",
   "execution_count": 26,
   "id": "c93d52a3-1585-4904-b53b-5ebb5c8405a5",
   "metadata": {},
   "outputs": [
    {
     "data": {
      "text/plain": [
       "True"
      ]
     },
     "execution_count": 26,
     "metadata": {},
     "output_type": "execute_result"
    }
   ],
   "source": [
    "bool(\" \")      # with space gets true "
   ]
  },
  {
   "cell_type": "markdown",
   "id": "78b26bc0-5493-4844-84df-f86e533713ee",
   "metadata": {},
   "source": [
    "# In function"
   ]
  },
  {
   "cell_type": "code",
   "execution_count": 131,
   "id": "70b31d83-31d4-47db-b1ad-6cef4c14badb",
   "metadata": {},
   "outputs": [
    {
     "data": {
      "text/plain": [
       "True"
      ]
     },
     "execution_count": 131,
     "metadata": {},
     "output_type": "execute_result"
    }
   ],
   "source": [
    "\"s\" in \"Saransh\""
   ]
  },
  {
   "cell_type": "code",
   "execution_count": 134,
   "id": "41b0c495-e159-4173-a734-7e7d36bebda4",
   "metadata": {},
   "outputs": [
    {
     "data": {
      "text/plain": [
       "False"
      ]
     },
     "execution_count": 134,
     "metadata": {},
     "output_type": "execute_result"
    }
   ],
   "source": [
    "\"a \" in \"Saransh\""
   ]
  },
  {
   "cell_type": "markdown",
   "id": "897c56fc-0a18-4f52-a012-99cf8851154c",
   "metadata": {
    "jp-MarkdownHeadingCollapsed": true
   },
   "source": [
    "# Comparison operators"
   ]
  },
  {
   "cell_type": "code",
   "execution_count": 34,
   "id": "3a55a9b3-a2e7-4582-98fe-18117f7cd86d",
   "metadata": {},
   "outputs": [
    {
     "data": {
      "text/plain": [
       "True"
      ]
     },
     "execution_count": 34,
     "metadata": {},
     "output_type": "execute_result"
    }
   ],
   "source": [
    "5 < 10"
   ]
  },
  {
   "cell_type": "code",
   "execution_count": 35,
   "id": "c5c3cc92-1dd6-404b-b898-dd513c1cfd7f",
   "metadata": {},
   "outputs": [
    {
     "data": {
      "text/plain": [
       "False"
      ]
     },
     "execution_count": 35,
     "metadata": {},
     "output_type": "execute_result"
    }
   ],
   "source": [
    "5 > 10"
   ]
  },
  {
   "cell_type": "code",
   "execution_count": 37,
   "id": "39504d8d-20f7-4557-8d78-7c50058252ef",
   "metadata": {},
   "outputs": [
    {
     "data": {
      "text/plain": [
       "True"
      ]
     },
     "execution_count": 37,
     "metadata": {},
     "output_type": "execute_result"
    }
   ],
   "source": [
    "5 == 5"
   ]
  },
  {
   "cell_type": "code",
   "execution_count": 39,
   "id": "6737c4f7-3b5d-47dd-ba1f-974bc23ea558",
   "metadata": {},
   "outputs": [
    {
     "data": {
      "text/plain": [
       "False"
      ]
     },
     "execution_count": 39,
     "metadata": {},
     "output_type": "execute_result"
    }
   ],
   "source": [
    "11 ==12"
   ]
  },
  {
   "cell_type": "code",
   "execution_count": 53,
   "id": "70f24b1b-bf86-437e-8eb6-cd05c371f935",
   "metadata": {},
   "outputs": [
    {
     "name": "stdout",
     "output_type": "stream",
     "text": [
      "True\n"
     ]
    }
   ],
   "source": [
    "age = 20       # greater than equal to\n",
    "print(age >=18)"
   ]
  },
  {
   "cell_type": "code",
   "execution_count": 52,
   "id": "040aa7c1-f7c6-4e67-8742-62e4de2aeb27",
   "metadata": {},
   "outputs": [
    {
     "name": "stdout",
     "output_type": "stream",
     "text": [
      "True\n"
     ]
    }
   ],
   "source": [
    "age = 23       #less than equal to\n",
    "print(age <=25)"
   ]
  },
  {
   "cell_type": "code",
   "execution_count": 54,
   "id": "37d43313-c25b-482d-9915-bfeddf817e2d",
   "metadata": {},
   "outputs": [
    {
     "name": "stdout",
     "output_type": "stream",
     "text": [
      "True\n"
     ]
    }
   ],
   "source": [
    "age = 20                # not equal to\n",
    "print(age != 21)"
   ]
  },
  {
   "cell_type": "markdown",
   "id": "2e910537-d516-43b0-8e8c-f9298ff61760",
   "metadata": {},
   "source": [
    "# If  elif , else statements"
   ]
  },
  {
   "cell_type": "code",
   "execution_count": 62,
   "id": "07fe27e1-bfea-4754-b099-4d7bd6ccac3d",
   "metadata": {},
   "outputs": [],
   "source": [
    "age = 20"
   ]
  },
  {
   "cell_type": "code",
   "execution_count": 65,
   "id": "c422f38d-e52d-46c2-8fe1-1a623b382278",
   "metadata": {},
   "outputs": [
    {
     "name": "stdout",
     "output_type": "stream",
     "text": [
      "Age is not sufficient\n"
     ]
    }
   ],
   "source": [
    "if age < 18:\n",
    "    print(\"welcome\")\n",
    "else:\n",
    "    print(\"Age is not sufficient\")"
   ]
  },
  {
   "cell_type": "code",
   "execution_count": 77,
   "id": "dbf24cee-6701-4436-952f-6b2b897e8999",
   "metadata": {},
   "outputs": [],
   "source": [
    "marks = 60"
   ]
  },
  {
   "cell_type": "code",
   "execution_count": 79,
   "id": "377487e2-dd42-4ffd-a65d-935b3e96d341",
   "metadata": {},
   "outputs": [
    {
     "name": "stdout",
     "output_type": "stream",
     "text": [
      "D\n"
     ]
    }
   ],
   "source": [
    "if marks >= 90:\n",
    "    print(\"A\")\n",
    "elif marks >= 80:\n",
    "    print(\"B\")\n",
    "elif marks >= 70:\n",
    "    print(\"C\")\n",
    "elif marks >= 60:\n",
    "    print(\"D\")\n",
    "elif marks >= 50:\n",
    "    print(\"F\")\n",
    "else:\n",
    "    print(\"Fail\")\n",
    "    "
   ]
  },
  {
   "cell_type": "code",
   "execution_count": 95,
   "id": "01ebc645-6e64-489c-8fd0-6abb595bf4df",
   "metadata": {},
   "outputs": [],
   "source": [
    "students = 50"
   ]
  },
  {
   "cell_type": "code",
   "execution_count": 104,
   "id": "4643344e-2944-46ec-b24c-08f9e038669b",
   "metadata": {},
   "outputs": [
    {
     "name": "stdout",
     "output_type": "stream",
     "text": [
      "Absent\n"
     ]
    }
   ],
   "source": [
    "if students == 40:\n",
    "    print(\"All\")\n",
    "elif students <= 25:\n",
    "    print(\"Less than 30\")\n",
    "elif students <= 20:\n",
    "    print(\"Less than 20\")\n",
    "elif students != 50:\n",
    "    print(\"present\")\n",
    "else:\n",
    "    print(\"Absent\")\n"
   ]
  },
  {
   "cell_type": "code",
   "execution_count": 111,
   "id": "a4456488-552b-43f9-b222-539adb3e301f",
   "metadata": {},
   "outputs": [],
   "source": [
    "hours = 24"
   ]
  },
  {
   "cell_type": "code",
   "execution_count": 115,
   "id": "197caab5-88ed-4093-b6ec-3a43377b2442",
   "metadata": {},
   "outputs": [
    {
     "name": "stdout",
     "output_type": "stream",
     "text": [
      "Good Night\n"
     ]
    }
   ],
   "source": [
    "if hours < 12:\n",
    "    print(\"Good Morining\")\n",
    "elif hours < 18:\n",
    "    print(\"Goood After noon\")\n",
    "elif hours >= 24:\n",
    "    print(\"Good Night\")\n",
    "else:\n",
    "    print(\"All the best for your day\")"
   ]
  },
  {
   "cell_type": "code",
   "execution_count": 116,
   "id": "d3cfa8e8-3515-4da8-a0a5-25a731ec948f",
   "metadata": {},
   "outputs": [],
   "source": [
    "num = 2"
   ]
  },
  {
   "cell_type": "code",
   "execution_count": 118,
   "id": "b83ac180-bdd0-4838-be44-6e1a790d8f1d",
   "metadata": {},
   "outputs": [
    {
     "name": "stdout",
     "output_type": "stream",
     "text": [
      "The actual reason.\n"
     ]
    }
   ],
   "source": [
    "if num > 3:\n",
    "    print(\"The number is positive.\")\n",
    "elif num < 1:\n",
    "    print(\"The number is negative.\")\n",
    "else:\n",
    "    print(\"The actual reason.\")"
   ]
  },
  {
   "cell_type": "code",
   "execution_count": 19,
   "id": "11eca62f-6a96-4e4a-a14b-3ebe95873be9",
   "metadata": {},
   "outputs": [],
   "source": [
    "num = 0"
   ]
  },
  {
   "cell_type": "code",
   "execution_count": 20,
   "id": "f2661bce-e01c-40c2-8558-bcfbee35cf04",
   "metadata": {},
   "outputs": [
    {
     "name": "stdout",
     "output_type": "stream",
     "text": [
      "Invalid input,please enter 1 to 7 only\n",
      "    Learn python\n"
     ]
    }
   ],
   "source": [
    "if num == 1:\n",
    "    print(\"Monday\")\n",
    "elif num == 2:\n",
    "    print(\"Tuesday\")\n",
    "elif num == 3:\n",
    "    print(\"wednesday\")\n",
    "elif num == 4:\n",
    "    print(\"Thursday\")\n",
    "elif num == 5:\n",
    "    print(\"Friday\")\n",
    "elif num == 6:\n",
    "    print(\"Saturday\")\n",
    "elif num == 7:\n",
    "    print(\"Sunday\")\n",
    "else:\n",
    "    print(\"\"\"Invalid input,please enter 1 to 7 only\n",
    "    Learn python\"\"\")\n",
    "    "
   ]
  },
  {
   "cell_type": "code",
   "execution_count": 21,
   "id": "5ae54d44-58c1-4661-8f0d-b41c5ae7327e",
   "metadata": {},
   "outputs": [],
   "source": [
    "x = 10"
   ]
  },
  {
   "cell_type": "code",
   "execution_count": 22,
   "id": "b2336913-ba09-4b54-8043-cd5b7c6898bf",
   "metadata": {},
   "outputs": [
    {
     "name": "stdout",
     "output_type": "stream",
     "text": [
      "Right answer is here\n"
     ]
    }
   ],
   "source": [
    "if x >= 11:\n",
    "    print(\"correct answer\")\n",
    "elif x == 11:\n",
    "    print(\"This one\")\n",
    "elif x > 9:\n",
    "    print(\"Right answer is here\")\n",
    "else:\n",
    "    print(\"out of loop\")"
   ]
  },
  {
   "cell_type": "markdown",
   "id": "ed19c941-f2b0-423f-849b-76275f83ee93",
   "metadata": {},
   "source": [
    "# Nested if statement"
   ]
  },
  {
   "cell_type": "code",
   "execution_count": 23,
   "id": "83fe0a37-d833-4d13-9db2-8c604f0bd736",
   "metadata": {},
   "outputs": [],
   "source": [
    "marks = 80                        # greater than equal to"
   ]
  },
  {
   "cell_type": "code",
   "execution_count": 24,
   "id": "fc8ebcdb-f4ee-4e75-b733-6508b4aa3f1a",
   "metadata": {},
   "outputs": [
    {
     "name": "stdout",
     "output_type": "stream",
     "text": [
      "Back to studies\n"
     ]
    }
   ],
   "source": [
    "if marks >= 85:\n",
    "    print(\"You can get a phone\")\n",
    "if marks >= 90:\n",
    "    print(\"you can go to trip\")\n",
    "else:\n",
    "    print(\"Back to studies\")"
   ]
  },
  {
   "cell_type": "code",
   "execution_count": 35,
   "id": "461ccb44-6c54-4b15-b6a0-97f2618e8421",
   "metadata": {},
   "outputs": [],
   "source": [
    "students = 32         #less than equal to"
   ]
  },
  {
   "cell_type": "code",
   "execution_count": 36,
   "id": "ce8d78eb-bd9c-47f4-ba5d-f991f83755d6",
   "metadata": {},
   "outputs": [
    {
     "name": "stdout",
     "output_type": "stream",
     "text": [
      "There are five students are absent\n",
      "There are Ten students are absent\n"
     ]
    }
   ],
   "source": [
    "if students <= 35:\n",
    "    print(\"There are five students are absent\")\n",
    "if students <= 32:\n",
    "    print(\"There are Ten students are absent\")\n",
    "else:\n",
    "    print(\"stuck off these students\")"
   ]
  },
  {
   "cell_type": "markdown",
   "id": "a94146ca-2d47-4052-8829-a84c50deb1e2",
   "metadata": {},
   "source": [
    "# short hand if statement"
   ]
  },
  {
   "cell_type": "code",
   "execution_count": 37,
   "id": "3157aa7e-a505-44c7-8089-4bfb38e24f98",
   "metadata": {},
   "outputs": [],
   "source": [
    "marks = 87"
   ]
  },
  {
   "cell_type": "code",
   "execution_count": 38,
   "id": "ead66c25-a71b-4d32-a00e-32f15b59402b",
   "metadata": {},
   "outputs": [
    {
     "name": "stdout",
     "output_type": "stream",
     "text": [
      "Yes you are right\n"
     ]
    }
   ],
   "source": [
    "if marks == 87 : print(\"Yes you are right\")"
   ]
  },
  {
   "cell_type": "code",
   "execution_count": 39,
   "id": "6986f75a-c683-48ea-bd9a-9a8430ab1cf9",
   "metadata": {},
   "outputs": [],
   "source": [
    "students = 30"
   ]
  },
  {
   "cell_type": "code",
   "execution_count": 40,
   "id": "31000eab-fca2-4be3-940c-57a305f7523b",
   "metadata": {},
   "outputs": [
    {
     "name": "stdout",
     "output_type": "stream",
     "text": [
      "greater than twenty five\n"
     ]
    }
   ],
   "source": [
    "if students >= 25: print(\"greater than twenty five\")"
   ]
  },
  {
   "cell_type": "code",
   "execution_count": 41,
   "id": "130a340d-f5ff-4775-80d2-103852ba84c3",
   "metadata": {},
   "outputs": [
    {
     "name": "stdout",
     "output_type": "stream",
     "text": [
      "Less than thirty five\n"
     ]
    }
   ],
   "source": [
    "if students <= 35: print(\"Less than thirty five\")"
   ]
  },
  {
   "cell_type": "code",
   "execution_count": 34,
   "id": "ddbce8d3-bd02-427f-97f8-26cdb4696caa",
   "metadata": {},
   "outputs": [
    {
     "name": "stdout",
     "output_type": "stream",
     "text": [
      "little bit short\n"
     ]
    }
   ],
   "source": [
    "if students != 29: print(\"little bit short\")"
   ]
  },
  {
   "cell_type": "markdown",
   "id": "250862c1-a784-4149-95a7-75daa176c5c2",
   "metadata": {},
   "source": [
    "# short hand if else statement"
   ]
  },
  {
   "cell_type": "code",
   "execution_count": 42,
   "id": "c7d74795-c6ad-4ef9-9880-77b79642c08a",
   "metadata": {},
   "outputs": [],
   "source": [
    "marks = 97"
   ]
  },
  {
   "cell_type": "code",
   "execution_count": 57,
   "id": "2379cd59-bfdc-4f57-a86a-c11a2ae5ad48",
   "metadata": {},
   "outputs": [
    {
     "name": "stdout",
     "output_type": "stream",
     "text": [
      "True\n"
     ]
    }
   ],
   "source": [
    "print(\"yes you are right\")if marks != 97 else print(\"True\")    # not equal to"
   ]
  },
  {
   "cell_type": "code",
   "execution_count": 44,
   "id": "6219e4e3-9395-4454-9a85-92231751ff12",
   "metadata": {},
   "outputs": [],
   "source": [
    "dairy_products = 3"
   ]
  },
  {
   "cell_type": "code",
   "execution_count": 53,
   "id": "4fb85f75-d3b7-489e-b16f-97326624ae33",
   "metadata": {},
   "outputs": [
    {
     "name": "stdout",
     "output_type": "stream",
     "text": [
      "there are four to 7 products\n"
     ]
    }
   ],
   "source": [
    "print(\"there are four to 7 products\") if dairy_products <= 7 else print(\"only 3 products are there\")    # less than eqal to"
   ]
  },
  {
   "cell_type": "code",
   "execution_count": 54,
   "id": "6f4c5264-f411-4f9e-a065-c3e09f579ba2",
   "metadata": {},
   "outputs": [
    {
     "name": "stdout",
     "output_type": "stream",
     "text": [
      "there are four to 7 products\n"
     ]
    }
   ],
   "source": [
    "print(\"there are four to 7 products\") if dairy_products >= 7 else print(\"only 3 products are there\")    # greater than equal to"
   ]
  },
  {
   "cell_type": "code",
   "execution_count": 51,
   "id": "86c232e7-f80e-4893-b45e-25f2c29a1592",
   "metadata": {},
   "outputs": [],
   "source": [
    "dairy_products = 7"
   ]
  },
  {
   "cell_type": "code",
   "execution_count": 55,
   "id": "ac1447c4-91b0-4ea6-9b48-e2e51595f8d2",
   "metadata": {},
   "outputs": [
    {
     "name": "stdout",
     "output_type": "stream",
     "text": [
      "there are four to 7 products\n"
     ]
    }
   ],
   "source": [
    "print(\"there are four to 7 products\") if dairy_products == 7 else print(\"only 3 products are there\")     # equal to"
   ]
  },
  {
   "cell_type": "markdown",
   "id": "6a44489a-e5d8-4953-aaa6-60c5250d6520",
   "metadata": {},
   "source": [
    "# Problem solving questions"
   ]
  },
  {
   "cell_type": "code",
   "execution_count": 58,
   "id": "a82a8d40-941b-4b77-acbc-e2737666dd47",
   "metadata": {},
   "outputs": [],
   "source": [
    "# Q1 write a program to check if number is positive?"
   ]
  },
  {
   "cell_type": "code",
   "execution_count": 65,
   "id": "e8e05979-3a7b-4988-bdd5-4dbf92153257",
   "metadata": {},
   "outputs": [
    {
     "name": "stdin",
     "output_type": "stream",
     "text": [
      "Enter the number here: -1\n"
     ]
    },
    {
     "name": "stdout",
     "output_type": "stream",
     "text": [
      "Number is negative\n"
     ]
    }
   ],
   "source": [
    "num = int(input(\"Enter the number here:\"))\n",
    "if num > 0:\n",
    "    print(\"Number is positive\")\n",
    "else:\n",
    "    print(\"Number is negative\")\n"
   ]
  },
  {
   "cell_type": "code",
   "execution_count": 66,
   "id": "9118360b-538c-4362-be11-36d9bfabfe5f",
   "metadata": {},
   "outputs": [
    {
     "name": "stdin",
     "output_type": "stream",
     "text": [
      "Enter the number here: 24\n"
     ]
    },
    {
     "name": "stdout",
     "output_type": "stream",
     "text": [
      "Number is positive\n"
     ]
    }
   ],
   "source": [
    "num = int(input(\"Enter the number here:\"))\n",
    "if num > 0:\n",
    "    print(\"Number is positive\")\n",
    "else:\n",
    "    print(\"Number is negative\")\n"
   ]
  },
  {
   "cell_type": "code",
   "execution_count": 64,
   "id": "4ff1d355-a530-43c8-bdb0-48df58ab413e",
   "metadata": {},
   "outputs": [],
   "source": [
    "#Q2 Write a program to check number is odd or even?"
   ]
  },
  {
   "cell_type": "code",
   "execution_count": 2,
   "id": "b795f078-42d9-4577-a9f6-c8e3728f5def",
   "metadata": {},
   "outputs": [
    {
     "name": "stdin",
     "output_type": "stream",
     "text": [
      "Enter the number here: 3\n"
     ]
    },
    {
     "name": "stdout",
     "output_type": "stream",
     "text": [
      "odd number\n"
     ]
    }
   ],
   "source": [
    "num = int(input(\"Enter the number here:\"))\n",
    "if num % 2 == 0:\n",
    "    print(\"Even number\")\n",
    "else:\n",
    "    print(\"odd number\")"
   ]
  },
  {
   "cell_type": "code",
   "execution_count": 3,
   "id": "c53091fd-b641-4063-8b3c-9f9c59043838",
   "metadata": {},
   "outputs": [],
   "source": [
    "num = 20"
   ]
  },
  {
   "cell_type": "code",
   "execution_count": 15,
   "id": "7c2c08b9-45a4-4490-9359-43dad7ff761d",
   "metadata": {},
   "outputs": [
    {
     "name": "stdin",
     "output_type": "stream",
     "text": [
      "Enter the number: 2\n"
     ]
    },
    {
     "name": "stdout",
     "output_type": "stream",
     "text": [
      "Even number\n"
     ]
    }
   ],
   "source": [
    "num = int(input(\"Enter the number:\"))\n",
    "if num % 2 == 0:\n",
    "    print(\"Even number\")\n",
    "else:\n",
    "    print(\"odd number\")"
   ]
  },
  {
   "cell_type": "markdown",
   "id": "d256f4d2-3612-4478-b077-dc2069517fa4",
   "metadata": {},
   "source": [
    "# Nested if else statement"
   ]
  },
  {
   "cell_type": "code",
   "execution_count": 77,
   "id": "3a8f9d26-153a-4fdf-92f2-3e56d8e5af9a",
   "metadata": {},
   "outputs": [],
   "source": [
    "num = 2"
   ]
  },
  {
   "cell_type": "code",
   "execution_count": 76,
   "id": "e2c0758b-49fe-465c-9eaf-1fbae026a683",
   "metadata": {},
   "outputs": [
    {
     "name": "stdout",
     "output_type": "stream",
     "text": [
      "Divisible by 2 \n"
     ]
    }
   ],
   "source": [
    "if num % 2 == 0:\n",
    "    if num % 3 == 0:\n",
    "        print(\"Divisible by 2 and 3\")\n",
    "    else:\n",
    "        print(\"Divisible by 2 \")\n",
    "elif n % 3:\n",
    "        print(\"Divisible by3\")\n",
    "else:\n",
    "    print(\"Not Divisible by 2 and 3 \")"
   ]
  },
  {
   "cell_type": "code",
   "execution_count": 100,
   "id": "d7ffe292-824d-4d2e-b7fa-b1836d98dda3",
   "metadata": {},
   "outputs": [],
   "source": [
    "num = 17"
   ]
  },
  {
   "cell_type": "code",
   "execution_count": 106,
   "id": "93b8bcf0-4e23-43ba-832f-a06826327d9e",
   "metadata": {},
   "outputs": [
    {
     "name": "stdout",
     "output_type": "stream",
     "text": [
      " Not divisible by 2 ,3 and 5\n"
     ]
    }
   ],
   "source": [
    "if num % 2 == 0:\n",
    "    if num % 3 == 0:\n",
    "        if num % 5 == 0:\n",
    "            print(\"Divisible by 2,3 and 5\")\n",
    "        else:\n",
    "            print(\"Divisible by 2 and 3\")\n",
    "    elif num % 5 == 0:\n",
    "        print(\"Divisible by 2 and 5\")\n",
    "    else:\n",
    "        print(\" Divisible by 2\")\n",
    "elif num % 3 == 0:\n",
    "    if num % 5 == 0:\n",
    "        print(\"Divisible by 3 and 5\")\n",
    "    else:\n",
    "        print(\"Divisible by 3 \")\n",
    "elif num % 5==0:\n",
    "    print(\"divisible by 5\")\n",
    "else:\n",
    "    print(\" Not divisible by 2 ,3 and 5\")\n",
    "\n",
    "            "
   ]
  },
  {
   "cell_type": "code",
   "execution_count": 108,
   "id": "a09a0314-6ca0-47e3-976c-3e97c835a8da",
   "metadata": {},
   "outputs": [],
   "source": [
    "num = 20"
   ]
  },
  {
   "cell_type": "code",
   "execution_count": 118,
   "id": "dac9a5f3-3a9f-424e-a482-d2ae8ad1f606",
   "metadata": {},
   "outputs": [
    {
     "name": "stdout",
     "output_type": "stream",
     "text": [
      "Greater than from 1st and 2nd condition\n"
     ]
    }
   ],
   "source": [
    "if  num > 10:\n",
    "    if num > 19:\n",
    "        if num > 22:\n",
    "            print(\"Greater than from all conditions\")\n",
    "        else:\n",
    "            print(\"Greater than from 1st and 2nd condition\")\n",
    "    elif num > 22:\n",
    "        print(\"Greater than from 1st and 3rd condition\")\n",
    "    else:\n",
    "        print(\" 1st_True\")\n",
    "elif num > 19:\n",
    "    if num > 22:\n",
    "        print(\"Greater than from 2nd and 3rd condition\")\n",
    "    else:\n",
    "        print(\"2nd_true\")\n",
    "elif num > 22:\n",
    "    print(\"3rd_True\")\n",
    "else:\n",
    "    print(\"All conditions are wrong\")\n",
    "    "
   ]
  },
  {
   "cell_type": "code",
   "execution_count": 135,
   "id": "17f8ca60-34da-4a0e-8943-504ed0f574f2",
   "metadata": {},
   "outputs": [],
   "source": [
    "state = \"chandigarh\"\n",
    "age = 20"
   ]
  },
  {
   "cell_type": "code",
   "execution_count": 138,
   "id": "252a583c-9c4a-4508-a357-1357042d831c",
   "metadata": {},
   "outputs": [
    {
     "name": "stdout",
     "output_type": "stream",
     "text": [
      "Age is not sufficient for chandigarh\n"
     ]
    }
   ],
   "source": [
    "if state == \"chandigarh\":\n",
    "    if age > 30:\n",
    "        print(\"welcome to smart city\")\n",
    "    else:\n",
    "        print(\"Age is not sufficient for chandigarh\")\n",
    "elif state == \"Himachal\":\n",
    "    if age < 30:\n",
    "        print(\"welcome to Dev Bhoomi\")\n",
    "    else:\n",
    "        print(\"Age is sufficient for Himachal\")\n",
    "else:\n",
    "    print(\"\"\"Khi bhi nhi jana \n",
    "chup chap pdhne betho\n",
    "ghr pe.\"\"\")\n",
    "    \n",
    "\n"
   ]
  },
  {
   "cell_type": "code",
   "execution_count": 154,
   "id": "417bc04e-6541-48f7-80ed-29b4961db52e",
   "metadata": {},
   "outputs": [
    {
     "name": "stdin",
     "output_type": "stream",
     "text": [
      "Enter the number: 5\n"
     ]
    },
    {
     "name": "stdout",
     "output_type": "stream",
     "text": [
      "number is odd\n"
     ]
    }
   ],
   "source": [
    "a = int(input(\"Enter the number:\"))\n",
    "if a % 2 == 0:\n",
    "    print(\"number is even \")\n",
    "else:\n",
    "     print(\"number is odd\")\n",
    "\n",
    "\n",
    "       "
   ]
  },
  {
   "cell_type": "markdown",
   "id": "771171d5-c6fc-4631-b9eb-7c42cef54138",
   "metadata": {},
   "source": [
    " # Logical operations"
   ]
  },
  {
   "cell_type": "markdown",
   "id": "5e6d763d-e800-4dfc-b2fa-1a8a168461af",
   "metadata": {},
   "source": [
    "## NOT"
   ]
  },
  {
   "cell_type": "code",
   "execution_count": 26,
   "id": "79c05be9-1dd5-4cab-a14d-31030fa71e2b",
   "metadata": {},
   "outputs": [
    {
     "data": {
      "text/plain": [
       "False"
      ]
     },
     "execution_count": 26,
     "metadata": {},
     "output_type": "execute_result"
    }
   ],
   "source": [
    "not True"
   ]
  },
  {
   "cell_type": "code",
   "execution_count": 27,
   "id": "d435adc2-657e-4a04-8e3a-23350ecc3f34",
   "metadata": {},
   "outputs": [
    {
     "data": {
      "text/plain": [
       "True"
      ]
     },
     "execution_count": 27,
     "metadata": {},
     "output_type": "execute_result"
    }
   ],
   "source": [
    "not False"
   ]
  },
  {
   "cell_type": "code",
   "execution_count": 28,
   "id": "c3d1c838-e704-43e8-9dac-cef9a599f776",
   "metadata": {},
   "outputs": [
    {
     "name": "stdout",
     "output_type": "stream",
     "text": [
      "Hello\n"
     ]
    }
   ],
   "source": [
    "if True:\n",
    "    print(\"Hello\")       "
   ]
  },
  {
   "cell_type": "code",
   "execution_count": 29,
   "id": "83775711-97ae-4c3b-bf17-09ca7c1cddd5",
   "metadata": {},
   "outputs": [],
   "source": [
    "if not True:\n",
    "    print(\"Hello_2\")              # no output"
   ]
  },
  {
   "cell_type": "code",
   "execution_count": 30,
   "id": "cd097594-5b41-44ca-8e6c-d9197aec4794",
   "metadata": {},
   "outputs": [],
   "source": [
    "if False:\n",
    "    print(\"Hi\")                     # no output"
   ]
  },
  {
   "cell_type": "code",
   "execution_count": 31,
   "id": "95b981d7-da42-40e1-9525-8b83462f016e",
   "metadata": {},
   "outputs": [
    {
     "name": "stdout",
     "output_type": "stream",
     "text": [
      "Hi\n"
     ]
    }
   ],
   "source": [
    "if not False:\n",
    "    print(\"Hi\")"
   ]
  },
  {
   "cell_type": "code",
   "execution_count": 36,
   "id": "13f3ebd5-70a4-4266-9ae9-dc8b1243a9a4",
   "metadata": {},
   "outputs": [],
   "source": [
    "first = True"
   ]
  },
  {
   "cell_type": "code",
   "execution_count": 43,
   "id": "cbbdbd40-4f48-492d-9afb-1272e662707b",
   "metadata": {},
   "outputs": [
    {
     "name": "stdout",
     "output_type": "stream",
     "text": [
      "Hi saransh\n"
     ]
    }
   ],
   "source": [
    "if first:\n",
    "    print(\"Nice to meet you\")\n",
    "    name = input(\"Enter your name::\")\n",
    "    first = False\n",
    "else:\n",
    "    print(\"Hi saransh\")"
   ]
  },
  {
   "cell_type": "markdown",
   "id": "34292441-5c82-4129-a6b4-ebfd48229b85",
   "metadata": {},
   "source": [
    "## AND"
   ]
  },
  {
   "cell_type": "code",
   "execution_count": 72,
   "id": "aa51dab5-b016-40c3-a609-0e6a9d8aca87",
   "metadata": {},
   "outputs": [
    {
     "data": {
      "text/plain": [
       "True"
      ]
     },
     "execution_count": 72,
     "metadata": {},
     "output_type": "execute_result"
    }
   ],
   "source": [
    "True and True "
   ]
  },
  {
   "cell_type": "code",
   "execution_count": 73,
   "id": "7a09562c-9a6f-467c-87b3-0b6c75a7d60a",
   "metadata": {},
   "outputs": [
    {
     "data": {
      "text/plain": [
       "False"
      ]
     },
     "execution_count": 73,
     "metadata": {},
     "output_type": "execute_result"
    }
   ],
   "source": [
    "False and True"
   ]
  },
  {
   "cell_type": "code",
   "execution_count": 74,
   "id": "c97915ee-43fb-4ddb-af29-5e5e0760f319",
   "metadata": {},
   "outputs": [
    {
     "data": {
      "text/plain": [
       "False"
      ]
     },
     "execution_count": 74,
     "metadata": {},
     "output_type": "execute_result"
    }
   ],
   "source": [
    "False and False"
   ]
  },
  {
   "cell_type": "code",
   "execution_count": 44,
   "id": "6e6d5f3f-f65d-4a02-b64b-4e669d20aed6",
   "metadata": {},
   "outputs": [],
   "source": [
    "attendence = 70"
   ]
  },
  {
   "cell_type": "code",
   "execution_count": 45,
   "id": "7a78090b-eefe-4a1f-ac24-e627a762c29b",
   "metadata": {},
   "outputs": [],
   "source": [
    "marks = 50"
   ]
  },
  {
   "cell_type": "code",
   "execution_count": 53,
   "id": "15948d62-137b-4190-88b9-d819a924e7c9",
   "metadata": {},
   "outputs": [
    {
     "name": "stdout",
     "output_type": "stream",
     "text": [
      "Pass\n"
     ]
    }
   ],
   "source": [
    "if attendence >= 70:\n",
    "    print(\"Pass\")"
   ]
  },
  {
   "cell_type": "code",
   "execution_count": 58,
   "id": "6cb3457f-dc3a-428d-9471-8142cd7c1032",
   "metadata": {},
   "outputs": [
    {
     "name": "stdout",
     "output_type": "stream",
     "text": [
      "Pass\n"
     ]
    }
   ],
   "source": [
    "if attendence >= 35:\n",
    "    print(\"Pass\")"
   ]
  },
  {
   "cell_type": "code",
   "execution_count": 59,
   "id": "90b64000-ad8e-48a9-bb15-ba16078f6edc",
   "metadata": {},
   "outputs": [
    {
     "name": "stdout",
     "output_type": "stream",
     "text": [
      "Pass\n"
     ]
    }
   ],
   "source": [
    "if (attendence >= 70) and (attendence >=35):\n",
    "    print(\"Pass\")\n",
    "else:\n",
    "    print(\"Fail\")"
   ]
  },
  {
   "cell_type": "code",
   "execution_count": 68,
   "id": "68c5cbb4-75da-4fe7-90dd-ccb93548ee36",
   "metadata": {},
   "outputs": [],
   "source": [
    "ticket = False\n",
    "age = 20"
   ]
  },
  {
   "cell_type": "code",
   "execution_count": 70,
   "id": "301b5a3d-a56c-4508-910e-e9806c0a0819",
   "metadata": {},
   "outputs": [
    {
     "name": "stdout",
     "output_type": "stream",
     "text": [
      "Bye\n"
     ]
    }
   ],
   "source": [
    "if (age >= 18) and (ticket) :\n",
    "    print(\"Welcome\")\n",
    "else:\n",
    "    print(\"Bye\")"
   ]
  },
  {
   "cell_type": "code",
   "execution_count": 71,
   "id": "ab1bef04-cf34-46df-822f-f8d20fb36d2b",
   "metadata": {},
   "outputs": [
    {
     "name": "stdout",
     "output_type": "stream",
     "text": [
      "Welcome\n"
     ]
    }
   ],
   "source": [
    "if (age >= 18) and (not ticket) :\n",
    "    print(\"Welcome\")\n",
    "else:\n",
    "    print(\"Bye\")"
   ]
  },
  {
   "cell_type": "markdown",
   "id": "f0bed143-1469-430a-95d4-18c954787d1e",
   "metadata": {},
   "source": [
    "## OR"
   ]
  },
  {
   "cell_type": "code",
   "execution_count": 75,
   "id": "1826d8b1-7675-4889-a948-fbd9caaf412e",
   "metadata": {},
   "outputs": [
    {
     "data": {
      "text/plain": [
       "True"
      ]
     },
     "execution_count": 75,
     "metadata": {},
     "output_type": "execute_result"
    }
   ],
   "source": [
    "True or True"
   ]
  },
  {
   "cell_type": "code",
   "execution_count": 76,
   "id": "ae545470-ecf3-4287-a1b9-3ff803df8119",
   "metadata": {},
   "outputs": [
    {
     "data": {
      "text/plain": [
       "True"
      ]
     },
     "execution_count": 76,
     "metadata": {},
     "output_type": "execute_result"
    }
   ],
   "source": [
    "True or False"
   ]
  },
  {
   "cell_type": "code",
   "execution_count": 77,
   "id": "e606b224-7ea4-4915-9968-2ee5a5906703",
   "metadata": {},
   "outputs": [
    {
     "data": {
      "text/plain": [
       "False"
      ]
     },
     "execution_count": 77,
     "metadata": {},
     "output_type": "execute_result"
    }
   ],
   "source": [
    "False or False"
   ]
  },
  {
   "cell_type": "code",
   "execution_count": 87,
   "id": "227fdcf2-5b2b-47c6-877a-e09523858aeb",
   "metadata": {},
   "outputs": [],
   "source": [
    "marks  = 90\n",
    "donation = 9000"
   ]
  },
  {
   "cell_type": "code",
   "execution_count": 91,
   "id": "166a2385-5e2f-4958-9cff-aa8f59b880bb",
   "metadata": {},
   "outputs": [
    {
     "name": "stdout",
     "output_type": "stream",
     "text": [
      "mt ana\n"
     ]
    }
   ],
   "source": [
    "if (marks > 80) or (donation > 10000):\n",
    "    print(\"Welcome to school\")                      # True or False\n",
    "else:\n",
    "    print(\"mt ana\")"
   ]
  },
  {
   "cell_type": "code",
   "execution_count": 93,
   "id": "b26359d6-719d-4b39-b1d0-84ebe9bdf9ed",
   "metadata": {},
   "outputs": [],
   "source": [
    "email = True\n",
    "number = False"
   ]
  },
  {
   "cell_type": "code",
   "execution_count": 94,
   "id": "0aaf6272-e8a7-49e6-b2db-4a6284a58dc0",
   "metadata": {
    "jupyter": {
     "source_hidden": true
    }
   },
   "outputs": [
    {
     "name": "stdout",
     "output_type": "stream",
     "text": [
      "Yes you are right\n"
     ]
    }
   ],
   "source": [
    "if email or number:\n",
    "    print(\"Yes you are right\")\n",
    "else:\n",
    "    print(\"you are wrong\")"
   ]
  },
  {
   "cell_type": "code",
   "execution_count": 89,
   "id": "0e52b4e0-9401-4d68-a299-820c12ed4798",
   "metadata": {},
   "outputs": [],
   "source": [
    "marks  = 0\n",
    "donation = 0"
   ]
  },
  {
   "cell_type": "code",
   "execution_count": 92,
   "id": "6cbf010b-5600-480d-89c6-1ca731aec068",
   "metadata": {},
   "outputs": [
    {
     "name": "stdout",
     "output_type": "stream",
     "text": [
      "mt ana\n"
     ]
    }
   ],
   "source": [
    "if (marks > 0) or (donation >  0):            # False or False\n",
    "    print(\"Welcome to school\")\n",
    "else:\n",
    "    print(\"mt ana\")"
   ]
  },
  {
   "cell_type": "markdown",
   "id": "68c37e29-53f2-4e54-b0e8-c3b221786518",
   "metadata": {},
   "source": [
    "## And , OR"
   ]
  },
  {
   "cell_type": "code",
   "execution_count": 95,
   "id": "6c31766a-7fd4-4ee8-911d-e4f598d7a149",
   "metadata": {},
   "outputs": [],
   "source": [
    "email = True\n",
    "password = True\n",
    "number = False"
   ]
  },
  {
   "cell_type": "code",
   "execution_count": 96,
   "id": "2770349a-a757-486f-a9d8-024901de62ef",
   "metadata": {},
   "outputs": [
    {
     "name": "stdout",
     "output_type": "stream",
     "text": [
      "Welcome to HDFC\n"
     ]
    }
   ],
   "source": [
    "if (number or email) and password:\n",
    "    print(\"Welcome to HDFC\")\n",
    "else:\n",
    "    print(\"something went wrong\")"
   ]
  },
  {
   "cell_type": "code",
   "execution_count": 135,
   "id": "84461519-7bf1-4cf2-bb1d-79a06cf3d866",
   "metadata": {},
   "outputs": [],
   "source": [
    "username = \"SARANSH\"\n",
    "password = 12345"
   ]
  },
  {
   "cell_type": "code",
   "execution_count": 170,
   "id": "68d9f676-3b79-4223-b2b0-febbcd2ce2b0",
   "metadata": {},
   "outputs": [
    {
     "name": "stdout",
     "output_type": "stream",
     "text": [
      "incorrect input\n"
     ]
    }
   ],
   "source": [
    "if username and password:\n",
    "    if (not username == \"\") or (not password == 12345):\n",
    "        print(\"incorrect input\")\n",
    "    else:\n",
    "        print(\"login\")\n",
    "else:\n",
    "    print(\"Incomplete Input\")\n",
    "   "
   ]
  },
  {
   "cell_type": "code",
   "execution_count": 164,
   "id": "4b13a913-ae33-46ca-b953-501ae00b90e9",
   "metadata": {},
   "outputs": [],
   "source": [
    "value = True\n",
    "place = \"Himachal\""
   ]
  },
  {
   "cell_type": "code",
   "execution_count": 166,
   "id": "f5545b2e-9e40-4f8a-ae98-0be9862ac6f9",
   "metadata": {},
   "outputs": [
    {
     "name": "stdout",
     "output_type": "stream",
     "text": [
      "Not at all\n"
     ]
    }
   ],
   "source": [
    "if value and place:\n",
    "    if (not value == True) or (not place ==\"Himachal\"):\n",
    "        print(\"yes you are right\")\n",
    "    else:\n",
    "        print(\"Not at all\")\n",
    "else:\n",
    "    print(\"Incomplete input\")"
   ]
  },
  {
   "cell_type": "markdown",
   "id": "e6db1d90-65e7-44d1-91eb-bf065dd5cfda",
   "metadata": {},
   "source": [
    "## Q1 Grade Evaluation: Given a student’s marks in 5 subjects, write a program to determine:\n",
    "\n",
    "## \"Distinction\" if the average is over 75 and no subject has marks below 40.\n",
    "\n",
    "## \"Pass\" if average is over 40 but at most 2 subjects are below 40.\n",
    "\n",
    "## \"Fail\" otherwise."
   ]
  },
  {
   "cell_type": "code",
   "execution_count": 97,
   "id": "6a38b693-4c57-4fba-a43d-2c066aa702a7",
   "metadata": {},
   "outputs": [],
   "source": [
    "hindi = 50\n",
    "maths = 50\n",
    "english = 50\n",
    "sanskrit = 50"
   ]
  },
  {
   "cell_type": "code",
   "execution_count": 103,
   "id": "51ca8daa-f18d-49f6-a7e3-d6767d254ecc",
   "metadata": {},
   "outputs": [
    {
     "name": "stdout",
     "output_type": "stream",
     "text": [
      "Pass\n"
     ]
    }
   ],
   "source": [
    "if (hindi > 35) and (maths > 35) and (english > 35) and (sanskrit > 35):\n",
    "    print(\"Pass\")\n",
    "else:\n",
    "    print(\"Fail\")"
   ]
  },
  {
   "cell_type": "code",
   "execution_count": 128,
   "id": "6e0d5703-837d-4663-94df-8ade1f30077b",
   "metadata": {},
   "outputs": [],
   "source": [
    "hindi = 50\n",
    "maths = 50\n",
    "english = 50\n",
    "sanskrit = 91"
   ]
  },
  {
   "cell_type": "code",
   "execution_count": 129,
   "id": "4c2c5da4-1979-447f-a2fc-7779fa40fcd1",
   "metadata": {},
   "outputs": [],
   "source": [
    "average = (hindi + english + sanskrit +maths) // 4"
   ]
  },
  {
   "cell_type": "code",
   "execution_count": 130,
   "id": "3a0dc29b-736b-4b62-bd6e-a89695c2d20d",
   "metadata": {},
   "outputs": [
    {
     "name": "stdout",
     "output_type": "stream",
     "text": [
      "Pass\n",
      "Distinction\n",
      "Topper\n"
     ]
    }
   ],
   "source": [
    "if (hindi > 35) and (maths > 35) and (english > 35) and (sanskrit > 35):\n",
    "    print(\"Pass\")\n",
    "    if average >= (hindi > 40) and (maths > 40) and (english > 40) and (sanskrit > 40):\n",
    "        print(\"Distinction\")\n",
    "    else:\n",
    "        print(\"Saransh Gautam\")\n",
    "        \n",
    "    if (hindi > 90) or (maths > 90) or (english > 90) or (sanskrit > 90):\n",
    "         print(\"Topper\") \n",
    "else:\n",
    "    print(\"Fail\")"
   ]
  },
  {
   "cell_type": "markdown",
   "id": "0742af76-9c9f-4ae0-9ee6-95a0d06da031",
   "metadata": {},
   "source": [
    "# Questions solving\n"
   ]
  },
  {
   "cell_type": "code",
   "execution_count": 2,
   "id": "21d098fc-94d0-4dfb-b455-80b120d7a78e",
   "metadata": {},
   "outputs": [
    {
     "name": "stdin",
     "output_type": "stream",
     "text": [
      "Enter the Letters here: a\n"
     ]
    },
    {
     "name": "stdout",
     "output_type": "stream",
     "text": [
      "it is a vowel\n"
     ]
    }
   ],
   "source": [
    "letter = input(\"Enter the Letters here:\")\n",
    "if letter  in \"a,e,i,o,u\":\n",
    "    print(\"it is a vowel\")\n",
    "else:\n",
    "    print(\"it is not a vowel\")"
   ]
  },
  {
   "cell_type": "code",
   "execution_count": 6,
   "id": "51775202-f319-4d72-8080-a18f86d41d61",
   "metadata": {},
   "outputs": [
    {
     "name": "stdin",
     "output_type": "stream",
     "text": [
      "Enter your number here: 333\n"
     ]
    },
    {
     "name": "stdout",
     "output_type": "stream",
     "text": [
      "Three digit number\n"
     ]
    }
   ],
   "source": [
    "num = int(input(\"Enter your number here:\"))\n",
    "if num >= 0 and num <= 9:\n",
    "    print(\"single digit number\")\n",
    "elif num >= 10 and num <= 99:\n",
    "    print(\"Double digit number\")\n",
    "elif num >= 100 and num <= 999:\n",
    "    print(\"Three digit number\")\n",
    "elif num >= 1000 and num <= 9999:\n",
    "    print(\"Four digit number\")\n",
    "else:\n",
    "    print(\"Five digit number\")"
   ]
  },
  {
   "cell_type": "code",
   "execution_count": null,
   "id": "482b9598-4f64-40ba-9c69-8627f609d693",
   "metadata": {},
   "outputs": [],
   "source": []
  }
 ],
 "metadata": {
  "kernelspec": {
   "display_name": "Python 3 (ipykernel)",
   "language": "python",
   "name": "python3"
  },
  "language_info": {
   "codemirror_mode": {
    "name": "ipython",
    "version": 3
   },
   "file_extension": ".py",
   "mimetype": "text/x-python",
   "name": "python",
   "nbconvert_exporter": "python",
   "pygments_lexer": "ipython3",
   "version": "3.13.5"
  }
 },
 "nbformat": 4,
 "nbformat_minor": 5
}
