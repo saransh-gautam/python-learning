{
 "cells": [
  {
   "cell_type": "markdown",
   "id": "b002a77f-8603-4900-a6cb-db16f188f1ff",
   "metadata": {},
   "source": [
    "# 0  ko chod ke sare numbers true hote hai or neg numbers bhi true hoge"
   ]
  },
  {
   "cell_type": "code",
   "execution_count": 15,
   "id": "c9e703af-bfdd-416b-9b8f-305ffaac241f",
   "metadata": {},
   "outputs": [
    {
     "data": {
      "text/plain": [
       "True"
      ]
     },
     "execution_count": 15,
     "metadata": {},
     "output_type": "execute_result"
    }
   ],
   "source": [
    "True"
   ]
  },
  {
   "cell_type": "code",
   "execution_count": 16,
   "id": "7a81987c-95c9-4cb0-ab51-3c1002f48a3b",
   "metadata": {},
   "outputs": [
    {
     "data": {
      "text/plain": [
       "False"
      ]
     },
     "execution_count": 16,
     "metadata": {},
     "output_type": "execute_result"
    }
   ],
   "source": [
    "False"
   ]
  },
  {
   "cell_type": "code",
   "execution_count": 17,
   "id": "6e22c304-88d0-4d33-b8c4-d21844e8a8ef",
   "metadata": {},
   "outputs": [
    {
     "data": {
      "text/plain": [
       "1"
      ]
     },
     "execution_count": 17,
     "metadata": {},
     "output_type": "execute_result"
    }
   ],
   "source": [
    "int(True)"
   ]
  },
  {
   "cell_type": "code",
   "execution_count": 18,
   "id": "86a3b60c-0542-438d-9d8c-f32c059d0c32",
   "metadata": {},
   "outputs": [
    {
     "data": {
      "text/plain": [
       "0"
      ]
     },
     "execution_count": 18,
     "metadata": {},
     "output_type": "execute_result"
    }
   ],
   "source": [
    "int(False)"
   ]
  },
  {
   "cell_type": "code",
   "execution_count": 19,
   "id": "d6d05786-b7cc-4070-8d12-64ab81a283f1",
   "metadata": {},
   "outputs": [
    {
     "data": {
      "text/plain": [
       "True"
      ]
     },
     "execution_count": 19,
     "metadata": {},
     "output_type": "execute_result"
    }
   ],
   "source": [
    "bool(-100)"
   ]
  },
  {
   "cell_type": "code",
   "execution_count": 20,
   "id": "db9819b0-10fc-461e-9cf2-95969ad9a606",
   "metadata": {},
   "outputs": [
    {
     "data": {
      "text/plain": [
       "True"
      ]
     },
     "execution_count": 20,
     "metadata": {},
     "output_type": "execute_result"
    }
   ],
   "source": [
    "bool(-1)"
   ]
  },
  {
   "cell_type": "code",
   "execution_count": 21,
   "id": "ac9464eb-782b-4412-bdb6-b69d04b8da87",
   "metadata": {},
   "outputs": [],
   "source": [
    "#none"
   ]
  },
  {
   "cell_type": "code",
   "execution_count": 22,
   "id": "44dc601b-7e4f-4ae9-ace5-e2b548f38eeb",
   "metadata": {},
   "outputs": [
    {
     "data": {
      "text/plain": [
       "False"
      ]
     },
     "execution_count": 22,
     "metadata": {},
     "output_type": "execute_result"
    }
   ],
   "source": [
    "bool()"
   ]
  },
  {
   "cell_type": "markdown",
   "id": "d2f5afca-5b8a-4207-a8b3-6501b4b2c53a",
   "metadata": {},
   "source": [
    "# chahe blank list,tuple,string or koi bhi hoi false hi hoti hai"
   ]
  },
  {
   "cell_type": "code",
   "execution_count": 23,
   "id": "77c849af-18be-484e-aaaa-2dae5f295e13",
   "metadata": {},
   "outputs": [],
   "source": [
    "#blank string"
   ]
  },
  {
   "cell_type": "code",
   "execution_count": 24,
   "id": "6097d3e2-11dc-456d-8a56-10f9eb942115",
   "metadata": {},
   "outputs": [
    {
     "data": {
      "text/plain": [
       "False"
      ]
     },
     "execution_count": 24,
     "metadata": {},
     "output_type": "execute_result"
    }
   ],
   "source": [
    "bool(\"\")"
   ]
  },
  {
   "cell_type": "code",
   "execution_count": 26,
   "id": "c93d52a3-1585-4904-b53b-5ebb5c8405a5",
   "metadata": {},
   "outputs": [
    {
     "data": {
      "text/plain": [
       "True"
      ]
     },
     "execution_count": 26,
     "metadata": {},
     "output_type": "execute_result"
    }
   ],
   "source": [
    "bool(\" \")      # with space gets true "
   ]
  },
  {
   "cell_type": "markdown",
   "id": "897c56fc-0a18-4f52-a012-99cf8851154c",
   "metadata": {},
   "source": [
    "# Comparison operators"
   ]
  },
  {
   "cell_type": "code",
   "execution_count": 34,
   "id": "3a55a9b3-a2e7-4582-98fe-18117f7cd86d",
   "metadata": {},
   "outputs": [
    {
     "data": {
      "text/plain": [
       "True"
      ]
     },
     "execution_count": 34,
     "metadata": {},
     "output_type": "execute_result"
    }
   ],
   "source": [
    "5 < 10"
   ]
  },
  {
   "cell_type": "code",
   "execution_count": 35,
   "id": "c5c3cc92-1dd6-404b-b898-dd513c1cfd7f",
   "metadata": {},
   "outputs": [
    {
     "data": {
      "text/plain": [
       "False"
      ]
     },
     "execution_count": 35,
     "metadata": {},
     "output_type": "execute_result"
    }
   ],
   "source": [
    "5 > 10"
   ]
  },
  {
   "cell_type": "code",
   "execution_count": 37,
   "id": "39504d8d-20f7-4557-8d78-7c50058252ef",
   "metadata": {},
   "outputs": [
    {
     "data": {
      "text/plain": [
       "True"
      ]
     },
     "execution_count": 37,
     "metadata": {},
     "output_type": "execute_result"
    }
   ],
   "source": [
    "5 == 5"
   ]
  },
  {
   "cell_type": "code",
   "execution_count": 39,
   "id": "6737c4f7-3b5d-47dd-ba1f-974bc23ea558",
   "metadata": {},
   "outputs": [
    {
     "data": {
      "text/plain": [
       "False"
      ]
     },
     "execution_count": 39,
     "metadata": {},
     "output_type": "execute_result"
    }
   ],
   "source": [
    "11 ==12"
   ]
  },
  {
   "cell_type": "code",
   "execution_count": 53,
   "id": "70f24b1b-bf86-437e-8eb6-cd05c371f935",
   "metadata": {},
   "outputs": [
    {
     "name": "stdout",
     "output_type": "stream",
     "text": [
      "True\n"
     ]
    }
   ],
   "source": [
    "age = 20       # greater than equal to\n",
    "print(age >=18)"
   ]
  },
  {
   "cell_type": "code",
   "execution_count": 52,
   "id": "040aa7c1-f7c6-4e67-8742-62e4de2aeb27",
   "metadata": {},
   "outputs": [
    {
     "name": "stdout",
     "output_type": "stream",
     "text": [
      "True\n"
     ]
    }
   ],
   "source": [
    "age = 23       #less than equal to\n",
    "print(age <=25)"
   ]
  },
  {
   "cell_type": "code",
   "execution_count": 54,
   "id": "37d43313-c25b-482d-9915-bfeddf817e2d",
   "metadata": {},
   "outputs": [
    {
     "name": "stdout",
     "output_type": "stream",
     "text": [
      "True\n"
     ]
    }
   ],
   "source": [
    "age = 20                # not equal to\n",
    "print(age != 21)"
   ]
  },
  {
   "cell_type": "markdown",
   "id": "2e910537-d516-43b0-8e8c-f9298ff61760",
   "metadata": {},
   "source": [
    "# If  elif , else statements"
   ]
  },
  {
   "cell_type": "code",
   "execution_count": 62,
   "id": "07fe27e1-bfea-4754-b099-4d7bd6ccac3d",
   "metadata": {},
   "outputs": [],
   "source": [
    "age = 20"
   ]
  },
  {
   "cell_type": "code",
   "execution_count": 65,
   "id": "c422f38d-e52d-46c2-8fe1-1a623b382278",
   "metadata": {},
   "outputs": [
    {
     "name": "stdout",
     "output_type": "stream",
     "text": [
      "Age is not sufficient\n"
     ]
    }
   ],
   "source": [
    "if age < 18:\n",
    "    print(\"welcome\")\n",
    "else:\n",
    "    print(\"Age is not sufficient\")"
   ]
  },
  {
   "cell_type": "code",
   "execution_count": 77,
   "id": "dbf24cee-6701-4436-952f-6b2b897e8999",
   "metadata": {},
   "outputs": [],
   "source": [
    "marks = 60"
   ]
  },
  {
   "cell_type": "code",
   "execution_count": 79,
   "id": "377487e2-dd42-4ffd-a65d-935b3e96d341",
   "metadata": {},
   "outputs": [
    {
     "name": "stdout",
     "output_type": "stream",
     "text": [
      "D\n"
     ]
    }
   ],
   "source": [
    "if marks >= 90:\n",
    "    print(\"A\")\n",
    "elif marks >= 80:\n",
    "    print(\"B\")\n",
    "elif marks >= 70:\n",
    "    print(\"C\")\n",
    "elif marks >= 60:\n",
    "    print(\"D\")\n",
    "elif marks >= 50:\n",
    "    print(\"F\")\n",
    "else:\n",
    "    print(\"Fail\")\n",
    "    "
   ]
  },
  {
   "cell_type": "code",
   "execution_count": 95,
   "id": "01ebc645-6e64-489c-8fd0-6abb595bf4df",
   "metadata": {},
   "outputs": [],
   "source": [
    "students = 50"
   ]
  },
  {
   "cell_type": "code",
   "execution_count": 104,
   "id": "4643344e-2944-46ec-b24c-08f9e038669b",
   "metadata": {},
   "outputs": [
    {
     "name": "stdout",
     "output_type": "stream",
     "text": [
      "Absent\n"
     ]
    }
   ],
   "source": [
    "if students == 40:\n",
    "    print(\"All\")\n",
    "elif students <= 25:\n",
    "    print(\"Less than 30\")\n",
    "elif students <= 20:\n",
    "    print(\"Less than 20\")\n",
    "elif students != 50:\n",
    "    print(\"present\")\n",
    "else:\n",
    "    print(\"Absent\")\n"
   ]
  },
  {
   "cell_type": "code",
   "execution_count": 111,
   "id": "a4456488-552b-43f9-b222-539adb3e301f",
   "metadata": {},
   "outputs": [],
   "source": [
    "hours = 24"
   ]
  },
  {
   "cell_type": "code",
   "execution_count": 115,
   "id": "197caab5-88ed-4093-b6ec-3a43377b2442",
   "metadata": {},
   "outputs": [
    {
     "name": "stdout",
     "output_type": "stream",
     "text": [
      "Good Night\n"
     ]
    }
   ],
   "source": [
    "if hours < 12:\n",
    "    print(\"Good Morining\")\n",
    "elif hours < 18:\n",
    "    print(\"Goood After noon\")\n",
    "elif hours >= 24:\n",
    "    print(\"Good Night\")\n",
    "else:\n",
    "    print(\"All the best for your day\")"
   ]
  },
  {
   "cell_type": "code",
   "execution_count": 116,
   "id": "d3cfa8e8-3515-4da8-a0a5-25a731ec948f",
   "metadata": {},
   "outputs": [],
   "source": [
    "num = 2"
   ]
  },
  {
   "cell_type": "code",
   "execution_count": 118,
   "id": "b83ac180-bdd0-4838-be44-6e1a790d8f1d",
   "metadata": {},
   "outputs": [
    {
     "name": "stdout",
     "output_type": "stream",
     "text": [
      "The actual reason.\n"
     ]
    }
   ],
   "source": [
    "if num > 3:\n",
    "    print(\"The number is positive.\")\n",
    "elif num < 1:\n",
    "    print(\"The number is negative.\")\n",
    "else:\n",
    "    print(\"The actual reason.\")"
   ]
  },
  {
   "cell_type": "code",
   "execution_count": 19,
   "id": "11eca62f-6a96-4e4a-a14b-3ebe95873be9",
   "metadata": {},
   "outputs": [],
   "source": [
    "num = 0"
   ]
  },
  {
   "cell_type": "code",
   "execution_count": 20,
   "id": "f2661bce-e01c-40c2-8558-bcfbee35cf04",
   "metadata": {},
   "outputs": [
    {
     "name": "stdout",
     "output_type": "stream",
     "text": [
      "Invalid input,please enter 1 to 7 only\n",
      "    Learn python\n"
     ]
    }
   ],
   "source": [
    "if num == 1:\n",
    "    print(\"Monday\")\n",
    "elif num == 2:\n",
    "    print(\"Tuesday\")\n",
    "elif num == 3:\n",
    "    print(\"wednesday\")\n",
    "elif num == 4:\n",
    "    print(\"Thursday\")\n",
    "elif num == 5:\n",
    "    print(\"Friday\")\n",
    "elif num == 6:\n",
    "    print(\"Saturday\")\n",
    "elif num == 7:\n",
    "    print(\"Sunday\")\n",
    "else:\n",
    "    print(\"\"\"Invalid input,please enter 1 to 7 only\n",
    "    Learn python\"\"\")\n",
    "    "
   ]
  },
  {
   "cell_type": "code",
   "execution_count": 21,
   "id": "5ae54d44-58c1-4661-8f0d-b41c5ae7327e",
   "metadata": {},
   "outputs": [],
   "source": [
    "x = 10"
   ]
  },
  {
   "cell_type": "code",
   "execution_count": 22,
   "id": "b2336913-ba09-4b54-8043-cd5b7c6898bf",
   "metadata": {},
   "outputs": [
    {
     "name": "stdout",
     "output_type": "stream",
     "text": [
      "Right answer is here\n"
     ]
    }
   ],
   "source": [
    "if x >= 11:\n",
    "    print(\"correct answer\")\n",
    "elif x == 11:\n",
    "    print(\"This one\")\n",
    "elif x > 9:\n",
    "    print(\"Right answer is here\")\n",
    "else:\n",
    "    print(\"out of loop\")"
   ]
  },
  {
   "cell_type": "markdown",
   "id": "ed19c941-f2b0-423f-849b-76275f83ee93",
   "metadata": {},
   "source": [
    "# Nested if statement"
   ]
  },
  {
   "cell_type": "code",
   "execution_count": 23,
   "id": "83fe0a37-d833-4d13-9db2-8c604f0bd736",
   "metadata": {},
   "outputs": [],
   "source": [
    "marks = 80                        # greater than equal to"
   ]
  },
  {
   "cell_type": "code",
   "execution_count": 24,
   "id": "fc8ebcdb-f4ee-4e75-b733-6508b4aa3f1a",
   "metadata": {},
   "outputs": [
    {
     "name": "stdout",
     "output_type": "stream",
     "text": [
      "Back to studies\n"
     ]
    }
   ],
   "source": [
    "if marks >= 85:\n",
    "    print(\"You can get a phone\")\n",
    "if marks >= 90:\n",
    "    print(\"you can go to trip\")\n",
    "else:\n",
    "    print(\"Back to studies\")"
   ]
  },
  {
   "cell_type": "code",
   "execution_count": 35,
   "id": "461ccb44-6c54-4b15-b6a0-97f2618e8421",
   "metadata": {},
   "outputs": [],
   "source": [
    "students = 32         #less than equal to"
   ]
  },
  {
   "cell_type": "code",
   "execution_count": 36,
   "id": "ce8d78eb-bd9c-47f4-ba5d-f991f83755d6",
   "metadata": {},
   "outputs": [
    {
     "name": "stdout",
     "output_type": "stream",
     "text": [
      "There are five students are absent\n",
      "There are Ten students are absent\n"
     ]
    }
   ],
   "source": [
    "if students <= 35:\n",
    "    print(\"There are five students are absent\")\n",
    "if students <= 32:\n",
    "    print(\"There are Ten students are absent\")\n",
    "else:\n",
    "    print(\"stuck off these students\")"
   ]
  },
  {
   "cell_type": "markdown",
   "id": "a94146ca-2d47-4052-8829-a84c50deb1e2",
   "metadata": {},
   "source": [
    "# short hand if statement"
   ]
  },
  {
   "cell_type": "code",
   "execution_count": 37,
   "id": "3157aa7e-a505-44c7-8089-4bfb38e24f98",
   "metadata": {},
   "outputs": [],
   "source": [
    "marks = 87"
   ]
  },
  {
   "cell_type": "code",
   "execution_count": 38,
   "id": "ead66c25-a71b-4d32-a00e-32f15b59402b",
   "metadata": {},
   "outputs": [
    {
     "name": "stdout",
     "output_type": "stream",
     "text": [
      "Yes you are right\n"
     ]
    }
   ],
   "source": [
    "if marks == 87 : print(\"Yes you are right\")"
   ]
  },
  {
   "cell_type": "code",
   "execution_count": 39,
   "id": "6986f75a-c683-48ea-bd9a-9a8430ab1cf9",
   "metadata": {},
   "outputs": [],
   "source": [
    "students = 30"
   ]
  },
  {
   "cell_type": "code",
   "execution_count": 40,
   "id": "31000eab-fca2-4be3-940c-57a305f7523b",
   "metadata": {},
   "outputs": [
    {
     "name": "stdout",
     "output_type": "stream",
     "text": [
      "greater than twenty five\n"
     ]
    }
   ],
   "source": [
    "if students >= 25: print(\"greater than twenty five\")"
   ]
  },
  {
   "cell_type": "code",
   "execution_count": 41,
   "id": "130a340d-f5ff-4775-80d2-103852ba84c3",
   "metadata": {},
   "outputs": [
    {
     "name": "stdout",
     "output_type": "stream",
     "text": [
      "Less than thirty five\n"
     ]
    }
   ],
   "source": [
    "if students <= 35: print(\"Less than thirty five\")"
   ]
  },
  {
   "cell_type": "code",
   "execution_count": 34,
   "id": "ddbce8d3-bd02-427f-97f8-26cdb4696caa",
   "metadata": {},
   "outputs": [
    {
     "name": "stdout",
     "output_type": "stream",
     "text": [
      "little bit short\n"
     ]
    }
   ],
   "source": [
    "if students != 29: print(\"little bit short\")"
   ]
  },
  {
   "cell_type": "markdown",
   "id": "250862c1-a784-4149-95a7-75daa176c5c2",
   "metadata": {},
   "source": [
    "# short hand if else statement"
   ]
  },
  {
   "cell_type": "code",
   "execution_count": 42,
   "id": "c7d74795-c6ad-4ef9-9880-77b79642c08a",
   "metadata": {},
   "outputs": [],
   "source": [
    "marks = 97"
   ]
  },
  {
   "cell_type": "code",
   "execution_count": 57,
   "id": "2379cd59-bfdc-4f57-a86a-c11a2ae5ad48",
   "metadata": {},
   "outputs": [
    {
     "name": "stdout",
     "output_type": "stream",
     "text": [
      "True\n"
     ]
    }
   ],
   "source": [
    "print(\"yes you are right\")if marks != 97 else print(\"True\")    # not equal to"
   ]
  },
  {
   "cell_type": "code",
   "execution_count": 44,
   "id": "6219e4e3-9395-4454-9a85-92231751ff12",
   "metadata": {},
   "outputs": [],
   "source": [
    "dairy_products = 3"
   ]
  },
  {
   "cell_type": "code",
   "execution_count": 53,
   "id": "4fb85f75-d3b7-489e-b16f-97326624ae33",
   "metadata": {},
   "outputs": [
    {
     "name": "stdout",
     "output_type": "stream",
     "text": [
      "there are four to 7 products\n"
     ]
    }
   ],
   "source": [
    "print(\"there are four to 7 products\") if dairy_products <= 7 else print(\"only 3 products are there\")    # less than eqal to"
   ]
  },
  {
   "cell_type": "code",
   "execution_count": 54,
   "id": "6f4c5264-f411-4f9e-a065-c3e09f579ba2",
   "metadata": {},
   "outputs": [
    {
     "name": "stdout",
     "output_type": "stream",
     "text": [
      "there are four to 7 products\n"
     ]
    }
   ],
   "source": [
    "print(\"there are four to 7 products\") if dairy_products >= 7 else print(\"only 3 products are there\")    # greater than equal to"
   ]
  },
  {
   "cell_type": "code",
   "execution_count": 51,
   "id": "86c232e7-f80e-4893-b45e-25f2c29a1592",
   "metadata": {},
   "outputs": [],
   "source": [
    "dairy_products = 7"
   ]
  },
  {
   "cell_type": "code",
   "execution_count": 55,
   "id": "ac1447c4-91b0-4ea6-9b48-e2e51595f8d2",
   "metadata": {},
   "outputs": [
    {
     "name": "stdout",
     "output_type": "stream",
     "text": [
      "there are four to 7 products\n"
     ]
    }
   ],
   "source": [
    "print(\"there are four to 7 products\") if dairy_products == 7 else print(\"only 3 products are there\")     # equal to"
   ]
  },
  {
   "cell_type": "markdown",
   "id": "6a44489a-e5d8-4953-aaa6-60c5250d6520",
   "metadata": {},
   "source": [
    "# Problem solving questions"
   ]
  },
  {
   "cell_type": "code",
   "execution_count": 58,
   "id": "a82a8d40-941b-4b77-acbc-e2737666dd47",
   "metadata": {},
   "outputs": [],
   "source": [
    "# Q1 write a program to check if number is positive?"
   ]
  },
  {
   "cell_type": "code",
   "execution_count": 65,
   "id": "e8e05979-3a7b-4988-bdd5-4dbf92153257",
   "metadata": {},
   "outputs": [
    {
     "name": "stdin",
     "output_type": "stream",
     "text": [
      "Enter the number here: -1\n"
     ]
    },
    {
     "name": "stdout",
     "output_type": "stream",
     "text": [
      "Number is negative\n"
     ]
    }
   ],
   "source": [
    "num = int(input(\"Enter the number here:\"))\n",
    "if num > 0:\n",
    "    print(\"Number is positive\")\n",
    "else:\n",
    "    print(\"Number is negative\")\n"
   ]
  },
  {
   "cell_type": "code",
   "execution_count": 66,
   "id": "9118360b-538c-4362-be11-36d9bfabfe5f",
   "metadata": {},
   "outputs": [
    {
     "name": "stdin",
     "output_type": "stream",
     "text": [
      "Enter the number here: 24\n"
     ]
    },
    {
     "name": "stdout",
     "output_type": "stream",
     "text": [
      "Number is positive\n"
     ]
    }
   ],
   "source": [
    "num = int(input(\"Enter the number here:\"))\n",
    "if num > 0:\n",
    "    print(\"Number is positive\")\n",
    "else:\n",
    "    print(\"Number is negative\")\n"
   ]
  },
  {
   "cell_type": "code",
   "execution_count": 64,
   "id": "4ff1d355-a530-43c8-bdb0-48df58ab413e",
   "metadata": {},
   "outputs": [],
   "source": [
    "#Q2 Write a program to check number is odd or even?"
   ]
  },
  {
   "cell_type": "code",
   "execution_count": 2,
   "id": "b795f078-42d9-4577-a9f6-c8e3728f5def",
   "metadata": {},
   "outputs": [
    {
     "name": "stdin",
     "output_type": "stream",
     "text": [
      "Enter the number here: 3\n"
     ]
    },
    {
     "name": "stdout",
     "output_type": "stream",
     "text": [
      "odd number\n"
     ]
    }
   ],
   "source": [
    "num = int(input(\"Enter the number here:\"))\n",
    "if num % 2 == 0:\n",
    "    print(\"Even number\")\n",
    "else:\n",
    "    print(\"odd number\")"
   ]
  },
  {
   "cell_type": "code",
   "execution_count": 3,
   "id": "c53091fd-b641-4063-8b3c-9f9c59043838",
   "metadata": {},
   "outputs": [],
   "source": [
    "num = 20"
   ]
  },
  {
   "cell_type": "code",
   "execution_count": 15,
   "id": "7c2c08b9-45a4-4490-9359-43dad7ff761d",
   "metadata": {},
   "outputs": [
    {
     "name": "stdin",
     "output_type": "stream",
     "text": [
      "Enter the number: 2\n"
     ]
    },
    {
     "name": "stdout",
     "output_type": "stream",
     "text": [
      "Even number\n"
     ]
    }
   ],
   "source": [
    "num = int(input(\"Enter the number:\"))\n",
    "if num % 2 == 0:\n",
    "    print(\"Even number\")\n",
    "else:\n",
    "    print(\"odd number\")"
   ]
  },
  {
   "cell_type": "markdown",
   "id": "d256f4d2-3612-4478-b077-dc2069517fa4",
   "metadata": {},
   "source": [
    "# Nested if else statement"
   ]
  },
  {
   "cell_type": "code",
   "execution_count": 77,
   "id": "3a8f9d26-153a-4fdf-92f2-3e56d8e5af9a",
   "metadata": {},
   "outputs": [],
   "source": [
    "num = 2"
   ]
  },
  {
   "cell_type": "code",
   "execution_count": 76,
   "id": "e2c0758b-49fe-465c-9eaf-1fbae026a683",
   "metadata": {},
   "outputs": [
    {
     "name": "stdout",
     "output_type": "stream",
     "text": [
      "Divisible by 2 \n"
     ]
    }
   ],
   "source": [
    "if num % 2 == 0:\n",
    "    if num % 3 == 0:\n",
    "        print(\"Divisible by 2 and 3\")\n",
    "    else:\n",
    "        print(\"Divisible by 2 \")\n",
    "elif n % 3:\n",
    "        print(\"Divisible by3\")\n",
    "else:\n",
    "    print(\"Not Divisible by 2 and 3 \")"
   ]
  },
  {
   "cell_type": "code",
   "execution_count": null,
   "id": "d7ffe292-824d-4d2e-b7fa-b1836d98dda3",
   "metadata": {},
   "outputs": [],
   "source": []
  },
  {
   "cell_type": "code",
   "execution_count": null,
   "id": "93b8bcf0-4e23-43ba-832f-a06826327d9e",
   "metadata": {},
   "outputs": [],
   "source": []
  }
 ],
 "metadata": {
  "kernelspec": {
   "display_name": "Python 3 (ipykernel)",
   "language": "python",
   "name": "python3"
  },
  "language_info": {
   "codemirror_mode": {
    "name": "ipython",
    "version": 3
   },
   "file_extension": ".py",
   "mimetype": "text/x-python",
   "name": "python",
   "nbconvert_exporter": "python",
   "pygments_lexer": "ipython3",
   "version": "3.13.5"
  }
 },
 "nbformat": 4,
 "nbformat_minor": 5
}
