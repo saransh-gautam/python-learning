{
 "cells": [
  {
   "cell_type": "code",
   "execution_count": 10,
   "id": "2d4bf717-cb5a-4729-84c9-99817098124c",
   "metadata": {},
   "outputs": [],
   "source": [
    "class car():\n",
    "        tyre = 4\n",
    "    \n",
    "        def move():\n",
    "            print(\"I am moving forward\")"
   ]
  },
  {
   "cell_type": "code",
   "execution_count": 12,
   "id": "cbfba363-0f59-4659-bd6b-e06f65763e3e",
   "metadata": {},
   "outputs": [
    {
     "data": {
      "text/plain": [
       "4"
      ]
     },
     "execution_count": 12,
     "metadata": {},
     "output_type": "execute_result"
    }
   ],
   "source": [
    "car.tyre"
   ]
  },
  {
   "cell_type": "code",
   "execution_count": 13,
   "id": "a25afe03-44dd-4bc7-b3ef-5eab3199cb9c",
   "metadata": {},
   "outputs": [
    {
     "name": "stdout",
     "output_type": "stream",
     "text": [
      "I am moving forward\n"
     ]
    }
   ],
   "source": [
    "car.move()"
   ]
  },
  {
   "cell_type": "code",
   "execution_count": 14,
   "id": "99a38bc7-4c4d-43a0-a51c-f1d008250d7f",
   "metadata": {},
   "outputs": [],
   "source": [
    "class human():\n",
    "    legs = 2\n",
    "\n",
    "    def eat_up():\n",
    "        print(\"i am eating\")\n",
    "        print(\"now i am full\")\n",
    "        print(\"Thank you\")"
   ]
  },
  {
   "cell_type": "code",
   "execution_count": 15,
   "id": "bb06fee5-98aa-41b7-aa64-369339347a79",
   "metadata": {},
   "outputs": [
    {
     "name": "stdout",
     "output_type": "stream",
     "text": [
      "i am eating\n",
      "now i am full\n",
      "Thank you\n"
     ]
    }
   ],
   "source": [
    "human.eat_up()"
   ]
  },
  {
   "cell_type": "code",
   "execution_count": 18,
   "id": "22e22a77-aff1-46ec-9d55-5d2665f749a4",
   "metadata": {},
   "outputs": [
    {
     "data": {
      "text/plain": [
       "2"
      ]
     },
     "execution_count": 18,
     "metadata": {},
     "output_type": "execute_result"
    }
   ],
   "source": [
    "human.legs"
   ]
  },
  {
   "cell_type": "code",
   "execution_count": 21,
   "id": "001bb5da-553b-41e0-bfa7-fed51611552e",
   "metadata": {},
   "outputs": [],
   "source": [
    "# object"
   ]
  },
  {
   "cell_type": "code",
   "execution_count": 39,
   "id": "bd008120-a1af-4ced-bb29-6091ce7a26f4",
   "metadata": {},
   "outputs": [],
   "source": [
    "gadi = car()"
   ]
  },
  {
   "cell_type": "code",
   "execution_count": 40,
   "id": "82a7f10c-e8fd-4a08-a709-d724ef7535e3",
   "metadata": {},
   "outputs": [],
   "source": [
    "gadi2 = car()"
   ]
  },
  {
   "cell_type": "code",
   "execution_count": 41,
   "id": "87deb378-ea3d-4cc8-a582-75c70f5703c8",
   "metadata": {},
   "outputs": [
    {
     "data": {
      "text/plain": [
       "4"
      ]
     },
     "execution_count": 41,
     "metadata": {},
     "output_type": "execute_result"
    }
   ],
   "source": [
    "gadi.tyre"
   ]
  },
  {
   "cell_type": "code",
   "execution_count": 42,
   "id": "256047f4-c02c-44c8-8476-13a1baa6fea3",
   "metadata": {},
   "outputs": [
    {
     "data": {
      "text/plain": [
       "4"
      ]
     },
     "execution_count": 42,
     "metadata": {},
     "output_type": "execute_result"
    }
   ],
   "source": [
    "gadi2.tyre"
   ]
  },
  {
   "cell_type": "code",
   "execution_count": 46,
   "id": "0799bf5f-a7cf-4000-9f00-e9a509bd5eed",
   "metadata": {},
   "outputs": [],
   "source": [
    "gadi.tyre = 3\n"
   ]
  },
  {
   "cell_type": "code",
   "execution_count": 47,
   "id": "f3c4b93e-2f68-4d3f-84f4-6681bd243807",
   "metadata": {},
   "outputs": [
    {
     "data": {
      "text/plain": [
       "3"
      ]
     },
     "execution_count": 47,
     "metadata": {},
     "output_type": "execute_result"
    }
   ],
   "source": [
    "gadi.tyre"
   ]
  },
  {
   "cell_type": "code",
   "execution_count": 48,
   "id": "206cf01e-03bf-480e-b98f-c06461f042df",
   "metadata": {},
   "outputs": [
    {
     "data": {
      "text/plain": [
       "4"
      ]
     },
     "execution_count": 48,
     "metadata": {},
     "output_type": "execute_result"
    }
   ],
   "source": [
    "gadi2.tyre"
   ]
  },
  {
   "cell_type": "code",
   "execution_count": 63,
   "id": "02e60120-16da-4f1e-93fe-216e2c27909a",
   "metadata": {},
   "outputs": [],
   "source": [
    "class car():\n",
    "    tyre = 4\n",
    "\n",
    "\n",
    "    def move(self):    # jo bhi object create hpoga isliye self use kiya hai\n",
    "        print(\"moving forward\")"
   ]
  },
  {
   "cell_type": "code",
   "execution_count": 64,
   "id": "9b56c38c-5dce-4d2a-af2b-7d4920f5183f",
   "metadata": {},
   "outputs": [
    {
     "data": {
      "text/plain": [
       "4"
      ]
     },
     "execution_count": 64,
     "metadata": {},
     "output_type": "execute_result"
    }
   ],
   "source": [
    "car.tyre"
   ]
  },
  {
   "cell_type": "code",
   "execution_count": 56,
   "id": "b3c1ecd5-760e-4736-8f07-bea23dba2dd5",
   "metadata": {},
   "outputs": [],
   "source": [
    "gadi = car()\n",
    "gadi2 = car()"
   ]
  },
  {
   "cell_type": "code",
   "execution_count": 58,
   "id": "f06ed8e4-0c2f-4bf3-8e6e-eec36c6a56ac",
   "metadata": {},
   "outputs": [
    {
     "name": "stdout",
     "output_type": "stream",
     "text": [
      "moving forward\n"
     ]
    }
   ],
   "source": [
    "gadi.move()"
   ]
  },
  {
   "cell_type": "code",
   "execution_count": 59,
   "id": "1269e48a-4b0b-405c-af10-d325f9a0d2af",
   "metadata": {},
   "outputs": [
    {
     "name": "stdout",
     "output_type": "stream",
     "text": [
      "moving forward\n"
     ]
    }
   ],
   "source": [
    "gadi2.move()"
   ]
  },
  {
   "cell_type": "code",
   "execution_count": 60,
   "id": "00a85823-99e1-4f4f-b8d6-d184928a0b6c",
   "metadata": {},
   "outputs": [
    {
     "data": {
      "text/plain": [
       "4"
      ]
     },
     "execution_count": 60,
     "metadata": {},
     "output_type": "execute_result"
    }
   ],
   "source": [
    "gadi.tyre"
   ]
  },
  {
   "cell_type": "code",
   "execution_count": 62,
   "id": "be1748c4-4d8f-4ce9-b557-a7bdf3d52be7",
   "metadata": {},
   "outputs": [
    {
     "data": {
      "text/plain": [
       "4"
      ]
     },
     "execution_count": 62,
     "metadata": {},
     "output_type": "execute_result"
    }
   ],
   "source": [
    "gadi2.tyre"
   ]
  },
  {
   "cell_type": "code",
   "execution_count": 69,
   "id": "20b7ab8c-aa07-4c32-8f2b-3fdc370fb280",
   "metadata": {},
   "outputs": [],
   "source": [
    "class car():\n",
    "    tyre = 4\n",
    "\n",
    "    def __init__(self,model_name):\n",
    "        self.name = model_name\n",
    "\n",
    "    def move(self):\n",
    "        print(\"moving forward\")"
   ]
  },
  {
   "cell_type": "code",
   "execution_count": 71,
   "id": "0a5fa2b8-a6a7-4db3-aafe-1ff90d1eeb64",
   "metadata": {},
   "outputs": [],
   "source": [
    "gadi = car(\"swift\")"
   ]
  },
  {
   "cell_type": "code",
   "execution_count": 72,
   "id": "d93cfe49-9969-4bd5-8b35-3f0074da2cd6",
   "metadata": {},
   "outputs": [
    {
     "data": {
      "text/plain": [
       "'swift'"
      ]
     },
     "execution_count": 72,
     "metadata": {},
     "output_type": "execute_result"
    }
   ],
   "source": [
    "gadi.name"
   ]
  },
  {
   "cell_type": "code",
   "execution_count": 73,
   "id": "3ac738ff-865e-46d8-b92e-d60f15652494",
   "metadata": {},
   "outputs": [],
   "source": [
    "gadi2 = car(\"scorpio\")"
   ]
  },
  {
   "cell_type": "code",
   "execution_count": 75,
   "id": "ca5ed5ec-0782-4c07-b36d-47da254c1738",
   "metadata": {},
   "outputs": [
    {
     "data": {
      "text/plain": [
       "'scorpio'"
      ]
     },
     "execution_count": 75,
     "metadata": {},
     "output_type": "execute_result"
    }
   ],
   "source": [
    "gadi2.name"
   ]
  },
  {
   "cell_type": "code",
   "execution_count": 76,
   "id": "c9a443c9-0dae-4c7e-8b61-3df7a07c249e",
   "metadata": {},
   "outputs": [
    {
     "name": "stdout",
     "output_type": "stream",
     "text": [
      "moving forward\n"
     ]
    }
   ],
   "source": [
    "gadi.move()"
   ]
  },
  {
   "cell_type": "code",
   "execution_count": 77,
   "id": "2ef8cd13-a64d-442e-9128-e6e9f3ca5389",
   "metadata": {},
   "outputs": [
    {
     "name": "stdout",
     "output_type": "stream",
     "text": [
      "moving forward\n"
     ]
    }
   ],
   "source": [
    "gadi2.move()"
   ]
  },
  {
   "cell_type": "code",
   "execution_count": 83,
   "id": "30ab5942-77c4-41f3-8813-b7bd32f83312",
   "metadata": {},
   "outputs": [],
   "source": [
    "class car():\n",
    "    tyre = 4\n",
    "\n",
    "    def __init__(self,model,year):\n",
    "        self.model = model\n",
    "        self.year = year\n",
    "\n",
    "    def introduction(self):\n",
    "        print(f\"hello i am {self.model} and i was made in {self.year}\")\n",
    "\n",
    "    def move(self):\n",
    "        print(f\"i am {self.model} moving forward since {self.year}\")"
   ]
  },
  {
   "cell_type": "code",
   "execution_count": 84,
   "id": "69f6ba0e-260c-4c8c-a80a-765c12e3e67b",
   "metadata": {},
   "outputs": [],
   "source": [
    "gadi = car(\"swift\",2000)"
   ]
  },
  {
   "cell_type": "code",
   "execution_count": 85,
   "id": "616b5777-9c0b-4eee-9570-7d1c53bdca04",
   "metadata": {},
   "outputs": [
    {
     "name": "stdout",
     "output_type": "stream",
     "text": [
      "hello i am swift and i was made in 2000\n"
     ]
    }
   ],
   "source": [
    "gadi.introduction()"
   ]
  },
  {
   "cell_type": "code",
   "execution_count": 86,
   "id": "99db7db6-1332-40e9-ac00-bc96311858a4",
   "metadata": {},
   "outputs": [
    {
     "name": "stdout",
     "output_type": "stream",
     "text": [
      "i am swift moving forward since 2000\n"
     ]
    }
   ],
   "source": [
    "gadi.move()"
   ]
  },
  {
   "cell_type": "markdown",
   "id": "e493cb3c-d5b8-45f8-9bb2-b7749926b24e",
   "metadata": {},
   "source": [
    "# Magic function or special functions"
   ]
  },
  {
   "cell_type": "code",
   "execution_count": 110,
   "id": "dc6b9e2f-6307-42ab-a2d1-b3c2293d0bf7",
   "metadata": {},
   "outputs": [],
   "source": [
    "class Account():\n",
    "    BANK_NAME = \"SBI\"\n",
    "\n",
    "    def __init__(self,name,initial_deposit = 0):\n",
    "        self.name = name \n",
    "        self.balance = initial_deposit\n",
    "        print(f\" {self.name} Welcome to {self.BANK_NAME}\")\n",
    "\n",
    "    def __str__(self):\n",
    "\n",
    "        a = f\"\"\"\n",
    "             ========={self.BANK_NAME}=========\n",
    "             Account Holder  : {self.name}\n",
    "             Account balance : {self.balance}\n",
    "             \"\"\"\n",
    "        return a\n",
    "\n",
    "    def __del__(self):\n",
    "         print(f\"{self.name} money {self.balance} item was empty\")\n",
    "        "
   ]
  },
  {
   "cell_type": "code",
   "execution_count": 116,
   "id": "f8f587c2-cfec-465f-ae8e-92c03ff14b00",
   "metadata": {},
   "outputs": [
    {
     "name": "stdout",
     "output_type": "stream",
     "text": [
      " saransh Welcome to SBI\n"
     ]
    }
   ],
   "source": [
    "phela_Account = Account(\"saransh\",50000)"
   ]
  },
  {
   "cell_type": "code",
   "execution_count": 117,
   "id": "58fcca57-5eeb-476d-9e4b-e9683276ce08",
   "metadata": {},
   "outputs": [
    {
     "data": {
      "text/plain": [
       "'saransh'"
      ]
     },
     "execution_count": 117,
     "metadata": {},
     "output_type": "execute_result"
    }
   ],
   "source": [
    "phela_Account.name"
   ]
  },
  {
   "cell_type": "code",
   "execution_count": 118,
   "id": "6e0c158a-2761-485a-be45-4c6d4add931a",
   "metadata": {},
   "outputs": [
    {
     "data": {
      "text/plain": [
       "50000"
      ]
     },
     "execution_count": 118,
     "metadata": {},
     "output_type": "execute_result"
    }
   ],
   "source": [
    "phela_Account.balance"
   ]
  },
  {
   "cell_type": "code",
   "execution_count": 119,
   "id": "d2a6a47d-0d8a-454f-9dd9-5ab3f1f39a88",
   "metadata": {},
   "outputs": [
    {
     "name": "stdout",
     "output_type": "stream",
     "text": [
      "\n",
      "             =========SBI=========\n",
      "             Account Holder  : saransh\n",
      "             Account balance : 50000\n",
      "             \n"
     ]
    }
   ],
   "source": [
    "print(phela_Account)"
   ]
  },
  {
   "cell_type": "code",
   "execution_count": 120,
   "id": "1fc02fa7-56a3-4022-82f7-a19e0c0856de",
   "metadata": {},
   "outputs": [
    {
     "name": "stdout",
     "output_type": "stream",
     "text": [
      "saransh money 50000 item was empty\n"
     ]
    }
   ],
   "source": [
    "del phela_Account"
   ]
  },
  {
   "cell_type": "code",
   "execution_count": 203,
   "id": "1170db5d-d549-4795-9076-1a9ce009f4f7",
   "metadata": {},
   "outputs": [],
   "source": [
    "class Account():\n",
    "    BANK_NAME = \"HDFC\"\n",
    "\n",
    "    def __init__(self,name,initial_deposit = 0):\n",
    "        self.name = name\n",
    "        self.balance = initial_deposit\n",
    "        print(f\"{self.name} Welcome to {self.BANK_NAME}\")\n",
    "\n",
    "    def __str__(self):              # str\n",
    "        about = f\"\"\"\n",
    "                ===== Welcome To {self.BANK_NAME} =====\n",
    "                 Account Holder : {self.name}\n",
    "                 Acoount Balance : {self.balance}\"\"\"\n",
    "        return about\n",
    "\n",
    "    def __del__(self):\n",
    "        using = f\"\"\"\n",
    "        ====={self.name} and his {self.balance} was deleted=====\"\"\"\n",
    "        print(using)"
   ]
  },
  {
   "cell_type": "code",
   "execution_count": 204,
   "id": "29c2e929-2fc2-4022-bc3b-009bbbdf49df",
   "metadata": {},
   "outputs": [
    {
     "name": "stdout",
     "output_type": "stream",
     "text": [
      "saransh Welcome to HDFC\n"
     ]
    }
   ],
   "source": [
    "dusra_Account = Account(\"saransh\",10000)"
   ]
  },
  {
   "cell_type": "code",
   "execution_count": 205,
   "id": "6e142eea-85b7-4527-9e9e-2729f1ea01a2",
   "metadata": {},
   "outputs": [
    {
     "data": {
      "text/plain": [
       "'saransh'"
      ]
     },
     "execution_count": 205,
     "metadata": {},
     "output_type": "execute_result"
    }
   ],
   "source": [
    "dusra_Account.name"
   ]
  },
  {
   "cell_type": "code",
   "execution_count": 206,
   "id": "1620fc93-f467-4a56-af78-c56155cc01a0",
   "metadata": {},
   "outputs": [
    {
     "data": {
      "text/plain": [
       "10000"
      ]
     },
     "execution_count": 206,
     "metadata": {},
     "output_type": "execute_result"
    }
   ],
   "source": [
    "dusra_Account.balance"
   ]
  },
  {
   "cell_type": "code",
   "execution_count": 207,
   "id": "7583af47-324f-469c-89f2-d2ef6606c74e",
   "metadata": {},
   "outputs": [
    {
     "name": "stdout",
     "output_type": "stream",
     "text": [
      "\n",
      "                ===== Welcome To HDFC =====\n",
      "                 Account Holder : saransh\n",
      "                 Acoount Balance : 10000\n"
     ]
    }
   ],
   "source": [
    "print(dusra_Account)"
   ]
  },
  {
   "cell_type": "code",
   "execution_count": 208,
   "id": "a98b165d-2ed0-4d71-8373-94c74b2ef3df",
   "metadata": {},
   "outputs": [
    {
     "name": "stdout",
     "output_type": "stream",
     "text": [
      "\n",
      "        =====saransh and his 10000 was deleted=====\n"
     ]
    }
   ],
   "source": [
    "del dusra_Account"
   ]
  },
  {
   "cell_type": "markdown",
   "id": "0a3372d8-3982-4909-bae5-d2ab91938da9",
   "metadata": {},
   "source": [
    "# Encapsulation"
   ]
  },
  {
   "cell_type": "code",
   "execution_count": 323,
   "id": "554742c8-9a44-423b-ba79-3fed9789a707",
   "metadata": {},
   "outputs": [],
   "source": [
    "class Account():\n",
    "    BANK_NAME = \"ICIC_BANK\"\n",
    "\n",
    "    def __init__(self,name,initial_deposit = 0):\n",
    "        self.__name = name\n",
    "        self.__balance = initial_deposit\n",
    "        print(f\"Hello {self.__name} Welcome to {self.BANK_NAME}\")\n",
    "\n",
    "    def __str__(self):\n",
    "        about  = f\"\"\"\n",
    "                  ===== Welcome to {self.BANK_NAME}===== \n",
    "                    Account Holder : {self.__name}\n",
    "                    Account Balance : {self.__balance}\"\"\"\n",
    "        return about"
   ]
  },
  {
   "cell_type": "code",
   "execution_count": 324,
   "id": "1117ed6b-791a-4c9e-a117-3c46ea278060",
   "metadata": {},
   "outputs": [
    {
     "name": "stdout",
     "output_type": "stream",
     "text": [
      "Hello shubham Welcome to ICIC_BANK\n"
     ]
    }
   ],
   "source": [
    "third_account = Account(\"shubham\",30000)"
   ]
  },
  {
   "cell_type": "code",
   "execution_count": 325,
   "id": "c7ef4f68-4c36-44bc-a040-27d0bf903c91",
   "metadata": {},
   "outputs": [
    {
     "name": "stdout",
     "output_type": "stream",
     "text": [
      "\n",
      "                  ===== Welcome to ICIC_BANK===== \n",
      "                    Account Holder : shubham\n",
      "                    Account Balance : 30000\n"
     ]
    }
   ],
   "source": [
    "print(third_account)"
   ]
  },
  {
   "cell_type": "code",
   "execution_count": 326,
   "id": "c8e0c71f-a960-44c8-adbe-44c3fde9b357",
   "metadata": {},
   "outputs": [
    {
     "data": {
      "text/plain": [
       "'ICIC_BANK'"
      ]
     },
     "execution_count": 326,
     "metadata": {},
     "output_type": "execute_result"
    }
   ],
   "source": [
    "third_account.BANK_NAME"
   ]
  },
  {
   "cell_type": "code",
   "execution_count": 358,
   "id": "22927187-d12b-4365-9a7e-7c6c3135603f",
   "metadata": {},
   "outputs": [],
   "source": [
    "class Account():\n",
    "    BANK_NAME = \"BANK OF BRODA\"\n",
    "\n",
    "    def __init__(self,name,initial_deposit = 0):\n",
    "        self.__name = name\n",
    "        self.__balance = initial_deposit\n",
    "        print(f\" Hello {self.__name} Welcome to {self.BANK_NAME}\")\n",
    "\n",
    "    def __str__(self):\n",
    "        about  = f\"\"\"\n",
    "        ===== Welcome to {self.BANK_NAME} =====\n",
    "              Account Holder : {self.__name}\n",
    "              Account Balance : {self.__balance}\"\"\"\n",
    "        return about\n",
    "\n",
    "    def __del__(self):\n",
    "        using = f\"\"\"\n",
    "        ===== {self.__name} and {self.__balance} Has No {self.BANK_NAME} Details\"\"\"\n",
    "        print(using)\n",
    "\n",
    "    def __transactions(self,amount,T):\n",
    "        print(f\"{amount} was {T}\")\n",
    "        print(f\"current balance {self.__balance}\")\n",
    "        if T == \"credited\":\n",
    "            print(f\"initial amount {self.__balance - amount }\")\n",
    "        else:\n",
    "            print(f\"initial amount {self.__balance + amount}\")\n",
    "\n",
    "    def credit(self,amount = 0):\n",
    "        self.__balance += amount\n",
    "        self.__transactions(amount,\"credited\")\n",
    "\n",
    "    def debit(self,amount = 0):\n",
    "        if self.__balance > amount:\n",
    "            self.__transactions(amount,\"debited\")\n",
    "            return amount\n",
    "        else:\n",
    "            print(\"insufficient balance\")"
   ]
  },
  {
   "cell_type": "code",
   "execution_count": 359,
   "id": "efb6f235-6306-4c33-8936-9082635d4f5d",
   "metadata": {},
   "outputs": [
    {
     "name": "stdout",
     "output_type": "stream",
     "text": [
      " Hello Ujwal Welcome to BANK OF BRODA\n"
     ]
    }
   ],
   "source": [
    "fourth_account = Account(\"Ujwal\",1200000)"
   ]
  },
  {
   "cell_type": "code",
   "execution_count": 360,
   "id": "291b20fa-27d6-4ba5-8876-12a3d9e9e190",
   "metadata": {},
   "outputs": [
    {
     "data": {
      "text/plain": [
       "'BANK OF BRODA'"
      ]
     },
     "execution_count": 360,
     "metadata": {},
     "output_type": "execute_result"
    }
   ],
   "source": [
    "Account.BANK_NAME"
   ]
  },
  {
   "cell_type": "code",
   "execution_count": 366,
   "id": "5d75dfe5-8641-4024-9582-0850863e708f",
   "metadata": {},
   "outputs": [
    {
     "name": "stdout",
     "output_type": "stream",
     "text": [
      "\n",
      "        ===== Welcome to BANK OF BRODA =====\n",
      "              Account Holder : Ujwal\n",
      "              Account Balance : 1203000\n"
     ]
    }
   ],
   "source": [
    "print(fourth_account)"
   ]
  },
  {
   "cell_type": "code",
   "execution_count": 367,
   "id": "ede86510-7424-438b-a396-1f48a864ede2",
   "metadata": {},
   "outputs": [
    {
     "name": "stdout",
     "output_type": "stream",
     "text": [
      "3000 was credited\n",
      "current balance 1206000\n",
      "initial amount 1203000\n"
     ]
    }
   ],
   "source": [
    "fourth_account.credit(3000)"
   ]
  },
  {
   "cell_type": "code",
   "execution_count": 368,
   "id": "0a10445c-6364-48b1-aa49-15931a99b786",
   "metadata": {},
   "outputs": [
    {
     "name": "stdout",
     "output_type": "stream",
     "text": [
      "\n",
      "        ===== Welcome to BANK OF BRODA =====\n",
      "              Account Holder : Ujwal\n",
      "              Account Balance : 1206000\n"
     ]
    }
   ],
   "source": [
    "print(fourth_account)"
   ]
  },
  {
   "cell_type": "code",
   "execution_count": 369,
   "id": "6aee2f40-5a14-44c1-afb0-2326e96d9f2c",
   "metadata": {},
   "outputs": [
    {
     "name": "stdout",
     "output_type": "stream",
     "text": [
      "2000 was debited\n",
      "current balance 1206000\n",
      "initial amount 1208000\n"
     ]
    },
    {
     "data": {
      "text/plain": [
       "2000"
      ]
     },
     "execution_count": 369,
     "metadata": {},
     "output_type": "execute_result"
    }
   ],
   "source": [
    "fourth_account.debit(2000)"
   ]
  },
  {
   "cell_type": "code",
   "execution_count": 370,
   "id": "e31d7cd3-9489-453f-9c69-966e745db52e",
   "metadata": {},
   "outputs": [
    {
     "name": "stdout",
     "output_type": "stream",
     "text": [
      "\n",
      "        ===== Welcome to BANK OF BRODA =====\n",
      "              Account Holder : Ujwal\n",
      "              Account Balance : 1206000\n"
     ]
    }
   ],
   "source": [
    "print(fourth_account)"
   ]
  },
  {
   "cell_type": "code",
   "execution_count": 27,
   "id": "a441273c-36ef-40da-9e54-b29d0c033be9",
   "metadata": {},
   "outputs": [
    {
     "name": "stdout",
     "output_type": "stream",
     "text": [
      "['A', 1, 2, 3, 4, 5, 6, 7, 8, 9, 10, 'J', 'Queen', 'King']\n"
     ]
    }
   ],
   "source": [
    "ranks = [\"A\",1,2,3,4,5,6,7,8,9,10, \"J\", \"Queen\", \"King\"]\n",
    "print(ranks)"
   ]
  },
  {
   "cell_type": "code",
   "execution_count": 28,
   "id": "ae0494d0-eb5f-4201-8c5b-f30595864ae0",
   "metadata": {},
   "outputs": [
    {
     "name": "stdout",
     "output_type": "stream",
     "text": [
      "('spade', 'diamond', 'club', 'heart')\n"
     ]
    }
   ],
   "source": [
    "suits = \"spade\",\"diamond\",\"club\",\"heart\"\n",
    "print(suits)"
   ]
  },
  {
   "cell_type": "code",
   "execution_count": 133,
   "id": "b26e6c2e-f011-46ab-979a-a0067ad6559b",
   "metadata": {},
   "outputs": [],
   "source": [
    "class card():\n",
    "    def __init__(self,rank,suit):\n",
    "        self.rank = rank\n",
    "        self.suit = suit\n",
    "\n",
    "    def __str__(self):\n",
    "        return f\"{self.rank} of {self.suit}\"\n",
    "\n",
    "    def value(self):\n",
    "        a = self.rank\n",
    "        if a == \"A\":\n",
    "            return 1\n",
    "        elif a == \"J\":\n",
    "            return 11\n",
    "        elif a == \"Queen\":\n",
    "            return 12\n",
    "        elif a == \"King\":\n",
    "            return 13\n",
    "        else:\n",
    "            return int(a)"
   ]
  },
  {
   "cell_type": "code",
   "execution_count": 134,
   "id": "ef033467-94fc-4862-89ee-cc45b5449bfd",
   "metadata": {},
   "outputs": [
    {
     "name": "stdout",
     "output_type": "stream",
     "text": [
      "King of diamond\n"
     ]
    }
   ],
   "source": [
    "a = card(\"King\",\"diamond\")\n",
    "print(a)"
   ]
  },
  {
   "cell_type": "code",
   "execution_count": 135,
   "id": "57f011c5-a65b-4a81-8002-d06580eb137a",
   "metadata": {},
   "outputs": [
    {
     "data": {
      "text/plain": [
       "13"
      ]
     },
     "execution_count": 135,
     "metadata": {},
     "output_type": "execute_result"
    }
   ],
   "source": [
    "a.value()"
   ]
  },
  {
   "cell_type": "code",
   "execution_count": 136,
   "id": "ef452286-2365-4226-98b3-bc07b9a308d2",
   "metadata": {},
   "outputs": [],
   "source": [
    "b = card(\"Queen\",\"heart\")"
   ]
  },
  {
   "cell_type": "code",
   "execution_count": 137,
   "id": "5548772a-7ef9-4b57-91c1-1f2c1082f003",
   "metadata": {},
   "outputs": [
    {
     "name": "stdout",
     "output_type": "stream",
     "text": [
      "Queen of heart\n"
     ]
    }
   ],
   "source": [
    "print(b)"
   ]
  },
  {
   "cell_type": "code",
   "execution_count": 138,
   "id": "5b080425-576d-44ab-870a-303346cd009e",
   "metadata": {},
   "outputs": [
    {
     "data": {
      "text/plain": [
       "12"
      ]
     },
     "execution_count": 138,
     "metadata": {},
     "output_type": "execute_result"
    }
   ],
   "source": [
    "b.value()"
   ]
  },
  {
   "cell_type": "code",
   "execution_count": 139,
   "id": "880620c9-5c37-46a4-a870-8ab6f4e6a8d5",
   "metadata": {},
   "outputs": [],
   "source": [
    "import random"
   ]
  },
  {
   "cell_type": "code",
   "execution_count": 148,
   "id": "958d321d-5519-445c-8342-5f2f32aad56c",
   "metadata": {},
   "outputs": [],
   "source": [
    "class deck_of_cards():\n",
    "\n",
    "\n",
    "    def __init__(self):\n",
    "        self.suits = \"spade\",\"diamond\",\"club\",\"heart\"\n",
    "        self.ranks = [\"A\",1,2,3,4,5,6,7,8,9,10, \"J\", \"Queen\", \"King\"]\n",
    "\n",
    "        self.cards = []\n",
    "\n",
    "        for suit in self.suits:\n",
    "            for rank in self.ranks:\n",
    "                patta  = card(rank,suit)\n",
    "                self.cards.append(patta)\n",
    "\n",
    "    def __str__(self):\n",
    "        a = \"\"\n",
    "        for card in self.cards:\n",
    "            a+= f\"{card.rank} of {card.suit} \\n\"\n",
    "        return a\n",
    "\n",
    "    def deal(self):\n",
    "        return self.cards.pop()\n",
    "\n",
    "    def shuffle(self):\n",
    "        random.shuffle(self.cards)"
   ]
  },
  {
   "cell_type": "code",
   "execution_count": 149,
   "id": "5479d38a-a4bc-4034-ae31-c2982f03374a",
   "metadata": {},
   "outputs": [],
   "source": [
    "deck = deck_of_cards()"
   ]
  },
  {
   "cell_type": "code",
   "execution_count": 150,
   "id": "b6527465-770f-4b37-9d32-a65091a438f7",
   "metadata": {},
   "outputs": [
    {
     "data": {
      "text/plain": [
       "<__main__.deck_of_cards at 0x24e4903dfd0>"
      ]
     },
     "execution_count": 150,
     "metadata": {},
     "output_type": "execute_result"
    }
   ],
   "source": [
    "deck"
   ]
  },
  {
   "cell_type": "code",
   "execution_count": 151,
   "id": "89f86ef5-ceeb-4767-a2f9-d11a7137642c",
   "metadata": {},
   "outputs": [
    {
     "data": {
      "text/plain": [
       "[<__main__.card at 0x24e4abacfb0>,\n",
       " <__main__.card at 0x24e4abaf950>,\n",
       " <__main__.card at 0x24e4aa2d970>,\n",
       " <__main__.card at 0x24e4aa2f0b0>,\n",
       " <__main__.card at 0x24e4aa2f050>,\n",
       " <__main__.card at 0x24e4aa2f1d0>,\n",
       " <__main__.card at 0x24e4aa2f110>,\n",
       " <__main__.card at 0x24e4aa2f170>,\n",
       " <__main__.card at 0x24e4aa2f230>,\n",
       " <__main__.card at 0x24e4aa2f290>,\n",
       " <__main__.card at 0x24e4aa2f2f0>,\n",
       " <__main__.card at 0x24e4aa2f350>,\n",
       " <__main__.card at 0x24e4aa2f3b0>,\n",
       " <__main__.card at 0x24e4aa2f410>,\n",
       " <__main__.card at 0x24e4aa2f470>,\n",
       " <__main__.card at 0x24e4aa2f4d0>,\n",
       " <__main__.card at 0x24e4aa2f530>,\n",
       " <__main__.card at 0x24e4aa2f590>,\n",
       " <__main__.card at 0x24e4aa2f5f0>,\n",
       " <__main__.card at 0x24e4aa2f650>,\n",
       " <__main__.card at 0x24e4aa2f6b0>,\n",
       " <__main__.card at 0x24e4aa2f710>,\n",
       " <__main__.card at 0x24e4aa2f770>,\n",
       " <__main__.card at 0x24e4aa2f7d0>,\n",
       " <__main__.card at 0x24e4aa2f830>,\n",
       " <__main__.card at 0x24e4aa2f890>,\n",
       " <__main__.card at 0x24e4aa2f8f0>,\n",
       " <__main__.card at 0x24e4aa2f950>,\n",
       " <__main__.card at 0x24e4aa2f9b0>,\n",
       " <__main__.card at 0x24e4aa2fa10>,\n",
       " <__main__.card at 0x24e4aa2fa70>,\n",
       " <__main__.card at 0x24e4aa2fad0>,\n",
       " <__main__.card at 0x24e4aa2fb30>,\n",
       " <__main__.card at 0x24e4aa2fb90>,\n",
       " <__main__.card at 0x24e4aa2fbf0>,\n",
       " <__main__.card at 0x24e4aa2fc50>,\n",
       " <__main__.card at 0x24e4aa2fcb0>,\n",
       " <__main__.card at 0x24e4aa2fd10>,\n",
       " <__main__.card at 0x24e4aa2fd70>,\n",
       " <__main__.card at 0x24e4aa2fdd0>,\n",
       " <__main__.card at 0x24e4aa2fe30>,\n",
       " <__main__.card at 0x24e4aa2fe90>,\n",
       " <__main__.card at 0x24e4aa2fef0>,\n",
       " <__main__.card at 0x24e4aa2ff50>,\n",
       " <__main__.card at 0x24e4aa2ffb0>,\n",
       " <__main__.card at 0x24e4abcc050>,\n",
       " <__main__.card at 0x24e4abcc0b0>,\n",
       " <__main__.card at 0x24e4abcc110>,\n",
       " <__main__.card at 0x24e4abcc170>,\n",
       " <__main__.card at 0x24e4abcc1d0>,\n",
       " <__main__.card at 0x24e4abcc230>,\n",
       " <__main__.card at 0x24e4abcc290>,\n",
       " <__main__.card at 0x24e4abcc2f0>,\n",
       " <__main__.card at 0x24e4abcc350>,\n",
       " <__main__.card at 0x24e4abcc3b0>,\n",
       " <__main__.card at 0x24e4abcc410>]"
      ]
     },
     "execution_count": 151,
     "metadata": {},
     "output_type": "execute_result"
    }
   ],
   "source": [
    "deck.cards"
   ]
  },
  {
   "cell_type": "code",
   "execution_count": 152,
   "id": "15f6732b-27e3-4271-8884-c14275ab7bd2",
   "metadata": {},
   "outputs": [],
   "source": [
    "deck.shuffle()"
   ]
  },
  {
   "cell_type": "code",
   "execution_count": 153,
   "id": "0e6878a5-3f16-47cd-984e-c1c7ead35424",
   "metadata": {},
   "outputs": [
    {
     "name": "stdout",
     "output_type": "stream",
     "text": [
      "6 of heart\n"
     ]
    }
   ],
   "source": [
    "print(deck.deal())"
   ]
  },
  {
   "cell_type": "code",
   "execution_count": 154,
   "id": "ef4d2cec-aa0f-491c-ab58-2e5b4520d64e",
   "metadata": {},
   "outputs": [
    {
     "name": "stdout",
     "output_type": "stream",
     "text": [
      "Queen of diamond \n",
      "J of spade \n",
      "9 of spade \n",
      "1 of diamond \n",
      "A of diamond \n",
      "King of heart \n",
      "Queen of heart \n",
      "5 of diamond \n",
      "7 of heart \n",
      "8 of spade \n",
      "9 of diamond \n",
      "J of heart \n",
      "King of spade \n",
      "7 of spade \n",
      "3 of diamond \n",
      "3 of heart \n",
      "10 of heart \n",
      "8 of club \n",
      "6 of club \n",
      "Queen of club \n",
      "6 of spade \n",
      "10 of club \n",
      "1 of spade \n",
      "4 of heart \n",
      "4 of club \n",
      "A of heart \n",
      "2 of spade \n",
      "2 of diamond \n",
      "10 of diamond \n",
      "1 of club \n",
      "7 of diamond \n",
      "6 of diamond \n",
      "9 of heart \n",
      "4 of spade \n",
      "2 of club \n",
      "A of club \n",
      "5 of heart \n",
      "9 of club \n",
      "8 of heart \n",
      "King of diamond \n",
      "4 of diamond \n",
      "Queen of spade \n",
      "5 of spade \n",
      "A of spade \n",
      "King of club \n",
      "10 of spade \n",
      "7 of club \n",
      "3 of spade \n",
      "5 of club \n",
      "8 of diamond \n",
      "J of club \n",
      "1 of heart \n",
      "2 of heart \n",
      "J of diamond \n",
      "3 of club \n",
      "\n"
     ]
    }
   ],
   "source": [
    "print(deck)"
   ]
  },
  {
   "cell_type": "code",
   "execution_count": 165,
   "id": "baec1de5-083c-495d-a102-1ab54efae067",
   "metadata": {},
   "outputs": [
    {
     "name": "stdout",
     "output_type": "stream",
     "text": [
      "J of diamond\n"
     ]
    }
   ],
   "source": [
    "print(deck.deal())"
   ]
  },
  {
   "cell_type": "code",
   "execution_count": null,
   "id": "b631bb3e-06d8-4dd0-9bc8-812aec5cb234",
   "metadata": {},
   "outputs": [],
   "source": []
  }
 ],
 "metadata": {
  "kernelspec": {
   "display_name": "Python 3 (ipykernel)",
   "language": "python",
   "name": "python3"
  },
  "language_info": {
   "codemirror_mode": {
    "name": "ipython",
    "version": 3
   },
   "file_extension": ".py",
   "mimetype": "text/x-python",
   "name": "python",
   "nbconvert_exporter": "python",
   "pygments_lexer": "ipython3",
   "version": "3.13.5"
  }
 },
 "nbformat": 4,
 "nbformat_minor": 5
}
