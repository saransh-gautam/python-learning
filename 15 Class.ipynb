{
 "cells": [
  {
   "cell_type": "code",
   "execution_count": 10,
   "id": "2d4bf717-cb5a-4729-84c9-99817098124c",
   "metadata": {},
   "outputs": [],
   "source": [
    "class car():\n",
    "        tyre = 4\n",
    "    \n",
    "        def move():\n",
    "            print(\"I am moving forward\")"
   ]
  },
  {
   "cell_type": "code",
   "execution_count": 12,
   "id": "cbfba363-0f59-4659-bd6b-e06f65763e3e",
   "metadata": {},
   "outputs": [
    {
     "data": {
      "text/plain": [
       "4"
      ]
     },
     "execution_count": 12,
     "metadata": {},
     "output_type": "execute_result"
    }
   ],
   "source": [
    "car.tyre"
   ]
  },
  {
   "cell_type": "code",
   "execution_count": 13,
   "id": "a25afe03-44dd-4bc7-b3ef-5eab3199cb9c",
   "metadata": {},
   "outputs": [
    {
     "name": "stdout",
     "output_type": "stream",
     "text": [
      "I am moving forward\n"
     ]
    }
   ],
   "source": [
    "car.move()"
   ]
  },
  {
   "cell_type": "code",
   "execution_count": 14,
   "id": "99a38bc7-4c4d-43a0-a51c-f1d008250d7f",
   "metadata": {},
   "outputs": [],
   "source": [
    "class human():\n",
    "    legs = 2\n",
    "\n",
    "    def eat_up():\n",
    "        print(\"i am eating\")\n",
    "        print(\"now i am full\")\n",
    "        print(\"Thank you\")"
   ]
  },
  {
   "cell_type": "code",
   "execution_count": 15,
   "id": "bb06fee5-98aa-41b7-aa64-369339347a79",
   "metadata": {},
   "outputs": [
    {
     "name": "stdout",
     "output_type": "stream",
     "text": [
      "i am eating\n",
      "now i am full\n",
      "Thank you\n"
     ]
    }
   ],
   "source": [
    "human.eat_up()"
   ]
  },
  {
   "cell_type": "code",
   "execution_count": 18,
   "id": "22e22a77-aff1-46ec-9d55-5d2665f749a4",
   "metadata": {},
   "outputs": [
    {
     "data": {
      "text/plain": [
       "2"
      ]
     },
     "execution_count": 18,
     "metadata": {},
     "output_type": "execute_result"
    }
   ],
   "source": [
    "human.legs"
   ]
  },
  {
   "cell_type": "code",
   "execution_count": 21,
   "id": "001bb5da-553b-41e0-bfa7-fed51611552e",
   "metadata": {},
   "outputs": [],
   "source": [
    "# object"
   ]
  },
  {
   "cell_type": "code",
   "execution_count": 39,
   "id": "bd008120-a1af-4ced-bb29-6091ce7a26f4",
   "metadata": {},
   "outputs": [],
   "source": [
    "gadi = car()"
   ]
  },
  {
   "cell_type": "code",
   "execution_count": 40,
   "id": "82a7f10c-e8fd-4a08-a709-d724ef7535e3",
   "metadata": {},
   "outputs": [],
   "source": [
    "gadi2 = car()"
   ]
  },
  {
   "cell_type": "code",
   "execution_count": 41,
   "id": "87deb378-ea3d-4cc8-a582-75c70f5703c8",
   "metadata": {},
   "outputs": [
    {
     "data": {
      "text/plain": [
       "4"
      ]
     },
     "execution_count": 41,
     "metadata": {},
     "output_type": "execute_result"
    }
   ],
   "source": [
    "gadi.tyre"
   ]
  },
  {
   "cell_type": "code",
   "execution_count": 42,
   "id": "256047f4-c02c-44c8-8476-13a1baa6fea3",
   "metadata": {},
   "outputs": [
    {
     "data": {
      "text/plain": [
       "4"
      ]
     },
     "execution_count": 42,
     "metadata": {},
     "output_type": "execute_result"
    }
   ],
   "source": [
    "gadi2.tyre"
   ]
  },
  {
   "cell_type": "code",
   "execution_count": 46,
   "id": "0799bf5f-a7cf-4000-9f00-e9a509bd5eed",
   "metadata": {},
   "outputs": [],
   "source": [
    "gadi.tyre = 3\n"
   ]
  },
  {
   "cell_type": "code",
   "execution_count": 47,
   "id": "f3c4b93e-2f68-4d3f-84f4-6681bd243807",
   "metadata": {},
   "outputs": [
    {
     "data": {
      "text/plain": [
       "3"
      ]
     },
     "execution_count": 47,
     "metadata": {},
     "output_type": "execute_result"
    }
   ],
   "source": [
    "gadi.tyre"
   ]
  },
  {
   "cell_type": "code",
   "execution_count": 48,
   "id": "206cf01e-03bf-480e-b98f-c06461f042df",
   "metadata": {},
   "outputs": [
    {
     "data": {
      "text/plain": [
       "4"
      ]
     },
     "execution_count": 48,
     "metadata": {},
     "output_type": "execute_result"
    }
   ],
   "source": [
    "gadi2.tyre"
   ]
  },
  {
   "cell_type": "code",
   "execution_count": 63,
   "id": "02e60120-16da-4f1e-93fe-216e2c27909a",
   "metadata": {},
   "outputs": [],
   "source": [
    "class car():\n",
    "    tyre = 4\n",
    "\n",
    "\n",
    "    def move(self):    # jo bhi object create hpoga isliye self use kiya hai\n",
    "        print(\"moving forward\")"
   ]
  },
  {
   "cell_type": "code",
   "execution_count": 64,
   "id": "9b56c38c-5dce-4d2a-af2b-7d4920f5183f",
   "metadata": {},
   "outputs": [
    {
     "data": {
      "text/plain": [
       "4"
      ]
     },
     "execution_count": 64,
     "metadata": {},
     "output_type": "execute_result"
    }
   ],
   "source": [
    "car.tyre"
   ]
  },
  {
   "cell_type": "code",
   "execution_count": 56,
   "id": "b3c1ecd5-760e-4736-8f07-bea23dba2dd5",
   "metadata": {},
   "outputs": [],
   "source": [
    "gadi = car()\n",
    "gadi2 = car()"
   ]
  },
  {
   "cell_type": "code",
   "execution_count": 58,
   "id": "f06ed8e4-0c2f-4bf3-8e6e-eec36c6a56ac",
   "metadata": {},
   "outputs": [
    {
     "name": "stdout",
     "output_type": "stream",
     "text": [
      "moving forward\n"
     ]
    }
   ],
   "source": [
    "gadi.move()"
   ]
  },
  {
   "cell_type": "code",
   "execution_count": 59,
   "id": "1269e48a-4b0b-405c-af10-d325f9a0d2af",
   "metadata": {},
   "outputs": [
    {
     "name": "stdout",
     "output_type": "stream",
     "text": [
      "moving forward\n"
     ]
    }
   ],
   "source": [
    "gadi2.move()"
   ]
  },
  {
   "cell_type": "code",
   "execution_count": 60,
   "id": "00a85823-99e1-4f4f-b8d6-d184928a0b6c",
   "metadata": {},
   "outputs": [
    {
     "data": {
      "text/plain": [
       "4"
      ]
     },
     "execution_count": 60,
     "metadata": {},
     "output_type": "execute_result"
    }
   ],
   "source": [
    "gadi.tyre"
   ]
  },
  {
   "cell_type": "code",
   "execution_count": 62,
   "id": "be1748c4-4d8f-4ce9-b557-a7bdf3d52be7",
   "metadata": {},
   "outputs": [
    {
     "data": {
      "text/plain": [
       "4"
      ]
     },
     "execution_count": 62,
     "metadata": {},
     "output_type": "execute_result"
    }
   ],
   "source": [
    "gadi2.tyre"
   ]
  },
  {
   "cell_type": "code",
   "execution_count": 69,
   "id": "20b7ab8c-aa07-4c32-8f2b-3fdc370fb280",
   "metadata": {},
   "outputs": [],
   "source": [
    "class car():\n",
    "    tyre = 4\n",
    "\n",
    "    def __init__(self,model_name):\n",
    "        self.name = model_name\n",
    "\n",
    "    def move(self):\n",
    "        print(\"moving forward\")"
   ]
  },
  {
   "cell_type": "code",
   "execution_count": 71,
   "id": "0a5fa2b8-a6a7-4db3-aafe-1ff90d1eeb64",
   "metadata": {},
   "outputs": [],
   "source": [
    "gadi = car(\"swift\")"
   ]
  },
  {
   "cell_type": "code",
   "execution_count": 72,
   "id": "d93cfe49-9969-4bd5-8b35-3f0074da2cd6",
   "metadata": {},
   "outputs": [
    {
     "data": {
      "text/plain": [
       "'swift'"
      ]
     },
     "execution_count": 72,
     "metadata": {},
     "output_type": "execute_result"
    }
   ],
   "source": [
    "gadi.name"
   ]
  },
  {
   "cell_type": "code",
   "execution_count": 73,
   "id": "3ac738ff-865e-46d8-b92e-d60f15652494",
   "metadata": {},
   "outputs": [],
   "source": [
    "gadi2 = car(\"scorpio\")"
   ]
  },
  {
   "cell_type": "code",
   "execution_count": 75,
   "id": "ca5ed5ec-0782-4c07-b36d-47da254c1738",
   "metadata": {},
   "outputs": [
    {
     "data": {
      "text/plain": [
       "'scorpio'"
      ]
     },
     "execution_count": 75,
     "metadata": {},
     "output_type": "execute_result"
    }
   ],
   "source": [
    "gadi2.name"
   ]
  },
  {
   "cell_type": "code",
   "execution_count": 76,
   "id": "c9a443c9-0dae-4c7e-8b61-3df7a07c249e",
   "metadata": {},
   "outputs": [
    {
     "name": "stdout",
     "output_type": "stream",
     "text": [
      "moving forward\n"
     ]
    }
   ],
   "source": [
    "gadi.move()"
   ]
  },
  {
   "cell_type": "code",
   "execution_count": 77,
   "id": "2ef8cd13-a64d-442e-9128-e6e9f3ca5389",
   "metadata": {},
   "outputs": [
    {
     "name": "stdout",
     "output_type": "stream",
     "text": [
      "moving forward\n"
     ]
    }
   ],
   "source": [
    "gadi2.move()"
   ]
  },
  {
   "cell_type": "code",
   "execution_count": 83,
   "id": "30ab5942-77c4-41f3-8813-b7bd32f83312",
   "metadata": {},
   "outputs": [],
   "source": [
    "class car():\n",
    "    tyre = 4\n",
    "\n",
    "    def __init__(self,model,year):\n",
    "        self.model = model\n",
    "        self.year = year\n",
    "\n",
    "    def introduction(self):\n",
    "        print(f\"hello i am {self.model} and i was made in {self.year}\")\n",
    "\n",
    "    def move(self):\n",
    "        print(f\"i am {self.model} moving forward since {self.year}\")"
   ]
  },
  {
   "cell_type": "code",
   "execution_count": 84,
   "id": "69f6ba0e-260c-4c8c-a80a-765c12e3e67b",
   "metadata": {},
   "outputs": [],
   "source": [
    "gadi = car(\"swift\",2000)"
   ]
  },
  {
   "cell_type": "code",
   "execution_count": 85,
   "id": "616b5777-9c0b-4eee-9570-7d1c53bdca04",
   "metadata": {},
   "outputs": [
    {
     "name": "stdout",
     "output_type": "stream",
     "text": [
      "hello i am swift and i was made in 2000\n"
     ]
    }
   ],
   "source": [
    "gadi.introduction()"
   ]
  },
  {
   "cell_type": "code",
   "execution_count": 86,
   "id": "99db7db6-1332-40e9-ac00-bc96311858a4",
   "metadata": {},
   "outputs": [
    {
     "name": "stdout",
     "output_type": "stream",
     "text": [
      "i am swift moving forward since 2000\n"
     ]
    }
   ],
   "source": [
    "gadi.move()"
   ]
  },
  {
   "cell_type": "code",
   "execution_count": null,
   "id": "fbd0c593-9bf1-4e6b-9d7a-b6d4abae7e04",
   "metadata": {},
   "outputs": [],
   "source": []
  }
 ],
 "metadata": {
  "kernelspec": {
   "display_name": "Python 3 (ipykernel)",
   "language": "python",
   "name": "python3"
  },
  "language_info": {
   "codemirror_mode": {
    "name": "ipython",
    "version": 3
   },
   "file_extension": ".py",
   "mimetype": "text/x-python",
   "name": "python",
   "nbconvert_exporter": "python",
   "pygments_lexer": "ipython3",
   "version": "3.13.5"
  }
 },
 "nbformat": 4,
 "nbformat_minor": 5
}
