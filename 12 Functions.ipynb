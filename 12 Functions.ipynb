{
 "cells": [
  {
   "cell_type": "code",
   "execution_count": 2,
   "id": "07020af3-9056-4cce-81e1-36f47e4c963a",
   "metadata": {},
   "outputs": [],
   "source": [
    "# define a function\n",
    "\n",
    "def greeting():\n",
    "    print(\"hello everyone nice to meet you\")"
   ]
  },
  {
   "cell_type": "code",
   "execution_count": 4,
   "id": "1572ca6b-84d2-4b30-ab6d-c6b818626e82",
   "metadata": {},
   "outputs": [
    {
     "name": "stdout",
     "output_type": "stream",
     "text": [
      "hello everyone nice to meet you\n"
     ]
    }
   ],
   "source": [
    "# call a function\n",
    "greeting()"
   ]
  },
  {
   "cell_type": "markdown",
   "id": "86776bba-db2d-439d-98c5-70f9314dcf1b",
   "metadata": {},
   "source": [
    "# built in functions"
   ]
  },
  {
   "cell_type": "code",
   "execution_count": 10,
   "id": "9c07923d-b4ed-43bb-bee8-4ad8991ba74c",
   "metadata": {},
   "outputs": [
    {
     "name": "stdout",
     "output_type": "stream",
     "text": [
      "7\n"
     ]
    }
   ],
   "source": [
    "name = \"saransh\"\n",
    "print(len(name))"
   ]
  },
  {
   "cell_type": "code",
   "execution_count": 11,
   "id": "d6c100ac-4f80-42c9-b560-3e8af334c423",
   "metadata": {},
   "outputs": [
    {
     "data": {
      "text/plain": [
       "7"
      ]
     },
     "execution_count": 11,
     "metadata": {},
     "output_type": "execute_result"
    }
   ],
   "source": [
    "min(7,8,9)"
   ]
  },
  {
   "cell_type": "code",
   "execution_count": 12,
   "id": "1d142006-d301-4a51-b98e-9382b5b2587c",
   "metadata": {},
   "outputs": [
    {
     "data": {
      "text/plain": [
       "18"
      ]
     },
     "execution_count": 12,
     "metadata": {},
     "output_type": "execute_result"
    }
   ],
   "source": [
    "max(10,14,18)"
   ]
  },
  {
   "cell_type": "markdown",
   "id": "fd8af31b-da62-4375-bc8d-c3c9ca368cfe",
   "metadata": {},
   "source": [
    "# user define functions"
   ]
  },
  {
   "cell_type": "code",
   "execution_count": 16,
   "id": "02a6f88e-1253-4410-b240-61bfcefd3a37",
   "metadata": {},
   "outputs": [
    {
     "name": "stdout",
     "output_type": "stream",
     "text": [
      "Hello World\n"
     ]
    }
   ],
   "source": [
    "# simple function\n",
    "\n",
    "def greeting():\n",
    "    print(\"Hello World\")\n",
    "greeting()"
   ]
  },
  {
   "cell_type": "code",
   "execution_count": 21,
   "id": "55a70972-7216-4927-a7f2-94f83f15ab7a",
   "metadata": {},
   "outputs": [
    {
     "name": "stdout",
     "output_type": "stream",
     "text": [
      "Hello Dani baby\n"
     ]
    }
   ],
   "source": [
    "#input functions\n",
    "\n",
    "\n",
    "def greeting(name):\n",
    "    print(f\"Hello {name} baby\")\n",
    "greeting(\"Dani\")"
   ]
  },
  {
   "cell_type": "code",
   "execution_count": 33,
   "id": "5fb60739-77ba-472b-8b4e-defbe938723c",
   "metadata": {},
   "outputs": [
    {
     "name": "stdout",
     "output_type": "stream",
     "text": [
      "154.0\n"
     ]
    }
   ],
   "source": [
    "# area of circle\n",
    "\n",
    "def area_of_circle(r):\n",
    "    print((22/7)*r*r)\n",
    "area_of_circle(7)"
   ]
  },
  {
   "cell_type": "code",
   "execution_count": 34,
   "id": "03950548-0369-4408-a8ba-48627b945613",
   "metadata": {},
   "outputs": [
    {
     "name": "stdout",
     "output_type": "stream",
     "text": [
      "800\n"
     ]
    }
   ],
   "source": [
    "def area_of_rectangle(length,width):\n",
    "    print(length*width)\n",
    "area_of_rectangle(10,80)"
   ]
  },
  {
   "cell_type": "markdown",
   "id": "4e439cdf-1b6b-4603-8198-92dabb70e4ae",
   "metadata": {},
   "source": [
    "# scope"
   ]
  },
  {
   "cell_type": "code",
   "execution_count": 38,
   "id": "ad8b4a5c-3ba4-4520-8fe5-d1ca8fc7587e",
   "metadata": {},
   "outputs": [
    {
     "name": "stdout",
     "output_type": "stream",
     "text": [
      "ujwal 24 Btech\n"
     ]
    }
   ],
   "source": [
    "# local scope\n",
    "def my_profile():\n",
    "    name = \"ujwal\"\n",
    "    age = 24\n",
    "    education = \"Btech\"\n",
    "    job = \"hunting\"\n",
    "    print(name,age,education)\n",
    "my_profile()"
   ]
  },
  {
   "cell_type": "code",
   "execution_count": 41,
   "id": "5e47b429-49ca-4124-a896-5b2bfe5d3459",
   "metadata": {},
   "outputs": [
    {
     "ename": "NameError",
     "evalue": "name 'age' is not defined",
     "output_type": "error",
     "traceback": [
      "\u001b[1;31m---------------------------------------------------------------------------\u001b[0m",
      "\u001b[1;31mNameError\u001b[0m                                 Traceback (most recent call last)",
      "Cell \u001b[1;32mIn[41], line 1\u001b[0m\n\u001b[1;32m----> 1\u001b[0m age\n",
      "\u001b[1;31mNameError\u001b[0m: name 'age' is not defined"
     ]
    }
   ],
   "source": [
    "age   # andar ke baate bahr nhi pta hogi"
   ]
  },
  {
   "cell_type": "code",
   "execution_count": 48,
   "id": "be1b80c2-2d18-4eb4-835f-bd766696a2bf",
   "metadata": {},
   "outputs": [
    {
     "name": "stdout",
     "output_type": "stream",
     "text": [
      "shubham 24 mca Hunting\n"
     ]
    }
   ],
   "source": [
    "# global scope\n",
    "job = \"netmax\"\n",
    "def my_profile():\n",
    "    name = \"shubham\"\n",
    "    age = 24\n",
    "    education = \"mca\"\n",
    "    job = \"Hunting\"\n",
    "    print(name,age,education,job)\n",
    "my_profile()"
   ]
  },
  {
   "cell_type": "code",
   "execution_count": 49,
   "id": "9e57ab9f-fe90-4365-923b-ff226e5b4f12",
   "metadata": {},
   "outputs": [
    {
     "data": {
      "text/plain": [
       "'netmax'"
      ]
     },
     "execution_count": 49,
     "metadata": {},
     "output_type": "execute_result"
    }
   ],
   "source": [
    "job"
   ]
  },
  {
   "cell_type": "code",
   "execution_count": 53,
   "id": "501da6bf-0a70-46b3-8f6d-ac19fc1be6c6",
   "metadata": {},
   "outputs": [
    {
     "name": "stdout",
     "output_type": "stream",
     "text": [
      "Hello Saru , Nice to meet you\n"
     ]
    }
   ],
   "source": [
    "# default function\n",
    "\n",
    "def greeting(name = \"saransh\"):\n",
    "    print(f\"Hello {name} , Nice to meet you\")\n",
    "greeting(\"Saru\")"
   ]
  },
  {
   "cell_type": "code",
   "execution_count": 54,
   "id": "4012bba7-d3aa-41c8-8e8f-7e90078ffec8",
   "metadata": {},
   "outputs": [
    {
     "name": "stdout",
     "output_type": "stream",
     "text": [
      "Hello saransh , Nice to meet you\n"
     ]
    }
   ],
   "source": [
    "def greeting(name = \"saransh\"):\n",
    "    print(f\"Hello {name} , Nice to meet you\")\n",
    "greeting()"
   ]
  },
  {
   "cell_type": "markdown",
   "id": "656b6947-1dfd-4c49-95ad-ffbfd47dcf2d",
   "metadata": {},
   "source": [
    "# Return statement"
   ]
  },
  {
   "cell_type": "code",
   "execution_count": 124,
   "id": "02bfe566-c3b0-4bbd-b490-a3f26211e2f1",
   "metadata": {},
   "outputs": [],
   "source": [
    "# position wale argument phele ayenge or keyword argument wale baad mai ayenge"
   ]
  },
  {
   "cell_type": "code",
   "execution_count": 87,
   "id": "b59fa058-1213-45b4-854d-a6df09795238",
   "metadata": {},
   "outputs": [],
   "source": [
    "def salaray_structure(salary,tax_rate):    # parameter\n",
    "    tax=salary*tax_rate\n",
    "    return tax"
   ]
  },
  {
   "cell_type": "code",
   "execution_count": 33,
   "id": "42efaec5-09a8-488c-b4e6-5f44b3faa5c2",
   "metadata": {},
   "outputs": [],
   "source": [
    "tax = salaray_structure(80000,0.12)   # argument\n"
   ]
  },
  {
   "cell_type": "code",
   "execution_count": 34,
   "id": "b2d8aa5f-5906-4376-8da9-6e23af3f4821",
   "metadata": {},
   "outputs": [
    {
     "data": {
      "text/plain": [
       "9600.0"
      ]
     },
     "execution_count": 34,
     "metadata": {},
     "output_type": "execute_result"
    }
   ],
   "source": [
    "tax"
   ]
  },
  {
   "cell_type": "code",
   "execution_count": 32,
   "id": "b07345dc-f1e2-4736-bdde-57b8ddba7463",
   "metadata": {},
   "outputs": [
    {
     "data": {
      "text/plain": [
       "9600.0"
      ]
     },
     "execution_count": 32,
     "metadata": {},
     "output_type": "execute_result"
    }
   ],
   "source": [
    "def salaray_structure(salary,tax_rate = 0.12):     # position and keyword argument\n",
    "    tax=salary*tax_rate\n",
    "    return tax\n",
    "\n",
    "\n",
    "tax=salaray_structure(80000)\n",
    "tax"
   ]
  },
  {
   "cell_type": "code",
   "execution_count": 117,
   "id": "ab78f178-2be6-4b07-a317-e1c756741959",
   "metadata": {},
   "outputs": [
    {
     "data": {
      "text/plain": [
       "10000"
      ]
     },
     "execution_count": 117,
     "metadata": {},
     "output_type": "execute_result"
    }
   ],
   "source": [
    "def volume_of_cube(length,width,hight):\n",
    "    return length*width*hight\n",
    "volume_of_cube(10,10,100)\n"
   ]
  },
  {
   "cell_type": "code",
   "execution_count": 2,
   "id": "19770215-4011-4452-bd34-56d648102581",
   "metadata": {},
   "outputs": [],
   "source": [
    "def volume_of_cube(length,width,hight):\n",
    "    dimensions = f\"\"\"\n",
    "        length :{length}\n",
    "        width : {width}\n",
    "        hight : {hight}\n",
    "        \"\"\"\n",
    "    print(dimensions)\n",
    "    return length*width*hight"
   ]
  },
  {
   "cell_type": "code",
   "execution_count": 3,
   "id": "2fd32ca5-21cd-4d19-b281-20eacceaa91e",
   "metadata": {},
   "outputs": [
    {
     "name": "stdout",
     "output_type": "stream",
     "text": [
      "\n",
      "        length :10\n",
      "        width : 10\n",
      "        hight : 100\n",
      "        \n"
     ]
    },
    {
     "data": {
      "text/plain": [
       "10000"
      ]
     },
     "execution_count": 3,
     "metadata": {},
     "output_type": "execute_result"
    }
   ],
   "source": [
    "volume_of_cube(10,10,100)    # positional argument                                   "
   ]
  },
  {
   "cell_type": "code",
   "execution_count": 4,
   "id": "21d06275-7a6a-4ac4-8f7e-0823b18bda12",
   "metadata": {},
   "outputs": [
    {
     "name": "stdout",
     "output_type": "stream",
     "text": [
      "\n",
      "        length :10\n",
      "        width : 10\n",
      "        hight : 100\n",
      "        \n"
     ]
    },
    {
     "data": {
      "text/plain": [
       "10000"
      ]
     },
     "execution_count": 4,
     "metadata": {},
     "output_type": "execute_result"
    }
   ],
   "source": [
    "volume_of_cube(length = 10,hight = 100,width = 10)  # keyword argument"
   ]
  },
  {
   "cell_type": "code",
   "execution_count": 17,
   "id": "5b72c3b2-d50b-47d9-b78a-740db37ef8b8",
   "metadata": {},
   "outputs": [],
   "source": [
    "li = [8,6,7,8,9,4,5,10,11,12]"
   ]
  },
  {
   "cell_type": "code",
   "execution_count": 26,
   "id": "a32fee79-42ca-4dd2-82e4-60beec1038ce",
   "metadata": {},
   "outputs": [],
   "source": [
    "def sort_half(li : list):\n",
    "    \n",
    "    length = len(li)\n",
    "    li.sort()\n",
    "    first_half = li[:length//2]\n",
    "    print(first_half)\n",
    "    second_half = li[length//2:]\n",
    "    \n",
    "    second_half.sort(reverse = True)\n",
    "    print(second_half)\n",
    "    return first_half+second_half\n",
    "    "
   ]
  },
  {
   "cell_type": "code",
   "execution_count": 27,
   "id": "dc8a34f5-958e-4eaf-bf1a-e8266c0dc3c5",
   "metadata": {},
   "outputs": [
    {
     "name": "stdout",
     "output_type": "stream",
     "text": [
      "[4, 5, 6, 7, 8]\n",
      "[12, 11, 10, 9, 8]\n"
     ]
    },
    {
     "data": {
      "text/plain": [
       "[4, 5, 6, 7, 8, 12, 11, 10, 9, 8]"
      ]
     },
     "execution_count": 27,
     "metadata": {},
     "output_type": "execute_result"
    }
   ],
   "source": [
    "sort_half(li)"
   ]
  },
  {
   "cell_type": "markdown",
   "id": "07d55c5a-42d8-40c8-bd57-b636b9c57bc5",
   "metadata": {},
   "source": [
    "# palidrom"
   ]
  },
  {
   "cell_type": "code",
   "execution_count": 25,
   "id": "f4571d8b-e129-4939-b7c6-4d6c92c88b41",
   "metadata": {},
   "outputs": [],
   "source": [
    "def check_palindrome(n = None ):          # first or last word same hona chiye\n",
    "     n = n or input(\"Enter your name\")\n",
    "     return str(n).strip().lower() == str(n)[::-1].strip().lower()"
   ]
  },
  {
   "cell_type": "code",
   "execution_count": 37,
   "id": "d965d41a-9fc5-4433-9ffb-86ebb64eb678",
   "metadata": {},
   "outputs": [
    {
     "data": {
      "text/plain": [
       "True"
      ]
     },
     "execution_count": 37,
     "metadata": {},
     "output_type": "execute_result"
    }
   ],
   "source": [
    "check_palindrome(\"saras \")"
   ]
  },
  {
   "cell_type": "code",
   "execution_count": 29,
   "id": "91d7e454-fb33-4d97-bb72-01e1c5c40012",
   "metadata": {},
   "outputs": [],
   "source": [
    "\n",
    "def check_prime(n):\n",
    "    for  i in range(2,n):\n",
    "        print(n,i,n%i)\n",
    "        if n % i == 0:\n",
    "            return False\n",
    "    return True"
   ]
  },
  {
   "cell_type": "code",
   "execution_count": 6,
   "id": "cbebc9fd-a00d-451d-9ad2-6bbb5193a416",
   "metadata": {},
   "outputs": [
    {
     "data": {
      "text/plain": [
       "True"
      ]
     },
     "execution_count": 6,
     "metadata": {},
     "output_type": "execute_result"
    }
   ],
   "source": [
    "check_prime(11)"
   ]
  },
  {
   "cell_type": "code",
   "execution_count": 1,
   "id": "5d0175a7-0e9e-45a6-800b-230eeea3922e",
   "metadata": {},
   "outputs": [],
   "source": [
    "def check_prime(n):\n",
    "     if n < 2:\n",
    "        return False\n",
    "     for i in range (2,int(n**(1/2)+1)):          # using underroot\n",
    "        if n % i == 0:\n",
    "            return False\n",
    "     return True"
   ]
  },
  {
   "cell_type": "code",
   "execution_count": 2,
   "id": "707077f6-9ec0-4b3e-a4da-f9e4b3583595",
   "metadata": {},
   "outputs": [
    {
     "data": {
      "text/plain": [
       "True"
      ]
     },
     "execution_count": 2,
     "metadata": {},
     "output_type": "execute_result"
    }
   ],
   "source": [
    "check_prime(2)"
   ]
  },
  {
   "cell_type": "markdown",
   "id": "a7ac6abe-f3b5-49d4-ac97-8a5d831d4294",
   "metadata": {},
   "source": [
    " # Q. check prime numbers between 1 to 20?"
   ]
  },
  {
   "cell_type": "code",
   "execution_count": 3,
   "id": "ed327d77-6baa-416a-b0aa-bef56b37ea54",
   "metadata": {},
   "outputs": [],
   "source": [
    "def prime_in_range(start,end=0):\n",
    "    if start > end:\n",
    "        start,end = end,start\n",
    "    l = []\n",
    "    for i in range(start,end):\n",
    "        if check_prime(i):\n",
    "            l.append(i)\n",
    "    return l"
   ]
  },
  {
   "cell_type": "code",
   "execution_count": 4,
   "id": "6679115d-38cd-4e37-8be5-586b27934c7e",
   "metadata": {},
   "outputs": [
    {
     "data": {
      "text/plain": [
       "[2, 3, 5, 7, 11, 13, 17, 19, 23, 29, 31, 37, 41, 43, 47]"
      ]
     },
     "execution_count": 4,
     "metadata": {},
     "output_type": "execute_result"
    }
   ],
   "source": [
    "prime_in_range(50)"
   ]
  },
  {
   "cell_type": "code",
   "execution_count": null,
   "id": "2169c41a-3154-498d-9587-a9ac0be9267c",
   "metadata": {},
   "outputs": [],
   "source": []
  },
  {
   "cell_type": "code",
   "execution_count": null,
   "id": "69beebe6-b7e9-4537-a04e-691311284505",
   "metadata": {},
   "outputs": [],
   "source": []
  }
 ],
 "metadata": {
  "kernelspec": {
   "display_name": "Python 3 (ipykernel)",
   "language": "python",
   "name": "python3"
  },
  "language_info": {
   "codemirror_mode": {
    "name": "ipython",
    "version": 3
   },
   "file_extension": ".py",
   "mimetype": "text/x-python",
   "name": "python",
   "nbconvert_exporter": "python",
   "pygments_lexer": "ipython3",
   "version": "3.13.5"
  }
 },
 "nbformat": 4,
 "nbformat_minor": 5
}
