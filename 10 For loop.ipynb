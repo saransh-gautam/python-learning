{
 "cells": [
  {
   "cell_type": "code",
   "execution_count": 4,
   "id": "1a932364-520a-4ed4-9ff1-25d1459845a5",
   "metadata": {},
   "outputs": [],
   "source": [
    "# Ulta loop"
   ]
  },
  {
   "cell_type": "code",
   "execution_count": 5,
   "id": "fa386e7c-e50d-4ad5-ab6f-9d6bfbb28e27",
   "metadata": {},
   "outputs": [
    {
     "name": "stdout",
     "output_type": "stream",
     "text": [
      "5\n",
      "4\n",
      "3\n",
      "2\n",
      "1\n",
      "0\n"
     ]
    }
   ],
   "source": [
    "i = 5\n",
    "n = 0\n",
    "while i >= n:\n",
    "    print(i)\n",
    "    i-=1"
   ]
  },
  {
   "cell_type": "code",
   "execution_count": 14,
   "id": "f0a6537e-a16b-4d41-b60f-eb019897be23",
   "metadata": {},
   "outputs": [
    {
     "name": "stdout",
     "output_type": "stream",
     "text": [
      "5 4\n",
      "4 3\n",
      "3 2\n",
      "2 1\n",
      "1 0\n"
     ]
    }
   ],
   "source": [
    "i =5\n",
    "while i:\n",
    "    print(i,i-1)\n",
    "    i-=1"
   ]
  },
  {
   "cell_type": "markdown",
   "id": "86a9e6fb-2c76-4fcf-9090-20aabcdae39d",
   "metadata": {},
   "source": [
    "# set"
   ]
  },
  {
   "cell_type": "code",
   "execution_count": 49,
   "id": "17f77460-95fb-4688-80bd-0a7f4d474185",
   "metadata": {},
   "outputs": [
    {
     "name": "stdout",
     "output_type": "stream",
     "text": [
      "4\n",
      "5\n",
      "6\n",
      "7\n",
      "8\n"
     ]
    }
   ],
   "source": [
    "s = {4,5,6,8,7}\n",
    "for i in s:\n",
    "    print(i)"
   ]
  },
  {
   "cell_type": "markdown",
   "id": "4b05d97a-7c28-4b4f-a935-2b17db81140b",
   "metadata": {},
   "source": [
    "# For loop"
   ]
  },
  {
   "cell_type": "code",
   "execution_count": 44,
   "id": "5b4ad993-89fe-471e-8d2c-0fb826a9cc59",
   "metadata": {},
   "outputs": [
    {
     "name": "stdout",
     "output_type": "stream",
     "text": [
      "Hello saransh\n",
      "Hello akash\n",
      "Hello abhi\n",
      "Hello chintu\n"
     ]
    }
   ],
   "source": [
    "course = [\"saransh\",\"akash\",\"abhi\",\"chintu\"]\n",
    "for person in course:\n",
    "    print(\"Hello\",person)"
   ]
  },
  {
   "cell_type": "code",
   "execution_count": 53,
   "id": "f741ba4d-0c63-416d-8a10-6be73f073b13",
   "metadata": {},
   "outputs": [
    {
     "name": "stdout",
     "output_type": "stream",
     "text": [
      "0\n",
      "2\n",
      "4\n",
      "6\n",
      "8\n"
     ]
    }
   ],
   "source": [
    "for i in range(0,10,2):     # 2 is increament\n",
    "    print(i)"
   ]
  },
  {
   "cell_type": "code",
   "execution_count": 58,
   "id": "461f6401-5f8b-4d72-927a-bdd640c983d9",
   "metadata": {},
   "outputs": [
    {
     "name": "stdout",
     "output_type": "stream",
     "text": [
      "s\n",
      "a\n",
      "r\n",
      "a\n",
      "n\n",
      "s\n",
      "h\n"
     ]
    }
   ],
   "source": [
    "name = \"saransh\"\n",
    "for i in range(len(name)):\n",
    "    print(name[i])"
   ]
  },
  {
   "cell_type": "code",
   "execution_count": 43,
   "id": "04f351c2-cfde-4b30-8d58-89dc5981d2d9",
   "metadata": {},
   "outputs": [
    {
     "name": "stdout",
     "output_type": "stream",
     "text": [
      "hello ['tamatar', 'pyaz', 'aloo', 'bhindi']\n"
     ]
    }
   ],
   "source": [
    "parchi = [\"tamatar\",\"pyaz\",\"aloo\",\"bhindi\"]\n",
    "for i in range(1):\n",
    "    print(\"hello\",parchi)"
   ]
  },
  {
   "cell_type": "code",
   "execution_count": null,
   "id": "1b4fb416-568f-4f1f-9598-527e241d2690",
   "metadata": {},
   "outputs": [],
   "source": []
  }
 ],
 "metadata": {
  "kernelspec": {
   "display_name": "Python 3 (ipykernel)",
   "language": "python",
   "name": "python3"
  },
  "language_info": {
   "codemirror_mode": {
    "name": "ipython",
    "version": 3
   },
   "file_extension": ".py",
   "mimetype": "text/x-python",
   "name": "python",
   "nbconvert_exporter": "python",
   "pygments_lexer": "ipython3",
   "version": "3.13.5"
  }
 },
 "nbformat": 4,
 "nbformat_minor": 5
}
