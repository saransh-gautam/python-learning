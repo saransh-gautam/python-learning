{
 "cells": [
  {
   "cell_type": "code",
   "execution_count": 21,
   "id": "a869e600-b390-4e00-8902-85a41f40ffc7",
   "metadata": {},
   "outputs": [
    {
     "name": "stdout",
     "output_type": "stream",
     "text": [
      "hi\n"
     ]
    },
    {
     "ename": "ZeroDivisionError",
     "evalue": "division by zero",
     "output_type": "error",
     "traceback": [
      "\u001b[1;31m---------------------------------------------------------------------------\u001b[0m",
      "\u001b[1;31mZeroDivisionError\u001b[0m                         Traceback (most recent call last)",
      "Cell \u001b[1;32mIn[21], line 2\u001b[0m\n\u001b[0;32m      1\u001b[0m \u001b[38;5;28mprint\u001b[39m(\u001b[38;5;124m\"\u001b[39m\u001b[38;5;124mhi\u001b[39m\u001b[38;5;124m\"\u001b[39m)\n\u001b[1;32m----> 2\u001b[0m \u001b[38;5;28mprint\u001b[39m(\u001b[38;5;241m5\u001b[39m\u001b[38;5;241m/\u001b[39m\u001b[38;5;241m0\u001b[39m)\n\u001b[0;32m      3\u001b[0m \u001b[38;5;28mprint\u001b[39m(\u001b[38;5;124m\"\u001b[39m\u001b[38;5;124mhello\u001b[39m\u001b[38;5;124m\"\u001b[39m)\n",
      "\u001b[1;31mZeroDivisionError\u001b[0m: division by zero"
     ]
    }
   ],
   "source": [
    "print(\"hi\")\n",
    "print(5/0)\n",
    "print(\"hello\")"
   ]
  },
  {
   "cell_type": "code",
   "execution_count": 2,
   "id": "38c2bc80-f61c-453a-84af-6306cc82f0f8",
   "metadata": {},
   "outputs": [
    {
     "name": "stdout",
     "output_type": "stream",
     "text": [
      "hi\n",
      "nhi chla code\n"
     ]
    }
   ],
   "source": [
    "try:\n",
    "    print(\"hi\")\n",
    "    print(5/0)\n",
    "    print(\"Hello\")\n",
    "except:\n",
    "    print(\"nhi chla code\")"
   ]
  },
  {
   "cell_type": "code",
   "execution_count": 3,
   "id": "bf0bd9e8-6d9c-4097-970e-f9fae5ad1a45",
   "metadata": {},
   "outputs": [
    {
     "name": "stdout",
     "output_type": "stream",
     "text": [
      "hi\n",
      "5\n",
      "hello_1\n",
      "else work pe dhyan do\n"
     ]
    }
   ],
   "source": [
    "try:\n",
    "    print(\"hi\")\n",
    "    print(5)\n",
    "    print(\"hello_1\")\n",
    "except:\n",
    "    print(\"nhi chla code\")\n",
    "else:\n",
    "    print(\"else work pe dhyan do\")"
   ]
  },
  {
   "cell_type": "code",
   "execution_count": 4,
   "id": "a85077cd-b225-47e8-aafa-290a8c14a18b",
   "metadata": {},
   "outputs": [
    {
     "name": "stdout",
     "output_type": "stream",
     "text": [
      "hi\n",
      "nhi chla code\n",
      "chelga hi chlega code\n"
     ]
    }
   ],
   "source": [
    "try:\n",
    "    print(\"hi\")\n",
    "    print(5/0)\n",
    "    print(\"Hello\")\n",
    "except:\n",
    "    print(\"nhi chla code\")\n",
    "else:\n",
    "    print(\"else work pe dhyan do\")\n",
    "finally:\n",
    "    print(\"chelga hi chlega code\")"
   ]
  },
  {
   "cell_type": "code",
   "execution_count": 10,
   "id": "cb398953-5842-4932-b3f4-b9676ef3a550",
   "metadata": {},
   "outputs": [
    {
     "name": "stdout",
     "output_type": "stream",
     "text": [
      "hi\n",
      "error hai\n",
      "chlega hi chelga\n"
     ]
    }
   ],
   "source": [
    "try:\n",
    "    print(\"hi\")\n",
    "    print(int(\"shubham\"))\n",
    "    print(\"hello\")\n",
    "except ZeroDivisionError:\n",
    "    print(\"zero_division_error aya hai\")\n",
    "except: \n",
    "    print(\"error hai\")\n",
    "else:\n",
    "    print(\" esle nhi chla code\")\n",
    "finally:\n",
    "    print(\"chlega hi chelga\")"
   ]
  },
  {
   "cell_type": "code",
   "execution_count": 11,
   "id": "d0993cc7-cf45-4223-ac31-a660f7bd0b67",
   "metadata": {},
   "outputs": [
    {
     "name": "stdout",
     "output_type": "stream",
     "text": [
      "hi\n",
      "division by zero\n",
      "chlega hi chelga\n"
     ]
    }
   ],
   "source": [
    "try:\n",
    "    print(\"hi\")\n",
    "    print(5/0)\n",
    "    print(\"hello\")\n",
    "except ZeroDivisionError as a:\n",
    "    print(a)\n",
    "except:\n",
    "    print(\"error hai\")\n",
    "else:\n",
    "    print(\" esle nhi chla code\")\n",
    "finally:\n",
    "    print(\"chlega hi chelga\")"
   ]
  },
  {
   "cell_type": "code",
   "execution_count": 20,
   "id": "86cf66d3-cc89-401a-b0dc-4243557d2a13",
   "metadata": {},
   "outputs": [
    {
     "name": "stdin",
     "output_type": "stream",
     "text": [
      "enter your number \"saransh\"\n"
     ]
    },
    {
     "name": "stdout",
     "output_type": "stream",
     "text": [
      "invalid literal for int() with base 10: '\"saransh\"'\n",
      "chlega hi chlega code\n"
     ]
    }
   ],
   "source": [
    "try:\n",
    "    a = 500\n",
    "    b = int(input(\"enter your number\"))\n",
    "    c = a/b \n",
    "    print(c)\n",
    "except ValueError as v:\n",
    "    print(v)\n",
    "except ZeroDivisionError as z:\n",
    "    print(z)\n",
    "except:\n",
    "    print(\"check something\")\n",
    "else:\n",
    "    print(\"Every thing goes truly\")\n",
    "finally:\n",
    "    print(\"chlega hi chlega code\")"
   ]
  },
  {
   "cell_type": "code",
   "execution_count": null,
   "id": "158d32bc-f84b-4dd8-966c-3c8d20c152f7",
   "metadata": {},
   "outputs": [],
   "source": []
  }
 ],
 "metadata": {
  "kernelspec": {
   "display_name": "Python 3 (ipykernel)",
   "language": "python",
   "name": "python3"
  },
  "language_info": {
   "codemirror_mode": {
    "name": "ipython",
    "version": 3
   },
   "file_extension": ".py",
   "mimetype": "text/x-python",
   "name": "python",
   "nbconvert_exporter": "python",
   "pygments_lexer": "ipython3",
   "version": "3.13.5"
  }
 },
 "nbformat": 4,
 "nbformat_minor": 5
}
