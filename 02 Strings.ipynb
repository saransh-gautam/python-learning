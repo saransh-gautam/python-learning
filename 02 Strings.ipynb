{
 "cells": [
  {
   "cell_type": "markdown",
   "id": "7ea6cd3a-334d-4315-b507-6162bfdc762b",
   "metadata": {},
   "source": [
    "# STRING\n"
   ]
  },
  {
   "cell_type": "code",
   "execution_count": 2,
   "id": "aecd463b-968c-4217-816c-a48cd2c4b0eb",
   "metadata": {},
   "outputs": [
    {
     "data": {
      "text/plain": [
       "'saransh'"
      ]
     },
     "execution_count": 2,
     "metadata": {},
     "output_type": "execute_result"
    }
   ],
   "source": [
    "'saransh'"
   ]
  },
  {
   "cell_type": "code",
   "execution_count": 3,
   "id": "70364ab4-4aeb-4171-9d65-770e6ad94352",
   "metadata": {},
   "outputs": [
    {
     "data": {
      "text/plain": [
       "'saransh'"
      ]
     },
     "execution_count": 3,
     "metadata": {},
     "output_type": "execute_result"
    }
   ],
   "source": [
    "\"saransh\""
   ]
  },
  {
   "cell_type": "code",
   "execution_count": 4,
   "id": "b6981b7b-057a-441f-ac28-7e11c2d869fb",
   "metadata": {},
   "outputs": [
    {
     "data": {
      "text/plain": [
       "'saransh'"
      ]
     },
     "execution_count": 4,
     "metadata": {},
     "output_type": "execute_result"
    }
   ],
   "source": [
    "\"\"\"saransh\"\"\""
   ]
  },
  {
   "cell_type": "code",
   "execution_count": 7,
   "id": "5f6abf22-23d5-4fc2-9096-cbdbec12a47b",
   "metadata": {},
   "outputs": [],
   "source": [
    "#\"\"\""
   ]
  },
  {
   "cell_type": "code",
   "execution_count": 8,
   "id": "ec15b178-3664-4298-924e-1dd5c007cab7",
   "metadata": {},
   "outputs": [
    {
     "data": {
      "text/plain": [
       "'MY name is saransh\\nnice to meet you'"
      ]
     },
     "execution_count": 8,
     "metadata": {},
     "output_type": "execute_result"
    }
   ],
   "source": [
    "\"\"\"MY name is saransh\n",
    "nice to meet you\"\"\""
   ]
  },
  {
   "cell_type": "code",
   "execution_count": 9,
   "id": "30b98339-c7b9-42de-a379-d070941c0dab",
   "metadata": {},
   "outputs": [],
   "source": [
    "#Thus we use print"
   ]
  },
  {
   "cell_type": "code",
   "execution_count": 10,
   "id": "f18f5d4a-60a3-4d18-915b-ad9f9b00b0d9",
   "metadata": {},
   "outputs": [
    {
     "name": "stdout",
     "output_type": "stream",
     "text": [
      "MY name is saransh\n",
      "nice to meet you\n"
     ]
    }
   ],
   "source": [
    "print(\"\"\"MY name is saransh\n",
    "nice to meet you\"\"\")"
   ]
  },
  {
   "cell_type": "markdown",
   "id": "f5c27ce7-ec07-466a-9e18-dbb8847f7074",
   "metadata": {},
   "source": [
    "# Data type"
   ]
  },
  {
   "cell_type": "code",
   "execution_count": 11,
   "id": "33247ddf-5e3e-42a0-b648-79ecccb31da8",
   "metadata": {},
   "outputs": [
    {
     "data": {
      "text/plain": [
       "str"
      ]
     },
     "execution_count": 11,
     "metadata": {},
     "output_type": "execute_result"
    }
   ],
   "source": [
    "type(\"saransh\")"
   ]
  },
  {
   "cell_type": "code",
   "execution_count": 12,
   "id": "4bd70d91-21fb-4c44-bd52-c19c1f24d490",
   "metadata": {},
   "outputs": [],
   "source": [
    "# capitalize,upper,lower function"
   ]
  },
  {
   "cell_type": "code",
   "execution_count": 15,
   "id": "19a67e75-3441-4cb1-9222-c06e688b96f0",
   "metadata": {},
   "outputs": [],
   "source": [
    "# In captalize first word get capital"
   ]
  },
  {
   "cell_type": "code",
   "execution_count": 16,
   "id": "3ecbbf4e-3067-4b0b-b5b6-f08dd348da91",
   "metadata": {},
   "outputs": [
    {
     "data": {
      "text/plain": [
       "'Saransh'"
      ]
     },
     "execution_count": 16,
     "metadata": {},
     "output_type": "execute_result"
    }
   ],
   "source": [
    "\"saransh\".capitalize()"
   ]
  },
  {
   "cell_type": "code",
   "execution_count": 17,
   "id": "ffc61485-82dc-48a9-b406-a6013ff93fd6",
   "metadata": {},
   "outputs": [],
   "source": [
    "#Upper case"
   ]
  },
  {
   "cell_type": "code",
   "execution_count": 93,
   "id": "8e327905-9c3a-4fce-ac19-72045be2a312",
   "metadata": {},
   "outputs": [],
   "source": [
    "name = \"abhi\""
   ]
  },
  {
   "cell_type": "code",
   "execution_count": 94,
   "id": "b0baadaa-2b32-42e7-9389-a8ccdaa9582e",
   "metadata": {},
   "outputs": [
    {
     "data": {
      "text/plain": [
       "'ABHI'"
      ]
     },
     "execution_count": 94,
     "metadata": {},
     "output_type": "execute_result"
    }
   ],
   "source": [
    "name.upper()"
   ]
  },
  {
   "cell_type": "code",
   "execution_count": 95,
   "id": "94cbb59f-65d5-49c8-a78b-d6bba06ba3ed",
   "metadata": {},
   "outputs": [],
   "source": [
    "name = name.upper()"
   ]
  },
  {
   "cell_type": "code",
   "execution_count": 96,
   "id": "053d82c9-a715-47e9-b4db-0cbeb1ae7dcb",
   "metadata": {},
   "outputs": [
    {
     "data": {
      "text/plain": [
       "'ABHI'"
      ]
     },
     "execution_count": 96,
     "metadata": {},
     "output_type": "execute_result"
    }
   ],
   "source": [
    "name"
   ]
  },
  {
   "cell_type": "code",
   "execution_count": 82,
   "id": "d8b87814-8c56-46be-8e95-080524b7d2b6",
   "metadata": {},
   "outputs": [
    {
     "data": {
      "text/plain": [
       "'SARANSH'"
      ]
     },
     "execution_count": 82,
     "metadata": {},
     "output_type": "execute_result"
    }
   ],
   "source": [
    "\"saransh\".upper()"
   ]
  },
  {
   "cell_type": "code",
   "execution_count": 19,
   "id": "25367b75-cb10-47e3-9cc6-1d64454b717a",
   "metadata": {},
   "outputs": [],
   "source": [
    "#lower case"
   ]
  },
  {
   "cell_type": "code",
   "execution_count": 21,
   "id": "092553d9-6032-4c2c-ae47-6fc8d1c5b9e5",
   "metadata": {},
   "outputs": [
    {
     "data": {
      "text/plain": [
       "'saransh'"
      ]
     },
     "execution_count": 21,
     "metadata": {},
     "output_type": "execute_result"
    }
   ],
   "source": [
    "\"saRaNsh\".lower()"
   ]
  },
  {
   "cell_type": "code",
   "execution_count": 22,
   "id": "869e7743-af8a-44a0-a4a5-c36f318dc615",
   "metadata": {},
   "outputs": [],
   "source": [
    "#Using count function"
   ]
  },
  {
   "cell_type": "code",
   "execution_count": 26,
   "id": "f2a81821-9f37-4562-9965-904d56db5989",
   "metadata": {},
   "outputs": [
    {
     "data": {
      "text/plain": [
       "4"
      ]
     },
     "execution_count": 26,
     "metadata": {},
     "output_type": "execute_result"
    }
   ],
   "source": [
    "\"Saransh gautam\".count(\"a\")"
   ]
  },
  {
   "cell_type": "code",
   "execution_count": 36,
   "id": "92148cd7-b63d-4f87-bb05-001ba332f269",
   "metadata": {},
   "outputs": [],
   "source": [
    "#find same as indexing"
   ]
  },
  {
   "cell_type": "code",
   "execution_count": 31,
   "id": "b42c2767-b8df-4b4c-80b7-2753f184a42c",
   "metadata": {},
   "outputs": [],
   "source": [
    "name = \"saransh Gautam\""
   ]
  },
  {
   "cell_type": "code",
   "execution_count": 32,
   "id": "ef4e7621-44b4-42de-acf0-3eb2ccff47d6",
   "metadata": {},
   "outputs": [
    {
     "data": {
      "text/plain": [
       "'saransh Gautam'"
      ]
     },
     "execution_count": 32,
     "metadata": {},
     "output_type": "execute_result"
    }
   ],
   "source": [
    "name"
   ]
  },
  {
   "cell_type": "code",
   "execution_count": 40,
   "id": "2d8759ed-f1e2-4b57-9c82-5b1d0d6c0d6e",
   "metadata": {},
   "outputs": [
    {
     "data": {
      "text/plain": [
       "8"
      ]
     },
     "execution_count": 40,
     "metadata": {},
     "output_type": "execute_result"
    }
   ],
   "source": [
    "name.find(\"G\")"
   ]
  },
  {
   "cell_type": "code",
   "execution_count": 138,
   "id": "2c14c03c-2a38-4da7-89a4-e27c2ef4487b",
   "metadata": {},
   "outputs": [],
   "source": [
    "#length function (words ki length btane ke liye)"
   ]
  },
  {
   "cell_type": "code",
   "execution_count": 38,
   "id": "a1e2c932-4498-47c2-bfec-32b091636e64",
   "metadata": {},
   "outputs": [
    {
     "data": {
      "text/plain": [
       "14"
      ]
     },
     "execution_count": 38,
     "metadata": {},
     "output_type": "execute_result"
    }
   ],
   "source": [
    "len(name)"
   ]
  },
  {
   "cell_type": "code",
   "execution_count": 41,
   "id": "90f71264-2a80-4026-aad6-5a94f11368e4",
   "metadata": {},
   "outputs": [],
   "source": [
    "first_name = \"Saransh\""
   ]
  },
  {
   "cell_type": "code",
   "execution_count": 42,
   "id": "0bd737ff-e925-4eb5-8bc3-ba5a72d3f064",
   "metadata": {},
   "outputs": [],
   "source": [
    "last_name = \"Gautam\""
   ]
  },
  {
   "cell_type": "code",
   "execution_count": 44,
   "id": "32247e84-4156-4c28-a8b9-1c67aedd88f7",
   "metadata": {},
   "outputs": [
    {
     "data": {
      "text/plain": [
       "'Saransh Gautam'"
      ]
     },
     "execution_count": 44,
     "metadata": {},
     "output_type": "execute_result"
    }
   ],
   "source": [
    "first_name + \" \" + last_name"
   ]
  },
  {
   "cell_type": "code",
   "execution_count": 45,
   "id": "d316a375-656f-402b-8cd8-ee1e6927ad88",
   "metadata": {},
   "outputs": [
    {
     "data": {
      "text/plain": [
       "10"
      ]
     },
     "execution_count": 45,
     "metadata": {},
     "output_type": "execute_result"
    }
   ],
   "source": [
    "5 + 5"
   ]
  },
  {
   "cell_type": "code",
   "execution_count": 46,
   "id": "245ce03d-c747-41e6-95af-48d5faedf85d",
   "metadata": {},
   "outputs": [
    {
     "data": {
      "text/plain": [
       "'55'"
      ]
     },
     "execution_count": 46,
     "metadata": {},
     "output_type": "execute_result"
    }
   ],
   "source": [
    "\"5\" + \"5\""
   ]
  },
  {
   "cell_type": "code",
   "execution_count": 48,
   "id": "275e3618-e3f6-49a6-96d8-dcd591431813",
   "metadata": {},
   "outputs": [],
   "source": [
    "name = \"akash\"\n",
    "salary = \"80000\""
   ]
  },
  {
   "cell_type": "code",
   "execution_count": 49,
   "id": "2dca1e4f-ad55-4116-9531-5a3c3690e2a0",
   "metadata": {},
   "outputs": [
    {
     "data": {
      "text/plain": [
       "'hi my name is akash'"
      ]
     },
     "execution_count": 49,
     "metadata": {},
     "output_type": "execute_result"
    }
   ],
   "source": [
    "\"hi my name is \"+ name"
   ]
  },
  {
   "cell_type": "code",
   "execution_count": 58,
   "id": "de4f48f1-a86b-4506-b3e1-355bfad78859",
   "metadata": {},
   "outputs": [],
   "source": [
    "# Format function"
   ]
  },
  {
   "cell_type": "code",
   "execution_count": 53,
   "id": "294de5e6-f0b4-4d04-99a8-4f705d21bf7f",
   "metadata": {},
   "outputs": [
    {
     "data": {
      "text/plain": [
       "'hi my name is akash and my salary is 80000'"
      ]
     },
     "execution_count": 53,
     "metadata": {},
     "output_type": "execute_result"
    }
   ],
   "source": [
    "\"hi my name is {} and my salary is {}\".format(\"akash\",80000)"
   ]
  },
  {
   "cell_type": "code",
   "execution_count": 61,
   "id": "4face00a-fd22-4a2a-b3d3-ec9454966044",
   "metadata": {},
   "outputs": [],
   "source": [
    "#with numbering/indexing"
   ]
  },
  {
   "cell_type": "code",
   "execution_count": 62,
   "id": "f5d975e3-f9b0-42c8-a489-2e65d5e059e8",
   "metadata": {},
   "outputs": [
    {
     "data": {
      "text/plain": [
       "'hi my name is akash and my salary is 80000 or i am akash.i live in Himachal'"
      ]
     },
     "execution_count": 62,
     "metadata": {},
     "output_type": "execute_result"
    }
   ],
   "source": [
    "\"hi my name is {0} and my salary is {1} or i am {0}.i live in {2}\".format(\"akash\",80000,\"Himachal\")"
   ]
  },
  {
   "cell_type": "code",
   "execution_count": 63,
   "id": "329a20d4-4eb7-4a74-824d-e5ba539be190",
   "metadata": {},
   "outputs": [],
   "source": [
    "name = \"saransh\"\n",
    "salary = 50000\n",
    "place = \"chd\""
   ]
  },
  {
   "cell_type": "code",
   "execution_count": 66,
   "id": "70a8ed44-a7fb-4ea5-abbd-4f04609fd074",
   "metadata": {},
   "outputs": [
    {
     "data": {
      "text/plain": [
       "'hi my name is saransh.My salary is 50000,I live in chd'"
      ]
     },
     "execution_count": 66,
     "metadata": {},
     "output_type": "execute_result"
    }
   ],
   "source": [
    "f\"hi my name is {name}.My salary is {salary},I live in {place}\""
   ]
  },
  {
   "cell_type": "code",
   "execution_count": 69,
   "id": "f2219712-a7e2-4152-8fec-4d090ae1986a",
   "metadata": {},
   "outputs": [],
   "source": [
    "#split functions "
   ]
  },
  {
   "cell_type": "code",
   "execution_count": 71,
   "id": "a11cf081-4800-4a7c-a8dc-68abeb61ea79",
   "metadata": {},
   "outputs": [
    {
     "data": {
      "text/plain": [
       "['shubham', 'singh']"
      ]
     },
     "execution_count": 71,
     "metadata": {},
     "output_type": "execute_result"
    }
   ],
   "source": [
    "\"shubham singh\".split()"
   ]
  },
  {
   "cell_type": "code",
   "execution_count": 72,
   "id": "371f536d-3e12-4ebb-8713-cad3237c81c2",
   "metadata": {},
   "outputs": [
    {
     "data": {
      "text/plain": [
       "['Tom', 'Jerry', 'Cat', 'Mouse']"
      ]
     },
     "execution_count": 72,
     "metadata": {},
     "output_type": "execute_result"
    }
   ],
   "source": [
    "\"Tom Jerry Cat Mouse\".split()"
   ]
  },
  {
   "cell_type": "code",
   "execution_count": 97,
   "id": "0178b73a-be95-4666-a73b-284b777d6608",
   "metadata": {},
   "outputs": [],
   "source": [
    "# with date/ numbers"
   ]
  },
  {
   "cell_type": "code",
   "execution_count": 102,
   "id": "da623ab0-3762-4532-8fa2-92d5660ce062",
   "metadata": {},
   "outputs": [
    {
     "data": {
      "text/plain": [
       "['22', '07', '2025']"
      ]
     },
     "execution_count": 102,
     "metadata": {},
     "output_type": "execute_result"
    }
   ],
   "source": [
    "\"22-07-2025\".split(\"-\")"
   ]
  },
  {
   "cell_type": "code",
   "execution_count": 103,
   "id": "521cbeb4-be2f-4720-b0ce-7f5598256ff9",
   "metadata": {},
   "outputs": [],
   "source": [
    "#using strip function"
   ]
  },
  {
   "cell_type": "code",
   "execution_count": 110,
   "id": "a0845273-2ca4-4e0c-8c2e-f8859223c5e2",
   "metadata": {},
   "outputs": [
    {
     "data": {
      "text/plain": [
       "'Saransh Gautam'"
      ]
     },
     "execution_count": 110,
     "metadata": {},
     "output_type": "execute_result"
    }
   ],
   "source": [
    "\"Saransh Gautam\".strip()"
   ]
  },
  {
   "cell_type": "code",
   "execution_count": 121,
   "id": "29b146aa-5511-49ad-9e3f-cbe3e028ba16",
   "metadata": {},
   "outputs": [],
   "source": [
    "#Is function's"
   ]
  },
  {
   "cell_type": "code",
   "execution_count": 122,
   "id": "448e7249-4c93-4780-88ab-69bfd8b56182",
   "metadata": {},
   "outputs": [
    {
     "data": {
      "text/plain": [
       "False"
      ]
     },
     "execution_count": 122,
     "metadata": {},
     "output_type": "execute_result"
    }
   ],
   "source": [
    "\"pravesh\".isupper()"
   ]
  },
  {
   "cell_type": "code",
   "execution_count": 123,
   "id": "cd9f71ec-06b5-4bd3-bf9a-8128f44355f0",
   "metadata": {},
   "outputs": [
    {
     "data": {
      "text/plain": [
       "True"
      ]
     },
     "execution_count": 123,
     "metadata": {},
     "output_type": "execute_result"
    }
   ],
   "source": [
    "\"pravesh\".isalpha()"
   ]
  },
  {
   "cell_type": "code",
   "execution_count": 124,
   "id": "fcdc8f06-c995-4675-8bc6-5bcdd27ab0b6",
   "metadata": {},
   "outputs": [
    {
     "data": {
      "text/plain": [
       "True"
      ]
     },
     "execution_count": 124,
     "metadata": {},
     "output_type": "execute_result"
    }
   ],
   "source": [
    "\"saransh\".islower()"
   ]
  },
  {
   "cell_type": "code",
   "execution_count": 125,
   "id": "178c54b9-cd88-47fb-a988-a0a2daa2d062",
   "metadata": {},
   "outputs": [],
   "source": [
    "#for numbers"
   ]
  },
  {
   "cell_type": "code",
   "execution_count": 126,
   "id": "d3bf6ef6-975a-42bd-96ab-13b1402a2121",
   "metadata": {},
   "outputs": [
    {
     "data": {
      "text/plain": [
       "True"
      ]
     },
     "execution_count": 126,
     "metadata": {},
     "output_type": "execute_result"
    }
   ],
   "source": [
    "\"pravesh50\".isalnum()"
   ]
  },
  {
   "cell_type": "code",
   "execution_count": 127,
   "id": "f18b5180-28f8-40db-9c0a-9475819cc923",
   "metadata": {},
   "outputs": [],
   "source": [
    "#spacing not allowed in Is function"
   ]
  },
  {
   "cell_type": "code",
   "execution_count": 128,
   "id": "06a2c8d8-8919-46ea-b85a-8b0c4c3a5f2f",
   "metadata": {},
   "outputs": [
    {
     "data": {
      "text/plain": [
       "False"
      ]
     },
     "execution_count": 128,
     "metadata": {},
     "output_type": "execute_result"
    }
   ],
   "source": [
    "\"shubham singh\".isalpha()"
   ]
  },
  {
   "cell_type": "code",
   "execution_count": 129,
   "id": "ded3a10b-0328-4f7e-8bc7-d9739d5ea3c6",
   "metadata": {},
   "outputs": [],
   "source": [
    "#replace function"
   ]
  },
  {
   "cell_type": "code",
   "execution_count": 131,
   "id": "09a71acd-7d54-4225-aeed-bb8e4e349ba8",
   "metadata": {},
   "outputs": [
    {
     "data": {
      "text/plain": [
       "'Sirinsh Giutim'"
      ]
     },
     "execution_count": 131,
     "metadata": {},
     "output_type": "execute_result"
    }
   ],
   "source": [
    "\"Saransh Gautam\".replace(\"a\",\"i\")"
   ]
  },
  {
   "cell_type": "code",
   "execution_count": 135,
   "id": "75ffa2d8-3b4b-43b5-9f38-e41454d7df4f",
   "metadata": {},
   "outputs": [
    {
     "data": {
      "text/plain": [
       "'Sirinsh Gautam'"
      ]
     },
     "execution_count": 135,
     "metadata": {},
     "output_type": "execute_result"
    }
   ],
   "source": [
    "\"Saransh Gautam\".replace(\"a\",\"i\",2)"
   ]
  },
  {
   "cell_type": "code",
   "execution_count": 136,
   "id": "4559b247-adcf-4155-8ff1-25195499a48a",
   "metadata": {},
   "outputs": [],
   "source": [
    "name = \"Netwon\""
   ]
  },
  {
   "cell_type": "code",
   "execution_count": 137,
   "id": "809b2ab1-367b-48e0-9cc0-09c19139b1b3",
   "metadata": {},
   "outputs": [
    {
     "data": {
      "text/plain": [
       "'w'"
      ]
     },
     "execution_count": 137,
     "metadata": {},
     "output_type": "execute_result"
    }
   ],
   "source": [
    "name[3]"
   ]
  },
  {
   "cell_type": "code",
   "execution_count": null,
   "id": "d28e9680-e906-4d40-9366-5a5061bd5235",
   "metadata": {},
   "outputs": [],
   "source": []
  }
 ],
 "metadata": {
  "kernelspec": {
   "display_name": "Python 3 (ipykernel)",
   "language": "python",
   "name": "python3"
  },
  "language_info": {
   "codemirror_mode": {
    "name": "ipython",
    "version": 3
   },
   "file_extension": ".py",
   "mimetype": "text/x-python",
   "name": "python",
   "nbconvert_exporter": "python",
   "pygments_lexer": "ipython3",
   "version": "3.13.5"
  }
 },
 "nbformat": 4,
 "nbformat_minor": 5
}
