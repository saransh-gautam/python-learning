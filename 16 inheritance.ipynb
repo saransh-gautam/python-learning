{
 "cells": [
  {
   "cell_type": "code",
   "execution_count": 2,
   "id": "0b82da90-8600-4bfe-835e-9d0f9e436164",
   "metadata": {},
   "outputs": [],
   "source": [
    " #function overloading - redefine krna"
   ]
  },
  {
   "cell_type": "code",
   "execution_count": 3,
   "id": "b183d23c-d85e-410b-bfa6-f760c9a1b845",
   "metadata": {},
   "outputs": [],
   "source": [
    "# super function   -ek class se dusri child class mai "
   ]
  },
  {
   "cell_type": "code",
   "execution_count": 3,
   "id": "0d4413dd-5b2f-425a-bf8b-3d5ef5d14b1d",
   "metadata": {},
   "outputs": [],
   "source": [
    "# inheritance means - parent class ka function child mai excess ho jata hai"
   ]
  },
  {
   "cell_type": "code",
   "execution_count": 30,
   "id": "394e5df4-602e-4d37-805b-5c2a12c62f75",
   "metadata": {},
   "outputs": [],
   "source": [
    "class car():\n",
    "    TYRE = 4\n",
    "\n",
    "    def __init__(self,name,company):\n",
    "        self.name = name\n",
    "        self.company = company\n",
    "        print(\"Car was made\")\n",
    "\n",
    "    def __str__(self):\n",
    "        a =  f\"\"\"\n",
    "        ===== This is {self.name} of {self.company} ===== \"\"\"\n",
    "        return a\n",
    "\n",
    "    def __del__(self):\n",
    "        print(f\"{self.name} of {self.company} is scraped\")\n",
    "\n",
    "    def intro(self):\n",
    "        print(f\"This is {self.name} of {self.company} company \")\n",
    "\n",
    "    def move(self):\n",
    "        print(f\"{self.name} of {self.company} company moving forward\")\n",
    "\n",
    "    def fuel_up(self):\n",
    "        print(f\" I am {self.name} of {self.company} company need fuel \")"
   ]
  },
  {
   "cell_type": "code",
   "execution_count": 31,
   "id": "247888b5-753d-4d42-bfed-52ca37c68f57",
   "metadata": {},
   "outputs": [
    {
     "name": "stdout",
     "output_type": "stream",
     "text": [
      "Car was made\n",
      "swift of Maruti is scraped\n"
     ]
    }
   ],
   "source": [
    "gadi = car(\"swift\",\"Maruti\")"
   ]
  },
  {
   "cell_type": "code",
   "execution_count": 32,
   "id": "2036afa0-124b-45aa-83af-11c1ce345b26",
   "metadata": {},
   "outputs": [
    {
     "data": {
      "text/plain": [
       "'swift'"
      ]
     },
     "execution_count": 32,
     "metadata": {},
     "output_type": "execute_result"
    }
   ],
   "source": [
    "gadi.name\n"
   ]
  },
  {
   "cell_type": "code",
   "execution_count": 33,
   "id": "f4baee02-b8dd-49be-8143-80b275c7b8fa",
   "metadata": {},
   "outputs": [
    {
     "data": {
      "text/plain": [
       "'Maruti'"
      ]
     },
     "execution_count": 33,
     "metadata": {},
     "output_type": "execute_result"
    }
   ],
   "source": [
    "gadi.company"
   ]
  },
  {
   "cell_type": "code",
   "execution_count": 34,
   "id": "a52f152d-df62-4964-a483-d05753edcf51",
   "metadata": {},
   "outputs": [
    {
     "name": "stdout",
     "output_type": "stream",
     "text": [
      "\n",
      "        ===== This is swift of Maruti ===== \n"
     ]
    }
   ],
   "source": [
    "print(gadi)"
   ]
  },
  {
   "cell_type": "code",
   "execution_count": 35,
   "id": "aafb7f11-68e3-4c81-ac84-1b832ca0a14f",
   "metadata": {},
   "outputs": [
    {
     "name": "stdout",
     "output_type": "stream",
     "text": [
      "This is swift of Maruti company \n"
     ]
    }
   ],
   "source": [
    "gadi.intro()"
   ]
  },
  {
   "cell_type": "code",
   "execution_count": 36,
   "id": "1f78610c-4419-4ed5-b430-8d892e9988c3",
   "metadata": {},
   "outputs": [
    {
     "name": "stdout",
     "output_type": "stream",
     "text": [
      "swift of Maruti company moving forward\n"
     ]
    }
   ],
   "source": [
    "gadi.move()"
   ]
  },
  {
   "cell_type": "code",
   "execution_count": 37,
   "id": "aa9f956d-9a8d-4a9e-ae6e-40ec74c3cf6a",
   "metadata": {},
   "outputs": [
    {
     "name": "stdout",
     "output_type": "stream",
     "text": [
      " I am swift of Maruti company need fuel \n"
     ]
    }
   ],
   "source": [
    "gadi.fuel_up()"
   ]
  },
  {
   "cell_type": "code",
   "execution_count": 71,
   "id": "c9e1e65a-4e5e-4cd7-99a9-b338e5846b0b",
   "metadata": {},
   "outputs": [],
   "source": [
    "class petrol_car(car):\n",
    "    FUEL = 4\n",
    "\n",
    "    def __init__(self,name,company,model = 2002):    # function overloading - redefine krna fucntion\n",
    "        super().__init__(name,company)    # super function for access something from parent class\n",
    "        self.model = model \n",
    "        print(\"s\")\n",
    "\n",
    "\n",
    "    def fuel_up(self):\n",
    "        print(f\"Filling up a petrol in {self.name}\")\n",
    "\n",
    "    def intro(self):\n",
    "        super().intro()\n",
    "        print(f\"This is a petrol car of {self.company} company\")\n",
    "\n",
    "    def discription(self):\n",
    "        print(f\"{self.name} is a petrol car of {self.company} company\")"
   ]
  },
  {
   "cell_type": "code",
   "execution_count": 72,
   "id": "69b05cc5-034b-41f5-8b56-39dd9e8b1d9c",
   "metadata": {},
   "outputs": [
    {
     "name": "stdout",
     "output_type": "stream",
     "text": [
      "Car was made\n",
      "s\n"
     ]
    }
   ],
   "source": [
    "gadi_2 = petrol_car(\"Thar\",\"Mahindra\")"
   ]
  },
  {
   "cell_type": "code",
   "execution_count": 73,
   "id": "b5b53d82-3bbe-4f58-933b-678f676db686",
   "metadata": {},
   "outputs": [
    {
     "data": {
      "text/plain": [
       "'Mahindra'"
      ]
     },
     "execution_count": 73,
     "metadata": {},
     "output_type": "execute_result"
    }
   ],
   "source": [
    "gadi_2.company"
   ]
  },
  {
   "cell_type": "code",
   "execution_count": 74,
   "id": "a01c7240-ecdb-4259-b903-5dab8c4ad387",
   "metadata": {},
   "outputs": [
    {
     "data": {
      "text/plain": [
       "'Thar'"
      ]
     },
     "execution_count": 74,
     "metadata": {},
     "output_type": "execute_result"
    }
   ],
   "source": [
    "gadi_2.name"
   ]
  },
  {
   "cell_type": "code",
   "execution_count": 75,
   "id": "b00fcc2c-5cab-424a-8680-2446718f2c14",
   "metadata": {},
   "outputs": [
    {
     "name": "stdout",
     "output_type": "stream",
     "text": [
      "\n",
      "        ===== This is Thar of Mahindra ===== \n"
     ]
    }
   ],
   "source": [
    "print(gadi_2)"
   ]
  },
  {
   "cell_type": "code",
   "execution_count": 76,
   "id": "c55f3973-9762-4a7d-9c9f-5340a6107123",
   "metadata": {},
   "outputs": [
    {
     "name": "stdout",
     "output_type": "stream",
     "text": [
      "This is Thar of Mahindra company \n",
      "This is a petrol car of Mahindra company\n"
     ]
    }
   ],
   "source": [
    "gadi_2.intro()"
   ]
  },
  {
   "cell_type": "markdown",
   "id": "563583ae-200f-45dd-8c09-71de17571b4a",
   "metadata": {},
   "source": [
    "# polymorphism"
   ]
  },
  {
   "cell_type": "code",
   "execution_count": 4,
   "id": "e63f763a-bfee-492c-8db5-3774fbb208a4",
   "metadata": {},
   "outputs": [],
   "source": [
    "# dono chijo ke function same honge par working alag alag hogi"
   ]
  },
  {
   "cell_type": "markdown",
   "id": "3477dc1e-7585-48c4-88e8-5a22aedd2a98",
   "metadata": {},
   "source": [
    "# Abstratcion"
   ]
  },
  {
   "cell_type": "code",
   "execution_count": 6,
   "id": "4a90b2e8-4d83-4434-aefd-e6f8bb52050b",
   "metadata": {},
   "outputs": [],
   "source": [
    "from abc import ABC,abstractmethod"
   ]
  },
  {
   "cell_type": "code",
   "execution_count": 9,
   "id": "f6e55579-3948-4c47-9ec9-205e7500400f",
   "metadata": {},
   "outputs": [],
   "source": [
    "class Car(ABC):\n",
    "    CAR_TYPE = \"Simple\"\n",
    "\n",
    "    def hello(self):\n",
    "        print(\"hello everyone\")\n",
    "\n",
    "        \n",
    "    @abstractmethod          # Decorator\n",
    "    \n",
    "    def intro(self):\n",
    "        print(f\"this is a {self.CAR_TYPE}\")"
   ]
  },
  {
   "cell_type": "code",
   "execution_count": 10,
   "id": "ab075b4e-1da0-4ba1-b5ea-26ae13a843bc",
   "metadata": {},
   "outputs": [],
   "source": [
    "class Diesel_Car(Car):\n",
    "\n",
    "    def intro(self):\n",
    "        print(\"this is a diesel car\")"
   ]
  },
  {
   "cell_type": "code",
   "execution_count": 11,
   "id": "0787c959-4370-42a7-b60b-838e85681882",
   "metadata": {},
   "outputs": [],
   "source": [
    "dgadi = Diesel_Car()"
   ]
  },
  {
   "cell_type": "code",
   "execution_count": 13,
   "id": "b2fe7d80-6073-4d37-b9bc-4530cb5cd202",
   "metadata": {},
   "outputs": [
    {
     "name": "stdout",
     "output_type": "stream",
     "text": [
      "this is a diesel car\n"
     ]
    }
   ],
   "source": [
    "dgadi.intro()"
   ]
  },
  {
   "cell_type": "code",
   "execution_count": 15,
   "id": "1bb318ce-4cbc-40f6-b98f-01d491870869",
   "metadata": {},
   "outputs": [
    {
     "name": "stdout",
     "output_type": "stream",
     "text": [
      "hello everyone\n"
     ]
    }
   ],
   "source": [
    "dgadi.hello()"
   ]
  },
  {
   "cell_type": "code",
   "execution_count": 16,
   "id": "8ecd9aa0-4a19-48bc-aae9-c2cd70e38dbe",
   "metadata": {},
   "outputs": [
    {
     "data": {
      "text/plain": [
       "'Simple'"
      ]
     },
     "execution_count": 16,
     "metadata": {},
     "output_type": "execute_result"
    }
   ],
   "source": [
    "dgadi.CAR_TYPE"
   ]
  },
  {
   "cell_type": "code",
   "execution_count": 18,
   "id": "e32e9eae-dae4-4614-b80a-2d56a6d2bc8b",
   "metadata": {},
   "outputs": [],
   "source": [
    "class Animal():\n",
    "    good = \"yes\"\n",
    "\n",
    "    def __init__(self):\n",
    "        self.animal = \"Animal\"\n",
    "\n",
    "    def  sayHello(self):\n",
    "        print(\"hello everyone\")\n",
    "\n",
    "    #static\n",
    "    @staticmethod\n",
    "    def sayHi():\n",
    "        print(\"Hello everyone nice to meet you\")"
   ]
  },
  {
   "cell_type": "code",
   "execution_count": 30,
   "id": "66b5b432-e43b-4816-9bcc-0e12017e7a65",
   "metadata": {},
   "outputs": [],
   "source": [
    "dog = Animal()"
   ]
  },
  {
   "cell_type": "code",
   "execution_count": 31,
   "id": "9d0c0318-d66c-4ad7-bd1f-7e81bcb39604",
   "metadata": {},
   "outputs": [
    {
     "name": "stdout",
     "output_type": "stream",
     "text": [
      "Hello everyone nice to meet you\n"
     ]
    }
   ],
   "source": [
    "dog.sayHi()"
   ]
  },
  {
   "cell_type": "code",
   "execution_count": 34,
   "id": "2e846aaa-7220-4b93-87fb-15287c904ec5",
   "metadata": {},
   "outputs": [
    {
     "name": "stdout",
     "output_type": "stream",
     "text": [
      "hello everyone\n"
     ]
    }
   ],
   "source": [
    "dog.sayHello()"
   ]
  },
  {
   "cell_type": "code",
   "execution_count": null,
   "id": "49965f41-027c-4900-8df5-5c8039ac167d",
   "metadata": {},
   "outputs": [],
   "source": []
  },
  {
   "cell_type": "code",
   "execution_count": null,
   "id": "608bb35f-5659-4686-86ba-53283d3f73de",
   "metadata": {},
   "outputs": [],
   "source": []
  }
 ],
 "metadata": {
  "kernelspec": {
   "display_name": "Python 3 (ipykernel)",
   "language": "python",
   "name": "python3"
  },
  "language_info": {
   "codemirror_mode": {
    "name": "ipython",
    "version": 3
   },
   "file_extension": ".py",
   "mimetype": "text/x-python",
   "name": "python",
   "nbconvert_exporter": "python",
   "pygments_lexer": "ipython3",
   "version": "3.13.5"
  }
 },
 "nbformat": 4,
 "nbformat_minor": 5
}
