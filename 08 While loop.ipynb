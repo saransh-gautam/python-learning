{
 "cells": [
  {
   "cell_type": "markdown",
   "id": "e93fb4b4-a74f-4bb5-b4e9-8cb661c8d27c",
   "metadata": {},
   "source": [
    "# While loop"
   ]
  },
  {
   "cell_type": "code",
   "execution_count": 3,
   "id": "dd991ddc-1173-4d00-8417-5dbf5f86586d",
   "metadata": {},
   "outputs": [
    {
     "name": "stdout",
     "output_type": "stream",
     "text": [
      "Hello World\n",
      "Bharat\n",
      "Jai Himachal\n"
     ]
    }
   ],
   "source": [
    "while True:\n",
    "    print(\"Hello World\")\n",
    "    print(\"Bharat\")\n",
    "    break\n",
    "    print(\"Saransh\")\n",
    "print(\"Jai Himachal\")"
   ]
  },
  {
   "cell_type": "code",
   "execution_count": 12,
   "id": "44c2ef24-9278-4752-bb2c-769a81ab2ff4",
   "metadata": {},
   "outputs": [],
   "source": [
    "i = 1"
   ]
  },
  {
   "cell_type": "code",
   "execution_count": 13,
   "id": "43da9e7f-0813-446b-9ec1-7e4e5224c713",
   "metadata": {},
   "outputs": [
    {
     "name": "stdout",
     "output_type": "stream",
     "text": [
      "1\n",
      "2\n"
     ]
    }
   ],
   "source": [
    "while True:\n",
    "    print(i)\n",
    "    i+=1\n",
    "    break\n",
    "print(i)    \n",
    "    "
   ]
  },
  {
   "cell_type": "code",
   "execution_count": 21,
   "id": "4029bf55-ba14-467a-bd07-e85533e4d729",
   "metadata": {},
   "outputs": [],
   "source": [
    "i = 1"
   ]
  },
  {
   "cell_type": "code",
   "execution_count": 24,
   "id": "42e8515c-3146-45fd-aa4f-f064f684c749",
   "metadata": {},
   "outputs": [
    {
     "name": "stdout",
     "output_type": "stream",
     "text": [
      "1\n",
      "2\n",
      "3\n",
      "4\n",
      "5\n",
      "6\n",
      "7\n",
      "8\n",
      "9\n",
      "10\n"
     ]
    }
   ],
   "source": [
    "i =  1\n",
    "while True:\n",
    "    print(i)\n",
    "    if i == 10:\n",
    "        break\n",
    "    i+=1"
   ]
  },
  {
   "cell_type": "code",
   "execution_count": 25,
   "id": "9bd521e8-ae1d-429d-8cff-8d442ceef4f8",
   "metadata": {},
   "outputs": [],
   "source": [
    "i = 0"
   ]
  },
  {
   "cell_type": "code",
   "execution_count": 27,
   "id": "bd833001-fa56-4dd6-bd0b-b5fb7abee3de",
   "metadata": {},
   "outputs": [
    {
     "name": "stdout",
     "output_type": "stream",
     "text": [
      "0\n",
      "1\n",
      "2\n",
      "3\n",
      "4\n",
      "5\n",
      "6\n",
      "7\n",
      "8\n",
      "9\n",
      "10\n"
     ]
    }
   ],
   "source": [
    "i = 0\n",
    "while i <= 10:\n",
    "    print(i)\n",
    "    i+=1"
   ]
  },
  {
   "cell_type": "code",
   "execution_count": 30,
   "id": "d5dfb566-383a-4274-9bbe-1859e1cd71ef",
   "metadata": {},
   "outputs": [
    {
     "name": "stdout",
     "output_type": "stream",
     "text": [
      "5\n",
      "6\n",
      "7\n",
      "8\n",
      "9\n",
      "10\n"
     ]
    }
   ],
   "source": [
    "i = 5\n",
    "n = 10\n",
    "while i <= n:\n",
    "    print(i)\n",
    "    i+=1"
   ]
  },
  {
   "cell_type": "code",
   "execution_count": 31,
   "id": "02c1f635-b4af-4155-9bad-ec036f4d1fdc",
   "metadata": {},
   "outputs": [],
   "source": [
    "i = 0\n",
    "n = 20"
   ]
  },
  {
   "cell_type": "code",
   "execution_count": 37,
   "id": "2097d863-eb3e-4031-9f86-f1f40cc469f5",
   "metadata": {},
   "outputs": [
    {
     "name": "stdout",
     "output_type": "stream",
     "text": [
      "0\n",
      "1\n",
      "2\n",
      "3\n",
      "4\n",
      "5\n",
      "6\n",
      "7\n",
      "8\n",
      "9\n",
      "10\n",
      "11\n",
      "12\n",
      "13\n",
      "14\n",
      "15\n",
      "16\n",
      "17\n",
      "18\n",
      "19\n"
     ]
    }
   ],
   "source": [
    "i = 0\n",
    "n = 20\n",
    "while i < n:\n",
    "    print(i)\n",
    "    i+=1                  # increament"
   ]
  },
  {
   "cell_type": "code",
   "execution_count": 2,
   "id": "774d1191-eeb5-41ab-9104-d453792fb067",
   "metadata": {},
   "outputs": [
    {
     "name": "stdin",
     "output_type": "stream",
     "text": [
      "Enter your name: 5\n"
     ]
    },
    {
     "name": "stdout",
     "output_type": "stream",
     "text": [
      "5 x 0 = 0\n",
      "5 x 1 = 5\n",
      "5 x 2 = 10\n",
      "5 x 3 = 15\n",
      "5 x 4 = 20\n",
      "5 x 5 = 25\n"
     ]
    }
   ],
   "source": [
    "n = int(input(\"Enter your name:\"))\n",
    "i = 0\n",
    "while i <= n:\n",
    "    print(n,\"x\",i,\"=\",i*n)\n",
    "    i+=1\n",
    "  "
   ]
  },
  {
   "cell_type": "code",
   "execution_count": 69,
   "id": "34ede333-dca6-478c-a907-b6890e887e42",
   "metadata": {},
   "outputs": [
    {
     "name": "stdin",
     "output_type": "stream",
     "text": [
      "Enter a number here: 20\n"
     ]
    },
    {
     "name": "stdout",
     "output_type": "stream",
     "text": [
      "20 / 1 = 0.05\n",
      "20 / 2 = 0.1\n",
      "20 / 3 = 0.15\n",
      "20 / 4 = 0.2\n",
      "20 / 5 = 0.25\n",
      "20 / 6 = 0.3\n",
      "20 / 7 = 0.35\n",
      "20 / 8 = 0.4\n",
      "20 / 9 = 0.45\n",
      "20 / 10 = 0.5\n",
      "20 / 11 = 0.55\n",
      "20 / 12 = 0.6\n",
      "20 / 13 = 0.65\n",
      "20 / 14 = 0.7\n",
      "20 / 15 = 0.75\n",
      "20 / 16 = 0.8\n",
      "20 / 17 = 0.85\n",
      "20 / 18 = 0.9\n",
      "20 / 19 = 0.95\n"
     ]
    }
   ],
   "source": [
    "n = int(input(\"Enter a number here:\"))\n",
    "i = 1\n",
    "while i < n:\n",
    "    print(n,\"/\",i,\"=\",i/n)\n",
    "    i+=1       #increament"
   ]
  },
  {
   "cell_type": "code",
   "execution_count": 110,
   "id": "459bb9ae-3b72-4374-961d-71de76f3188d",
   "metadata": {},
   "outputs": [
    {
     "name": "stdin",
     "output_type": "stream",
     "text": [
      "Enter a number: 10\n"
     ]
    },
    {
     "name": "stdout",
     "output_type": "stream",
     "text": [
      "0 0\n",
      "1 1\n",
      "2 3\n",
      "3 6\n",
      "4 10\n",
      "5 15\n",
      "6 21\n",
      "7 28\n",
      "8 36\n",
      "9 45\n",
      "45\n"
     ]
    }
   ],
   "source": [
    "# sum\n",
    "i = 0\n",
    "n = int(input(\"Enter a number:\"))\n",
    "a = 0\n",
    "while i < n:\n",
    "    a+=i\n",
    "    print(i,a)\n",
    "    i+=1\n",
    "print(a)  "
   ]
  },
  {
   "cell_type": "code",
   "execution_count": 5,
   "id": "c2074459-78e5-4900-917d-fa19fadac0f0",
   "metadata": {},
   "outputs": [
    {
     "name": "stdin",
     "output_type": "stream",
     "text": [
      "Enter a number here: 4\n"
     ]
    },
    {
     "name": "stdout",
     "output_type": "stream",
     "text": [
      "1 2\n",
      "2 4\n",
      "3 7\n"
     ]
    }
   ],
   "source": [
    "# sum\n",
    "n = int(input(\"Enter a number here:\"))\n",
    "i = 1\n",
    "a = 1\n",
    "while i < n:\n",
    "    a+=i\n",
    "    print(i,a)\n",
    "    i+=1\n"
   ]
  },
  {
   "cell_type": "code",
   "execution_count": 99,
   "id": "5ba32c83-82e7-4d69-b6fd-dda7422fbd77",
   "metadata": {},
   "outputs": [
    {
     "name": "stdout",
     "output_type": "stream",
     "text": [
      "3825\n"
     ]
    }
   ],
   "source": [
    "# sum of number range\n",
    "i = 50\n",
    "n = 101\n",
    "a = 0\n",
    "while i < n:\n",
    "    a+=i\n",
    "    i+=1\n",
    "print(a)"
   ]
  },
  {
   "cell_type": "code",
   "execution_count": 105,
   "id": "fa083f82-c1b7-49b8-81dc-6282593bf1b4",
   "metadata": {},
   "outputs": [],
   "source": [
    "# with length function and indexing or slicing:"
   ]
  },
  {
   "cell_type": "code",
   "execution_count": 106,
   "id": "10904cc9-1986-4497-aba9-5008437f355e",
   "metadata": {},
   "outputs": [
    {
     "data": {
      "text/plain": [
       "7"
      ]
     },
     "execution_count": 106,
     "metadata": {},
     "output_type": "execute_result"
    }
   ],
   "source": [
    "name = \"Saransh\"\n",
    "len(name)"
   ]
  },
  {
   "cell_type": "code",
   "execution_count": 107,
   "id": "0c68e8d5-316d-4307-8baa-c6fbc4cde977",
   "metadata": {},
   "outputs": [
    {
     "name": "stdout",
     "output_type": "stream",
     "text": [
      "0\n",
      "1\n",
      "2\n",
      "3\n",
      "4\n",
      "5\n",
      "6\n"
     ]
    }
   ],
   "source": [
    "i = 0\n",
    "n = len(name)\n",
    "while i < n:\n",
    "    print(i)\n",
    "    i+=1"
   ]
  },
  {
   "cell_type": "code",
   "execution_count": 119,
   "id": "5b37b21f-2401-4b23-a98e-9b62050d9c60",
   "metadata": {},
   "outputs": [
    {
     "name": "stdout",
     "output_type": "stream",
     "text": [
      "S\n",
      "a\n",
      "r\n",
      "a\n",
      "n\n",
      "s\n",
      "h\n"
     ]
    }
   ],
   "source": [
    "i = 0\n",
    "n = len(name)\n",
    "while i < n:\n",
    "    print(name[i])\n",
    "    i+=1"
   ]
  },
  {
   "cell_type": "code",
   "execution_count": 114,
   "id": "07758ef4-b34b-4433-b4fa-dda7c734bfee",
   "metadata": {},
   "outputs": [
    {
     "name": "stdout",
     "output_type": "stream",
     "text": [
      "102\n"
     ]
    }
   ],
   "source": [
    "li = [4,5,6,78,9]\n",
    "i = 0\n",
    "n = len(li)\n",
    "total = 0\n",
    "while i < n:\n",
    "    total+=li[i]\n",
    "    i+=1\n",
    "print(total)\n",
    "    "
   ]
  },
  {
   "cell_type": "code",
   "execution_count": 6,
   "id": "82b1eac2-7d4e-44c8-a159-42f0a2ad0078",
   "metadata": {},
   "outputs": [
    {
     "name": "stdout",
     "output_type": "stream",
     "text": [
      "0 0\n",
      "1 1\n",
      "2 3\n",
      "3 6\n",
      "4 10\n",
      "5 15\n",
      "6 21\n",
      "7 28\n",
      "8 36\n",
      "9 45\n",
      "45\n"
     ]
    }
   ],
   "source": [
    "i = 0\n",
    "n = 10\n",
    "a = 0\n",
    "while i < n:\n",
    "    a+=i\n",
    "    print(i,a)\n",
    "    i+=1\n",
    "print(a)"
   ]
  },
  {
   "cell_type": "code",
   "execution_count": 7,
   "id": "731272ae-bd64-4d00-81b3-f175e9fb9a34",
   "metadata": {},
   "outputs": [
    {
     "name": "stdout",
     "output_type": "stream",
     "text": [
      "0\n",
      "1\n",
      "2\n",
      "3\n",
      "4\n",
      "5\n",
      "6\n",
      "7\n",
      "8\n",
      "9\n"
     ]
    }
   ],
   "source": [
    "i  = 0\n",
    "n = 10\n",
    "while i < n:\n",
    "    print(i)\n",
    "    i+=1"
   ]
  },
  {
   "cell_type": "code",
   "execution_count": 31,
   "id": "1ca39fa6-121c-4a6b-88ae-2ee648922ce6",
   "metadata": {},
   "outputs": [
    {
     "name": "stdout",
     "output_type": "stream",
     "text": [
      "Hello\n",
      "Saransh\n",
      "Rajpur\n"
     ]
    }
   ],
   "source": [
    "while True:\n",
    "    print(\"Hello\")\n",
    "    print(\"Saransh\")\n",
    "    break\n",
    "    print(\"from Himachal\")\n",
    "print(\"Rajpur\")"
   ]
  },
  {
   "cell_type": "code",
   "execution_count": 37,
   "id": "e87ff29d-6e44-4660-a5ec-3e6cfdcc2eb0",
   "metadata": {},
   "outputs": [],
   "source": [
    "i = 10\n",
    "n = 50"
   ]
  },
  {
   "cell_type": "code",
   "execution_count": 38,
   "id": "ac383647-1aab-463f-ac20-8b09b03c00cd",
   "metadata": {},
   "outputs": [
    {
     "name": "stdout",
     "output_type": "stream",
     "text": [
      "50 x 10 = 500\n",
      "50 x 11 = 550\n",
      "50 x 12 = 600\n",
      "50 x 13 = 650\n",
      "50 x 14 = 700\n",
      "50 x 15 = 750\n",
      "50 x 16 = 800\n",
      "50 x 17 = 850\n",
      "50 x 18 = 900\n",
      "50 x 19 = 950\n",
      "50 x 20 = 1000\n",
      "50 x 21 = 1050\n",
      "50 x 22 = 1100\n",
      "50 x 23 = 1150\n",
      "50 x 24 = 1200\n",
      "50 x 25 = 1250\n",
      "50 x 26 = 1300\n",
      "50 x 27 = 1350\n",
      "50 x 28 = 1400\n",
      "50 x 29 = 1450\n",
      "50 x 30 = 1500\n",
      "50 x 31 = 1550\n",
      "50 x 32 = 1600\n",
      "50 x 33 = 1650\n",
      "50 x 34 = 1700\n",
      "50 x 35 = 1750\n",
      "50 x 36 = 1800\n",
      "50 x 37 = 1850\n",
      "50 x 38 = 1900\n",
      "50 x 39 = 1950\n",
      "50 x 40 = 2000\n",
      "50 x 41 = 2050\n",
      "50 x 42 = 2100\n",
      "50 x 43 = 2150\n",
      "50 x 44 = 2200\n",
      "50 x 45 = 2250\n",
      "50 x 46 = 2300\n",
      "50 x 47 = 2350\n",
      "50 x 48 = 2400\n",
      "50 x 49 = 2450\n"
     ]
    }
   ],
   "source": [
    "while i < n:\n",
    "    print(n,\"x\",i,\"=\",i*n)\n",
    "    i+=1"
   ]
  },
  {
   "cell_type": "code",
   "execution_count": 41,
   "id": "25cbc64e-d103-4040-a284-62d83cacd79d",
   "metadata": {},
   "outputs": [
    {
     "name": "stdout",
     "output_type": "stream",
     "text": [
      "Hello world\n"
     ]
    }
   ],
   "source": [
    "i = 10\n",
    "while True:\n",
    "    print(\"Hello world\")\n",
    "    if i == 10:\n",
    "        break\n",
    "    i+=1"
   ]
  },
  {
   "cell_type": "code",
   "execution_count": 42,
   "id": "346de29d-63c9-4db7-8027-2d3f358b2023",
   "metadata": {},
   "outputs": [],
   "source": [
    "student = 30"
   ]
  },
  {
   "cell_type": "code",
   "execution_count": 48,
   "id": "b8ab455e-8b0f-427d-bd77-da0b454cc127",
   "metadata": {},
   "outputs": [
    {
     "name": "stdout",
     "output_type": "stream",
     "text": [
      "this one\n"
     ]
    }
   ],
   "source": [
    "if student > 40:\n",
    "    print(\"Yes your are right\")\n",
    "elif student <= 30:\n",
    "    print(\"this one\")\n",
    "else:\n",
    "    print(\"Your are wrong\")"
   ]
  },
  {
   "cell_type": "code",
   "execution_count": 1,
   "id": "fe0c0f0f-a882-44a4-9436-4284f5a89790",
   "metadata": {},
   "outputs": [
    {
     "name": "stdout",
     "output_type": "stream",
     "text": [
      "0\n",
      "1\n",
      "2\n",
      "3\n",
      "4\n",
      "5\n",
      "6\n",
      "7\n",
      "8\n",
      "9\n"
     ]
    }
   ],
   "source": [
    "i = 0\n",
    "n = 10\n",
    "while i < n:\n",
    "    print(i)\n",
    "    i+=1"
   ]
  },
  {
   "cell_type": "code",
   "execution_count": 2,
   "id": "2af49e12-b523-49dd-bb4b-6445b3f62a91",
   "metadata": {},
   "outputs": [
    {
     "data": {
      "text/plain": [
       "7"
      ]
     },
     "execution_count": 2,
     "metadata": {},
     "output_type": "execute_result"
    }
   ],
   "source": [
    " name = \"shubham\"\n",
    "len(name)"
   ]
  },
  {
   "cell_type": "code",
   "execution_count": 3,
   "id": "377d1578-cd36-4c46-a155-b4db7d035f54",
   "metadata": {},
   "outputs": [
    {
     "data": {
      "text/plain": [
       "'s'"
      ]
     },
     "execution_count": 3,
     "metadata": {},
     "output_type": "execute_result"
    }
   ],
   "source": [
    "name[0]"
   ]
  },
  {
   "cell_type": "code",
   "execution_count": 4,
   "id": "3c759d1b-a55b-4ae1-b99d-7551f49971c2",
   "metadata": {},
   "outputs": [
    {
     "data": {
      "text/plain": [
       "'h'"
      ]
     },
     "execution_count": 4,
     "metadata": {},
     "output_type": "execute_result"
    }
   ],
   "source": [
    "name[1]"
   ]
  },
  {
   "cell_type": "code",
   "execution_count": 5,
   "id": "43ea0f5e-29d1-4304-927c-0f934b1f0c7e",
   "metadata": {},
   "outputs": [
    {
     "data": {
      "text/plain": [
       "'u'"
      ]
     },
     "execution_count": 5,
     "metadata": {},
     "output_type": "execute_result"
    }
   ],
   "source": [
    "name[2]"
   ]
  },
  {
   "cell_type": "code",
   "execution_count": 6,
   "id": "a6bb882a-dbbb-497a-9d20-d42c212b1bd0",
   "metadata": {},
   "outputs": [
    {
     "data": {
      "text/plain": [
       "'b'"
      ]
     },
     "execution_count": 6,
     "metadata": {},
     "output_type": "execute_result"
    }
   ],
   "source": [
    "name[3]"
   ]
  },
  {
   "cell_type": "code",
   "execution_count": 7,
   "id": "3d921368-d031-479f-a73a-f106a5aebaf5",
   "metadata": {},
   "outputs": [
    {
     "data": {
      "text/plain": [
       "'h'"
      ]
     },
     "execution_count": 7,
     "metadata": {},
     "output_type": "execute_result"
    }
   ],
   "source": [
    "name[4]"
   ]
  },
  {
   "cell_type": "code",
   "execution_count": 8,
   "id": "5cbb459b-454a-44b7-92ae-6cc8fed5605b",
   "metadata": {},
   "outputs": [
    {
     "data": {
      "text/plain": [
       "'a'"
      ]
     },
     "execution_count": 8,
     "metadata": {},
     "output_type": "execute_result"
    }
   ],
   "source": [
    "name[5]"
   ]
  },
  {
   "cell_type": "code",
   "execution_count": 9,
   "id": "22f86cf6-9326-4052-90cc-22ecf283cc21",
   "metadata": {},
   "outputs": [
    {
     "data": {
      "text/plain": [
       "'m'"
      ]
     },
     "execution_count": 9,
     "metadata": {},
     "output_type": "execute_result"
    }
   ],
   "source": [
    "name[6]"
   ]
  },
  {
   "cell_type": "code",
   "execution_count": 11,
   "id": "ef52d13e-7b37-4f31-9c84-9746e2739326",
   "metadata": {},
   "outputs": [
    {
     "name": "stdout",
     "output_type": "stream",
     "text": [
      "0\n",
      "1\n",
      "2\n",
      "3\n",
      "4\n",
      "5\n",
      "6\n"
     ]
    }
   ],
   "source": [
    "i = 0\n",
    "n = 7\n",
    "while i < n:\n",
    "    print(i)\n",
    "    i+=1"
   ]
  },
  {
   "cell_type": "code",
   "execution_count": 20,
   "id": "65692846-ee9c-4965-8aa6-b979ebb2dc01",
   "metadata": {},
   "outputs": [
    {
     "name": "stdout",
     "output_type": "stream",
     "text": [
      "Saransh\n"
     ]
    }
   ],
   "source": [
    "name = \"Saransh\"\n",
    "print(name)"
   ]
  },
  {
   "cell_type": "code",
   "execution_count": 21,
   "id": "7e404eb5-0406-4bae-b7c6-8ae7ea77854d",
   "metadata": {},
   "outputs": [
    {
     "name": "stdout",
     "output_type": "stream",
     "text": [
      "Saransh\n",
      "Saransh\n",
      "Saransh\n",
      "Saransh\n",
      "Saransh\n",
      "Saransh\n",
      "Saransh\n"
     ]
    }
   ],
   "source": [
    "i = 0\n",
    "n = len(name)\n",
    "while i < n:\n",
    "    print(name)\n",
    "    i+=1"
   ]
  },
  {
   "cell_type": "code",
   "execution_count": 22,
   "id": "776da6b6-fe11-469c-920a-462bb7e8d5b7",
   "metadata": {},
   "outputs": [
    {
     "name": "stdout",
     "output_type": "stream",
     "text": [
      "S\n",
      "a\n",
      "r\n",
      "a\n",
      "n\n",
      "s\n",
      "h\n"
     ]
    }
   ],
   "source": [
    "i = 0\n",
    "n = len(name)\n",
    "while i < n:\n",
    "    print(name[i])\n",
    "    i+=1"
   ]
  },
  {
   "cell_type": "code",
   "execution_count": 32,
   "id": "9fa371ba-04a5-4952-b637-fb281f90ace2",
   "metadata": {},
   "outputs": [
    {
     "data": {
      "text/plain": [
       "['name', 'Age', 'Education']"
      ]
     },
     "execution_count": 32,
     "metadata": {},
     "output_type": "execute_result"
    }
   ],
   "source": [
    "d = {\"name\":\"Saransh\",\"Age\":23,\"Education\":\"Mca\"}\n",
    "list(d.keys())"
   ]
  },
  {
   "cell_type": "code",
   "execution_count": 38,
   "id": "77e1cab0-f430-4849-a55a-128df9fa07f7",
   "metadata": {},
   "outputs": [
    {
     "name": "stdout",
     "output_type": "stream",
     "text": [
      "name\n",
      "Age\n",
      "Education\n"
     ]
    }
   ],
   "source": [
    "d = {\"name\":\"Saransh\",\"Age\":23,\"Education\":\"Mca\"}\n",
    "i = 0\n",
    "n = len(d)\n",
    "k = list(d.keys())\n",
    "while i < n:\n",
    "    key= k[i]\n",
    "    print(key)\n",
    "    i+=1"
   ]
  },
  {
   "cell_type": "code",
   "execution_count": 44,
   "id": "7fd46576-6e0c-473d-802d-49734f49dc79",
   "metadata": {},
   "outputs": [
    {
     "name": "stdout",
     "output_type": "stream",
     "text": [
      "1\n",
      "2\n",
      "3\n",
      "4\n",
      "5\n",
      "6\n",
      "7\n",
      "8\n",
      "9\n",
      "10\n"
     ]
    }
   ],
   "source": [
    "l = [1,2,3,4,5,6,7,8,9,10]\n",
    "i = 0\n",
    "n = len(l)\n",
    "while i < n:\n",
    "    print(l[i])\n",
    "    i+=1"
   ]
  },
  {
   "cell_type": "code",
   "execution_count": 52,
   "id": "711b64d7-4aca-48ee-856c-b7243a395f76",
   "metadata": {},
   "outputs": [
    {
     "name": "stdout",
     "output_type": "stream",
     "text": [
      "9 10\n"
     ]
    }
   ],
   "source": [
    "l = [1,2,3,4,5,6,7,8,9,10]\n",
    "i = 0\n",
    "n = len(l)\n",
    "a = 0\n",
    "while i < n:\n",
    "    if l[i] > l[a]:\n",
    "        a = i \n",
    "    i+=1\n",
    "print(a,l[a])"
   ]
  },
  {
   "cell_type": "code",
   "execution_count": 55,
   "id": "b2c10d26-5695-4fae-bc7e-3a723e999d1f",
   "metadata": {},
   "outputs": [
    {
     "name": "stdout",
     "output_type": "stream",
     "text": [
      "3 10\n"
     ]
    }
   ],
   "source": [
    "li = [4,5,8,10,2,5,7]\n",
    "i = 0\n",
    "n = len(li)\n",
    "a = 0\n",
    "while i < n:\n",
    "    if li[i] > li[a]:\n",
    "      a = i\n",
    "    i+=1                          # indexing and number of list\n",
    "print(a,li[a])"
   ]
  },
  {
   "cell_type": "code",
   "execution_count": 1,
   "id": "686733ab-4e7a-483e-b326-8d1993298e3f",
   "metadata": {},
   "outputs": [
    {
     "name": "stdout",
     "output_type": "stream",
     "text": [
      "4\n",
      "5\n",
      "8\n",
      "10\n",
      "2\n",
      "5\n",
      "50\n",
      "84\n"
     ]
    }
   ],
   "source": [
    "l = [4,5,8,10,2,5,50]\n",
    "i = 0\n",
    "n = len(l)\n",
    "a = 0\n",
    "while i < n:\n",
    "    a+=l[i]\n",
    "    print(l[i])\n",
    "    i+=1\n",
    "print(a)"
   ]
  },
  {
   "cell_type": "code",
   "execution_count": 28,
   "id": "809dabb2-33d1-4771-8fb5-6ba1e5ddc97f",
   "metadata": {},
   "outputs": [],
   "source": [
    "# with sorting middle item"
   ]
  },
  {
   "cell_type": "code",
   "execution_count": 29,
   "id": "0ca2d41d-c79c-4dce-8956-5ccf58d9391a",
   "metadata": {},
   "outputs": [
    {
     "data": {
      "text/plain": [
       "[2, 4, 5, 5, 8, 10, 50]"
      ]
     },
     "execution_count": 29,
     "metadata": {},
     "output_type": "execute_result"
    }
   ],
   "source": [
    "l"
   ]
  },
  {
   "cell_type": "code",
   "execution_count": 9,
   "id": "d6a02e84-7ec1-42cf-9d2e-0a5bb3ef530d",
   "metadata": {},
   "outputs": [
    {
     "name": "stdout",
     "output_type": "stream",
     "text": [
      "[2, 4, 5, 5, 8, 10, 50]\n"
     ]
    }
   ],
   "source": [
    "l.sort()\n",
    "print(l)"
   ]
  },
  {
   "cell_type": "code",
   "execution_count": 34,
   "id": "8b315afb-b4c5-47ff-a8b9-b16086a9d893",
   "metadata": {},
   "outputs": [
    {
     "data": {
      "text/plain": [
       "3"
      ]
     },
     "execution_count": 34,
     "metadata": {},
     "output_type": "execute_result"
    }
   ],
   "source": [
    "len(l)//2"
   ]
  },
  {
   "cell_type": "markdown",
   "id": "a258b30c-bd91-4fe0-9260-22856622eaf3",
   "metadata": {},
   "source": [
    "# number is Prime or not"
   ]
  },
  {
   "cell_type": "code",
   "execution_count": 61,
   "id": "f3edfebf-cddc-4b75-bff6-45887e4da881",
   "metadata": {},
   "outputs": [
    {
     "name": "stdout",
     "output_type": "stream",
     "text": [
      "7 is a prime number\n"
     ]
    }
   ],
   "source": [
    "n = 7\n",
    "prime = True\n",
    "i = 2                      # with f string\n",
    "while i < n:\n",
    "    if n % i == 0:\n",
    "        prime = False\n",
    "        break\n",
    "    i+=1\n",
    "if prime:\n",
    "    print(f\"{n} is a prime number\")\n",
    "else:\n",
    "    print(f\"{n} is not a prime number\")"
   ]
  },
  {
   "cell_type": "code",
   "execution_count": 7,
   "id": "969c94f6-da9a-440b-aa95-b62beb56ff9f",
   "metadata": {},
   "outputs": [],
   "source": [
    "# while loop ke ander while loop"
   ]
  },
  {
   "cell_type": "code",
   "execution_count": 11,
   "id": "dac6009b-da25-4821-b5af-2e22ba05caa0",
   "metadata": {},
   "outputs": [
    {
     "name": "stdout",
     "output_type": "stream",
     "text": [
      "012\n",
      "012\n",
      "012\n"
     ]
    }
   ],
   "source": [
    "i = 0\n",
    "n = 3\n",
    "while i < n:\n",
    "    j = 0\n",
    "    m = 3\n",
    "    while j < m:\n",
    "        print(j,end = \"\")\n",
    "        j+=1\n",
    "    print()\n",
    "    i+=1"
   ]
  },
  {
   "cell_type": "code",
   "execution_count": 47,
   "id": "27a942db-8ede-4231-8717-6699b2cc7892",
   "metadata": {},
   "outputs": [
    {
     "name": "stdout",
     "output_type": "stream",
     "text": [
      "000\n",
      "111\n",
      "222\n",
      "333\n",
      "444\n"
     ]
    }
   ],
   "source": [
    "i = 0\n",
    "n = 5\n",
    "while i < n:\n",
    "    j = 0 \n",
    "    m = 3\n",
    "    while j < m:\n",
    "        print(i,end = \"\")\n",
    "        j+=1\n",
    "    print()\n",
    "    i+=1"
   ]
  },
  {
   "cell_type": "code",
   "execution_count": 17,
   "id": "5065325c-2802-4a64-8a6f-5fe6b37329ab",
   "metadata": {},
   "outputs": [
    {
     "name": "stdout",
     "output_type": "stream",
     "text": [
      "3333333333\n",
      "3333333333\n",
      "3333333333\n"
     ]
    }
   ],
   "source": [
    "i = 0\n",
    "n = 3\n",
    "while i < n:\n",
    "    j = 0 \n",
    "    m = 10\n",
    "    while j < m:\n",
    "        print(n,end = \"\")\n",
    "        j+=1\n",
    "    print()\n",
    "    i+=1"
   ]
  },
  {
   "cell_type": "code",
   "execution_count": 22,
   "id": "f94edbbf-249c-477d-b3cc-7be4a8ebf0bc",
   "metadata": {},
   "outputs": [
    {
     "name": "stdout",
     "output_type": "stream",
     "text": [
      "55555\n",
      "55555\n",
      "55555\n"
     ]
    }
   ],
   "source": [
    "i = 0\n",
    "n = 3\n",
    "while i < n:\n",
    "    j = 0 \n",
    "    m = 5\n",
    "    while j < m:\n",
    "        print(m,end = \"\")\n",
    "        j+=1\n",
    "    print()\n",
    "    i+=1"
   ]
  },
  {
   "cell_type": "code",
   "execution_count": 45,
   "id": "80ab59dd-af9b-4c5b-8a41-6a64ba2c235f",
   "metadata": {},
   "outputs": [
    {
     "name": "stdout",
     "output_type": "stream",
     "text": [
      "0 ['shubham', 'akash', 'saransh'] shubham\n",
      "0 s\n",
      "1 h\n",
      "2 u\n",
      "3 b\n",
      "4 h\n",
      "5 a\n",
      "6 m\n",
      "\n",
      "1 ['shubham', 'akash', 'saransh'] akash\n",
      "0 a\n",
      "1 k\n",
      "2 a\n",
      "3 s\n",
      "4 h\n",
      "\n",
      "2 ['shubham', 'akash', 'saransh'] saransh\n",
      "0 s\n",
      "1 a\n",
      "2 r\n",
      "3 a\n",
      "4 n\n",
      "5 s\n",
      "6 h\n",
      "\n"
     ]
    }
   ],
   "source": [
    "l =[\"shubham\",\"akash\",\"saransh\"]\n",
    "i = 0\n",
    "n = len(l)\n",
    "while i < n:\n",
    "    print(i,l,l[i])\n",
    "    j = 0 \n",
    "    m = len(l[i])\n",
    "    while j < m:\n",
    "        print(j,l[i][j])\n",
    "        j+=1\n",
    "    print()\n",
    "    i+=1"
   ]
  },
  {
   "cell_type": "code",
   "execution_count": null,
   "id": "11fe3b18-8638-4319-b001-d12cd6cdb69f",
   "metadata": {},
   "outputs": [],
   "source": []
  }
 ],
 "metadata": {
  "kernelspec": {
   "display_name": "Python 3 (ipykernel)",
   "language": "python",
   "name": "python3"
  },
  "language_info": {
   "codemirror_mode": {
    "name": "ipython",
    "version": 3
   },
   "file_extension": ".py",
   "mimetype": "text/x-python",
   "name": "python",
   "nbconvert_exporter": "python",
   "pygments_lexer": "ipython3",
   "version": "3.13.5"
  }
 },
 "nbformat": 4,
 "nbformat_minor": 5
}
