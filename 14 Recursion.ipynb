{
 "cells": [
  {
   "cell_type": "markdown",
   "id": "aeb22875-e722-4b26-b17b-4d076ebfa35e",
   "metadata": {},
   "source": [
    "# RECURSION"
   ]
  },
  {
   "cell_type": "markdown",
   "id": "392aca4b-0ea9-41a9-bd54-9c4633fc96ca",
   "metadata": {},
   "source": [
    "## when we call a function it self then it is called recursion.\n",
    " ### a. We call a function in itself.\n",
    " ### b. We asume the 2nd call/function will gave a correct output.\n",
    " ### c. It must have a terminating condition."
   ]
  },
  {
   "cell_type": "code",
   "execution_count": 10,
   "id": "3bdf8eba-dc5c-4469-8e1f-5b46832f661e",
   "metadata": {},
   "outputs": [],
   "source": [
    "def factorial(n):\n",
    "    print(n,n-1)\n",
    "    if n == 0 or n == 1:\n",
    "        return 1\n",
    "    return n*factorial(n-1)"
   ]
  },
  {
   "cell_type": "code",
   "execution_count": 11,
   "id": "2c8355be-084d-45d9-964f-df7042ceb18a",
   "metadata": {},
   "outputs": [
    {
     "name": "stdout",
     "output_type": "stream",
     "text": [
      "5 4\n",
      "4 3\n",
      "3 2\n",
      "2 1\n",
      "1 0\n"
     ]
    },
    {
     "data": {
      "text/plain": [
       "120"
      ]
     },
     "execution_count": 11,
     "metadata": {},
     "output_type": "execute_result"
    }
   ],
   "source": [
    "factorial(5)"
   ]
  },
  {
   "cell_type": "code",
   "execution_count": 16,
   "id": "af48c88a-dff2-44ab-bbe3-15d3b8be7983",
   "metadata": {},
   "outputs": [],
   "source": [
    "def factorial(n):\n",
    "    if n == 0 or n == 1:\n",
    "        return 1\n",
    "    sub = n*factorial(n-1)\n",
    "    print(sub)\n",
    "    return sub"
   ]
  },
  {
   "cell_type": "code",
   "execution_count": 17,
   "id": "42fa6c63-54b1-4c41-9b4c-4b9ea49594fd",
   "metadata": {},
   "outputs": [
    {
     "name": "stdout",
     "output_type": "stream",
     "text": [
      "2\n",
      "6\n",
      "24\n",
      "120\n"
     ]
    },
    {
     "data": {
      "text/plain": [
       "120"
      ]
     },
     "execution_count": 17,
     "metadata": {},
     "output_type": "execute_result"
    }
   ],
   "source": [
    "factorial(5)"
   ]
  },
  {
   "cell_type": "code",
   "execution_count": 40,
   "id": "9c5bb381-47ed-42f1-ad12-15582b6a91c5",
   "metadata": {},
   "outputs": [],
   "source": [
    "L = [2,3,5,6,8,9]"
   ]
  },
  {
   "cell_type": "code",
   "execution_count": 124,
   "id": "aad38171-e255-422c-99e7-c6febbc893f1",
   "metadata": {},
   "outputs": [],
   "source": [
    "def add_list(L):\n",
    "    if type (L) is int :\n",
    "        return L\n",
    "    elif len(L) == 0:\n",
    "        return 0\n",
    "    return add_list(L[0]) + add_list(L[1:])"
   ]
  },
  {
   "cell_type": "code",
   "execution_count": 125,
   "id": "c77416da-5a93-4860-8b49-730b1df648b3",
   "metadata": {},
   "outputs": [
    {
     "data": {
      "text/plain": [
       "33"
      ]
     },
     "execution_count": 125,
     "metadata": {},
     "output_type": "execute_result"
    }
   ],
   "source": [
    "add_list(L)"
   ]
  },
  {
   "cell_type": "code",
   "execution_count": 107,
   "id": "6d1f7549-0033-482e-8290-4c65c178960c",
   "metadata": {},
   "outputs": [],
   "source": [
    "li = [5,4,3,2,1]"
   ]
  },
  {
   "cell_type": "code",
   "execution_count": 110,
   "id": "754d67a0-1b4c-4c83-a478-a18770e721a4",
   "metadata": {},
   "outputs": [],
   "source": [
    "def add(li):\n",
    "    print(li)\n",
    "    if len(li) == 0:\n",
    "        return 0\n",
    "    return li[-1] + add(li[:-1])"
   ]
  },
  {
   "cell_type": "code",
   "execution_count": 111,
   "id": "d1f05b39-a3f6-4b34-a296-b52cf99fa63b",
   "metadata": {},
   "outputs": [
    {
     "name": "stdout",
     "output_type": "stream",
     "text": [
      "[5, 4, 3, 2, 1]\n",
      "[5, 4, 3, 2]\n",
      "[5, 4, 3]\n",
      "[5, 4]\n",
      "[5]\n",
      "[]\n"
     ]
    },
    {
     "data": {
      "text/plain": [
       "15"
      ]
     },
     "execution_count": 111,
     "metadata": {},
     "output_type": "execute_result"
    }
   ],
   "source": [
    "add(li)"
   ]
  },
  {
   "cell_type": "code",
   "execution_count": 116,
   "id": "b6318d8e-aeac-43ca-b3c1-5456a9f41239",
   "metadata": {},
   "outputs": [],
   "source": [
    "def sum_list(l):\n",
    "    print(l)\n",
    "    if type(l) is int:\n",
    "        return l\n",
    "    elif len(l) == 0:\n",
    "        return 0\n",
    "    return sum_list(l[0]) + sum_list(l[1:])"
   ]
  },
  {
   "cell_type": "code",
   "execution_count": 117,
   "id": "e39fbd3a-8c68-4864-9f4d-022d415ae567",
   "metadata": {},
   "outputs": [
    {
     "name": "stdout",
     "output_type": "stream",
     "text": [
      "[1, 2, 3, 4, [5, 6, 7, 8], 9, 10]\n",
      "1\n",
      "[2, 3, 4, [5, 6, 7, 8], 9, 10]\n",
      "2\n",
      "[3, 4, [5, 6, 7, 8], 9, 10]\n",
      "3\n",
      "[4, [5, 6, 7, 8], 9, 10]\n",
      "4\n",
      "[[5, 6, 7, 8], 9, 10]\n",
      "[5, 6, 7, 8]\n",
      "5\n",
      "[6, 7, 8]\n",
      "6\n",
      "[7, 8]\n",
      "7\n",
      "[8]\n",
      "8\n",
      "[]\n",
      "[9, 10]\n",
      "9\n",
      "[10]\n",
      "10\n",
      "[]\n"
     ]
    },
    {
     "data": {
      "text/plain": [
       "55"
      ]
     },
     "execution_count": 117,
     "metadata": {},
     "output_type": "execute_result"
    }
   ],
   "source": [
    "sum_list([1,2,3,4,[5,6,7,8],9,10])"
   ]
  },
  {
   "cell_type": "code",
   "execution_count": null,
   "id": "5c2c69dd-2970-467b-9b52-ce91d89cf829",
   "metadata": {},
   "outputs": [],
   "source": []
  }
 ],
 "metadata": {
  "kernelspec": {
   "display_name": "Python 3 (ipykernel)",
   "language": "python",
   "name": "python3"
  },
  "language_info": {
   "codemirror_mode": {
    "name": "ipython",
    "version": 3
   },
   "file_extension": ".py",
   "mimetype": "text/x-python",
   "name": "python",
   "nbconvert_exporter": "python",
   "pygments_lexer": "ipython3",
   "version": "3.13.5"
  }
 },
 "nbformat": 4,
 "nbformat_minor": 5
}
