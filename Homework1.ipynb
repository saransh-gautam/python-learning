{
 "cells": [
  {
   "cell_type": "code",
   "execution_count": 132,
   "id": "acb7d2f4-fbeb-4514-9c27-ac0f5f373e92",
   "metadata": {},
   "outputs": [],
   "source": [
    "name = \"saransh\""
   ]
  },
  {
   "cell_type": "code",
   "execution_count": 133,
   "id": "89baafb3-2894-40b0-a185-d1f578675f18",
   "metadata": {},
   "outputs": [
    {
     "name": "stdout",
     "output_type": "stream",
     "text": [
      "saransh\n"
     ]
    }
   ],
   "source": [
    "print(name)"
   ]
  },
  {
   "cell_type": "code",
   "execution_count": 134,
   "id": "30e34021-c789-4930-998a-d59b405f2990",
   "metadata": {},
   "outputs": [],
   "source": [
    "#lenth function"
   ]
  },
  {
   "cell_type": "code",
   "execution_count": 135,
   "id": "bd462dba-c24e-4592-aa1a-6b37bc4a3a9d",
   "metadata": {},
   "outputs": [
    {
     "data": {
      "text/plain": [
       "7"
      ]
     },
     "execution_count": 135,
     "metadata": {},
     "output_type": "execute_result"
    }
   ],
   "source": [
    "len(name)"
   ]
  },
  {
   "cell_type": "code",
   "execution_count": 6,
   "id": "dc8dc82a-806f-4955-9d7f-96e1b8763cc7",
   "metadata": {},
   "outputs": [
    {
     "name": "stdout",
     "output_type": "stream",
     "text": [
      "Nice to meet you\n",
      "my name is saransh \n"
     ]
    }
   ],
   "source": [
    "name = \"\"\"Nice to meet you\n",
    "my name is saransh \"\"\"\n",
    "print(name)"
   ]
  },
  {
   "cell_type": "code",
   "execution_count": 7,
   "id": "0c4c1bc4-d5f8-483f-bc01-230036a0560a",
   "metadata": {},
   "outputs": [],
   "source": [
    "height = 10\n",
    "width = 5 "
   ]
  },
  {
   "cell_type": "code",
   "execution_count": 11,
   "id": "4b3ef033-4fdb-465b-85ca-a4fe3ee9cce7",
   "metadata": {},
   "outputs": [
    {
     "name": "stdout",
     "output_type": "stream",
     "text": [
      "15\n"
     ]
    }
   ],
   "source": [
    "print(height+width)"
   ]
  },
  {
   "cell_type": "code",
   "execution_count": 14,
   "id": "996ce4f4-3cc8-4450-bca3-1fafe9b5b1dd",
   "metadata": {},
   "outputs": [
    {
     "name": "stdout",
     "output_type": "stream",
     "text": [
      "5\n"
     ]
    }
   ],
   "source": [
    "print(height-width)"
   ]
  },
  {
   "cell_type": "code",
   "execution_count": 15,
   "id": "0efd0d81-992a-4fdb-9d4d-74c05371f0e2",
   "metadata": {},
   "outputs": [
    {
     "name": "stdout",
     "output_type": "stream",
     "text": [
      "2.0\n"
     ]
    }
   ],
   "source": [
    "print(height/width)"
   ]
  },
  {
   "cell_type": "code",
   "execution_count": 17,
   "id": "22719f56-aca4-4913-89d3-3af83c31b215",
   "metadata": {},
   "outputs": [],
   "source": [
    "#// floor division"
   ]
  },
  {
   "cell_type": "code",
   "execution_count": 20,
   "id": "ead6d8f6-c0e9-4a04-ae84-cf6a96568e8e",
   "metadata": {},
   "outputs": [
    {
     "name": "stdout",
     "output_type": "stream",
     "text": [
      "2\n"
     ]
    }
   ],
   "source": [
    "print(height//width)  #for quotient"
   ]
  },
  {
   "cell_type": "code",
   "execution_count": 19,
   "id": "b06092ed-3f11-4efc-aac9-77f1ce9b1052",
   "metadata": {},
   "outputs": [
    {
     "name": "stdout",
     "output_type": "stream",
     "text": [
      "0\n"
     ]
    }
   ],
   "source": [
    "print(height%width)  #for remainder"
   ]
  },
  {
   "cell_type": "code",
   "execution_count": 21,
   "id": "7042b85a-1bed-4d05-bd1c-7c1d78e5dfb6",
   "metadata": {},
   "outputs": [
    {
     "name": "stdout",
     "output_type": "stream",
     "text": [
      "50\n"
     ]
    }
   ],
   "source": [
    "print(height*width)"
   ]
  },
  {
   "cell_type": "code",
   "execution_count": 22,
   "id": "3a8c3af3-d73b-4d89-9071-d3668f069df0",
   "metadata": {},
   "outputs": [
    {
     "name": "stdout",
     "output_type": "stream",
     "text": [
      "100000\n"
     ]
    }
   ],
   "source": [
    "print(height**width)"
   ]
  },
  {
   "cell_type": "code",
   "execution_count": 24,
   "id": "c28bce9b-5db0-4802-a223-be2023580aa4",
   "metadata": {},
   "outputs": [
    {
     "name": "stdout",
     "output_type": "stream",
     "text": [
      "5.0\n"
     ]
    }
   ],
   "source": [
    "print(height**1/2)    "
   ]
  },
  {
   "cell_type": "code",
   "execution_count": 25,
   "id": "c49d754a-25b0-4f25-b63d-97bf42de962a",
   "metadata": {},
   "outputs": [
    {
     "name": "stdout",
     "output_type": "stream",
     "text": [
      "1.6666666666666667\n"
     ]
    }
   ],
   "source": [
    "print(width**1/3)"
   ]
  },
  {
   "cell_type": "code",
   "execution_count": 26,
   "id": "52908605-d3ab-4afb-b1c6-86897fa13c0f",
   "metadata": {},
   "outputs": [],
   "source": [
    "# Datatype"
   ]
  },
  {
   "cell_type": "code",
   "execution_count": 27,
   "id": "3216f5bb-5c82-4012-b21b-78b5f4201394",
   "metadata": {},
   "outputs": [
    {
     "name": "stdout",
     "output_type": "stream",
     "text": [
      "<class 'str'>\n"
     ]
    }
   ],
   "source": [
    "rcb = \"virat kholi\"\n",
    "print(type(rcb))"
   ]
  },
  {
   "cell_type": "code",
   "execution_count": 31,
   "id": "e5f56709-0b69-4fe4-a614-20a856be7605",
   "metadata": {},
   "outputs": [
    {
     "name": "stdout",
     "output_type": "stream",
     "text": [
      "<class 'int'>\n"
     ]
    }
   ],
   "source": [
    "length = 100\n",
    "print(type(length))"
   ]
  },
  {
   "cell_type": "code",
   "execution_count": 32,
   "id": "333b574e-704e-46f3-b283-5741bb22850a",
   "metadata": {},
   "outputs": [
    {
     "name": "stdout",
     "output_type": "stream",
     "text": [
      "<class 'float'>\n"
     ]
    }
   ],
   "source": [
    "width = 2.5\n",
    "print(type(width))"
   ]
  },
  {
   "cell_type": "code",
   "execution_count": 39,
   "id": "d9ae0cf9-57ff-4b5d-9229-a42dd09211c8",
   "metadata": {},
   "outputs": [
    {
     "name": "stdout",
     "output_type": "stream",
     "text": [
      "<class 'bool'>\n"
     ]
    }
   ],
   "source": [
    "hardik = True\n",
    "print(type(hardik))"
   ]
  },
  {
   "cell_type": "code",
   "execution_count": 40,
   "id": "fc4ed6ae-913d-47ab-92f0-41737d69b6d4",
   "metadata": {},
   "outputs": [],
   "source": [
    "a = 10\n",
    "b = 20"
   ]
  },
  {
   "cell_type": "code",
   "execution_count": 43,
   "id": "c6488188-6ee0-42db-9697-09b4e54627e7",
   "metadata": {},
   "outputs": [
    {
     "name": "stdout",
     "output_type": "stream",
     "text": [
      "40\n"
     ]
    }
   ],
   "source": [
    "c = 30 + a\n",
    "print(c)"
   ]
  },
  {
   "cell_type": "code",
   "execution_count": 1,
   "id": "7c9b9722-5a3e-4ad5-ba81-3f88e7661d6d",
   "metadata": {},
   "outputs": [],
   "source": [
    "# user input"
   ]
  },
  {
   "cell_type": "code",
   "execution_count": 2,
   "id": "4dcd22de-69a1-484b-8fd2-6b21505a3bde",
   "metadata": {},
   "outputs": [
    {
     "name": "stdin",
     "output_type": "stream",
     "text": [
      "Enter your name: Saransh Gautam\n"
     ]
    },
    {
     "name": "stdout",
     "output_type": "stream",
     "text": [
      "Saransh Gautam\n"
     ]
    }
   ],
   "source": [
    "name = input(\"Enter your name:\")\n",
    "print(name)"
   ]
  },
  {
   "cell_type": "code",
   "execution_count": 13,
   "id": "7b2e24cd-9882-435f-9460-6f65cfa9c447",
   "metadata": {},
   "outputs": [
    {
     "name": "stdin",
     "output_type": "stream",
     "text": [
      "Enter your age: 23\n"
     ]
    },
    {
     "name": "stdout",
     "output_type": "stream",
     "text": [
      "23\n"
     ]
    }
   ],
   "source": [
    "age = int(input(\"Enter your age:\"))\n",
    "print(age)"
   ]
  },
  {
   "cell_type": "code",
   "execution_count": 14,
   "id": "6cf896ab-c7aa-4071-8f5b-d9eff3d6fd80",
   "metadata": {},
   "outputs": [
    {
     "name": "stdin",
     "output_type": "stream",
     "text": [
      "Enter the equation: 200+250\n"
     ]
    },
    {
     "name": "stdout",
     "output_type": "stream",
     "text": [
      "450\n"
     ]
    }
   ],
   "source": [
    "exp1 = eval(input(\"Enter the equation:\"))\n",
    "print(exp1)"
   ]
  },
  {
   "cell_type": "code",
   "execution_count": 17,
   "id": "41808629-9f49-48ee-8531-e37ccc6df63a",
   "metadata": {},
   "outputs": [
    {
     "name": "stdin",
     "output_type": "stream",
     "text": [
      "Enter your room length: 4\n"
     ]
    },
    {
     "name": "stdout",
     "output_type": "stream",
     "text": [
      "4.0\n"
     ]
    }
   ],
   "source": [
    "length = float(input(\"Enter your room length:\"))\n",
    "print(length)"
   ]
  },
  {
   "cell_type": "code",
   "execution_count": 18,
   "id": "05e693f5-3adc-4946-8db3-a2a0091b2464",
   "metadata": {},
   "outputs": [],
   "source": [
    "# Assignment operators"
   ]
  },
  {
   "cell_type": "code",
   "execution_count": 89,
   "id": "0a9131b2-e3b1-4801-9768-1aa707c04949",
   "metadata": {},
   "outputs": [],
   "source": [
    "width = 10"
   ]
  },
  {
   "cell_type": "code",
   "execution_count": 104,
   "id": "82fe12e2-6c31-4106-8cf6-41fc1a838cc3",
   "metadata": {},
   "outputs": [
    {
     "name": "stdout",
     "output_type": "stream",
     "text": [
      "16\n"
     ]
    }
   ],
   "source": [
    "width+=5\n",
    "print(width)"
   ]
  },
  {
   "cell_type": "code",
   "execution_count": 105,
   "id": "b891209e-29c8-4cc8-969c-30a31309ce07",
   "metadata": {},
   "outputs": [],
   "source": [
    "height = 100"
   ]
  },
  {
   "cell_type": "code",
   "execution_count": 107,
   "id": "a7d5fa86-d1f8-40e7-9ffe-398d65009832",
   "metadata": {},
   "outputs": [
    {
     "name": "stdout",
     "output_type": "stream",
     "text": [
      "90\n"
     ]
    }
   ],
   "source": [
    "height-=9\n",
    "print(height)"
   ]
  },
  {
   "cell_type": "code",
   "execution_count": 116,
   "id": "5a6cc035-236d-4058-96d2-7178d25bceee",
   "metadata": {},
   "outputs": [],
   "source": [
    "roll_no = 23"
   ]
  },
  {
   "cell_type": "code",
   "execution_count": 117,
   "id": "27a0563c-f567-4f51-99a1-5780d66c4b48",
   "metadata": {},
   "outputs": [
    {
     "name": "stdout",
     "output_type": "stream",
     "text": [
      "46\n"
     ]
    }
   ],
   "source": [
    "roll_no*=2\n",
    "print(roll_no)"
   ]
  },
  {
   "cell_type": "code",
   "execution_count": 127,
   "id": "1a6a7e1f-21b4-4692-a755-950bce3857fc",
   "metadata": {},
   "outputs": [],
   "source": [
    "name = \"saransh\"     #example"
   ]
  },
  {
   "cell_type": "code",
   "execution_count": 128,
   "id": "c2cc535a-574d-4123-b3ab-093dcf2e2bd9",
   "metadata": {},
   "outputs": [
    {
     "name": "stdout",
     "output_type": "stream",
     "text": [
      "saransh Gautam\n"
     ]
    }
   ],
   "source": [
    "name+= \" \"  \"Gautam\"\n",
    "print(name)"
   ]
  },
  {
   "cell_type": "code",
   "execution_count": 136,
   "id": "a7aebb91-e682-4e02-a23e-4db1e169d1f9",
   "metadata": {},
   "outputs": [],
   "source": [
    "# Functions"
   ]
  },
  {
   "cell_type": "code",
   "execution_count": 142,
   "id": "c68e3fa6-7e42-41cd-b3ae-47c21a1af59e",
   "metadata": {},
   "outputs": [
    {
     "name": "stdout",
     "output_type": "stream",
     "text": [
      "PRAVESH\n"
     ]
    }
   ],
   "source": [
    "name = \"pravesh\".upper()\n",
    "print(name)"
   ]
  },
  {
   "cell_type": "code",
   "execution_count": 155,
   "id": "becb7598-b05f-4443-8821-524aea890ef8",
   "metadata": {},
   "outputs": [
    {
     "name": "stdout",
     "output_type": "stream",
     "text": [
      "pravesh\n"
     ]
    }
   ],
   "source": [
    "name = \"PrAvEsH\".lower()\n",
    "print(name)"
   ]
  },
  {
   "cell_type": "code",
   "execution_count": 179,
   "id": "5cd1f96e-a461-4629-b9f1-c238524d2b2f",
   "metadata": {},
   "outputs": [
    {
     "name": "stdout",
     "output_type": "stream",
     "text": [
      "2\n"
     ]
    }
   ],
   "source": [
    "rashan = \"rajmah\".count(\"a\")\n",
    "print(rashan)"
   ]
  },
  {
   "cell_type": "code",
   "execution_count": 197,
   "id": "e60b3683-162a-4be3-a35e-b1ee749b65df",
   "metadata": {},
   "outputs": [
    {
     "name": "stdout",
     "output_type": "stream",
     "text": [
      "Saransh gautam\n"
     ]
    }
   ],
   "source": [
    "name = \"saransh gautam\".capitalize()\n",
    "print(name)"
   ]
  },
  {
   "cell_type": "code",
   "execution_count": 198,
   "id": "ced5ab56-1eab-4474-b5ee-30513a09303f",
   "metadata": {},
   "outputs": [
    {
     "name": "stdout",
     "output_type": "stream",
     "text": [
      "6\n"
     ]
    }
   ],
   "source": [
    "name = \"saransh\".find(\"h\")   # define with indexing base\n",
    "print(name)"
   ]
  },
  {
   "cell_type": "code",
   "execution_count": 212,
   "id": "f366256e-20d8-406f-98a8-703a07e4de23",
   "metadata": {},
   "outputs": [
    {
     "name": "stdout",
     "output_type": "stream",
     "text": [
      "[' 23', '09', '2002']\n"
     ]
    }
   ],
   "source": [
    "date =\" 23-09-2002\".split(\"-\")\n",
    "print(date)"
   ]
  },
  {
   "cell_type": "code",
   "execution_count": 201,
   "id": "0650a7a2-a50d-4a32-864d-afd767f234e7",
   "metadata": {},
   "outputs": [
    {
     "name": "stdout",
     "output_type": "stream",
     "text": [
      "['Ayush', 'kumar']\n"
     ]
    }
   ],
   "source": [
    "name = \"Ayush kumar\".split()\n",
    "print(name)"
   ]
  },
  {
   "cell_type": "code",
   "execution_count": 37,
   "id": "f13e74ea-04b4-482e-aa80-bb8aae89c166",
   "metadata": {},
   "outputs": [
    {
     "name": "stdout",
     "output_type": "stream",
     "text": [
      "yush kumar\n"
     ]
    }
   ],
   "source": [
    "name =\"Ayush kumar\".strip(\"A\")\n",
    "print(name)"
   ]
  },
  {
   "cell_type": "code",
   "execution_count": 209,
   "id": "0a15b47e-73d4-4b6d-967f-473689cfef38",
   "metadata": {},
   "outputs": [
    {
     "data": {
      "text/plain": [
       "'saransh'"
      ]
     },
     "execution_count": 209,
     "metadata": {},
     "output_type": "execute_result"
    }
   ],
   "source": [
    "\"  saransh  \".strip()"
   ]
  },
  {
   "cell_type": "code",
   "execution_count": 218,
   "id": "693c6856-fb98-49f7-b35d-05cc39ec6ea3",
   "metadata": {},
   "outputs": [
    {
     "name": "stdout",
     "output_type": "stream",
     "text": [
      "sahil kapuor\n"
     ]
    }
   ],
   "source": [
    "name = \"sahil kapoor\".replace(\"o\",\"u\",1)\n",
    "print(name)"
   ]
  },
  {
   "cell_type": "code",
   "execution_count": 225,
   "id": "3b4ea31d-7e0e-4b35-a584-e782c6195536",
   "metadata": {},
   "outputs": [
    {
     "name": "stdout",
     "output_type": "stream",
     "text": [
      "vansh kumar rano\n"
     ]
    }
   ],
   "source": [
    "name = \"vansh kumor rono\".replace(\"o\",\"a\",2)\n",
    "print(name)"
   ]
  },
  {
   "cell_type": "code",
   "execution_count": 226,
   "id": "98e66cdf-bb7d-40a0-bcd6-7ded31284565",
   "metadata": {},
   "outputs": [],
   "source": [
    "# format function\n"
   ]
  },
  {
   "cell_type": "code",
   "execution_count": 227,
   "id": "2a2f060e-fde5-4c32-8144-0f90a96df8fe",
   "metadata": {},
   "outputs": [],
   "source": [
    "name = \"kanha\"\n",
    "salary = 80000\n",
    "place = \"chd\""
   ]
  },
  {
   "cell_type": "code",
   "execution_count": 229,
   "id": "1b9c9b6f-24cd-4805-8169-04568824cb46",
   "metadata": {},
   "outputs": [
    {
     "name": "stdout",
     "output_type": "stream",
     "text": [
      "Hi my name is kanha , I am from chd and my salary is 80000\n"
     ]
    }
   ],
   "source": [
    "define = \"Hi my name is {0} , I am from {2} and my salary is {1}\".format(\"kanha\",80000,\"chd\")\n",
    "print(define)"
   ]
  },
  {
   "cell_type": "code",
   "execution_count": 230,
   "id": "06263cf4-3055-4e8d-a947-3990dcfc0888",
   "metadata": {},
   "outputs": [],
   "source": [
    "# another way"
   ]
  },
  {
   "cell_type": "code",
   "execution_count": 232,
   "id": "e23a51b2-74c1-44a6-a828-9d3282a68004",
   "metadata": {},
   "outputs": [
    {
     "data": {
      "text/plain": [
       "'Hi my name is kanha , My salary is 80000 and i am from chd'"
      ]
     },
     "execution_count": 232,
     "metadata": {},
     "output_type": "execute_result"
    }
   ],
   "source": [
    "f\"Hi my name is {name} , My salary is {salary} and i am from {place}\""
   ]
  },
  {
   "cell_type": "code",
   "execution_count": 233,
   "id": "fd651e52-c5f7-4ebe-bb8a-c16264c1ecca",
   "metadata": {},
   "outputs": [],
   "source": [
    "# indexing"
   ]
  },
  {
   "cell_type": "code",
   "execution_count": 240,
   "id": "d2da8819-829e-49d0-8826-84247a193569",
   "metadata": {},
   "outputs": [
    {
     "name": "stdout",
     "output_type": "stream",
     "text": [
      "u\n"
     ]
    }
   ],
   "source": [
    "brand_name = \"puma\"\n",
    "print(brand_name[1])"
   ]
  },
  {
   "cell_type": "code",
   "execution_count": 241,
   "id": "c320ea5f-5a40-4d82-b0c6-258467c076f4",
   "metadata": {},
   "outputs": [
    {
     "name": "stdout",
     "output_type": "stream",
     "text": [
      "a\n"
     ]
    }
   ],
   "source": [
    "brand_name = \"puma\"\n",
    "print(brand_name[-1])"
   ]
  },
  {
   "cell_type": "code",
   "execution_count": 242,
   "id": "606a7a2a-c1fe-4acc-b5c5-7e8a34b7b100",
   "metadata": {},
   "outputs": [],
   "source": [
    "# Is fumctions"
   ]
  },
  {
   "cell_type": "code",
   "execution_count": 246,
   "id": "904238c1-3ca9-4f5f-93ac-9921f22298ce",
   "metadata": {},
   "outputs": [
    {
     "name": "stdout",
     "output_type": "stream",
     "text": [
      "True\n"
     ]
    }
   ],
   "source": [
    "name = \"SARANSH GAUTAM\".isupper()\n",
    "print(name)"
   ]
  },
  {
   "cell_type": "code",
   "execution_count": 275,
   "id": "7d8860ba-ed8b-4240-adce-f2bb9724689c",
   "metadata": {},
   "outputs": [
    {
     "name": "stdout",
     "output_type": "stream",
     "text": [
      "True\n"
     ]
    }
   ],
   "source": [
    "name = \"saransh gautam\".islower()\n",
    "print(name)"
   ]
  },
  {
   "cell_type": "code",
   "execution_count": 261,
   "id": "73b1329d-0507-4ec3-8675-6c7774667c75",
   "metadata": {},
   "outputs": [],
   "source": [
    "#is alpha function"
   ]
  },
  {
   "cell_type": "code",
   "execution_count": 262,
   "id": "e5cc3935-ce40-48b1-b45a-3343462e3e35",
   "metadata": {},
   "outputs": [
    {
     "name": "stdout",
     "output_type": "stream",
     "text": [
      "False\n"
     ]
    }
   ],
   "source": [
    "name = \"pravesh khatri\".isalpha()\n",
    "print(name)"
   ]
  },
  {
   "cell_type": "code",
   "execution_count": 265,
   "id": "8da826f2-b2c7-464e-8e5e-a20e2c1d7c6c",
   "metadata": {},
   "outputs": [
    {
     "name": "stdout",
     "output_type": "stream",
     "text": [
      "True\n"
     ]
    }
   ],
   "source": [
    "name = \"praveshkhatri\".isalpha()\n",
    "print(name)"
   ]
  },
  {
   "cell_type": "code",
   "execution_count": 274,
   "id": "b97c35d9-d22a-4fb2-aaae-370bb061c17c",
   "metadata": {},
   "outputs": [],
   "source": [
    "#isalnum"
   ]
  },
  {
   "cell_type": "code",
   "execution_count": 271,
   "id": "e4c2d8ca-7d25-4f23-9f99-8d9fb4f0f1c8",
   "metadata": {},
   "outputs": [
    {
     "name": "stdout",
     "output_type": "stream",
     "text": [
      "True\n"
     ]
    }
   ],
   "source": [
    "name = \"ayushkumar0\".isalnum()\n",
    "print(name)"
   ]
  },
  {
   "cell_type": "code",
   "execution_count": 280,
   "id": "5d9fa65f-1cdc-49f3-868c-cfe095de7e4e",
   "metadata": {},
   "outputs": [
    {
     "name": "stdout",
     "output_type": "stream",
     "text": [
      "False\n"
     ]
    }
   ],
   "source": [
    "name = \"ayush kumar\".isalnum()   # spacing thats why output get false\n",
    "print(name)"
   ]
  },
  {
   "cell_type": "code",
   "execution_count": 276,
   "id": "cae4b60c-8f02-444d-af82-23522564ebef",
   "metadata": {},
   "outputs": [],
   "source": [
    "#isnumeric"
   ]
  },
  {
   "cell_type": "code",
   "execution_count": 279,
   "id": "fd0501fb-834e-40c8-9437-8331336847a7",
   "metadata": {},
   "outputs": [
    {
     "name": "stdout",
     "output_type": "stream",
     "text": [
      "True\n"
     ]
    }
   ],
   "source": [
    "name = \"50\".isnumeric()\n",
    "print(name)"
   ]
  },
  {
   "cell_type": "code",
   "execution_count": 291,
   "id": "17c23ce6-584e-40be-afab-81d690f69995",
   "metadata": {},
   "outputs": [
    {
     "name": "stdout",
     "output_type": "stream",
     "text": [
      "False\n"
     ]
    }
   ],
   "source": [
    "name = \"kanha khatri\".isspace()\n",
    "print(name)"
   ]
  },
  {
   "cell_type": "code",
   "execution_count": 1,
   "id": "b495ca35-17c1-41f5-ae04-509fecbd212f",
   "metadata": {},
   "outputs": [],
   "source": [
    "# slicing"
   ]
  },
  {
   "cell_type": "code",
   "execution_count": 5,
   "id": "0315d3a2-5b31-4eda-af1c-bab31c043b47",
   "metadata": {},
   "outputs": [
    {
     "name": "stdout",
     "output_type": "stream",
     "text": [
      "ransh Ga\n"
     ]
    }
   ],
   "source": [
    "name  = \"saransh Gautam\"\n",
    "print(name[2:10])"
   ]
  },
  {
   "cell_type": "code",
   "execution_count": 11,
   "id": "edd72904-ae61-46d3-8b1a-baa6609b6d8d",
   "metadata": {},
   "outputs": [
    {
     "name": "stdout",
     "output_type": "stream",
     "text": [
      "shubham s\n"
     ]
    }
   ],
   "source": [
    "name = \"shubham singh\"    # piche se....ek number jyada lena hota \n",
    "print(name[:9])"
   ]
  },
  {
   "cell_type": "code",
   "execution_count": 9,
   "id": "42511a77-496b-4402-a9b4-4582ad0f89c6",
   "metadata": {},
   "outputs": [
    {
     "name": "stdout",
     "output_type": "stream",
     "text": [
      "shika\n"
     ]
    }
   ],
   "source": [
    "name = \"rashika\"    # aage se....\n",
    "print(name[2:])"
   ]
  },
  {
   "cell_type": "code",
   "execution_count": 10,
   "id": "a61b3a7c-4a67-4a09-b6ea-4b28da46ba39",
   "metadata": {},
   "outputs": [
    {
     "name": "stdout",
     "output_type": "stream",
     "text": [
      "fox\n"
     ]
    }
   ],
   "source": [
    "essay = \"The fox ran\"\n",
    "print(essay[4:7])"
   ]
  },
  {
   "cell_type": "code",
   "execution_count": 12,
   "id": "7c30fb71-5c23-409d-8537-86b7073dd4f9",
   "metadata": {},
   "outputs": [
    {
     "name": "stdout",
     "output_type": "stream",
     "text": [
      "best\n"
     ]
    }
   ],
   "source": [
    "teacher = \"Shubham singh is best\"\n",
    "print(teacher[17:21])"
   ]
  },
  {
   "cell_type": "code",
   "execution_count": 13,
   "id": "6fe8e6c6-f17b-410d-b6db-0c4f45d02d48",
   "metadata": {},
   "outputs": [],
   "source": [
    "#step size....."
   ]
  },
  {
   "cell_type": "code",
   "execution_count": 20,
   "id": "5576f49f-6ca6-4e60-abfd-70bad5b5e5ea",
   "metadata": {},
   "outputs": [
    {
     "name": "stdout",
     "output_type": "stream",
     "text": [
      "nta hba ig\n"
     ]
    }
   ],
   "source": [
    "name = \"netmax shubham singh\"\n",
    "print(name[0::2])"
   ]
  },
  {
   "cell_type": "code",
   "execution_count": 24,
   "id": "f92d4124-12bd-4b1c-85d3-3e5819fe8c4a",
   "metadata": {},
   "outputs": [
    {
     "name": "stdout",
     "output_type": "stream",
     "text": [
      "es\n"
     ]
    }
   ],
   "source": [
    "name = \"arunesh katoch\"\n",
    "print(name[2:-4][2:4])                # section navigate..... means output ki bhi indexing slicing ki hai...."
   ]
  },
  {
   "cell_type": "code",
   "execution_count": 25,
   "id": "f4d18224-9f6b-4c0a-8148-40d7b0ded058",
   "metadata": {},
   "outputs": [],
   "source": [
    "# neg step size"
   ]
  },
  {
   "cell_type": "code",
   "execution_count": 26,
   "id": "2233daeb-8073-41c5-892c-f4140229669c",
   "metadata": {},
   "outputs": [
    {
     "name": "stdout",
     "output_type": "stream",
     "text": [
      "matuag hsnaras\n"
     ]
    }
   ],
   "source": [
    "name = \"saransh gautam\"\n",
    "print(name[::-1])"
   ]
  },
  {
   "cell_type": "code",
   "execution_count": 35,
   "id": "9768bb6f-af41-4148-83ec-8fb22a563767",
   "metadata": {},
   "outputs": [
    {
     "name": "stdout",
     "output_type": "stream",
     "text": [
      "hgnis patar\n"
     ]
    }
   ],
   "source": [
    "name = \"devender pratap singh\"\n",
    "print(name[::-1][0:11])"
   ]
  },
  {
   "cell_type": "code",
   "execution_count": null,
   "id": "2a56a76b-22f1-4509-8ec4-068036a09820",
   "metadata": {},
   "outputs": [],
   "source": []
  }
 ],
 "metadata": {
  "kernelspec": {
   "display_name": "Python 3 (ipykernel)",
   "language": "python",
   "name": "python3"
  },
  "language_info": {
   "codemirror_mode": {
    "name": "ipython",
    "version": 3
   },
   "file_extension": ".py",
   "mimetype": "text/x-python",
   "name": "python",
   "nbconvert_exporter": "python",
   "pygments_lexer": "ipython3",
   "version": "3.13.5"
  }
 },
 "nbformat": 4,
 "nbformat_minor": 5
}
