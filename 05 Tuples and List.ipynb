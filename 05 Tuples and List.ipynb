{
 "cells": [
  {
   "cell_type": "markdown",
   "id": "56ac86b1-33d5-458d-a891-b4ee23db0082",
   "metadata": {},
   "source": [
    "# Tuple"
   ]
  },
  {
   "cell_type": "code",
   "execution_count": 73,
   "id": "9b103b86-460d-4810-ac6b-6d958495941f",
   "metadata": {},
   "outputs": [],
   "source": [
    "dogs = (\"dogy\", \"kutta\",\"tom\")"
   ]
  },
  {
   "cell_type": "code",
   "execution_count": 74,
   "id": "6c641da5-c1ac-4d40-a518-20d58d96cd0c",
   "metadata": {},
   "outputs": [
    {
     "data": {
      "text/plain": [
       "('dogy', 'kutta', 'tom')"
      ]
     },
     "execution_count": 74,
     "metadata": {},
     "output_type": "execute_result"
    }
   ],
   "source": [
    "dogs"
   ]
  },
  {
   "cell_type": "code",
   "execution_count": 75,
   "id": "76bc312d-b1e6-40cc-b7a3-7294a55e9628",
   "metadata": {},
   "outputs": [],
   "source": [
    "#tuple unpacking"
   ]
  },
  {
   "cell_type": "code",
   "execution_count": 76,
   "id": "609600aa-ea95-4b4a-9905-496a1ad8d169",
   "metadata": {},
   "outputs": [],
   "source": [
    "a = 2"
   ]
  },
  {
   "cell_type": "code",
   "execution_count": 77,
   "id": "de0223c7-5b58-48a4-ad61-6d081a628a4c",
   "metadata": {},
   "outputs": [],
   "source": [
    "b = 3"
   ]
  },
  {
   "cell_type": "code",
   "execution_count": 78,
   "id": "d74f36ac-292a-4ed3-b316-b124444ca281",
   "metadata": {},
   "outputs": [],
   "source": [
    "a,b = b,a"
   ]
  },
  {
   "cell_type": "code",
   "execution_count": 79,
   "id": "07643f7e-06a1-470b-840f-891889e8ac6d",
   "metadata": {},
   "outputs": [
    {
     "data": {
      "text/plain": [
       "3"
      ]
     },
     "execution_count": 79,
     "metadata": {},
     "output_type": "execute_result"
    }
   ],
   "source": [
    "a"
   ]
  },
  {
   "cell_type": "code",
   "execution_count": 80,
   "id": "43752644-4879-4e9e-ab62-a32dd2327158",
   "metadata": {},
   "outputs": [
    {
     "data": {
      "text/plain": [
       "2"
      ]
     },
     "execution_count": 80,
     "metadata": {},
     "output_type": "execute_result"
    }
   ],
   "source": [
    "b"
   ]
  },
  {
   "cell_type": "markdown",
   "id": "61e3cb76-7371-4771-823d-2c41a8996a54",
   "metadata": {},
   "source": [
    "# Indexing , slicing"
   ]
  },
  {
   "cell_type": "code",
   "execution_count": 84,
   "id": "48fe9993-7f70-4f82-a5fc-3d87c4724c26",
   "metadata": {},
   "outputs": [
    {
     "data": {
      "text/plain": [
       "1"
      ]
     },
     "execution_count": 84,
     "metadata": {},
     "output_type": "execute_result"
    }
   ],
   "source": [
    "dogs.index(\"kutta\")"
   ]
  },
  {
   "cell_type": "code",
   "execution_count": 85,
   "id": "03645239-0a60-4bad-8ec8-c8061f560307",
   "metadata": {},
   "outputs": [
    {
     "name": "stdout",
     "output_type": "stream",
     "text": [
      "(1, 1, 1, 1, 1, 2, 2, 2, 3, 3, 5, 6)\n"
     ]
    }
   ],
   "source": [
    "tu = (1,1,1,1,1,2,2,2,3,3,5,6)\n",
    "print(tu)"
   ]
  },
  {
   "cell_type": "code",
   "execution_count": 86,
   "id": "e74fd25d-e4bc-4ef1-993c-b6596bf283f0",
   "metadata": {},
   "outputs": [],
   "source": [
    "tu = tu[4:8] \n"
   ]
  },
  {
   "cell_type": "code",
   "execution_count": 87,
   "id": "a309f62e-5844-49a8-a38f-706a03086b7a",
   "metadata": {},
   "outputs": [
    {
     "data": {
      "text/plain": [
       "(1, 2, 2, 2)"
      ]
     },
     "execution_count": 87,
     "metadata": {},
     "output_type": "execute_result"
    }
   ],
   "source": [
    "tu"
   ]
  },
  {
   "cell_type": "markdown",
   "id": "ee6ad66d-0b68-44f1-bd83-cd9ef49f6b12",
   "metadata": {},
   "source": [
    "# List"
   ]
  },
  {
   "cell_type": "code",
   "execution_count": 97,
   "id": "4a1184b4-4c7b-4029-98ba-462c1b6d5572",
   "metadata": {},
   "outputs": [],
   "source": [
    "li = [1,2,3,4,5,6]"
   ]
  },
  {
   "cell_type": "code",
   "execution_count": 98,
   "id": "ae70d8b5-1b2d-4b8f-b6f1-86116cc45ece",
   "metadata": {},
   "outputs": [
    {
     "data": {
      "text/plain": [
       "[1, 2, 3, 4, 5, 6]"
      ]
     },
     "execution_count": 98,
     "metadata": {},
     "output_type": "execute_result"
    }
   ],
   "source": [
    "li"
   ]
  },
  {
   "cell_type": "code",
   "execution_count": 99,
   "id": "ce5fea80-639c-48be-8ebe-e82a2c9fd6c2",
   "metadata": {},
   "outputs": [],
   "source": [
    "li[0] = 20"
   ]
  },
  {
   "cell_type": "code",
   "execution_count": 100,
   "id": "479f7708-fc7b-44a8-87ee-05a71c14290d",
   "metadata": {},
   "outputs": [
    {
     "data": {
      "text/plain": [
       "[20, 2, 3, 4, 5, 6]"
      ]
     },
     "execution_count": 100,
     "metadata": {},
     "output_type": "execute_result"
    }
   ],
   "source": [
    "li"
   ]
  },
  {
   "cell_type": "code",
   "execution_count": 101,
   "id": "43e6f2e6-fc86-491e-8a46-29a1d5a44819",
   "metadata": {},
   "outputs": [
    {
     "data": {
      "text/plain": [
       "1"
      ]
     },
     "execution_count": 101,
     "metadata": {},
     "output_type": "execute_result"
    }
   ],
   "source": [
    "li.count(3)"
   ]
  },
  {
   "cell_type": "code",
   "execution_count": 104,
   "id": "7047eaff-4df4-4caa-a2d3-d327143c265f",
   "metadata": {},
   "outputs": [
    {
     "name": "stdout",
     "output_type": "stream",
     "text": [
      "['dogy', 'kutta', 'tom']\n"
     ]
    }
   ],
   "source": [
    "dogs = [\"dogy\",\"kutta\",\"tom\"]\n",
    "print(dogs)"
   ]
  },
  {
   "cell_type": "code",
   "execution_count": 105,
   "id": "aa9c0b3a-23af-434c-84dd-891e42bdefd4",
   "metadata": {},
   "outputs": [],
   "source": [
    "#slicing"
   ]
  },
  {
   "cell_type": "code",
   "execution_count": 111,
   "id": "a188c4a3-7fd5-4abd-81dc-98928d337167",
   "metadata": {},
   "outputs": [
    {
     "data": {
      "text/plain": [
       "['dogy', 'kutta']"
      ]
     },
     "execution_count": 111,
     "metadata": {},
     "output_type": "execute_result"
    }
   ],
   "source": [
    "dogs[0:2]"
   ]
  },
  {
   "cell_type": "code",
   "execution_count": 125,
   "id": "c67039bb-6aa1-4f88-a7e7-3980f506caba",
   "metadata": {},
   "outputs": [],
   "source": [
    "#slicing with indexing"
   ]
  },
  {
   "cell_type": "code",
   "execution_count": 126,
   "id": "93a498ae-a3ea-4868-b584-a7750a4922a2",
   "metadata": {},
   "outputs": [
    {
     "data": {
      "text/plain": [
       "['Saransh', 'kutta', 'tom']"
      ]
     },
     "execution_count": 126,
     "metadata": {},
     "output_type": "execute_result"
    }
   ],
   "source": [
    "dogs"
   ]
  },
  {
   "cell_type": "code",
   "execution_count": 127,
   "id": "7c2f1035-7472-43d9-be22-c96ae6861fee",
   "metadata": {},
   "outputs": [
    {
     "data": {
      "text/plain": [
       "'t'"
      ]
     },
     "execution_count": 127,
     "metadata": {},
     "output_type": "execute_result"
    }
   ],
   "source": [
    "dogs[0:2][1][2]"
   ]
  },
  {
   "cell_type": "code",
   "execution_count": 128,
   "id": "47a45025-abe7-4807-95aa-9101a048d359",
   "metadata": {},
   "outputs": [
    {
     "name": "stdout",
     "output_type": "stream",
     "text": [
      "['Saransh', 'kutta', 'tom']\n"
     ]
    }
   ],
   "source": [
    "dogs[0] = \"Saransh\"\n",
    "print(dogs)"
   ]
  },
  {
   "cell_type": "code",
   "execution_count": 130,
   "id": "b16b35ff-b71b-4e93-8c37-905b78a37478",
   "metadata": {},
   "outputs": [],
   "source": [
    "# list ke andar sb kuch store kar skte hai"
   ]
  },
  {
   "cell_type": "code",
   "execution_count": 144,
   "id": "83550ea6-7c17-4044-adbe-65f9d7f1d6a3",
   "metadata": {},
   "outputs": [],
   "source": [
    "li = [\"saransh\",(1+2j),[\"shubham\",2,3,4],5,(9,10,11)]"
   ]
  },
  {
   "cell_type": "code",
   "execution_count": 145,
   "id": "ce2733d1-faf9-402d-9461-67ac106d537a",
   "metadata": {},
   "outputs": [
    {
     "data": {
      "text/plain": [
       "['saransh', (1+2j), ['shubham', 2, 3, 4], 5, (9, 10, 11)]"
      ]
     },
     "execution_count": 145,
     "metadata": {},
     "output_type": "execute_result"
    }
   ],
   "source": [
    "li"
   ]
  },
  {
   "cell_type": "code",
   "execution_count": 155,
   "id": "b87f5f44-e350-4cb5-93ec-ea6b848a2d27",
   "metadata": {
    "scrolled": true
   },
   "outputs": [
    {
     "data": {
      "text/plain": [
       "'saransh'"
      ]
     },
     "execution_count": 155,
     "metadata": {},
     "output_type": "execute_result"
    }
   ],
   "source": [
    "li[0]"
   ]
  },
  {
   "cell_type": "code",
   "execution_count": 157,
   "id": "33d5d773-dee9-49a7-a49f-eb7a211dd09c",
   "metadata": {},
   "outputs": [
    {
     "data": {
      "text/plain": [
       "'a'"
      ]
     },
     "execution_count": 157,
     "metadata": {},
     "output_type": "execute_result"
    }
   ],
   "source": [
    "li[0][3]"
   ]
  },
  {
   "cell_type": "code",
   "execution_count": 147,
   "id": "5f6625a6-f5a6-47e9-b983-20864e3b064a",
   "metadata": {},
   "outputs": [
    {
     "data": {
      "text/plain": [
       "(1+2j)"
      ]
     },
     "execution_count": 147,
     "metadata": {},
     "output_type": "execute_result"
    }
   ],
   "source": [
    "li[1]"
   ]
  },
  {
   "cell_type": "code",
   "execution_count": 148,
   "id": "5722ee99-b6c9-4fd5-a351-a3254d9c3984",
   "metadata": {},
   "outputs": [
    {
     "data": {
      "text/plain": [
       "['shubham', 2, 3]"
      ]
     },
     "execution_count": 148,
     "metadata": {},
     "output_type": "execute_result"
    }
   ],
   "source": [
    "li[2][0:3]"
   ]
  },
  {
   "cell_type": "code",
   "execution_count": 149,
   "id": "731bbf01-8ea7-489d-afba-d93209e51e22",
   "metadata": {},
   "outputs": [
    {
     "data": {
      "text/plain": [
       "5"
      ]
     },
     "execution_count": 149,
     "metadata": {},
     "output_type": "execute_result"
    }
   ],
   "source": [
    "li[3]"
   ]
  },
  {
   "cell_type": "code",
   "execution_count": 153,
   "id": "9f2e6a57-12ab-4831-b7bd-5d339ff5f78e",
   "metadata": {},
   "outputs": [
    {
     "data": {
      "text/plain": [
       "11"
      ]
     },
     "execution_count": 153,
     "metadata": {},
     "output_type": "execute_result"
    }
   ],
   "source": [
    "li[4][2]"
   ]
  },
  {
   "cell_type": "code",
   "execution_count": 158,
   "id": "2b978dcb-6460-4e6e-ab09-9ab710adf271",
   "metadata": {},
   "outputs": [
    {
     "data": {
      "text/plain": [
       "['Saransh', 'kutta', 'tom']"
      ]
     },
     "execution_count": 158,
     "metadata": {},
     "output_type": "execute_result"
    }
   ],
   "source": [
    "dogs"
   ]
  },
  {
   "cell_type": "code",
   "execution_count": 159,
   "id": "a7d7b171-c462-4382-b997-2cf50ca94a94",
   "metadata": {},
   "outputs": [],
   "source": [
    "dogs.append(\"Gautam\")"
   ]
  },
  {
   "cell_type": "code",
   "execution_count": 160,
   "id": "43604a3e-20c8-406b-8303-1e3120226137",
   "metadata": {},
   "outputs": [
    {
     "data": {
      "text/plain": [
       "['Saransh', 'kutta', 'tom', 'Gautam']"
      ]
     },
     "execution_count": 160,
     "metadata": {},
     "output_type": "execute_result"
    }
   ],
   "source": [
    "dogs"
   ]
  },
  {
   "cell_type": "code",
   "execution_count": 173,
   "id": "97658f96-5eec-4b18-be71-e54fad2777c1",
   "metadata": {},
   "outputs": [],
   "source": [
    "stu = [\"a\",\"b\",\"c\",\"d\",\"e\"]               # Reference"
   ]
  },
  {
   "cell_type": "code",
   "execution_count": 167,
   "id": "35b6ef30-01d3-43ea-9cbe-cb94b9d7a4c3",
   "metadata": {},
   "outputs": [],
   "source": [
    "fail = stu"
   ]
  },
  {
   "cell_type": "code",
   "execution_count": 170,
   "id": "da7e91eb-bd8e-4916-8ece-af02a2162753",
   "metadata": {},
   "outputs": [],
   "source": [
    "fail[3] = 'Saransh'"
   ]
  },
  {
   "cell_type": "code",
   "execution_count": 171,
   "id": "caa24048-50e5-423f-b681-49844b4a034e",
   "metadata": {},
   "outputs": [
    {
     "data": {
      "text/plain": [
       "['a', 'b', 'c', 'Saransh', 'e']"
      ]
     },
     "execution_count": 171,
     "metadata": {},
     "output_type": "execute_result"
    }
   ],
   "source": [
    "fail"
   ]
  },
  {
   "cell_type": "code",
   "execution_count": 172,
   "id": "dd9d7832-3d2e-4f82-8e26-cb3e09196599",
   "metadata": {},
   "outputs": [
    {
     "data": {
      "text/plain": [
       "['a', 'b', 'c', 'Saransh', 'e']"
      ]
     },
     "execution_count": 172,
     "metadata": {},
     "output_type": "execute_result"
    }
   ],
   "source": [
    "stu"
   ]
  },
  {
   "cell_type": "code",
   "execution_count": 186,
   "id": "9eaf7b43-f1b0-41df-859f-3ed1621d1556",
   "metadata": {},
   "outputs": [],
   "source": [
    "a = [1,2,3]"
   ]
  },
  {
   "cell_type": "code",
   "execution_count": 187,
   "id": "e31a4ccc-35c2-42c2-817c-de3b42421562",
   "metadata": {},
   "outputs": [],
   "source": [
    "b = a"
   ]
  },
  {
   "cell_type": "code",
   "execution_count": 188,
   "id": "7f27b643-72ca-418c-a2d0-7840ebca0e6b",
   "metadata": {},
   "outputs": [
    {
     "data": {
      "text/plain": [
       "[1, 2, 3]"
      ]
     },
     "execution_count": 188,
     "metadata": {},
     "output_type": "execute_result"
    }
   ],
   "source": [
    "b"
   ]
  },
  {
   "cell_type": "code",
   "execution_count": 190,
   "id": "db2d0c09-c12c-4df4-8ac7-4f438d206955",
   "metadata": {},
   "outputs": [],
   "source": [
    "b[1] = 50"
   ]
  },
  {
   "cell_type": "code",
   "execution_count": 191,
   "id": "54a63d86-5b57-4ac8-9614-203273f91cde",
   "metadata": {},
   "outputs": [
    {
     "data": {
      "text/plain": [
       "[1, 50, 3]"
      ]
     },
     "execution_count": 191,
     "metadata": {},
     "output_type": "execute_result"
    }
   ],
   "source": [
    "b"
   ]
  },
  {
   "cell_type": "code",
   "execution_count": 192,
   "id": "9e036fba-c896-4923-87e0-86b269f113d3",
   "metadata": {},
   "outputs": [
    {
     "data": {
      "text/plain": [
       "[1, 50, 3]"
      ]
     },
     "execution_count": 192,
     "metadata": {},
     "output_type": "execute_result"
    }
   ],
   "source": [
    "a"
   ]
  },
  {
   "cell_type": "code",
   "execution_count": 193,
   "id": "aae37cd6-333a-4c0d-bd60-ad9c4eb45860",
   "metadata": {},
   "outputs": [],
   "source": [
    "# using .copy"
   ]
  },
  {
   "cell_type": "code",
   "execution_count": 194,
   "id": "bbe8ce76-95bb-46c3-bbe0-18f5991fdb39",
   "metadata": {},
   "outputs": [],
   "source": [
    "b = a.copy()"
   ]
  },
  {
   "cell_type": "code",
   "execution_count": 197,
   "id": "199d2004-5f21-48d8-aa86-bb3b36ca8c63",
   "metadata": {},
   "outputs": [],
   "source": [
    "b[1]= 10"
   ]
  },
  {
   "cell_type": "code",
   "execution_count": 198,
   "id": "9da08b60-d579-447a-9049-3f7730dcbf94",
   "metadata": {},
   "outputs": [
    {
     "data": {
      "text/plain": [
       "[1, 10, 3]"
      ]
     },
     "execution_count": 198,
     "metadata": {},
     "output_type": "execute_result"
    }
   ],
   "source": [
    "b"
   ]
  },
  {
   "cell_type": "code",
   "execution_count": 199,
   "id": "b7114fb2-9b2c-4e27-8f86-6029b0cbf28f",
   "metadata": {
    "scrolled": true
   },
   "outputs": [
    {
     "data": {
      "text/plain": [
       "[1, 50, 3]"
      ]
     },
     "execution_count": 199,
     "metadata": {},
     "output_type": "execute_result"
    }
   ],
   "source": [
    "a"
   ]
  },
  {
   "cell_type": "code",
   "execution_count": 202,
   "id": "43b4adc0-f0b2-487d-831e-7ffbaab5c203",
   "metadata": {},
   "outputs": [
    {
     "data": {
      "text/plain": [
       "['Saransh', 'kutta', 'tom', 'Gautam']"
      ]
     },
     "execution_count": 202,
     "metadata": {},
     "output_type": "execute_result"
    }
   ],
   "source": [
    "dogs"
   ]
  },
  {
   "cell_type": "code",
   "execution_count": 201,
   "id": "97b96bed-7b6a-4c8f-8802-d50611b6bba4",
   "metadata": {},
   "outputs": [
    {
     "data": {
      "text/plain": [
       "1"
      ]
     },
     "execution_count": 201,
     "metadata": {},
     "output_type": "execute_result"
    }
   ],
   "source": [
    "dogs.count(\"tom\")"
   ]
  },
  {
   "cell_type": "code",
   "execution_count": 204,
   "id": "b3e9cb7c-2e9e-43ab-9f83-93c2bae5024d",
   "metadata": {},
   "outputs": [
    {
     "data": {
      "text/plain": [
       "3"
      ]
     },
     "execution_count": 204,
     "metadata": {},
     "output_type": "execute_result"
    }
   ],
   "source": [
    "dogs.index(\"Gautam\")"
   ]
  },
  {
   "cell_type": "code",
   "execution_count": 205,
   "id": "e3edc6a9-1ca8-41bf-a68f-7ac592d65b77",
   "metadata": {},
   "outputs": [
    {
     "data": {
      "text/plain": [
       "['Saransh', 'kutta', 'tom', 'Gautam']"
      ]
     },
     "execution_count": 205,
     "metadata": {},
     "output_type": "execute_result"
    }
   ],
   "source": [
    "dogs"
   ]
  },
  {
   "cell_type": "code",
   "execution_count": 218,
   "id": "01f9bcf4-7db1-4acc-b20e-d095d81bb002",
   "metadata": {},
   "outputs": [],
   "source": [
    "friend = [\"sammy\",\"rammy\",\"jacob\"]"
   ]
  },
  {
   "cell_type": "code",
   "execution_count": 238,
   "id": "36fd6a75-3b42-46c2-82d1-07ea9a701c81",
   "metadata": {},
   "outputs": [],
   "source": [
    "dogs.extend(friend)"
   ]
  },
  {
   "cell_type": "code",
   "execution_count": 242,
   "id": "39638b98-38fc-4cdd-9dc6-9b9f5bfca0f7",
   "metadata": {},
   "outputs": [
    {
     "data": {
      "text/plain": [
       "['Saransh',\n",
       " 'kutta',\n",
       " 'e',\n",
       " 'd',\n",
       " 'n',\n",
       " 'f',\n",
       " 'r',\n",
       " 'i',\n",
       " 'e',\n",
       " 'n',\n",
       " 'd',\n",
       " 'sammy',\n",
       " 'rammy',\n",
       " 'jacob',\n",
       " 'sammy',\n",
       " 'rammy',\n",
       " 'jacob',\n",
       " 'sammy',\n",
       " 'rammy',\n",
       " 'jacob',\n",
       " 'Sikha',\n",
       " 'sammy',\n",
       " 'rammy']"
      ]
     },
     "execution_count": 242,
     "metadata": {},
     "output_type": "execute_result"
    }
   ],
   "source": [
    "dogs"
   ]
  },
  {
   "cell_type": "code",
   "execution_count": 240,
   "id": "8706f246-5940-4bea-bc46-063cdf2b72ae",
   "metadata": {},
   "outputs": [
    {
     "data": {
      "text/plain": [
       "'jacob'"
      ]
     },
     "execution_count": 240,
     "metadata": {},
     "output_type": "execute_result"
    }
   ],
   "source": [
    "dogs.pop()"
   ]
  },
  {
   "cell_type": "code",
   "execution_count": 241,
   "id": "5a03f3c9-5e8a-4dba-a23d-25daa0ce2eed",
   "metadata": {},
   "outputs": [
    {
     "data": {
      "text/plain": [
       "'f'"
      ]
     },
     "execution_count": 241,
     "metadata": {},
     "output_type": "execute_result"
    }
   ],
   "source": [
    "dogs.pop(2)"
   ]
  },
  {
   "cell_type": "code",
   "execution_count": 233,
   "id": "2e305109-87e0-4bf8-91a9-7093aa0f0bd0",
   "metadata": {},
   "outputs": [
    {
     "data": {
      "text/plain": [
       "'i'"
      ]
     },
     "execution_count": 233,
     "metadata": {},
     "output_type": "execute_result"
    }
   ],
   "source": [
    "dogs.pop(3)"
   ]
  },
  {
   "cell_type": "code",
   "execution_count": 243,
   "id": "eaad9023-45c3-4f7e-9c4f-1a509bef8d34",
   "metadata": {},
   "outputs": [],
   "source": [
    "mouse = [\"jerry\",\"mice\",\"chuha\",\"kane\"]"
   ]
  },
  {
   "cell_type": "code",
   "execution_count": 244,
   "id": "95f80098-9c68-4700-a3f2-3389d799df0d",
   "metadata": {},
   "outputs": [
    {
     "data": {
      "text/plain": [
       "['jerry', 'mice', 'chuha', 'kane']"
      ]
     },
     "execution_count": 244,
     "metadata": {},
     "output_type": "execute_result"
    }
   ],
   "source": [
    "mouse"
   ]
  },
  {
   "cell_type": "code",
   "execution_count": 245,
   "id": "d6f3f995-91e7-4f6a-9474-3ceb3eaf464e",
   "metadata": {},
   "outputs": [],
   "source": [
    "mouse.sort()"
   ]
  },
  {
   "cell_type": "code",
   "execution_count": 246,
   "id": "d3dc5e54-4368-4ca1-9ad1-62359a568205",
   "metadata": {},
   "outputs": [
    {
     "data": {
      "text/plain": [
       "['chuha', 'jerry', 'kane', 'mice']"
      ]
     },
     "execution_count": 246,
     "metadata": {},
     "output_type": "execute_result"
    }
   ],
   "source": [
    "mouse"
   ]
  },
  {
   "cell_type": "code",
   "execution_count": 247,
   "id": "6fe8032f-d386-4494-a931-77c2fe305fb7",
   "metadata": {},
   "outputs": [],
   "source": [
    "mouse.sort(reverse=True)"
   ]
  },
  {
   "cell_type": "code",
   "execution_count": 248,
   "id": "63a5f90c-0c49-44c6-ba50-2870c0ab1afa",
   "metadata": {},
   "outputs": [
    {
     "data": {
      "text/plain": [
       "['mice', 'kane', 'jerry', 'chuha']"
      ]
     },
     "execution_count": 248,
     "metadata": {},
     "output_type": "execute_result"
    }
   ],
   "source": [
    "mouse"
   ]
  },
  {
   "cell_type": "code",
   "execution_count": 249,
   "id": "3b397214-fe55-4205-ac9a-132bd88e6b57",
   "metadata": {},
   "outputs": [
    {
     "data": {
      "text/plain": [
       "['mice', 'kane', 'jerry', 'chuha']"
      ]
     },
     "execution_count": 249,
     "metadata": {},
     "output_type": "execute_result"
    }
   ],
   "source": [
    "mouse"
   ]
  },
  {
   "cell_type": "code",
   "execution_count": 251,
   "id": "c4f33d03-d326-4a26-8508-c46b6540db8f",
   "metadata": {},
   "outputs": [],
   "source": [
    "mouse.clear()"
   ]
  },
  {
   "cell_type": "code",
   "execution_count": 252,
   "id": "5a1f2c02-6628-485a-9ef6-dfb6c36b4a4d",
   "metadata": {},
   "outputs": [
    {
     "data": {
      "text/plain": [
       "[]"
      ]
     },
     "execution_count": 252,
     "metadata": {},
     "output_type": "execute_result"
    }
   ],
   "source": [
    "mouse"
   ]
  },
  {
   "cell_type": "code",
   "execution_count": null,
   "id": "07f065ed-7fb2-4672-b6c2-1a5e79d8cc68",
   "metadata": {},
   "outputs": [],
   "source": []
  }
 ],
 "metadata": {
  "kernelspec": {
   "display_name": "Python 3 (ipykernel)",
   "language": "python",
   "name": "python3"
  },
  "language_info": {
   "codemirror_mode": {
    "name": "ipython",
    "version": 3
   },
   "file_extension": ".py",
   "mimetype": "text/x-python",
   "name": "python",
   "nbconvert_exporter": "python",
   "pygments_lexer": "ipython3",
   "version": "3.13.5"
  }
 },
 "nbformat": 4,
 "nbformat_minor": 5
}
