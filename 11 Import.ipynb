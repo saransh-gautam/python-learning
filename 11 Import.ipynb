{
 "cells": [
  {
   "cell_type": "code",
   "execution_count": 4,
   "id": "0be2c633-8079-45f4-abc7-cc936c657dd0",
   "metadata": {},
   "outputs": [
    {
     "name": "stdout",
     "output_type": "stream",
     "text": [
      "Requirement already satisfied: pandas in c:\\users\\saran\\anaconda3\\lib\\site-packages (2.2.3)\n",
      "Requirement already satisfied: numpy>=1.26.0 in c:\\users\\saran\\anaconda3\\lib\\site-packages (from pandas) (2.1.3)\n",
      "Requirement already satisfied: python-dateutil>=2.8.2 in c:\\users\\saran\\anaconda3\\lib\\site-packages (from pandas) (2.9.0.post0)\n",
      "Requirement already satisfied: pytz>=2020.1 in c:\\users\\saran\\anaconda3\\lib\\site-packages (from pandas) (2024.1)\n",
      "Requirement already satisfied: tzdata>=2022.7 in c:\\users\\saran\\anaconda3\\lib\\site-packages (from pandas) (2025.2)\n",
      "Requirement already satisfied: six>=1.5 in c:\\users\\saran\\anaconda3\\lib\\site-packages (from python-dateutil>=2.8.2->pandas) (1.17.0)\n",
      "Note: you may need to restart the kernel to use updated packages.\n"
     ]
    }
   ],
   "source": [
    "pip install pandas"
   ]
  },
  {
   "cell_type": "code",
   "execution_count": 6,
   "id": "a9da0588-d650-4e7b-8875-3656c051c390",
   "metadata": {},
   "outputs": [
    {
     "name": "stdout",
     "output_type": "stream",
     "text": [
      "Requirement already satisfied: Django==5.2.5 in c:\\users\\saran\\anaconda3\\lib\\site-packages (5.2.5)\n",
      "Requirement already satisfied: asgiref>=3.8.1 in c:\\users\\saran\\anaconda3\\lib\\site-packages (from Django==5.2.5) (3.9.1)\n",
      "Requirement already satisfied: sqlparse>=0.3.1 in c:\\users\\saran\\anaconda3\\lib\\site-packages (from Django==5.2.5) (0.5.3)\n",
      "Requirement already satisfied: tzdata in c:\\users\\saran\\anaconda3\\lib\\site-packages (from Django==5.2.5) (2025.2)\n",
      "Note: you may need to restart the kernel to use updated packages.\n"
     ]
    }
   ],
   "source": [
    "pip install Django==5.2.5"
   ]
  },
  {
   "cell_type": "code",
   "execution_count": 7,
   "id": "c75984e6-5c52-40f4-be7a-99338c98b15f",
   "metadata": {},
   "outputs": [],
   "source": [
    "import random"
   ]
  },
  {
   "cell_type": "code",
   "execution_count": 8,
   "id": "7c80a739-7690-4ecb-a21d-79b9d50d9753",
   "metadata": {},
   "outputs": [
    {
     "data": {
      "text/plain": [
       "10"
      ]
     },
     "execution_count": 8,
     "metadata": {},
     "output_type": "execute_result"
    }
   ],
   "source": [
    "random.randint(10,20)"
   ]
  },
  {
   "cell_type": "code",
   "execution_count": 9,
   "id": "16b030a0-1da0-43c6-890b-f7243f554657",
   "metadata": {},
   "outputs": [],
   "source": [
    "import pandas as pd"
   ]
  },
  {
   "cell_type": "code",
   "execution_count": 10,
   "id": "bb4c8afb-43fc-4d11-8bf2-6701770e96e3",
   "metadata": {},
   "outputs": [
    {
     "data": {
      "text/plain": [
       "<module 'pandas' from 'C:\\\\Users\\\\saran\\\\anaconda3\\\\Lib\\\\site-packages\\\\pandas\\\\__init__.py'>"
      ]
     },
     "execution_count": 10,
     "metadata": {},
     "output_type": "execute_result"
    }
   ],
   "source": [
    "pd"
   ]
  },
  {
   "cell_type": "code",
   "execution_count": 17,
   "id": "4b9feda6-b787-4782-bf01-5b4657194a75",
   "metadata": {},
   "outputs": [
    {
     "data": {
      "text/html": [
       "<div>\n",
       "<style scoped>\n",
       "    .dataframe tbody tr th:only-of-type {\n",
       "        vertical-align: middle;\n",
       "    }\n",
       "\n",
       "    .dataframe tbody tr th {\n",
       "        vertical-align: top;\n",
       "    }\n",
       "\n",
       "    .dataframe thead th {\n",
       "        text-align: right;\n",
       "    }\n",
       "</style>\n",
       "<table border=\"1\" class=\"dataframe\">\n",
       "  <thead>\n",
       "    <tr style=\"text-align: right;\">\n",
       "      <th></th>\n",
       "      <th>name</th>\n",
       "      <th>age</th>\n",
       "      <th>education</th>\n",
       "    </tr>\n",
       "  </thead>\n",
       "  <tbody>\n",
       "    <tr>\n",
       "      <th>0</th>\n",
       "      <td>[saransh, shubham]</td>\n",
       "      <td>[23, 24]</td>\n",
       "      <td>[mca, bsc_it]</td>\n",
       "    </tr>\n",
       "  </tbody>\n",
       "</table>\n",
       "</div>"
      ],
      "text/plain": [
       "                 name       age      education\n",
       "0  [saransh, shubham]  [23, 24]  [mca, bsc_it]"
      ]
     },
     "execution_count": 17,
     "metadata": {},
     "output_type": "execute_result"
    }
   ],
   "source": [
    "pd.json_normalize({\"name\":[\"saransh\",\"shubham\"],\"age\":[23,24],\"education\":[\"mca\",\"bsc_it\"]})"
   ]
  },
  {
   "cell_type": "code",
   "execution_count": 18,
   "id": "d51477bb-017b-402d-af9e-1e9ff4bd4bf6",
   "metadata": {},
   "outputs": [],
   "source": [
    "from random import randint"
   ]
  },
  {
   "cell_type": "code",
   "execution_count": 19,
   "id": "019054df-3496-4283-b046-2c9d6e617c30",
   "metadata": {},
   "outputs": [],
   "source": [
    "import datetime"
   ]
  },
  {
   "cell_type": "code",
   "execution_count": 20,
   "id": "6b00eb49-3892-4dd7-bf75-cdf4f80d958d",
   "metadata": {},
   "outputs": [],
   "source": [
    "from datetime import datetime"
   ]
  },
  {
   "cell_type": "code",
   "execution_count": 21,
   "id": "3f786885-df52-48d7-96f5-a7adf316be5c",
   "metadata": {},
   "outputs": [
    {
     "data": {
      "text/plain": [
       "datetime.datetime(2025, 8, 19, 13, 14, 19, 678516)"
      ]
     },
     "execution_count": 21,
     "metadata": {},
     "output_type": "execute_result"
    }
   ],
   "source": [
    "datetime.today()"
   ]
  },
  {
   "cell_type": "code",
   "execution_count": 27,
   "id": "7d9482b6-2cf1-4473-947e-81200b2a1b3d",
   "metadata": {},
   "outputs": [
    {
     "name": "stdout",
     "output_type": "stream",
     "text": [
      "2025-08-19 13:15:30.804917\n"
     ]
    }
   ],
   "source": [
    " a = datetime.now()\n",
    "print(a)"
   ]
  },
  {
   "cell_type": "code",
   "execution_count": 28,
   "id": "babb805f-1f62-401a-9c81-93a8f7bb0f77",
   "metadata": {},
   "outputs": [
    {
     "data": {
      "text/plain": [
       "datetime.date(2025, 8, 19)"
      ]
     },
     "execution_count": 28,
     "metadata": {},
     "output_type": "execute_result"
    }
   ],
   "source": [
    "a.date()"
   ]
  },
  {
   "cell_type": "code",
   "execution_count": 29,
   "id": "a34a0b26-ae42-4949-a87a-bdc43c4bc278",
   "metadata": {},
   "outputs": [
    {
     "data": {
      "text/plain": [
       "datetime.time(13, 15, 30, 804917)"
      ]
     },
     "execution_count": 29,
     "metadata": {},
     "output_type": "execute_result"
    }
   ],
   "source": [
    "a.time()"
   ]
  },
  {
   "cell_type": "code",
   "execution_count": 37,
   "id": "a078f5b1-4b24-4f12-8638-343f407b447b",
   "metadata": {},
   "outputs": [
    {
     "data": {
      "text/plain": [
       "13"
      ]
     },
     "execution_count": 37,
     "metadata": {},
     "output_type": "execute_result"
    }
   ],
   "source": [
    "a.hour"
   ]
  },
  {
   "cell_type": "code",
   "execution_count": 38,
   "id": "1f3fe0b6-9122-4a01-9f51-4fc08866521d",
   "metadata": {},
   "outputs": [
    {
     "data": {
      "text/plain": [
       "datetime.datetime(9999, 12, 31, 23, 59, 59, 999999)"
      ]
     },
     "execution_count": 38,
     "metadata": {},
     "output_type": "execute_result"
    }
   ],
   "source": [
    "a.max"
   ]
  },
  {
   "cell_type": "code",
   "execution_count": 39,
   "id": "250389b5-059e-4f5d-a90a-cee80f4d1a0e",
   "metadata": {},
   "outputs": [
    {
     "data": {
      "text/plain": [
       "datetime.datetime(1, 1, 1, 0, 0)"
      ]
     },
     "execution_count": 39,
     "metadata": {},
     "output_type": "execute_result"
    }
   ],
   "source": [
    "a.min"
   ]
  },
  {
   "cell_type": "code",
   "execution_count": 40,
   "id": "979e1ba9-3984-4d47-9caf-f585f2caa089",
   "metadata": {},
   "outputs": [
    {
     "data": {
      "text/plain": [
       "datetime.time(13, 15, 30, 804917)"
      ]
     },
     "execution_count": 40,
     "metadata": {},
     "output_type": "execute_result"
    }
   ],
   "source": [
    "datetime.time(a)"
   ]
  },
  {
   "cell_type": "code",
   "execution_count": 46,
   "id": "b3b7bfa9-4a50-480e-99cc-d7de1537f4cf",
   "metadata": {},
   "outputs": [
    {
     "data": {
      "text/plain": [
       "'25 - 08 - 19'"
      ]
     },
     "execution_count": 46,
     "metadata": {},
     "output_type": "execute_result"
    }
   ],
   "source": [
    "datetime.strftime(a,\"%y - %m - %d\")"
   ]
  },
  {
   "cell_type": "code",
   "execution_count": 52,
   "id": "bda1bb31-2b65-4db5-ba57-0ee9f8ce2429",
   "metadata": {},
   "outputs": [
    {
     "data": {
      "text/plain": [
       "'2025 - August - 19'"
      ]
     },
     "execution_count": 52,
     "metadata": {},
     "output_type": "execute_result"
    }
   ],
   "source": [
    "datetime.strftime(a,\"%Y - %B - %d\")"
   ]
  },
  {
   "cell_type": "code",
   "execution_count": 61,
   "id": "026e5017-a94a-4558-a75b-27a9d84cedff",
   "metadata": {},
   "outputs": [],
   "source": [
    "# random library"
   ]
  },
  {
   "cell_type": "code",
   "execution_count": 66,
   "id": "92f8c343-c65b-4198-88c8-f32d73d3fc8d",
   "metadata": {},
   "outputs": [
    {
     "data": {
      "text/plain": [
       "17"
      ]
     },
     "execution_count": 66,
     "metadata": {},
     "output_type": "execute_result"
    }
   ],
   "source": [
    "random.choice([12,14,1,17])"
   ]
  },
  {
   "cell_type": "code",
   "execution_count": 67,
   "id": "c5ef3f8b-f99e-4bd8-890b-960aeb614640",
   "metadata": {},
   "outputs": [
    {
     "data": {
      "text/plain": [
       "12"
      ]
     },
     "execution_count": 67,
     "metadata": {},
     "output_type": "execute_result"
    }
   ],
   "source": [
    "random.choice([12,14,16,18,20])"
   ]
  },
  {
   "cell_type": "code",
   "execution_count": 74,
   "id": "bebeb3a0-d397-458f-aa52-b1339c698595",
   "metadata": {},
   "outputs": [
    {
     "name": "stdout",
     "output_type": "stream",
     "text": [
      "[2, 3, 4, 5, 6]\n",
      "[4, 9, 16, 25, 36]\n"
     ]
    }
   ],
   "source": [
    "li = [2,3,4,5,6]\n",
    "a= []\n",
    "for i in li:\n",
    "    s = i**2\n",
    "    a.append(s)\n",
    "print(li)\n",
    "print(a)"
   ]
  },
  {
   "cell_type": "code",
   "execution_count": 75,
   "id": "c559b828-6655-4a48-bb8b-a153340846fa",
   "metadata": {},
   "outputs": [],
   "source": [
    "# list comprehension"
   ]
  },
  {
   "cell_type": "code",
   "execution_count": 78,
   "id": "56f7ab4a-8856-47d4-9f31-7422d3ee4a5e",
   "metadata": {},
   "outputs": [
    {
     "name": "stdout",
     "output_type": "stream",
     "text": [
      "[4, 8, 7, 9, 2]\n"
     ]
    }
   ],
   "source": [
    "a = []\n",
    "for i in range(5):\n",
    "    a.append(random.randint(1,10))\n",
    "print(a)"
   ]
  },
  {
   "cell_type": "code",
   "execution_count": 88,
   "id": "534120a8-c323-4f63-8bae-ca388c2b5cf8",
   "metadata": {},
   "outputs": [
    {
     "name": "stdout",
     "output_type": "stream",
     "text": [
      "[6, 9, 4, 9, 10]\n"
     ]
    }
   ],
   "source": [
    "a = [random.randint(2,10) for i in range(5)]\n",
    "print(a)"
   ]
  },
  {
   "cell_type": "code",
   "execution_count": 83,
   "id": "9d404ff3-123b-490a-a5d6-e0fb546e2303",
   "metadata": {},
   "outputs": [
    {
     "name": "stdout",
     "output_type": "stream",
     "text": [
      "[0, 1, 2, 3, 4]\n"
     ]
    }
   ],
   "source": [
    "a = [i for i in range(5)]\n",
    "print(a)"
   ]
  },
  {
   "cell_type": "code",
   "execution_count": 89,
   "id": "4e60aad5-8638-4d4e-a169-56f197dcb401",
   "metadata": {},
   "outputs": [
    {
     "data": {
      "text/plain": [
       "[6, 9, 4, 9, 10]"
      ]
     },
     "execution_count": 89,
     "metadata": {},
     "output_type": "execute_result"
    }
   ],
   "source": [
    "a"
   ]
  },
  {
   "cell_type": "code",
   "execution_count": 92,
   "id": "ec85507d-0dbe-446d-9eba-db3fe7717d0a",
   "metadata": {},
   "outputs": [],
   "source": [
    "l =[i**2 for i in a]"
   ]
  },
  {
   "cell_type": "code",
   "execution_count": 94,
   "id": "90ba0d15-612b-4130-9901-f68db265d9d5",
   "metadata": {},
   "outputs": [
    {
     "data": {
      "text/plain": [
       "[36, 81, 16, 81, 100]"
      ]
     },
     "execution_count": 94,
     "metadata": {},
     "output_type": "execute_result"
    }
   ],
   "source": [
    "l"
   ]
  },
  {
   "cell_type": "code",
   "execution_count": 97,
   "id": "8c4e36d1-bb80-4956-aa02-7faa080add7c",
   "metadata": {},
   "outputs": [
    {
     "name": "stdout",
     "output_type": "stream",
     "text": [
      "[36, 81, 16, 81, 100]\n",
      "[6, 9, 4, 9, 10]\n"
     ]
    }
   ],
   "source": [
    "l = []\n",
    "for i in range(len(a)):\n",
    "    l.append(a[i]**2)\n",
    "print(l)\n",
    "print(a)"
   ]
  },
  {
   "cell_type": "code",
   "execution_count": 103,
   "id": "6ca29da6-703d-4eed-9f96-722040926142",
   "metadata": {},
   "outputs": [
    {
     "name": "stdout",
     "output_type": "stream",
     "text": [
      "{'saransh': 23, 'abhi': 25, 'anuj': 27}\n"
     ]
    }
   ],
   "source": [
    "name = [\"saransh\",\"abhi\",\"anuj\"]\n",
    "age = [23,25,27]\n",
    "d = {}\n",
    "for i,j in zip(name,age):\n",
    "    d[i] = j\n",
    "print(d)\n",
    "    "
   ]
  },
  {
   "cell_type": "code",
   "execution_count": 108,
   "id": "8d1c19bc-a391-4ec1-a63c-35fdd366da03",
   "metadata": {},
   "outputs": [
    {
     "data": {
      "text/plain": [
       "{'saransh': 23, 'abhi': 25, 'anuj': 27}"
      ]
     },
     "execution_count": 108,
     "metadata": {},
     "output_type": "execute_result"
    }
   ],
   "source": [
    "{i:j for i ,j in zip(name,age)}"
   ]
  },
  {
   "cell_type": "code",
   "execution_count": null,
   "id": "ecde9470-1c27-4a58-be77-e4547b0a311b",
   "metadata": {},
   "outputs": [],
   "source": []
  },
  {
   "cell_type": "code",
   "execution_count": null,
   "id": "d21338e3-3212-4990-88d4-dfdb99e4aff9",
   "metadata": {},
   "outputs": [],
   "source": []
  }
 ],
 "metadata": {
  "kernelspec": {
   "display_name": "Python 3 (ipykernel)",
   "language": "python",
   "name": "python3"
  },
  "language_info": {
   "codemirror_mode": {
    "name": "ipython",
    "version": 3
   },
   "file_extension": ".py",
   "mimetype": "text/x-python",
   "name": "python",
   "nbconvert_exporter": "python",
   "pygments_lexer": "ipython3",
   "version": "3.13.5"
  }
 },
 "nbformat": 4,
 "nbformat_minor": 5
}
