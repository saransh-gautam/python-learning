{
 "cells": [
  {
   "cell_type": "markdown",
   "id": "4201e732-466c-4def-87cd-fb71ed6c9049",
   "metadata": {},
   "source": [
    "# Print"
   ]
  },
  {
   "cell_type": "code",
   "execution_count": 1,
   "id": "5e733e95-9557-44d8-b955-bfec3a57e841",
   "metadata": {},
   "outputs": [
    {
     "name": "stdout",
     "output_type": "stream",
     "text": [
      "10\n"
     ]
    }
   ],
   "source": [
    "print(10)"
   ]
  },
  {
   "cell_type": "code",
   "execution_count": 2,
   "id": "5cdba0e6-5c7f-43d8-9a43-73a54036a5f4",
   "metadata": {},
   "outputs": [
    {
     "data": {
      "text/plain": [
       "10"
      ]
     },
     "execution_count": 2,
     "metadata": {},
     "output_type": "execute_result"
    }
   ],
   "source": [
    "10"
   ]
  },
  {
   "cell_type": "code",
   "execution_count": 3,
   "id": "dabcd3b4-5b33-4358-81e0-c83c426260df",
   "metadata": {},
   "outputs": [
    {
     "name": "stdout",
     "output_type": "stream",
     "text": [
      "10\n"
     ]
    }
   ],
   "source": [
    "a = 10\n",
    "print(a)"
   ]
  },
  {
   "cell_type": "markdown",
   "id": "662f61c5-dd28-4a68-82c1-23e777030f72",
   "metadata": {},
   "source": [
    "# Input functions "
   ]
  },
  {
   "cell_type": "code",
   "execution_count": 6,
   "id": "ee9634bd-5350-43a4-aaba-477b53f32a26",
   "metadata": {},
   "outputs": [
    {
     "name": "stdin",
     "output_type": "stream",
     "text": [
      "Enter your name: saransh\n"
     ]
    },
    {
     "name": "stdout",
     "output_type": "stream",
     "text": [
      "saransh\n"
     ]
    }
   ],
   "source": [
    "name = input(\"Enter your name:\")\n",
    "print(name)"
   ]
  },
  {
   "cell_type": "code",
   "execution_count": 12,
   "id": "fc1319f4-c66a-4ff8-b9f9-52ead47ed945",
   "metadata": {},
   "outputs": [
    {
     "name": "stdin",
     "output_type": "stream",
     "text": [
      "Enter your age: 23\n"
     ]
    },
    {
     "name": "stdout",
     "output_type": "stream",
     "text": [
      "23\n"
     ]
    }
   ],
   "source": [
    "Age = int(input(\"Enter your age:\"))\n",
    "print(Age)"
   ]
  },
  {
   "cell_type": "code",
   "execution_count": 9,
   "id": "ff6635e3-b2ef-49a3-8469-980330f704ea",
   "metadata": {},
   "outputs": [
    {
     "name": "stdin",
     "output_type": "stream",
     "text": [
      "Length of Box 3.8\n"
     ]
    },
    {
     "name": "stdout",
     "output_type": "stream",
     "text": [
      "3.8\n"
     ]
    }
   ],
   "source": [
    "length = float(input(\"Length of Box\"))\n",
    "print(length)"
   ]
  },
  {
   "cell_type": "code",
   "execution_count": 15,
   "id": "1bfef391-9f3e-44c4-95e7-da2a24d4affe",
   "metadata": {},
   "outputs": [
    {
     "name": "stdin",
     "output_type": "stream",
     "text": [
      "Enter the equation 34+34%23\n"
     ]
    },
    {
     "name": "stdout",
     "output_type": "stream",
     "text": [
      "45\n"
     ]
    }
   ],
   "source": [
    "Expression = eval(input(\"Enter the equation\"))\n",
    "print(Expression)"
   ]
  },
  {
   "cell_type": "code",
   "execution_count": 16,
   "id": "0ebeaae2-8e6a-4862-b953-cb1420889e6f",
   "metadata": {},
   "outputs": [],
   "source": [
    "#print statements"
   ]
  },
  {
   "cell_type": "code",
   "execution_count": 17,
   "id": "898a4cab-f687-4a05-8946-6e8c229b41a6",
   "metadata": {},
   "outputs": [],
   "source": [
    "# none"
   ]
  },
  {
   "cell_type": "code",
   "execution_count": 18,
   "id": "2675b1fc-8811-4da5-98aa-661b0fdadbfc",
   "metadata": {},
   "outputs": [
    {
     "name": "stdout",
     "output_type": "stream",
     "text": [
      "5\n"
     ]
    }
   ],
   "source": [
    "a = print(5)\n"
   ]
  },
  {
   "cell_type": "code",
   "execution_count": 19,
   "id": "e8c1b60c-93cf-43d3-9fc6-3a9fdbe1ff07",
   "metadata": {},
   "outputs": [],
   "source": [
    "a"
   ]
  },
  {
   "cell_type": "code",
   "execution_count": 20,
   "id": "b5c2adab-49bf-4735-905e-88b7ea6329c7",
   "metadata": {},
   "outputs": [
    {
     "data": {
      "text/plain": [
       "NoneType"
      ]
     },
     "execution_count": 20,
     "metadata": {},
     "output_type": "execute_result"
    }
   ],
   "source": [
    "type(a)"
   ]
  },
  {
   "cell_type": "code",
   "execution_count": 21,
   "id": "dd939602-38d5-4a0f-805a-6490b2383d18",
   "metadata": {},
   "outputs": [],
   "source": [
    "# usin seperate  function"
   ]
  },
  {
   "cell_type": "code",
   "execution_count": 22,
   "id": "9b7aaa5b-a27e-4dc5-9c4f-17777d2e482a",
   "metadata": {},
   "outputs": [
    {
     "name": "stdout",
     "output_type": "stream",
     "text": [
      "5 3 saransh gautam\n"
     ]
    }
   ],
   "source": [
    "print(5,3,\"saransh\",\"gautam\")"
   ]
  },
  {
   "cell_type": "code",
   "execution_count": 23,
   "id": "942ea677-383c-445f-bd2d-858910d9b9fb",
   "metadata": {},
   "outputs": [
    {
     "name": "stdout",
     "output_type": "stream",
     "text": [
      "5*3*saransh*gautam\n"
     ]
    }
   ],
   "source": [
    "print(5,3,\"saransh\",\"gautam\",sep =\"*\")"
   ]
  },
  {
   "cell_type": "code",
   "execution_count": 24,
   "id": "8d1ba5ba-857e-4368-b45e-00fb3ac5937b",
   "metadata": {},
   "outputs": [
    {
     "name": "stdout",
     "output_type": "stream",
     "text": [
      "5-3-saransh-gautam\n"
     ]
    }
   ],
   "source": [
    "print(5,3,\"saransh\",\"gautam\",sep=\"-\")"
   ]
  },
  {
   "cell_type": "code",
   "execution_count": 25,
   "id": "74aed6d6-3a9b-4629-bb22-3afcf2bc093d",
   "metadata": {},
   "outputs": [],
   "source": [
    "# end function"
   ]
  },
  {
   "cell_type": "code",
   "execution_count": 26,
   "id": "48fe2ea3-7d8c-4d55-8301-ddc2193f7fdd",
   "metadata": {},
   "outputs": [
    {
     "name": "stdout",
     "output_type": "stream",
     "text": [
      "80 90 100\n",
      "70\n",
      "60\n"
     ]
    }
   ],
   "source": [
    "print(80,90,100)\n",
    "print(70)\n",
    "print(60)"
   ]
  },
  {
   "cell_type": "code",
   "execution_count": 28,
   "id": "6d225c6f-5eb8-4b24-9394-6f4fe56ec926",
   "metadata": {},
   "outputs": [
    {
     "name": "stdout",
     "output_type": "stream",
     "text": [
      "80 90 100*70\n",
      "60\n"
     ]
    }
   ],
   "source": [
    "print(80,90,100,end = \"*\")\n",
    "print(70)\n",
    "print(60)"
   ]
  },
  {
   "cell_type": "code",
   "execution_count": 29,
   "id": "5962e375-2071-4561-b00a-c9c12dddc0e3",
   "metadata": {},
   "outputs": [],
   "source": [
    "#\\n"
   ]
  },
  {
   "cell_type": "code",
   "execution_count": 30,
   "id": "ac5e53af-b35a-4666-8d17-30a27a5bbb45",
   "metadata": {},
   "outputs": [
    {
     "name": "stdout",
     "output_type": "stream",
     "text": [
      "saransh\n",
      "gautam\n"
     ]
    }
   ],
   "source": [
    "a = \"saransh\\ngautam\"\n",
    "print(a)"
   ]
  },
  {
   "cell_type": "code",
   "execution_count": 45,
   "id": "6049c425-3061-4fb7-ba60-5e8a38e725de",
   "metadata": {},
   "outputs": [],
   "source": [
    "#\\t-tab   # escape charaters"
   ]
  },
  {
   "cell_type": "code",
   "execution_count": 46,
   "id": "2719defc-4e5d-430c-b9b5-36e02c6a13e8",
   "metadata": {},
   "outputs": [
    {
     "name": "stdout",
     "output_type": "stream",
     "text": [
      "saransh \tgautam\n"
     ]
    }
   ],
   "source": [
    "a = \"saransh \\tgautam\"\n",
    "print(a)"
   ]
  },
  {
   "cell_type": "code",
   "execution_count": 47,
   "id": "aa7edd76-8d11-4684-8bc2-a90784103cc9",
   "metadata": {},
   "outputs": [],
   "source": [
    "# help()function"
   ]
  },
  {
   "cell_type": "code",
   "execution_count": 48,
   "id": "a61c2fb5-1730-4c65-8cbb-fe93aed3404e",
   "metadata": {},
   "outputs": [
    {
     "name": "stdout",
     "output_type": "stream",
     "text": [
      "Help on built-in function print in module builtins:\n",
      "\n",
      "print(*args, sep=' ', end='\\n', file=None, flush=False)\n",
      "    Prints the values to a stream, or to sys.stdout by default.\n",
      "\n",
      "    sep\n",
      "      string inserted between values, default a space.\n",
      "    end\n",
      "      string appended after the last value, default a newline.\n",
      "    file\n",
      "      a file-like object (stream); defaults to the current sys.stdout.\n",
      "    flush\n",
      "      whether to forcibly flush the stream.\n",
      "\n"
     ]
    }
   ],
   "source": [
    "help(print)"
   ]
  },
  {
   "cell_type": "code",
   "execution_count": 49,
   "id": "b689b888-42eb-4338-9989-846895427b47",
   "metadata": {},
   "outputs": [
    {
     "name": "stdout",
     "output_type": "stream",
     "text": [
      "Help on method raw_input in module ipykernel.kernelbase:\n",
      "\n",
      "raw_input(prompt='') method of ipykernel.ipkernel.IPythonKernel instance\n",
      "    Forward raw_input to frontends\n",
      "\n",
      "    Raises\n",
      "    ------\n",
      "    StdinNotImplementedError if active frontend doesn't support stdin.\n",
      "\n"
     ]
    }
   ],
   "source": [
    "help(input)"
   ]
  },
  {
   "cell_type": "code",
   "execution_count": 56,
   "id": "5ff606f7-a262-441d-80b8-f546ac198232",
   "metadata": {},
   "outputs": [],
   "source": [
    "#0  or 1bit\n"
   ]
  },
  {
   "cell_type": "code",
   "execution_count": 62,
   "id": "27192192-2af2-497e-b3e0-0eb5d46d5903",
   "metadata": {},
   "outputs": [],
   "source": [
    "#1 byte = 8 bits"
   ]
  },
  {
   "cell_type": "code",
   "execution_count": 65,
   "id": "cd4fdf86-e687-4211-8ea3-c6d51ba5bbf8",
   "metadata": {},
   "outputs": [],
   "source": [
    "#1killobyte = 1024 bytes"
   ]
  },
  {
   "cell_type": "code",
   "execution_count": 66,
   "id": "651d6b91-1aab-4c4c-810a-6f333503562b",
   "metadata": {},
   "outputs": [],
   "source": [
    "#1Megabyte = 1024 kb"
   ]
  },
  {
   "cell_type": "code",
   "execution_count": 67,
   "id": "8c40aca1-ac54-4616-906f-12ae59e86dc0",
   "metadata": {},
   "outputs": [],
   "source": [
    "#1Gegabyte = 1024Mb"
   ]
  },
  {
   "cell_type": "code",
   "execution_count": 68,
   "id": "8e6bc544-3bb6-4760-ae8a-4d799ea41784",
   "metadata": {},
   "outputs": [],
   "source": [
    "#1TeraByte = 1024GB"
   ]
  },
  {
   "cell_type": "code",
   "execution_count": 69,
   "id": "c706e5a4-b624-4eef-8907-ad29b8ce67cc",
   "metadata": {},
   "outputs": [],
   "source": [
    "#1Petabyte = 1024TB  "
   ]
  },
  {
   "cell_type": "code",
   "execution_count": null,
   "id": "e4158027-579f-44fe-a1ac-1a96bf755213",
   "metadata": {},
   "outputs": [],
   "source": []
  },
  {
   "cell_type": "code",
   "execution_count": null,
   "id": "4a92b659-fb87-47a6-819d-18556fb2f6de",
   "metadata": {},
   "outputs": [],
   "source": []
  }
 ],
 "metadata": {
  "kernelspec": {
   "display_name": "Python 3 (ipykernel)",
   "language": "python",
   "name": "python3"
  },
  "language_info": {
   "codemirror_mode": {
    "name": "ipython",
    "version": 3
   },
   "file_extension": ".py",
   "mimetype": "text/x-python",
   "name": "python",
   "nbconvert_exporter": "python",
   "pygments_lexer": "ipython3",
   "version": "3.13.5"
  }
 },
 "nbformat": 4,
 "nbformat_minor": 5
}
