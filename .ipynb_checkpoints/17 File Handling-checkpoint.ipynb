{
 "cells": [
  {
   "cell_type": "markdown",
   "id": "2f384714-7340-403b-a8ee-2057deaa9f5f",
   "metadata": {},
   "source": [
    "# File Handling"
   ]
  },
  {
   "cell_type": "code",
   "execution_count": 7,
   "id": "ad53f52b-53a7-48e3-a7c5-20d786f04f2a",
   "metadata": {},
   "outputs": [],
   "source": [
    "myfile = open(\"netmax.txt\",\"r\")"
   ]
  },
  {
   "cell_type": "code",
   "execution_count": 8,
   "id": "37b14927-6fd7-407a-b171-f38d9affffe9",
   "metadata": {},
   "outputs": [
    {
     "name": "stdout",
     "output_type": "stream",
     "text": [
      "Hello saransh.\n",
      "\n"
     ]
    }
   ],
   "source": [
    "print(myfile.readline())"
   ]
  },
  {
   "cell_type": "code",
   "execution_count": 9,
   "id": "7aaa0752-0d2b-45e6-ba8f-2d849c18163f",
   "metadata": {},
   "outputs": [
    {
     "name": "stdout",
     "output_type": "stream",
     "text": [
      "Your are Smart.\n",
      "You will become engineer one day.\n"
     ]
    }
   ],
   "source": [
    "print(myfile.read())"
   ]
  },
  {
   "cell_type": "code",
   "execution_count": 10,
   "id": "752bcc52-d1fe-4afd-8a5e-b8487ae9689c",
   "metadata": {},
   "outputs": [],
   "source": [
    "myfile.close()"
   ]
  },
  {
   "cell_type": "code",
   "execution_count": 22,
   "id": "7996b9da-7a2a-44a1-a173-61c567806bea",
   "metadata": {},
   "outputs": [
    {
     "name": "stdout",
     "output_type": "stream",
     "text": [
      "Hello saransh.\n",
      "Your are Smart.\n",
      "You will become engineer one day.\n"
     ]
    }
   ],
   "source": [
    "try:\n",
    "    file = open(\"netmax.txt\",\"r\")\n",
    "    content = file.read()\n",
    "    print(content)\n",
    "except:\n",
    "    print(\"toba toba\")\n",
    "finally:\n",
    "    file.close()"
   ]
  },
  {
   "cell_type": "code",
   "execution_count": 23,
   "id": "4bd52e45-44db-4205-8d21-a0609ae299cb",
   "metadata": {},
   "outputs": [
    {
     "name": "stdout",
     "output_type": "stream",
     "text": [
      "Hello saransh.\n",
      "Your are Smart.\n",
      "You will become engineer one day.\n"
     ]
    }
   ],
   "source": [
    "with open(\"netmax.txt\",\"r\") as file:\n",
    "    print(file.read())"
   ]
  },
  {
   "cell_type": "code",
   "execution_count": 24,
   "id": "9dd6d8da-f71e-4111-93c0-915c9a92b36a",
   "metadata": {},
   "outputs": [
    {
     "name": "stdout",
     "output_type": "stream",
     "text": [
      "7\n"
     ]
    }
   ],
   "source": [
    "with open (\"customer.txt\",\"a\") as file:\n",
    "    print(file.write(\"saransh\"))"
   ]
  },
  {
   "cell_type": "code",
   "execution_count": 25,
   "id": "153abe54-5e18-4b5c-b7f9-cb7ab9084c42",
   "metadata": {},
   "outputs": [
    {
     "name": "stdout",
     "output_type": "stream",
     "text": [
      "ssaranshsaranshsaranshsaransh\n"
     ]
    }
   ],
   "source": [
    "with open (\"customer.txt\",\"r\") as file:\n",
    "    print(file.read())"
   ]
  },
  {
   "cell_type": "code",
   "execution_count": null,
   "id": "51fc5bf2-9a3b-40b8-8465-ef3ceff0be2c",
   "metadata": {},
   "outputs": [],
   "source": []
  }
 ],
 "metadata": {
  "kernelspec": {
   "display_name": "Python 3 (ipykernel)",
   "language": "python",
   "name": "python3"
  },
  "language_info": {
   "codemirror_mode": {
    "name": "ipython",
    "version": 3
   },
   "file_extension": ".py",
   "mimetype": "text/x-python",
   "name": "python",
   "nbconvert_exporter": "python",
   "pygments_lexer": "ipython3",
   "version": "3.13.5"
  }
 },
 "nbformat": 4,
 "nbformat_minor": 5
}
