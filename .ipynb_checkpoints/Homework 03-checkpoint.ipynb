{
 "cells": [
  {
   "cell_type": "code",
   "execution_count": 15,
   "id": "98aca9ae-b5a4-4bc1-9ec1-b12c851aa1e3",
   "metadata": {},
   "outputs": [],
   "source": [
    "from IPython.display import clear_output"
   ]
  },
  {
   "cell_type": "code",
   "execution_count": 16,
   "id": "6735d6bb-6432-41a4-954c-e11b02818eff",
   "metadata": {},
   "outputs": [
    {
     "name": "stdout",
     "output_type": "stream",
     "text": [
      "['x', 'x', 'x', 'x', 'x', 'x', 'x', 'x', 'x', 'x']\n"
     ]
    }
   ],
   "source": [
    "li = [\"x\"]*10\n",
    "print(li)"
   ]
  },
  {
   "cell_type": "code",
   "execution_count": 17,
   "id": "939f814f-cbeb-4293-b9e3-905935d323c0",
   "metadata": {},
   "outputs": [],
   "source": [
    "# display"
   ]
  },
  {
   "cell_type": "code",
   "execution_count": 18,
   "id": "74a35499-6a60-44e8-8002-386377c28524",
   "metadata": {},
   "outputs": [],
   "source": [
    "def display():\n",
    "    print(li[7], \"|\" ,li[8], \"|\" ,li[9])\n",
    "    print(\"---------\")\n",
    "    print(li[4], \"|\" ,li[5], \"|\" ,li[6])\n",
    "    print(\"---------\")\n",
    "    print(li[1], \"|\" ,li[2] ,\"|\" ,li[3])\n",
    "    "
   ]
  },
  {
   "cell_type": "code",
   "execution_count": 19,
   "id": "4bfeee1b-7aab-435e-80da-7065bb59b116",
   "metadata": {},
   "outputs": [],
   "source": [
    "#position and marker\n",
    "li[7] = \"o\"\n",
    "li[5] = \"o\"\n",
    "li[3] = \"o\""
   ]
  },
  {
   "cell_type": "code",
   "execution_count": 20,
   "id": "74555581-d73f-4921-8766-2dc4978f1afb",
   "metadata": {},
   "outputs": [
    {
     "name": "stdout",
     "output_type": "stream",
     "text": [
      "o | x | x\n",
      "---------\n",
      "x | o | x\n",
      "---------\n",
      "x | x | o\n"
     ]
    }
   ],
   "source": [
    "display()"
   ]
  },
  {
   "cell_type": "code",
   "execution_count": 21,
   "id": "a25274f2-f88c-4fbe-9158-774a692d4038",
   "metadata": {},
   "outputs": [],
   "source": [
    "# put marker"
   ]
  },
  {
   "cell_type": "code",
   "execution_count": 22,
   "id": "136591d3-b361-4a4a-816e-48caf7f63c3c",
   "metadata": {},
   "outputs": [],
   "source": [
    "def put_marker(position,marker):\n",
    "    li[position] = marker"
   ]
  },
  {
   "cell_type": "code",
   "execution_count": 23,
   "id": "f77435b4-cde4-459b-978f-61059246969c",
   "metadata": {},
   "outputs": [],
   "source": [
    "put_marker(9,\"Y\")"
   ]
  },
  {
   "cell_type": "code",
   "execution_count": 24,
   "id": "5c02e669-7d67-47e5-aa73-4b5936a6f223",
   "metadata": {},
   "outputs": [
    {
     "name": "stdout",
     "output_type": "stream",
     "text": [
      "o | x | Y\n",
      "---------\n",
      "x | o | x\n",
      "---------\n",
      "x | x | o\n"
     ]
    }
   ],
   "source": [
    "display()"
   ]
  },
  {
   "cell_type": "code",
   "execution_count": 48,
   "id": "c579a524-49ed-4540-bf3d-379ff3b2b94e",
   "metadata": {},
   "outputs": [],
   "source": [
    "position = None"
   ]
  },
  {
   "cell_type": "code",
   "execution_count": 49,
   "id": "2ce03190-5db1-4341-805a-b398cfffe77d",
   "metadata": {},
   "outputs": [
    {
     "name": "stdin",
     "output_type": "stream",
     "text": [
      "Enter a number: 9\n"
     ]
    }
   ],
   "source": [
    "while not position:\n",
    "    try:\n",
    "        position = int(input(\"Enter a number:\"))\n",
    "    except ValueError:\n",
    "        print(\"Please provide a number\")\n",
    "        "
   ]
  },
  {
   "cell_type": "code",
   "execution_count": 27,
   "id": "9227ef61-8813-4a04-8419-955eea0041a7",
   "metadata": {},
   "outputs": [],
   "source": [
    "# empty positions"
   ]
  },
  {
   "cell_type": "code",
   "execution_count": 45,
   "id": "521455c9-7396-4188-b492-c01ce6f11e37",
   "metadata": {},
   "outputs": [],
   "source": [
    "def empty_positions():\n",
    "    ans = []\n",
    "    for i in range(1,len(li)):\n",
    "        if li[i] == \"\":\n",
    "            ans.append(i)\n",
    "    return ans"
   ]
  },
  {
   "cell_type": "code",
   "execution_count": 46,
   "id": "db5f4c75-9b05-48d2-9896-21ad30cba0cc",
   "metadata": {},
   "outputs": [
    {
     "data": {
      "text/plain": [
       "[]"
      ]
     },
     "execution_count": 46,
     "metadata": {},
     "output_type": "execute_result"
    }
   ],
   "source": [
    "empty_positions()"
   ]
  },
  {
   "cell_type": "code",
   "execution_count": 30,
   "id": "fb789267-0e5c-40c0-92ab-fee2aa839cba",
   "metadata": {},
   "outputs": [],
   "source": [
    "def take_position():\n",
    "    position = None\n",
    "    available = empty_positions()\n",
    "    while position is None:\n",
    "        try:\n",
    "            position = int(input(f\"please choose among {available}\"))\n",
    "        except ValueError:\n",
    "            print(f\"provide a number {available}\")\n",
    "        else:\n",
    "            if position in available:\n",
    "                return position\n",
    "            else:\n",
    "                print(f\"please choose the among {available}\")\n"
   ]
  },
  {
   "cell_type": "code",
   "execution_count": 31,
   "id": "c92a72ea-31ef-4e76-8978-6aa3084d9f0d",
   "metadata": {},
   "outputs": [
    {
     "name": "stdin",
     "output_type": "stream",
     "text": [
      "please choose among [] 3\n"
     ]
    },
    {
     "name": "stdout",
     "output_type": "stream",
     "text": [
      "please choose the among []\n"
     ]
    }
   ],
   "source": [
    "take_position()"
   ]
  },
  {
   "cell_type": "code",
   "execution_count": 32,
   "id": "ec14239c-694b-42e6-a89e-4a4967102d52",
   "metadata": {},
   "outputs": [],
   "source": [
    "#Board full"
   ]
  },
  {
   "cell_type": "code",
   "execution_count": 33,
   "id": "98554dc5-9912-4bfb-abe2-6da7706ff885",
   "metadata": {},
   "outputs": [],
   "source": [
    "def board_full():\n",
    "    if len(empty_positions()) == 0:\n",
    "        return True\n",
    "    else:\n",
    "        return False"
   ]
  },
  {
   "cell_type": "code",
   "execution_count": 34,
   "id": "07fd7174-f5cc-4cbf-8a39-d91a5619fdcd",
   "metadata": {},
   "outputs": [
    {
     "data": {
      "text/plain": [
       "True"
      ]
     },
     "execution_count": 34,
     "metadata": {},
     "output_type": "execute_result"
    }
   ],
   "source": [
    "board_full()"
   ]
  },
  {
   "cell_type": "code",
   "execution_count": 35,
   "id": "9416f824-9c2e-4401-9fec-384f969d569f",
   "metadata": {},
   "outputs": [],
   "source": [
    "# change_marker   x to o and o to x"
   ]
  },
  {
   "cell_type": "code",
   "execution_count": 36,
   "id": "52631561-7338-4ddf-8f83-0531c06a0701",
   "metadata": {},
   "outputs": [],
   "source": [
    "def change_marker(marker):\n",
    "    if marker == \"O\":\n",
    "        return \"X\"\n",
    "    else:\n",
    "        return \"O\""
   ]
  },
  {
   "cell_type": "code",
   "execution_count": 37,
   "id": "180bdb6b-ddf3-4c64-91a9-e48952664d52",
   "metadata": {},
   "outputs": [
    {
     "data": {
      "text/plain": [
       "'O'"
      ]
     },
     "execution_count": 37,
     "metadata": {},
     "output_type": "execute_result"
    }
   ],
   "source": [
    "change_marker(\"o\")"
   ]
  },
  {
   "cell_type": "code",
   "execution_count": 38,
   "id": "42c5b953-59a3-48c3-9ab0-dd8eacb61cb5",
   "metadata": {},
   "outputs": [],
   "source": [
    "def check_win():\n",
    "    if (li[7] == li[8] == li[9] != \" \") or \\\n",
    "    (li[4] == li[5] == li[6] != \" \") or \\\n",
    "    (li[1] == li[2] == li[3] != \" \") or \\\n",
    "    (li[7] == li[1] == li[4] != \" \") or \\\n",
    "    (li[8] == li[2] == li[5] != \" \") or \\\n",
    "    (li[9] == li[3] == li[6] != \" \") or \\\n",
    "    (li[7] == li[5] == li[3] != \" \") or \\\n",
    "    (li[1] == li[5] == li[9] != \" \"):\n",
    "        return True\n",
    "    else:\n",
    "        return False\n",
    "    "
   ]
  },
  {
   "cell_type": "code",
   "execution_count": 39,
   "id": "82782c71-511f-4952-969c-104bcd2772d9",
   "metadata": {},
   "outputs": [
    {
     "data": {
      "text/plain": [
       "True"
      ]
     },
     "execution_count": 39,
     "metadata": {},
     "output_type": "execute_result"
    }
   ],
   "source": [
    "check_win()"
   ]
  },
  {
   "cell_type": "code",
   "execution_count": 40,
   "id": "b440cd5d-22fe-4e5b-8621-12e1ea327686",
   "metadata": {},
   "outputs": [],
   "source": [
    "# final conclusion:"
   ]
  },
  {
   "cell_type": "code",
   "execution_count": 42,
   "id": "b1a867d6-60ff-4fa8-bab0-fa451e196deb",
   "metadata": {},
   "outputs": [],
   "source": [
    "marker = \"O\""
   ]
  },
  {
   "cell_type": "code",
   "execution_count": 1,
   "id": "851fed37-65d0-429d-90b1-872e2f4c182c",
   "metadata": {},
   "outputs": [
    {
     "ename": "NameError",
     "evalue": "name 'take_position' is not defined",
     "output_type": "error",
     "traceback": [
      "\u001b[1;31m---------------------------------------------------------------------------\u001b[0m",
      "\u001b[1;31mNameError\u001b[0m                                 Traceback (most recent call last)",
      "Cell \u001b[1;32mIn[1], line 5\u001b[0m\n\u001b[0;32m      3\u001b[0m \u001b[38;5;28;01mwhile\u001b[39;00m game:\n\u001b[0;32m      4\u001b[0m     display()\n\u001b[1;32m----> 5\u001b[0m     position \u001b[38;5;241m=\u001b[39m take_position()\n\u001b[0;32m      6\u001b[0m     put_marker(position,marker)\n\u001b[0;32m      7\u001b[0m     clear_output\n",
      "\u001b[1;31mNameError\u001b[0m: name 'take_position' is not defined"
     ]
    }
   ],
   "source": [
    "li = [\" \"]*10\n",
    "game = True\n",
    "while game:\n",
    "    display()\n",
    "    position = take_position()\n",
    "    put_marker(position,marker)\n",
    "    clear_output\n",
    "    display()\n",
    "    if check_win():\n",
    "        print(f\"congratulations {marker} won the game\")\n",
    "        game = False           #agr glti se code run ho jayeg to bta de di code nhi chlega\n",
    "        break\n",
    "    elif board_full():\n",
    "        print(f\"board is full, Do you want to play next game\")\n",
    "        game = False\n",
    "        break\n",
    "    else:\n",
    "        marker = change_marker(marker)"
   ]
  },
  {
   "cell_type": "code",
   "execution_count": 2,
   "id": "76bef98f-e14d-4727-9393-59bfa1308d9f",
   "metadata": {},
   "outputs": [],
   "source": [
    "# recursion"
   ]
  },
  {
   "cell_type": "code",
   "execution_count": 8,
   "id": "9b3b22d8-7470-4e63-a8af-c6d4c2ec18c8",
   "metadata": {},
   "outputs": [],
   "source": [
    "def factorial(n):\n",
    "    print(n,n-1)\n",
    "    if n == 0 or n == 1:\n",
    "        return 1\n",
    "    return n*factorial(n-1)"
   ]
  },
  {
   "cell_type": "code",
   "execution_count": 9,
   "id": "5536dc7c-e514-49f5-a5c4-9cb2fa27d33e",
   "metadata": {},
   "outputs": [
    {
     "name": "stdout",
     "output_type": "stream",
     "text": [
      "5 4\n",
      "4 3\n",
      "3 2\n",
      "2 1\n",
      "1 0\n"
     ]
    },
    {
     "data": {
      "text/plain": [
       "120"
      ]
     },
     "execution_count": 9,
     "metadata": {},
     "output_type": "execute_result"
    }
   ],
   "source": [
    "factorial(5)"
   ]
  },
  {
   "cell_type": "code",
   "execution_count": 11,
   "id": "0427000d-3e0d-4150-861a-83724cb45f6d",
   "metadata": {},
   "outputs": [],
   "source": [
    "def factorial(n):\n",
    "    if n == 0 or n == 1:\n",
    "        return 1\n",
    "    sub = n*factorial(n-1)\n",
    "    return sub"
   ]
  },
  {
   "cell_type": "code",
   "execution_count": 12,
   "id": "4a8dce89-2864-4614-aa2c-40b8e3c12fe0",
   "metadata": {},
   "outputs": [
    {
     "data": {
      "text/plain": [
       "120"
      ]
     },
     "execution_count": 12,
     "metadata": {},
     "output_type": "execute_result"
    }
   ],
   "source": [
    "factorial(5)"
   ]
  },
  {
   "cell_type": "code",
   "execution_count": 22,
   "id": "5cd1676c-10f7-4a0f-bd63-70bbec2af68d",
   "metadata": {},
   "outputs": [],
   "source": [
    "li = [2,3,4,5,6,7]"
   ]
  },
  {
   "cell_type": "code",
   "execution_count": 35,
   "id": "e2efe499-9dc8-47d1-b9a6-e7e0f6716d3a",
   "metadata": {},
   "outputs": [],
   "source": [
    "def add_list(li):\n",
    "    print(li)\n",
    "    if type(li) is int:\n",
    "        return li\n",
    "    elif len(li) == 0:\n",
    "        return 0\n",
    "    return add_list(li[0])+add_list(li[1:])"
   ]
  },
  {
   "cell_type": "code",
   "execution_count": 36,
   "id": "0f5a0bca-2754-4738-aad6-b97d47f14a13",
   "metadata": {},
   "outputs": [
    {
     "name": "stdout",
     "output_type": "stream",
     "text": [
      "[2, 3, 4, 5, 6, 7]\n",
      "2\n",
      "[3, 4, 5, 6, 7]\n",
      "3\n",
      "[4, 5, 6, 7]\n",
      "4\n",
      "[5, 6, 7]\n",
      "5\n",
      "[6, 7]\n",
      "6\n",
      "[7]\n",
      "7\n",
      "[]\n"
     ]
    },
    {
     "data": {
      "text/plain": [
       "27"
      ]
     },
     "execution_count": 36,
     "metadata": {},
     "output_type": "execute_result"
    }
   ],
   "source": [
    "add_list(li)"
   ]
  },
  {
   "cell_type": "code",
   "execution_count": 50,
   "id": "bbc3ffe9-6d60-4b68-b02e-547e4167a26c",
   "metadata": {},
   "outputs": [],
   "source": [
    "def sum_of_list(l):\n",
    "    print(l)\n",
    "    if type(l) is int:\n",
    "        return l\n",
    "    elif len(l) == 0:\n",
    "        return 0\n",
    "    return sum_of_list(l[0]) + sum_of_list(l[1:])\n",
    "    "
   ]
  },
  {
   "cell_type": "code",
   "execution_count": 51,
   "id": "164e259e-54d0-4967-9c6f-defafb22cad2",
   "metadata": {},
   "outputs": [
    {
     "name": "stdout",
     "output_type": "stream",
     "text": [
      "[1, 2, 3, 4, [5, 6, 7], 8, 9, 10]\n",
      "1\n",
      "[2, 3, 4, [5, 6, 7], 8, 9, 10]\n",
      "2\n",
      "[3, 4, [5, 6, 7], 8, 9, 10]\n",
      "3\n",
      "[4, [5, 6, 7], 8, 9, 10]\n",
      "4\n",
      "[[5, 6, 7], 8, 9, 10]\n",
      "[5, 6, 7]\n",
      "5\n",
      "[6, 7]\n",
      "6\n",
      "[7]\n",
      "7\n",
      "[]\n",
      "[8, 9, 10]\n",
      "8\n",
      "[9, 10]\n",
      "9\n",
      "[10]\n",
      "10\n",
      "[]\n"
     ]
    },
    {
     "data": {
      "text/plain": [
       "55"
      ]
     },
     "execution_count": 51,
     "metadata": {},
     "output_type": "execute_result"
    }
   ],
   "source": [
    "sum_of_list([1,2,3,4,[5,6,7],8,9,10])"
   ]
  },
  {
   "cell_type": "code",
   "execution_count": 56,
   "id": "9b1eebab-0730-4f9f-bd92-8cdd53fdaca4",
   "metadata": {},
   "outputs": [],
   "source": [
    "def adding(a):\n",
    "    print(a)\n",
    "    if type(a) is float:\n",
    "        return a\n",
    "    elif len(a) == 0:\n",
    "        return 0\n",
    "    return adding(a[0]) + adding(a[1:])\n",
    "        "
   ]
  },
  {
   "cell_type": "code",
   "execution_count": 58,
   "id": "588d0ef6-48ad-4f1e-81c0-222853957572",
   "metadata": {},
   "outputs": [
    {
     "name": "stdout",
     "output_type": "stream",
     "text": [
      "[1.2, 2.3, 3.3, (2.2, 3.3, 4.4), 7.5, 9.0, 1.0]\n",
      "1.2\n",
      "[2.3, 3.3, (2.2, 3.3, 4.4), 7.5, 9.0, 1.0]\n",
      "2.3\n",
      "[3.3, (2.2, 3.3, 4.4), 7.5, 9.0, 1.0]\n",
      "3.3\n",
      "[(2.2, 3.3, 4.4), 7.5, 9.0, 1.0]\n",
      "(2.2, 3.3, 4.4)\n",
      "2.2\n",
      "(3.3, 4.4)\n",
      "3.3\n",
      "(4.4,)\n",
      "4.4\n",
      "()\n",
      "[7.5, 9.0, 1.0]\n",
      "7.5\n",
      "[9.0, 1.0]\n",
      "9.0\n",
      "[1.0]\n",
      "1.0\n",
      "[]\n"
     ]
    },
    {
     "data": {
      "text/plain": [
       "34.2"
      ]
     },
     "execution_count": 58,
     "metadata": {},
     "output_type": "execute_result"
    }
   ],
   "source": [
    "adding([1.2,2.3,3.3,(2.2,3.3,4.4),7.5 ,9.0 ,1.0])"
   ]
  },
  {
   "cell_type": "code",
   "execution_count": 59,
   "id": "d5a257b3-8204-490e-a9b4-7e96a0bf066c",
   "metadata": {},
   "outputs": [],
   "source": [
    "# class"
   ]
  },
  {
   "cell_type": "code",
   "execution_count": 69,
   "id": "f7a4af4d-4cdf-45d7-8829-e32fbc3a2b82",
   "metadata": {},
   "outputs": [],
   "source": [
    "class car():\n",
    "    tyre = 4\n",
    "\n",
    "    def move():\n",
    "        print(\"i am moving forward\")"
   ]
  },
  {
   "cell_type": "code",
   "execution_count": 70,
   "id": "e787242f-a5b3-46e5-a88f-44150599b7b5",
   "metadata": {},
   "outputs": [
    {
     "data": {
      "text/plain": [
       "4"
      ]
     },
     "execution_count": 70,
     "metadata": {},
     "output_type": "execute_result"
    }
   ],
   "source": [
    "car.tyre"
   ]
  },
  {
   "cell_type": "code",
   "execution_count": 71,
   "id": "1c8f5638-fcf3-4c1f-92b1-bd57f264782e",
   "metadata": {},
   "outputs": [
    {
     "name": "stdout",
     "output_type": "stream",
     "text": [
      "i am moving forward\n"
     ]
    }
   ],
   "source": [
    "car.move()"
   ]
  },
  {
   "cell_type": "code",
   "execution_count": 72,
   "id": "79206a54-d9de-4d2a-8a4c-4837c8df549c",
   "metadata": {},
   "outputs": [],
   "source": [
    "gadi = car()"
   ]
  },
  {
   "cell_type": "code",
   "execution_count": 73,
   "id": "3f58def4-2615-411c-bdc2-db1c2dd81d8d",
   "metadata": {},
   "outputs": [
    {
     "data": {
      "text/plain": [
       "4"
      ]
     },
     "execution_count": 73,
     "metadata": {},
     "output_type": "execute_result"
    }
   ],
   "source": [
    "gadi.tyre"
   ]
  },
  {
   "cell_type": "code",
   "execution_count": 117,
   "id": "6ababba7-7568-4ceb-8c70-6adfe0f8562d",
   "metadata": {},
   "outputs": [],
   "source": [
    "class car():\n",
    "    tyre = 4\n",
    "\n",
    "    def move(self):\n",
    "        print(\"i am  moving forward\")"
   ]
  },
  {
   "cell_type": "code",
   "execution_count": 118,
   "id": "0c5fdc2b-f632-41a5-9710-93700f7621fa",
   "metadata": {},
   "outputs": [],
   "source": [
    "gadi = car()"
   ]
  },
  {
   "cell_type": "code",
   "execution_count": 119,
   "id": "f0479662-91ac-4a5b-b4f4-945c51ac93da",
   "metadata": {},
   "outputs": [
    {
     "data": {
      "text/plain": [
       "4"
      ]
     },
     "execution_count": 119,
     "metadata": {},
     "output_type": "execute_result"
    }
   ],
   "source": [
    "gadi.tyre"
   ]
  },
  {
   "cell_type": "code",
   "execution_count": 120,
   "id": "5181d58b-4786-4673-a73c-ffe87c9ecab4",
   "metadata": {},
   "outputs": [
    {
     "name": "stdout",
     "output_type": "stream",
     "text": [
      "i am  moving forward\n"
     ]
    }
   ],
   "source": [
    "gadi.move()"
   ]
  },
  {
   "cell_type": "code",
   "execution_count": 138,
   "id": "dbf3510a-dbd9-4886-bfa5-ab5e1c891847",
   "metadata": {},
   "outputs": [],
   "source": [
    "class car ():\n",
    "    tyre = 4\n",
    "\n",
    "\n",
    "    def __init__(self,name):\n",
    "        self.name = name\n",
    "\n",
    "    def move(self):\n",
    "        print(f\"i am {self.model} moving forward\")"
   ]
  },
  {
   "cell_type": "code",
   "execution_count": 139,
   "id": "14d1fa5b-dd69-47f3-9622-c4fb2de9e6fd",
   "metadata": {},
   "outputs": [],
   "source": [
    "gadi = car(\"swift\")"
   ]
  },
  {
   "cell_type": "code",
   "execution_count": 140,
   "id": "ca2997fb-757d-4b65-9d08-de643de81595",
   "metadata": {},
   "outputs": [
    {
     "data": {
      "text/plain": [
       "'swift'"
      ]
     },
     "execution_count": 140,
     "metadata": {},
     "output_type": "execute_result"
    }
   ],
   "source": [
    "gadi.name"
   ]
  },
  {
   "cell_type": "code",
   "execution_count": 141,
   "id": "63e1d45d-950e-4645-a56b-9af302bf7230",
   "metadata": {},
   "outputs": [],
   "source": [
    "gadi2 = car(\"scorpio\")"
   ]
  },
  {
   "cell_type": "code",
   "execution_count": 142,
   "id": "f830b030-465b-41d1-974b-62a707b88c51",
   "metadata": {},
   "outputs": [
    {
     "data": {
      "text/plain": [
       "'scorpio'"
      ]
     },
     "execution_count": 142,
     "metadata": {},
     "output_type": "execute_result"
    }
   ],
   "source": [
    "gadi2.name"
   ]
  },
  {
   "cell_type": "code",
   "execution_count": 171,
   "id": "a350fdb0-e3f2-4172-b982-7058bfc2b612",
   "metadata": {},
   "outputs": [],
   "source": [
    "class car():\n",
    "    tyre = 4\n",
    "\n",
    "    def __init__(self,model_name,year):\n",
    "        self.model_name = model_name\n",
    "        self.year = year\n",
    "\n",
    "    def introduction(self):\n",
    "        print(f\"Hello i am {self.model_name} and i was discovered in {self.year}\")\n",
    "\n",
    "    def move(self):\n",
    "        print(f\"i am {self.model_name},moving forward from year {self.year}\")"
   ]
  },
  {
   "cell_type": "code",
   "execution_count": 172,
   "id": "e5d4d08c-e9d2-4f98-9fcf-561091299e3e",
   "metadata": {},
   "outputs": [],
   "source": [
    "gadi = car(\"swift\",2008)"
   ]
  },
  {
   "cell_type": "code",
   "execution_count": 173,
   "id": "d093d5b9-c910-4336-8202-85641ed016b2",
   "metadata": {},
   "outputs": [
    {
     "name": "stdout",
     "output_type": "stream",
     "text": [
      "Hello i am swift and i was discovered in 2008\n"
     ]
    }
   ],
   "source": [
    "gadi.introduction()"
   ]
  },
  {
   "cell_type": "code",
   "execution_count": 174,
   "id": "83b847ab-dc1d-4752-97ac-36a6e1dc170c",
   "metadata": {},
   "outputs": [
    {
     "name": "stdout",
     "output_type": "stream",
     "text": [
      "i am swift,moving forward from year 2008\n"
     ]
    }
   ],
   "source": [
    "gadi.move()"
   ]
  },
  {
   "cell_type": "code",
   "execution_count": null,
   "id": "48b749a0-a357-450c-b3c1-41045c549654",
   "metadata": {},
   "outputs": [],
   "source": []
  },
  {
   "cell_type": "code",
   "execution_count": null,
   "id": "cb52dfca-4ac9-4283-948b-55f9631245ce",
   "metadata": {},
   "outputs": [],
   "source": []
  }
 ],
 "metadata": {
  "kernelspec": {
   "display_name": "Python 3 (ipykernel)",
   "language": "python",
   "name": "python3"
  },
  "language_info": {
   "codemirror_mode": {
    "name": "ipython",
    "version": 3
   },
   "file_extension": ".py",
   "mimetype": "text/x-python",
   "name": "python",
   "nbconvert_exporter": "python",
   "pygments_lexer": "ipython3",
   "version": "3.13.5"
  }
 },
 "nbformat": 4,
 "nbformat_minor": 5
}
