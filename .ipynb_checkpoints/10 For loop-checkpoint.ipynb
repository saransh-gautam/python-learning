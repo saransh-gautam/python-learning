{
 "cells": [
  {
   "cell_type": "code",
   "execution_count": 4,
   "id": "1a932364-520a-4ed4-9ff1-25d1459845a5",
   "metadata": {},
   "outputs": [],
   "source": [
    "# Ulta loop"
   ]
  },
  {
   "cell_type": "code",
   "execution_count": 5,
   "id": "fa386e7c-e50d-4ad5-ab6f-9d6bfbb28e27",
   "metadata": {},
   "outputs": [
    {
     "name": "stdout",
     "output_type": "stream",
     "text": [
      "5\n",
      "4\n",
      "3\n",
      "2\n",
      "1\n",
      "0\n"
     ]
    }
   ],
   "source": [
    "i = 5\n",
    "n = 0\n",
    "while i >= n:\n",
    "    print(i)\n",
    "    i-=1"
   ]
  },
  {
   "cell_type": "code",
   "execution_count": 14,
   "id": "f0a6537e-a16b-4d41-b60f-eb019897be23",
   "metadata": {},
   "outputs": [
    {
     "name": "stdout",
     "output_type": "stream",
     "text": [
      "5 4\n",
      "4 3\n",
      "3 2\n",
      "2 1\n",
      "1 0\n"
     ]
    }
   ],
   "source": [
    "i =5\n",
    "while i:\n",
    "    print(i,i-1)\n",
    "    i-=1"
   ]
  },
  {
   "cell_type": "markdown",
   "id": "86a9e6fb-2c76-4fcf-9090-20aabcdae39d",
   "metadata": {},
   "source": [
    "# set"
   ]
  },
  {
   "cell_type": "code",
   "execution_count": 49,
   "id": "17f77460-95fb-4688-80bd-0a7f4d474185",
   "metadata": {},
   "outputs": [
    {
     "name": "stdout",
     "output_type": "stream",
     "text": [
      "4\n",
      "5\n",
      "6\n",
      "7\n",
      "8\n"
     ]
    }
   ],
   "source": [
    "s = {4,5,6,8,7}\n",
    "for i in s:\n",
    "    print(i)"
   ]
  },
  {
   "cell_type": "markdown",
   "id": "4b05d97a-7c28-4b4f-a935-2b17db81140b",
   "metadata": {},
   "source": [
    "# For loop"
   ]
  },
  {
   "cell_type": "code",
   "execution_count": 44,
   "id": "5b4ad993-89fe-471e-8d2c-0fb826a9cc59",
   "metadata": {},
   "outputs": [
    {
     "name": "stdout",
     "output_type": "stream",
     "text": [
      "Hello saransh\n",
      "Hello akash\n",
      "Hello abhi\n",
      "Hello chintu\n"
     ]
    }
   ],
   "source": [
    "course = [\"saransh\",\"akash\",\"abhi\",\"chintu\"]\n",
    "for person in course:\n",
    "    print(\"Hello\",person)"
   ]
  },
  {
   "cell_type": "code",
   "execution_count": 53,
   "id": "f741ba4d-0c63-416d-8a10-6be73f073b13",
   "metadata": {},
   "outputs": [
    {
     "name": "stdout",
     "output_type": "stream",
     "text": [
      "0\n",
      "2\n",
      "4\n",
      "6\n",
      "8\n"
     ]
    }
   ],
   "source": [
    "for i in range(0,10,2):     # 2 is increament\n",
    "    print(i)"
   ]
  },
  {
   "cell_type": "code",
   "execution_count": 58,
   "id": "461f6401-5f8b-4d72-927a-bdd640c983d9",
   "metadata": {},
   "outputs": [
    {
     "name": "stdout",
     "output_type": "stream",
     "text": [
      "s\n",
      "a\n",
      "r\n",
      "a\n",
      "n\n",
      "s\n",
      "h\n"
     ]
    }
   ],
   "source": [
    "name = \"saransh\"\n",
    "for i in range(len(name)):\n",
    "    print(name[i])"
   ]
  },
  {
   "cell_type": "code",
   "execution_count": 43,
   "id": "04f351c2-cfde-4b30-8d58-89dc5981d2d9",
   "metadata": {},
   "outputs": [
    {
     "name": "stdout",
     "output_type": "stream",
     "text": [
      "hello ['tamatar', 'pyaz', 'aloo', 'bhindi']\n"
     ]
    }
   ],
   "source": [
    "parchi = [\"tamatar\",\"pyaz\",\"aloo\",\"bhindi\"]\n",
    "for i in range(1):\n",
    "    print(\"hello\",parchi)"
   ]
  },
  {
   "cell_type": "code",
   "execution_count": 4,
   "id": "1b4fb416-568f-4f1f-9598-527e241d2690",
   "metadata": {},
   "outputs": [
    {
     "name": "stdin",
     "output_type": "stream",
     "text": [
      "Enter your name 24\n"
     ]
    },
    {
     "name": "stdout",
     "output_type": "stream",
     "text": [
      "24 x 1 = 24\n",
      "24 x 2 = 48\n",
      "24 x 3 = 72\n",
      "24 x 4 = 96\n",
      "24 x 5 = 120\n",
      "24 x 6 = 144\n",
      "24 x 7 = 168\n",
      "24 x 8 = 192\n",
      "24 x 9 = 216\n",
      "24 x 10 = 240\n"
     ]
    }
   ],
   "source": [
    "n = int(input(\"Enter your name\"))\n",
    "for i in range(1,11):\n",
    "    print(n,\"x\",i,\"=\",i*n)"
   ]
  },
  {
   "cell_type": "code",
   "execution_count": 10,
   "id": "8c42680c-2985-4fa4-aa58-0497f0e098ac",
   "metadata": {},
   "outputs": [
    {
     "name": "stdin",
     "output_type": "stream",
     "text": [
      "Enter your name 10\n"
     ]
    },
    {
     "name": "stdout",
     "output_type": "stream",
     "text": [
      "10 / 1 = 0.1\n",
      "10 / 2 = 0.2\n",
      "10 / 3 = 0.3\n",
      "10 / 4 = 0.4\n",
      "10 / 5 = 0.5\n",
      "10 / 6 = 0.6\n",
      "10 / 7 = 0.7\n",
      "10 / 8 = 0.8\n",
      "10 / 9 = 0.9\n",
      "10 / 10 = 1.0\n"
     ]
    }
   ],
   "source": [
    "n = int(input(\"Enter your name\"))\n",
    "for i in range(1,11):\n",
    "    print(n,\"/\",i,\"=\",i/n)"
   ]
  },
  {
   "cell_type": "code",
   "execution_count": 22,
   "id": "2d580590-a39e-42f9-94fd-36d6eeb98153",
   "metadata": {},
   "outputs": [
    {
     "name": "stdout",
     "output_type": "stream",
     "text": [
      "sar\n",
      "las\n",
      "rit\n",
      "hap\n"
     ]
    }
   ],
   "source": [
    "name = [\"saransh\",\"lasan\",\"ritik\",\"happy\"]\n",
    "for i in range(len(name)):\n",
    "    print(name[i][0:3])"
   ]
  },
  {
   "cell_type": "code",
   "execution_count": 32,
   "id": "5162ccac-4831-40f9-858f-c2f5cd9849f9",
   "metadata": {},
   "outputs": [
    {
     "name": "stdout",
     "output_type": "stream",
     "text": [
      "lok\n",
      "kun\n",
      "arj\n",
      "rak\n"
     ]
    }
   ],
   "source": [
    "name = [\"lokesh\", \"kunal\", \"arjun\", \"rakesh\"]\n",
    "for i in range(len(name)):\n",
    "    print(name[i][0:3])\n"
   ]
  },
  {
   "cell_type": "code",
   "execution_count": 36,
   "id": "2ce2638e-bc64-4284-b163-fb827c1d5d26",
   "metadata": {},
   "outputs": [
    {
     "name": "stdin",
     "output_type": "stream",
     "text": [
      "Enter your value 10\n"
     ]
    },
    {
     "name": "stdout",
     "output_type": "stream",
     "text": [
      "10 - 1 = 9\n",
      "10 - 2 = 8\n",
      "10 - 3 = 7\n",
      "10 - 4 = 6\n",
      "10 - 5 = 5\n",
      "10 - 6 = 4\n",
      "10 - 7 = 3\n",
      "10 - 8 = 2\n",
      "10 - 9 = 1\n",
      "10 - 10 = 0\n"
     ]
    }
   ],
   "source": [
    "n = int(input(\"Enter your value\"))\n",
    "for i in range (1,11):\n",
    "    print(n,\"-\",i,\"=\",n-i)"
   ]
  },
  {
   "cell_type": "code",
   "execution_count": 47,
   "id": "ac52b582-824d-4257-88b9-918f3657fb27",
   "metadata": {},
   "outputs": [
    {
     "name": "stdin",
     "output_type": "stream",
     "text": [
      "enter your name: Happy jangra\n"
     ]
    },
    {
     "name": "stdout",
     "output_type": "stream",
     "text": [
      "H\n",
      "a\n",
      "p\n",
      "p\n",
      "y\n",
      " \n",
      "j\n",
      "a\n",
      "n\n",
      "g\n",
      "r\n",
      "a\n"
     ]
    }
   ],
   "source": [
    "n = input(\"enter your name:\")\n",
    "for i in range(len(n)):\n",
    "    print(n[i])"
   ]
  },
  {
   "cell_type": "code",
   "execution_count": null,
   "id": "5ca24033-a5fe-4a7c-8aef-14f986410ada",
   "metadata": {},
   "outputs": [],
   "source": []
  }
 ],
 "metadata": {
  "kernelspec": {
   "display_name": "Python 3 (ipykernel)",
   "language": "python",
   "name": "python3"
  },
  "language_info": {
   "codemirror_mode": {
    "name": "ipython",
    "version": 3
   },
   "file_extension": ".py",
   "mimetype": "text/x-python",
   "name": "python",
   "nbconvert_exporter": "python",
   "pygments_lexer": "ipython3",
   "version": "3.13.5"
  }
 },
 "nbformat": 4,
 "nbformat_minor": 5
}
