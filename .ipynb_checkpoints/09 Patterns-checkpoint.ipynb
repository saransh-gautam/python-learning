{
 "cells": [
  {
   "cell_type": "code",
   "execution_count": 8,
   "id": "7b8b8412-97fd-4a76-92ec-80e2456f91bd",
   "metadata": {},
   "outputs": [
    {
     "name": "stdout",
     "output_type": "stream",
     "text": [
      "01234\n",
      "01234\n",
      "01234\n",
      "01234\n",
      "01234\n"
     ]
    }
   ],
   "source": [
    "i = 0\n",
    "n = 5\n",
    "while i < n:\n",
    "    j = 0\n",
    "    m = 5\n",
    "    while j < m:\n",
    "        print(j,end = \"\")\n",
    "        j+=1\n",
    "\n",
    "    print() # used to enter  a statement( next line mai ana )\n",
    "    i+=1"
   ]
  },
  {
   "cell_type": "code",
   "execution_count": 23,
   "id": "f3c5e562-3f55-463c-a329-56451c8a1c37",
   "metadata": {},
   "outputs": [],
   "source": [
    "# Triangle"
   ]
  },
  {
   "cell_type": "code",
   "execution_count": 4,
   "id": "9e46a806-2195-4f35-beac-20081bfcc60a",
   "metadata": {},
   "outputs": [
    {
     "name": "stdout",
     "output_type": "stream",
     "text": [
      "0\n",
      "11\n",
      "222\n",
      "3333\n",
      "44444\n"
     ]
    }
   ],
   "source": [
    "i = 0\n",
    "n = 5\n",
    "while i < n:\n",
    "    j = 0\n",
    "    while j < i+1:          # using (i) and +1 krne se 0 se shuru hoga\n",
    "        print(i ,end = \"\")    # hum jo mrzi print kra skte hai\n",
    "        j+=1\n",
    "    print()\n",
    "    i+=1"
   ]
  },
  {
   "cell_type": "code",
   "execution_count": 24,
   "id": "b76b8755-3025-41ba-8caa-3494ede0dccb",
   "metadata": {},
   "outputs": [],
   "source": [
    "# ulta triangle"
   ]
  },
  {
   "cell_type": "code",
   "execution_count": 36,
   "id": "75142ab8-db00-43b6-b474-5fd91f070f96",
   "metadata": {},
   "outputs": [
    {
     "name": "stdout",
     "output_type": "stream",
     "text": [
      "44444\n",
      "3333\n",
      "222\n",
      "11\n",
      "0\n"
     ]
    }
   ],
   "source": [
    "i = 0\n",
    "n = 5\n",
    "while i < n:\n",
    "    j = 0\n",
    "    while j < n-i:\n",
    "        print(n-i-1,end =\"\")      # i for row and j for column\n",
    "        j+=1\n",
    "    print()\n",
    "    i+=1"
   ]
  },
  {
   "cell_type": "code",
   "execution_count": 49,
   "id": "1bfd8a15-d88a-40b7-8724-9f0eb83618fd",
   "metadata": {},
   "outputs": [
    {
     "name": "stdout",
     "output_type": "stream",
     "text": [
      "00000\n",
      "1   1\n",
      "2   2\n",
      "3   3\n",
      "44444\n"
     ]
    }
   ],
   "source": [
    "i = 0\n",
    "n = 5\n",
    "while i < n:\n",
    "    j = 0\n",
    "    while j < n:\n",
    "        if i == 0 or i == n-1 or j == 0 or j == n-1:\n",
    "            print(i,end = \"\")\n",
    "        else:\n",
    "            print(\" \",end = \"\")\n",
    "        j+=1\n",
    "    print()\n",
    "    i+=1"
   ]
  },
  {
   "cell_type": "code",
   "execution_count": 77,
   "id": "7bd1ae08-863e-457b-9a1c-9ac84740f2f5",
   "metadata": {},
   "outputs": [
    {
     "name": "stdout",
     "output_type": "stream",
     "text": [
      "*****\n",
      " *****\n",
      "  *****\n",
      "   *****\n",
      "    *****\n"
     ]
    }
   ],
   "source": [
    "i = 0\n",
    "n = 5\n",
    "while i < n:\n",
    "    k = 0\n",
    "    while k < i:\n",
    "        print(\" \",end = \"\")\n",
    "        k+=1\n",
    "    j = 0\n",
    "    while j < n:\n",
    "        print('*',end = \"\")\n",
    "        j+=1\n",
    "    print()\n",
    "    i+=1"
   ]
  },
  {
   "cell_type": "code",
   "execution_count": 75,
   "id": "8bc007af-76e8-458d-b329-ca61c8e7d720",
   "metadata": {},
   "outputs": [
    {
     "name": "stdout",
     "output_type": "stream",
     "text": [
      "     *****\n",
      "    *****\n",
      "   *****\n",
      "  *****\n",
      " *****\n"
     ]
    }
   ],
   "source": [
    "i = 0\n",
    "n = 5\n",
    "while i < n:\n",
    "    k = 0\n",
    "    while k < n-i:\n",
    "        print(\" \",end=\"\")\n",
    "        k+=1\n",
    "    j = 0\n",
    "    while j < n:\n",
    "        print(\"*\", end=\"\")\n",
    "        j+=1\n",
    "    print()\n",
    "    i+=1"
   ]
  },
  {
   "cell_type": "code",
   "execution_count": 112,
   "id": "39a76835-6542-4150-95a3-ecdafd603877",
   "metadata": {},
   "outputs": [
    {
     "name": "stdout",
     "output_type": "stream",
     "text": [
      "     \n",
      "    *\n",
      "   ***\n",
      "  *****\n",
      " *******\n"
     ]
    }
   ],
   "source": [
    "i = 0\n",
    "n = 5\n",
    "while i < n:\n",
    "    k = 0\n",
    "    while k < n-i:        # n-i = 5-0 = 5 means five times zero print()\n",
    "        print(\" \",end = \"\")\n",
    "        k+=1\n",
    "    j = 0\n",
    "    while j < i*2-1:\n",
    "        print(\"*\",end = \"\")\n",
    "        j+=1\n",
    "    print()\n",
    "    i+=1\n",
    "        "
   ]
  },
  {
   "cell_type": "code",
   "execution_count": null,
   "id": "8b4e556b-7ff8-4ca3-84e7-f051fa510cab",
   "metadata": {},
   "outputs": [],
   "source": []
  }
 ],
 "metadata": {
  "kernelspec": {
   "display_name": "Python 3 (ipykernel)",
   "language": "python",
   "name": "python3"
  },
  "language_info": {
   "codemirror_mode": {
    "name": "ipython",
    "version": 3
   },
   "file_extension": ".py",
   "mimetype": "text/x-python",
   "name": "python",
   "nbconvert_exporter": "python",
   "pygments_lexer": "ipython3",
   "version": "3.13.5"
  }
 },
 "nbformat": 4,
 "nbformat_minor": 5
}
