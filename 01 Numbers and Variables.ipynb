{
 "cells": [
  {
   "cell_type": "markdown",
   "id": "41954794-5d56-4393-b8e1-220c411da1eb",
   "metadata": {},
   "source": [
    "# WORKING WITH NUMBERS AND VARIABLES"
   ]
  },
  {
   "cell_type": "code",
   "execution_count": 1,
   "id": "2244b553-7fd1-4d55-8454-8ba44fdc72c4",
   "metadata": {},
   "outputs": [
    {
     "data": {
      "text/plain": [
       "6"
      ]
     },
     "execution_count": 1,
     "metadata": {},
     "output_type": "execute_result"
    }
   ],
   "source": [
    "3*2\n",
    "\n"
   ]
  },
  {
   "cell_type": "code",
   "execution_count": 2,
   "id": "0009d1ed-ef1e-4a83-9fcd-cc53712ceab9",
   "metadata": {},
   "outputs": [
    {
     "data": {
      "text/plain": [
       "4"
      ]
     },
     "execution_count": 2,
     "metadata": {},
     "output_type": "execute_result"
    }
   ],
   "source": [
    "2+2"
   ]
  },
  {
   "cell_type": "code",
   "execution_count": 3,
   "id": "b73bbf87-0b83-4259-b2b7-bddf6b061a26",
   "metadata": {
    "scrolled": true
   },
   "outputs": [
    {
     "data": {
      "text/plain": [
       "16"
      ]
     },
     "execution_count": 3,
     "metadata": {},
     "output_type": "execute_result"
    }
   ],
   "source": [
    "2**4"
   ]
  },
  {
   "cell_type": "code",
   "execution_count": 4,
   "id": "b4c40729-7677-4070-b8b6-b31bf2503aaa",
   "metadata": {},
   "outputs": [],
   "source": [
    "a = 10\n",
    "b = 20"
   ]
  },
  {
   "cell_type": "code",
   "execution_count": 5,
   "id": "05dfc64f-eaf5-481e-b430-a8d5446d94d7",
   "metadata": {},
   "outputs": [
    {
     "name": "stdout",
     "output_type": "stream",
     "text": [
      "30\n"
     ]
    }
   ],
   "source": [
    "c = a + b\n",
    "print(c)"
   ]
  },
  {
   "cell_type": "code",
   "execution_count": null,
   "id": "45a97c36-4067-4c15-9818-d70bffd7daba",
   "metadata": {},
   "outputs": [],
   "source": [
    "name = \"saransh\";\n",
    "print(name)"
   ]
  },
  {
   "cell_type": "code",
   "execution_count": 5,
   "id": "9021d62c-e814-49e5-a36c-1116957d22de",
   "metadata": {},
   "outputs": [
    {
     "name": "stdout",
     "output_type": "stream",
     "text": [
      "saru\n"
     ]
    }
   ],
   "source": [
    "name = \"saru\";\n",
    "print(name)"
   ]
  },
  {
   "cell_type": "code",
   "execution_count": 1,
   "id": "0442a59b-6683-4701-9586-55ffaa8168e4",
   "metadata": {},
   "outputs": [],
   "source": [
    "# user input with int,float,Evaluate."
   ]
  },
  {
   "cell_type": "code",
   "execution_count": 8,
   "id": "c0fed85f-c4d2-4617-a4ec-a1796be0430c",
   "metadata": {},
   "outputs": [
    {
     "name": "stdin",
     "output_type": "stream",
     "text": [
      "Enter your Name: Saransh Gautam\n"
     ]
    },
    {
     "name": "stdout",
     "output_type": "stream",
     "text": [
      "Saransh Gautam\n"
     ]
    }
   ],
   "source": [
    "name = input(\"Enter your Name:\")\n",
    "print(name)"
   ]
  },
  {
   "cell_type": "code",
   "execution_count": 7,
   "id": "8794cd7a-2b01-4dd1-a1d0-dfd560400d11",
   "metadata": {},
   "outputs": [
    {
     "name": "stdin",
     "output_type": "stream",
     "text": [
      "Enter Your Age: 23\n"
     ]
    },
    {
     "name": "stdout",
     "output_type": "stream",
     "text": [
      "23\n"
     ]
    }
   ],
   "source": [
    "age = int(input(\"Enter Your Age:\"))\n",
    "print(age)"
   ]
  },
  {
   "cell_type": "code",
   "execution_count": 10,
   "id": "0ee43e56-dc53-4217-a0bc-bf1d745b8c0a",
   "metadata": {},
   "outputs": [
    {
     "name": "stdin",
     "output_type": "stream",
     "text": [
      "Enter the Length of Box: 1.2\n"
     ]
    },
    {
     "name": "stdout",
     "output_type": "stream",
     "text": [
      "1.2\n"
     ]
    }
   ],
   "source": [
    "length = float(input(\"Enter the Length of Box:\"))\n",
    "print(length)"
   ]
  },
  {
   "cell_type": "code",
   "execution_count": 20,
   "id": "36e4ec2a-2bd6-4258-8507-df68cfc3f355",
   "metadata": {},
   "outputs": [],
   "source": [
    "#Eval is used for evaluate \n",
    "#it used for expressions"
   ]
  },
  {
   "cell_type": "code",
   "execution_count": 21,
   "id": "530886c9-dd81-4cd5-8860-79acbb68c8e8",
   "metadata": {},
   "outputs": [
    {
     "name": "stdin",
     "output_type": "stream",
     "text": [
      "Enter the Equation: 30+2\n"
     ]
    },
    {
     "name": "stdout",
     "output_type": "stream",
     "text": [
      "32\n"
     ]
    }
   ],
   "source": [
    "Exp1 = eval(input(\"Enter the Equation:\"))\n",
    "print(Exp1)"
   ]
  },
  {
   "cell_type": "code",
   "execution_count": 22,
   "id": "affdf094-ce67-472a-960f-8fd5ced73e48",
   "metadata": {},
   "outputs": [],
   "source": [
    "#Type of datatype"
   ]
  },
  {
   "cell_type": "code",
   "execution_count": 24,
   "id": "1c484ca7-b347-4adb-84fe-a43d121eb3ae",
   "metadata": {},
   "outputs": [
    {
     "name": "stdout",
     "output_type": "stream",
     "text": [
      "<class 'str'>\n"
     ]
    }
   ],
   "source": [
    "name = \"saransh\"\n",
    "print(type(name))"
   ]
  },
  {
   "cell_type": "code",
   "execution_count": 25,
   "id": "9886e7e6-acb6-421f-97e7-b4e8769ca8a9",
   "metadata": {},
   "outputs": [
    {
     "name": "stdout",
     "output_type": "stream",
     "text": [
      "<class 'float'>\n"
     ]
    }
   ],
   "source": [
    "lenth = 0.22\n",
    "print(type(length))"
   ]
  },
  {
   "cell_type": "code",
   "execution_count": 27,
   "id": "b21a2379-9b9d-4cf8-b69b-6560ea402c78",
   "metadata": {},
   "outputs": [
    {
     "name": "stdout",
     "output_type": "stream",
     "text": [
      "<class 'int'>\n"
     ]
    }
   ],
   "source": [
    "age = 23\n",
    "print(type(age))"
   ]
  },
  {
   "cell_type": "code",
   "execution_count": 19,
   "id": "9a7c478c-bcd6-43b8-a3c4-da63bb21507a",
   "metadata": {},
   "outputs": [
    {
     "ename": "NameError",
     "evalue": "name 'true' is not defined",
     "output_type": "error",
     "traceback": [
      "\u001b[1;31m---------------------------------------------------------------------------\u001b[0m",
      "\u001b[1;31mNameError\u001b[0m                                 Traceback (most recent call last)",
      "Cell \u001b[1;32mIn[19], line 1\u001b[0m\n\u001b[1;32m----> 1\u001b[0m equation \u001b[38;5;241m=\u001b[39m true\n\u001b[0;32m      2\u001b[0m \u001b[38;5;28mprint\u001b[39m(\u001b[38;5;28mtype\u001b[39m(equation))\n",
      "\u001b[1;31mNameError\u001b[0m: name 'true' is not defined"
     ]
    }
   ],
   "source": [
    "equation = true\n",
    "print(type(equation))"
   ]
  },
  {
   "cell_type": "markdown",
   "id": "3ab554ba-4b63-4f74-ac24-46a764df3b5f",
   "metadata": {},
   "source": [
    "# Assignment operations"
   ]
  },
  {
   "cell_type": "code",
   "execution_count": 16,
   "id": "95311acf-88fd-45c5-8b11-70c50c1167d3",
   "metadata": {},
   "outputs": [],
   "source": [
    "a = 10"
   ]
  },
  {
   "cell_type": "code",
   "execution_count": 17,
   "id": "c28e6f22-2715-46d4-85f5-5d53fb9e337d",
   "metadata": {},
   "outputs": [],
   "source": [
    "a = a+1"
   ]
  },
  {
   "cell_type": "code",
   "execution_count": 18,
   "id": "929e2f38-1c61-4ce9-a61e-fce51de529ae",
   "metadata": {},
   "outputs": [
    {
     "data": {
      "text/plain": [
       "11"
      ]
     },
     "execution_count": 18,
     "metadata": {},
     "output_type": "execute_result"
    }
   ],
   "source": [
    "a\n"
   ]
  },
  {
   "cell_type": "code",
   "execution_count": 20,
   "id": "3e68810f-a486-48f0-bcfb-42b3efbd50be",
   "metadata": {},
   "outputs": [],
   "source": [
    "# a+=1 or a-=1 and a*=1 or a/=1"
   ]
  },
  {
   "cell_type": "code",
   "execution_count": 29,
   "id": "e14de559-a1d2-482b-b684-b96ab6d37b42",
   "metadata": {},
   "outputs": [
    {
     "data": {
      "text/plain": [
       "20"
      ]
     },
     "execution_count": 29,
     "metadata": {},
     "output_type": "execute_result"
    }
   ],
   "source": [
    "a = 20\n",
    "a"
   ]
  },
  {
   "cell_type": "code",
   "execution_count": 30,
   "id": "6b6eb2ed-a32b-4ec4-8e45-b3a01e86be28",
   "metadata": {},
   "outputs": [],
   "source": [
    "a+=1"
   ]
  },
  {
   "cell_type": "code",
   "execution_count": 31,
   "id": "8ef244b1-fa67-4dde-9a2e-9b91f3ef11fb",
   "metadata": {},
   "outputs": [
    {
     "data": {
      "text/plain": [
       "21"
      ]
     },
     "execution_count": 31,
     "metadata": {},
     "output_type": "execute_result"
    }
   ],
   "source": [
    "a"
   ]
  },
  {
   "cell_type": "code",
   "execution_count": null,
   "id": "9556cb33-db7e-440e-84b1-168057d51da9",
   "metadata": {},
   "outputs": [],
   "source": []
  },
  {
   "cell_type": "code",
   "execution_count": null,
   "id": "0f3a2ef7-9f7e-4524-97ff-e25c49d85fb5",
   "metadata": {},
   "outputs": [],
   "source": []
  }
 ],
 "metadata": {
  "kernelspec": {
   "display_name": "Python 3 (ipykernel)",
   "language": "python",
   "name": "python3"
  },
  "language_info": {
   "codemirror_mode": {
    "name": "ipython",
    "version": 3
   },
   "file_extension": ".py",
   "mimetype": "text/x-python",
   "name": "python",
   "nbconvert_exporter": "python",
   "pygments_lexer": "ipython3",
   "version": "3.13.5"
  }
 },
 "nbformat": 4,
 "nbformat_minor": 5
}
